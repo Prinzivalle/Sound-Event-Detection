{
 "cells": [
  {
   "cell_type": "markdown",
   "id": "bottom-origin",
   "metadata": {},
   "source": [
    "# Monophonic SED on UrbanSound8K dataset"
   ]
  },
  {
   "cell_type": "markdown",
   "id": "stable-literature",
   "metadata": {},
   "source": [
    "## 1 Import major libraries"
   ]
  },
  {
   "cell_type": "code",
   "execution_count": 1,
   "id": "female-coffee",
   "metadata": {},
   "outputs": [
    {
     "name": "stdout",
     "output_type": "stream",
     "text": [
      "<module 'plaidml.keras.backend' from 'E:\\\\anaconda3\\\\envs\\\\plaidML\\\\lib\\\\site-packages\\\\plaidml\\\\keras\\\\backend.py'>\n",
      "Keras version 2.2.4\n"
     ]
    }
   ],
   "source": [
    "import numpy as np\n",
    "import plaidml.keras\n",
    "import os\n",
    "plaidml.keras.install_backend()\n",
    "os.environ[\"KERAS_BACKEND\"] = \"plaidml.keras.backend\"\n",
    "\n",
    "from keras import backend as K\n",
    "print(K)\n",
    "\n",
    "import keras\n",
    "from keras.preprocessing.image import ImageDataGenerator\n",
    "\n",
    "print(\"Keras version %s\" %keras.__version__)"
   ]
  },
  {
   "cell_type": "markdown",
   "id": "documented-tourism",
   "metadata": {},
   "source": [
    "## 2 Load meta file"
   ]
  },
  {
   "cell_type": "code",
   "execution_count": 2,
   "id": "quick-indian",
   "metadata": {},
   "outputs": [],
   "source": [
    "import pandas as pd\n",
    "\n",
    "# Set the path to the full UrbanSound dataset \n",
    "fulldatasetpath = '/Xception/UrbanSound8K/audio/'\n",
    "\n",
    "meta = pd.read_csv('E:\\\\Xception\\\\UrbanSound8K\\\\metadata\\\\UrbanSound8K.csv')"
   ]
  },
  {
   "cell_type": "markdown",
   "id": "artificial-andrews",
   "metadata": {},
   "source": [
    "## 3 Data analysis"
   ]
  },
  {
   "cell_type": "markdown",
   "id": "thrown-fireplace",
   "metadata": {},
   "source": [
    "### Labels distribution in dataset"
   ]
  },
  {
   "cell_type": "code",
   "execution_count": 15,
   "id": "developmental-somalia",
   "metadata": {},
   "outputs": [
    {
     "data": {
      "text/plain": [
       "engine_idling       1000\n",
       "air_conditioner     1000\n",
       "jackhammer          1000\n",
       "dog_bark            1000\n",
       "drilling            1000\n",
       "street_music        1000\n",
       "children_playing    1000\n",
       "siren                929\n",
       "car_horn             429\n",
       "gun_shot             374\n",
       "Name: class, dtype: int64"
      ]
     },
     "execution_count": 15,
     "metadata": {},
     "output_type": "execute_result"
    }
   ],
   "source": [
    "# Class distribution\n",
    "meta['class'].value_counts()"
   ]
  },
  {
   "cell_type": "markdown",
   "id": "blond-daily",
   "metadata": {},
   "source": [
    "### Audio properties "
   ]
  },
  {
   "cell_type": "code",
   "execution_count": 4,
   "id": "registered-circulation",
   "metadata": {
    "scrolled": true
   },
   "outputs": [],
   "source": [
    "import struct\n",
    "import re\n",
    "import os\n",
    "\n",
    "fulldatasetpath = '/Xception/UrbanSound8K/audio/'\n",
    "\n",
    "# support to read file header and return audio properties\n",
    "def read_header(filename):\n",
    "    wave = open(filename,\"rb\")\n",
    "    riff = wave.read(12)\n",
    "    fmat = wave.read(36)\n",
    "    num_channels_string = fmat[10:12]\n",
    "    num_channels = struct.unpack('<H', num_channels_string)[0]\n",
    "    sample_rate_string = fmat[12:16]\n",
    "    sample_rate = struct.unpack(\"<I\",sample_rate_string)[0]\n",
    "    bit_depth_string = fmat[22:24]\n",
    "    bit_depth = struct.unpack(\"<H\",bit_depth_string)[0]\n",
    "    return (num_channels, sample_rate, bit_depth)\n",
    "\n",
    "# Read every file header to collect audio properties\n",
    "audiodata = []\n",
    "for index, row in meta.iterrows():\n",
    "    cat = str(row[\"class\"])\n",
    "    fold = 'fold'+str(row[\"fold\"])\n",
    "    name = str(row[\"slice_file_name\"])\n",
    "    file_name = os.path.join(fulldatasetpath, fold, name)\n",
    "    audio_props = read_header(file_name)\n",
    "    duration = row['end'] - row['start']\n",
    "    audiodata.append((name, fold, cat, duration) + audio_props)\n",
    "\n",
    "# Convert into a Pandas dataframe\n",
    "audiodatadf = pd.DataFrame(audiodata, columns=['file', 'fold', 'class', 'duration', 'channels','sample_rate','bit_depth'])"
   ]
  },
  {
   "cell_type": "markdown",
   "id": "ongoing-logistics",
   "metadata": {},
   "source": [
    "### Audio duration visualization"
   ]
  },
  {
   "cell_type": "code",
   "execution_count": 9,
   "id": "embedded-mumbai",
   "metadata": {},
   "outputs": [
    {
     "data": {
      "image/png": "[encoded data removed]",
      "text/plain": [
       "<Figure size 432x288 with 1 Axes>"
      ]
     },
     "metadata": {
      "needs_background": "light"
     },
     "output_type": "display_data"
    }
   ],
   "source": [
    "import matplotlib.pyplot as plt\n",
    "\n",
    "plt.hist(audiodatadf['duration'], rwidth=0.9, color='#86bf91')\n",
    "\n",
    "plt.xlabel('Duration')\n",
    "plt.ylabel('Population')\n",
    "plt.title('Histogram of audio lengths')\n",
    "plt.grid(False)\n",
    "plt.show()"
   ]
  },
  {
   "cell_type": "markdown",
   "id": "herbal-church",
   "metadata": {},
   "source": [
    "### Audio channels"
   ]
  },
  {
   "cell_type": "code",
   "execution_count": 10,
   "id": "spectacular-hopkins",
   "metadata": {},
   "outputs": [
    {
     "name": "stdout",
     "output_type": "stream",
     "text": [
      "Audio channels:\n",
      "\n",
      "2    0.915369\n",
      "1    0.084631\n",
      "Name: channels, dtype: float64\n"
     ]
    }
   ],
   "source": [
    "print(\"Audio channels:\\n\")\n",
    "print(audiodatadf.channels.value_counts(normalize=True))"
   ]
  },
  {
   "cell_type": "markdown",
   "id": "crucial-timber",
   "metadata": {},
   "source": [
    "### Bit depth"
   ]
  },
  {
   "cell_type": "code",
   "execution_count": 11,
   "id": "small-mouth",
   "metadata": {},
   "outputs": [
    {
     "name": "stdout",
     "output_type": "stream",
     "text": [
      "Bit depths:\n",
      "\n",
      "16    0.659414\n",
      "24    0.315277\n",
      "32    0.019354\n",
      "8     0.004924\n",
      "4     0.001031\n",
      "Name: bit_depth, dtype: float64\n"
     ]
    }
   ],
   "source": [
    "print(\"Bit depths:\\n\")\n",
    "print(audiodatadf.bit_depth.value_counts(normalize=True))"
   ]
  },
  {
   "cell_type": "markdown",
   "id": "structural-assets",
   "metadata": {},
   "source": [
    "### Sample rate"
   ]
  },
  {
   "cell_type": "code",
   "execution_count": 12,
   "id": "eligible-representation",
   "metadata": {},
   "outputs": [
    {
     "name": "stdout",
     "output_type": "stream",
     "text": [
      "Sample rates:\n",
      "\n",
      "44100     0.614979\n",
      "48000     0.286532\n",
      "96000     0.069858\n",
      "24000     0.009391\n",
      "16000     0.005153\n",
      "22050     0.005039\n",
      "11025     0.004466\n",
      "192000    0.001947\n",
      "8000      0.001374\n",
      "11024     0.000802\n",
      "32000     0.000458\n",
      "Name: sample_rate, dtype: float64\n"
     ]
    }
   ],
   "source": [
    "print(\"Sample rates:\\n\")\n",
    "print(audiodatadf.sample_rate.value_counts(normalize=True))"
   ]
  },
  {
   "cell_type": "markdown",
   "id": "understanding-algebra",
   "metadata": {},
   "source": [
    "## 4 Data Preprocessing"
   ]
  },
  {
   "cell_type": "code",
   "execution_count": 17,
   "id": "directed-utility",
   "metadata": {},
   "outputs": [
    {
     "name": "stdout",
     "output_type": "stream",
     "text": [
      "processing element  0\n",
      "processing element  250\n",
      "processing element  500\n",
      "processing element  750\n",
      "processing element  1000\n",
      "processing element  1250\n",
      "processing element  1500\n",
      "processing element  1750\n",
      "processing element  2000\n",
      "processing element  2250\n",
      "processing element  2500\n",
      "processing element  2750\n",
      "processing element  3000\n",
      "processing element  3250\n",
      "processing element  3500\n"
     ]
    },
    {
     "name": "stderr",
     "output_type": "stream",
     "text": [
      "E:\\anaconda3\\envs\\plaidML\\lib\\site-packages\\librosa\\core\\spectrum.py:222: UserWarning: n_fft=2048 is too small for input signal of length=1323\n",
      "  warnings.warn(\n"
     ]
    },
    {
     "name": "stdout",
     "output_type": "stream",
     "text": [
      "processing element  3750\n",
      "processing element  4000\n",
      "processing element  4250\n",
      "processing element  4500\n",
      "processing element  4750\n",
      "processing element  5000\n",
      "processing element  5250\n",
      "processing element  5500\n",
      "processing element  5750\n",
      "processing element  6000\n",
      "processing element  6250\n",
      "processing element  6500\n",
      "processing element  6750\n",
      "processing element  7000\n",
      "processing element  7250\n",
      "processing element  7500\n",
      "processing element  7750\n",
      "processing element  8000\n",
      "processing element  8250\n"
     ]
    },
    {
     "name": "stderr",
     "output_type": "stream",
     "text": [
      "E:\\anaconda3\\envs\\plaidML\\lib\\site-packages\\librosa\\core\\spectrum.py:222: UserWarning: n_fft=2048 is too small for input signal of length=1103\n",
      "  warnings.warn(\n",
      "E:\\anaconda3\\envs\\plaidML\\lib\\site-packages\\librosa\\core\\spectrum.py:222: UserWarning: n_fft=2048 is too small for input signal of length=1523\n",
      "  warnings.warn(\n"
     ]
    },
    {
     "name": "stdout",
     "output_type": "stream",
     "text": [
      "processing element  8500\n",
      "Finished feature extraction from  8732  files\n"
     ]
    }
   ],
   "source": [
    "# Load various imports \n",
    "import pandas as pd\n",
    "import os\n",
    "import librosa\n",
    "\n",
    "max_pad_len = 174\n",
    "\n",
    "def extract_features(file_name):\n",
    "   \n",
    "    try:\n",
    "        audio, sample_rate = librosa.load(file_name, res_type='kaiser_fast') \n",
    "        mfccs = librosa.feature.mfcc(y=audio, sr=sample_rate, n_mfcc=40)\n",
    "        pad_width = max_pad_len - mfccs.shape[1]\n",
    "        mfccs = np.pad(mfccs, pad_width=((0, 0), (0, pad_width)), mode='constant')\n",
    "        \n",
    "    except Exception as e:\n",
    "        print(\"Error encountered while parsing file: \", file_name)\n",
    "        return None \n",
    "     \n",
    "    return mfccs\n",
    "\n",
    "features = []\n",
    "\n",
    "# Iterate through each sound file and extract the features \n",
    "for index, row in meta.iterrows():\n",
    "    \n",
    "    if index%500==0:\n",
    "        print(\"processing element \",index)\n",
    "    \n",
    "    file_name = os.path.join(os.path.abspath(fulldatasetpath),'fold'+str(row[\"fold\"]),str(row[\"slice_file_name\"]))\n",
    "    \n",
    "    class_label = row[\"class\"]\n",
    "    data = extract_features(file_name)\n",
    "    \n",
    "    features.append([data, class_label])\n",
    "\n",
    "# Convert into a Panda dataframe \n",
    "featuresdf = pd.DataFrame(features, columns=['feature','class_label'])\n",
    "\n",
    "print('Finished feature extraction from ', len(featuresdf), ' files')"
   ]
  },
  {
   "cell_type": "markdown",
   "id": "expensive-worship",
   "metadata": {},
   "source": [
    "## 5 Preprocessed data manipulation"
   ]
  },
  {
   "cell_type": "markdown",
   "id": "common-terror",
   "metadata": {},
   "source": [
    "### Save processed data to pickle file"
   ]
  },
  {
   "cell_type": "code",
   "execution_count": 19,
   "id": "boxed-badge",
   "metadata": {},
   "outputs": [],
   "source": [
    "featuresdf.to_pickle('E:\\\\Xception\\\\UrbanSound8K\\\\audio\\\\processed_data_frame.pkl')"
   ]
  },
  {
   "cell_type": "markdown",
   "id": "super-design",
   "metadata": {},
   "source": [
    "### Load processed data from pickle file"
   ]
  },
  {
   "cell_type": "code",
   "execution_count": 2,
   "id": "attached-colony",
   "metadata": {},
   "outputs": [
    {
     "name": "stdout",
     "output_type": "stream",
     "text": [
      "imported 8732 elements\n"
     ]
    }
   ],
   "source": [
    "import pandas as pd\n",
    "featuresdf = pd.read_pickle('E:\\\\Xception\\\\UrbanSound8K\\\\audio\\\\processed_data_frame.pkl')\n",
    "print(\"imported\", featuresdf.shape[0],\"elements\")"
   ]
  },
  {
   "cell_type": "markdown",
   "id": "valid-classic",
   "metadata": {},
   "source": [
    "### Process data to input the network "
   ]
  },
  {
   "cell_type": "code",
   "execution_count": 3,
   "id": "illegal-saudi",
   "metadata": {},
   "outputs": [],
   "source": [
    "from sklearn.preprocessing import LabelEncoder\n",
    "from keras.utils import to_categorical\n",
    "\n",
    "# Convert features and corresponding classification labels into numpy arrays\n",
    "X = np.array(featuresdf.feature.tolist())\n",
    "y = np.array(featuresdf.class_label.tolist())\n",
    "\n",
    "# Encode the classification labels\n",
    "le = LabelEncoder()\n",
    "yy = to_categorical(le.fit_transform(y)) \n",
    "\n",
    "# split the dataset \n",
    "from sklearn.model_selection import train_test_split \n",
    "\n",
    "x_train, x_test, y_train, y_test = train_test_split(X, yy, test_size=0.2, random_state = 42)\n",
    "\n",
    "# compute number of output classes\n",
    "num_labels = featuresdf['class_label'].nunique()"
   ]
  },
  {
   "cell_type": "markdown",
   "id": "genuine-blowing",
   "metadata": {},
   "source": [
    "## 6 Model definitions"
   ]
  },
  {
   "cell_type": "markdown",
   "id": "southeast-warehouse",
   "metadata": {},
   "source": [
    "### Baseline"
   ]
  },
  {
   "cell_type": "code",
   "execution_count": 4,
   "id": "accredited-maple",
   "metadata": {},
   "outputs": [
    {
     "name": "stderr",
     "output_type": "stream",
     "text": [
      "INFO:plaidml:Opening device \"opencl_amd_gfx1010.0\"\n"
     ]
    },
    {
     "name": "stdout",
     "output_type": "stream",
     "text": [
      "_________________________________________________________________\n",
      "Layer (type)                 Output Shape              Param #   \n",
      "=================================================================\n",
      "input_1 (InputLayer)         (None, 174, 40, 1)        0         \n",
      "_________________________________________________________________\n",
      "conv2d_1 (Conv2D)            (None, 174, 40, 256)      6656      \n",
      "_________________________________________________________________\n",
      "activation_1 (Activation)    (None, 174, 40, 256)      0         \n",
      "_________________________________________________________________\n",
      "batch_normalization_1 (Batch (None, 174, 40, 256)      1024      \n",
      "_________________________________________________________________\n",
      "max_pooling2d_1 (MaxPooling2 (None, 174, 8, 256)       0         \n",
      "_________________________________________________________________\n",
      "dropout_1 (Dropout)          (None, 174, 8, 256)       0         \n",
      "_________________________________________________________________\n",
      "conv2d_2 (Conv2D)            (None, 174, 8, 256)       1638656   \n",
      "_________________________________________________________________\n",
      "activation_2 (Activation)    (None, 174, 8, 256)       0         \n",
      "_________________________________________________________________\n",
      "batch_normalization_2 (Batch (None, 174, 8, 256)       1024      \n",
      "_________________________________________________________________\n",
      "max_pooling2d_2 (MaxPooling2 (None, 174, 2, 256)       0         \n",
      "_________________________________________________________________\n",
      "dropout_2 (Dropout)          (None, 174, 2, 256)       0         \n",
      "_________________________________________________________________\n",
      "conv2d_3 (Conv2D)            (None, 174, 2, 256)       1638656   \n",
      "_________________________________________________________________\n",
      "activation_3 (Activation)    (None, 174, 2, 256)       0         \n",
      "_________________________________________________________________\n",
      "batch_normalization_3 (Batch (None, 174, 2, 256)       1024      \n",
      "_________________________________________________________________\n",
      "max_pooling2d_3 (MaxPooling2 (None, 174, 1, 256)       0         \n",
      "_________________________________________________________________\n",
      "dropout_3 (Dropout)          (None, 174, 1, 256)       0         \n",
      "_________________________________________________________________\n",
      "reshape_1 (Reshape)          (None, 174, 256)          0         \n",
      "_________________________________________________________________\n",
      "gru_1 (GRU)                  (None, 256)               393984    \n",
      "_________________________________________________________________\n",
      "dense_1 (Dense)              (None, 10)                2570      \n",
      "=================================================================\n",
      "Total params: 3,683,594\n",
      "Trainable params: 3,682,058\n",
      "Non-trainable params: 1,536\n",
      "_________________________________________________________________\n"
     ]
    }
   ],
   "source": [
    "from keras.models import Model\n",
    "from keras.layers import SeparableConv2D, ZeroPadding2D, Activation, Dropout, Dense, \\\n",
    "                            Conv2D, MaxPooling2D, Reshape, GRU\n",
    "from keras.layers.normalization import BatchNormalization\n",
    "from keras import Input, optimizers\n",
    "\n",
    "num_rows = X.shape[1]\n",
    "num_columns = X.shape[2]\n",
    "num_channels = 1\n",
    "\n",
    "x_train = x_train.reshape(x_train.shape[0], num_columns, num_rows, num_channels)\n",
    "x_test = x_test.reshape(x_test.shape[0], num_columns, num_rows, num_channels)\n",
    "\n",
    "def Net():\n",
    "    \n",
    "    # input layer\n",
    "    inputs = Input(shape=(num_columns, num_rows, num_channels))\n",
    "    \n",
    "    # DWS-CNN layer 1\n",
    "    x = Conv2D(256,kernel_size=(5,5), strides=(1,1), padding='same')(inputs)\n",
    "    x = Activation('relu')(x)\n",
    "    # Batch Normalisation before passing it to the next layer\n",
    "    x = BatchNormalization()(x)\n",
    "    # Pooling\n",
    "    x = MaxPooling2D(pool_size=(1,5), padding='same')(x)\n",
    "    # Dropout\n",
    "    x = Dropout(0.25)(x)\n",
    "    \n",
    "    # DWS-CNN layer 2\n",
    "    x = Conv2D(256,kernel_size=(5,5), strides=(1,1), padding='same')(x)\n",
    "    x = Activation('relu')(x)\n",
    "    # Batch Normalisation before passing it to the next layer\n",
    "    x = BatchNormalization()(x)\n",
    "    # Pooling\n",
    "    x = MaxPooling2D(pool_size=(1,4), padding='same')(x)\n",
    "    # Dropout\n",
    "    x = Dropout(0.25)(x)\n",
    "    \n",
    "    # DWS-CNN layer 3\n",
    "    x = Conv2D(256,kernel_size=(5,5), strides=(1,1), padding='same')(x)\n",
    "    x = Activation('relu')(x)\n",
    "    # Batch Normalisation before passing it to the next layer\n",
    "    x = BatchNormalization()(x)\n",
    "    # Pooling\n",
    "    x = MaxPooling2D(pool_size=(1,2), padding='same')(x)\n",
    "    # Dropout\n",
    "    x = Dropout(0.25)(x)\n",
    "    \n",
    "    x = Reshape((174, 256))(x)\n",
    "    \n",
    "    # GRU\n",
    "    x = GRU(256)(x)\n",
    "        \n",
    "    # classifier layer\n",
    "    outputs = Dense(num_labels,activation='softmax')(x)\n",
    "    \n",
    "    \n",
    "    # model compilation for training\n",
    "    adam = optimizers.Adam(lr=0.0001)\n",
    "    model = Model(inputs, outputs)                            \n",
    "    model.compile(loss='categorical_crossentropy', optimizer=adam, metrics=[\"accuracy\"])\n",
    "    \n",
    "    return model\n",
    "\n",
    "\n",
    "# create the model\n",
    "model = Net()\n",
    "model.summary()"
   ]
  },
  {
   "cell_type": "markdown",
   "id": "regular-nevada",
   "metadata": {},
   "source": [
    "### Proposed model, low accuracy"
   ]
  },
  {
   "cell_type": "code",
   "execution_count": 4,
   "id": "aboriginal-yellow",
   "metadata": {},
   "outputs": [
    {
     "name": "stderr",
     "output_type": "stream",
     "text": [
      "INFO:plaidml:Opening device \"opencl_amd_gfx1010.0\"\n"
     ]
    },
    {
     "name": "stdout",
     "output_type": "stream",
     "text": [
      "_________________________________________________________________\n",
      "Layer (type)                 Output Shape              Param #   \n",
      "=================================================================\n",
      "input_1 (InputLayer)         (None, 174, 40, 1)        0         \n",
      "_________________________________________________________________\n",
      "zero_padding2d_1 (ZeroPaddin (None, 178, 44, 1)        0         \n",
      "_________________________________________________________________\n",
      "separable_conv2d_1 (Separabl (None, 174, 40, 256)      537       \n",
      "_________________________________________________________________\n",
      "activation_1 (Activation)    (None, 174, 40, 256)      0         \n",
      "_________________________________________________________________\n",
      "batch_normalization_1 (Batch (None, 174, 40, 256)      1024      \n",
      "_________________________________________________________________\n",
      "max_pooling2d_1 (MaxPooling2 (None, 174, 8, 256)       0         \n",
      "_________________________________________________________________\n",
      "dropout_1 (Dropout)          (None, 174, 8, 256)       0         \n",
      "_________________________________________________________________\n",
      "zero_padding2d_2 (ZeroPaddin (None, 178, 12, 256)      0         \n",
      "_________________________________________________________________\n",
      "separable_conv2d_2 (Separabl (None, 174, 8, 256)       72192     \n",
      "_________________________________________________________________\n",
      "activation_2 (Activation)    (None, 174, 8, 256)       0         \n",
      "_________________________________________________________________\n",
      "batch_normalization_2 (Batch (None, 174, 8, 256)       1024      \n",
      "_________________________________________________________________\n",
      "max_pooling2d_2 (MaxPooling2 (None, 174, 2, 256)       0         \n",
      "_________________________________________________________________\n",
      "dropout_2 (Dropout)          (None, 174, 2, 256)       0         \n",
      "_________________________________________________________________\n",
      "zero_padding2d_3 (ZeroPaddin (None, 178, 6, 256)       0         \n",
      "_________________________________________________________________\n",
      "separable_conv2d_3 (Separabl (None, 174, 2, 256)       72192     \n",
      "_________________________________________________________________\n",
      "activation_3 (Activation)    (None, 174, 2, 256)       0         \n",
      "_________________________________________________________________\n",
      "batch_normalization_3 (Batch (None, 174, 2, 256)       1024      \n",
      "_________________________________________________________________\n",
      "max_pooling2d_3 (MaxPooling2 (None, 174, 1, 256)       0         \n",
      "_________________________________________________________________\n",
      "dropout_3 (Dropout)          (None, 174, 1, 256)       0         \n",
      "_________________________________________________________________\n",
      "permute_1 (Permute)          (None, 174, 256, 1)       0         \n",
      "_________________________________________________________________\n",
      "zero_padding2d_4 (ZeroPaddin (None, 194, 256, 1)       0         \n",
      "_________________________________________________________________\n",
      "conv2d_1 (Conv2D)            (None, 174, 254, 256)     2560      \n",
      "_________________________________________________________________\n",
      "activation_4 (Activation)    (None, 174, 254, 256)     0         \n",
      "_________________________________________________________________\n",
      "batch_normalization_4 (Batch (None, 174, 254, 256)     1024      \n",
      "_________________________________________________________________\n",
      "avg_pool (GlobalAveragePooli (None, 256)               0         \n",
      "_________________________________________________________________\n",
      "dense_1 (Dense)              (None, 10)                2570      \n",
      "=================================================================\n",
      "Total params: 154,147\n",
      "Trainable params: 152,099\n",
      "Non-trainable params: 2,048\n",
      "_________________________________________________________________\n"
     ]
    }
   ],
   "source": [
    "from keras.models import Model\n",
    "from keras.layers import SeparableConv2D, ZeroPadding2D, Activation, Dropout, Dense, \\\n",
    "                            Conv2D, MaxPooling2D, GlobalAveragePooling2D, Reshape, Permute\n",
    "from keras.layers.normalization import BatchNormalization\n",
    "from keras import Input, optimizers\n",
    "\n",
    "num_rows = X.shape[1]\n",
    "num_columns = X.shape[2]\n",
    "num_channels = 1\n",
    "\n",
    "x_train = x_train.reshape(x_train.shape[0], num_columns, num_rows, num_channels)\n",
    "x_test = x_test.reshape(x_test.shape[0], num_columns, num_rows, num_channels)\n",
    "\n",
    "def Net(dilated_kernel, dilation, dilated_padding):\n",
    "    \n",
    "    # input layer\n",
    "    inputs = Input(shape=(num_columns, num_rows, num_channels))\n",
    "    \n",
    "    # DWS-CNN layer 1\n",
    "    x = ZeroPadding2D(padding=(2))(inputs)\n",
    "    # use valid padding since padding is introduced before since it has a special form\n",
    "    x = SeparableConv2D(256,kernel_size=(5,5), strides=(1,1), padding='valid')(x)\n",
    "    x = Activation('relu')(x)\n",
    "    # Batch Normalisation before passing it to the next layer\n",
    "    x = BatchNormalization()(x)\n",
    "    # Pooling\n",
    "    x = MaxPooling2D(pool_size=(1,5), strides=(1,5), padding='valid')(x)\n",
    "    # Dropout\n",
    "    x = Dropout(0.25)(x)\n",
    "    \n",
    "    # DWS-CNN layer 2\n",
    "    x = ZeroPadding2D(padding=(2))(x)\n",
    "    # use valid padding since padding is introduced before since it has a special form\n",
    "    x = SeparableConv2D(256,kernel_size=(5,5), strides=(1,1), padding='valid')(x)\n",
    "    x = Activation('relu')(x)\n",
    "    # Batch Normalisation before passing it to the next layer\n",
    "    x = BatchNormalization()(x)\n",
    "    # Pooling\n",
    "    x = MaxPooling2D(pool_size=(1,4), strides=(1,4), padding='valid')(x)\n",
    "    # Dropout\n",
    "    x = Dropout(0.25)(x)\n",
    "    \n",
    "    # DWS-CNN layer 3\n",
    "    x = ZeroPadding2D(padding=(2))(x)\n",
    "    # use valid padding since padding is introduced before since it has a special form\n",
    "    x = SeparableConv2D(256,kernel_size=(5,5), strides=(1,1), padding='valid')(x)\n",
    "    x = Activation('relu')(x)\n",
    "    # Batch Normalisation before passing it to the next layer\n",
    "    x = BatchNormalization()(x)\n",
    "    # Pooling\n",
    "    x = MaxPooling2D(pool_size=(1,2), strides=(1,2), padding='valid')(x)\n",
    "    # Dropout\n",
    "    x = Dropout(0.25)(x)\n",
    "    \n",
    "    x = Permute((1,3,2))(x)\n",
    "    \n",
    "    # DIL-CNN \n",
    "    x = ZeroPadding2D(padding=(dilated_padding*dilation, 0))(x)\n",
    "    x = Conv2D(256, kernel_size=dilated_kernel, dilation_rate=(dilation, 1))(x)#, strides=(1,3))(x)\n",
    "    x = Activation('relu')(x)\n",
    "    x = BatchNormalization()(x)\n",
    "    \n",
    "    # original idea with 1x1 convolution not working good\n",
    "    #initializer = keras.initializers.Ones()\n",
    "    #x = Conv2D(256, (1,1), strides=(1,3), kernel_initializer=initializer, trainable = False)(x)\n",
    "    #x = MaxPooling2D(pool_size=(1,3), strides=(1,3), padding='valid')(x)\n",
    "    \n",
    "    # newer idea with global pooling, not working good either\n",
    "    x = GlobalAveragePooling2D(name='avg_pool')(x)\n",
    "    \n",
    "    # classifier layer\n",
    "    outputs = Dense(num_labels,activation='sigmoid')(x)\n",
    "    \n",
    "    # model compilation for training\n",
    "    adam = optimizers.Adam(lr=0.0001)\n",
    "    model = Model(inputs, outputs)                            \n",
    "    model.compile(loss='categorical_crossentropy', optimizer=adam, metrics=['accuracy'])\n",
    "    \n",
    "    return model\n",
    "\n",
    "\n",
    "# create the model\n",
    "dilated_kernel = (3,3)\n",
    "dilation = (10)\n",
    "dilated_padding = 1\n",
    "model = Net(dilated_kernel,dilation,dilated_padding)\n",
    "model.summary()"
   ]
  },
  {
   "cell_type": "markdown",
   "id": "powered-precipitation",
   "metadata": {},
   "source": [
    "## 7 Model Training"
   ]
  },
  {
   "cell_type": "code",
   "execution_count": 5,
   "id": "hydraulic-valley",
   "metadata": {
    "scrolled": false
   },
   "outputs": [
    {
     "name": "stdout",
     "output_type": "stream",
     "text": [
      "Train on 5867 samples, validate on 1118 samples\n",
      "Epoch 1/250\n",
      "5867/5867 [==============================] - 352s 60ms/step - loss: 2.2666 - acc: 0.1824 - val_loss: 2.2912 - val_acc: 0.1127\n",
      "\n",
      "Epoch 00001: val_loss improved from inf to 2.29120, saving model to E:\\Xception\\UrbanSound8K\\model-2.29.h5\n",
      "Epoch 2/250\n",
      "5867/5867 [==============================] - 235s 40ms/step - loss: 2.2678 - acc: 0.1587 - val_loss: 2.2732 - val_acc: 0.1002\n",
      "\n",
      "Epoch 00002: val_loss improved from 2.29120 to 2.27316, saving model to E:\\Xception\\UrbanSound8K\\model-2.27.h5\n",
      "Epoch 3/250\n",
      "5867/5867 [==============================] - 235s 40ms/step - loss: 2.2613 - acc: 0.1198 - val_loss: 2.2694 - val_acc: 0.1020\n",
      "\n",
      "Epoch 00003: val_loss improved from 2.27316 to 2.26942, saving model to E:\\Xception\\UrbanSound8K\\model-2.27.h5\n",
      "Epoch 4/250\n",
      "5867/5867 [==============================] - 235s 40ms/step - loss: 2.2596 - acc: 0.1198 - val_loss: 2.2639 - val_acc: 0.1002\n",
      "\n",
      "Epoch 00004: val_loss improved from 2.26942 to 2.26390, saving model to E:\\Xception\\UrbanSound8K\\model-2.26.h5\n",
      "Epoch 5/250\n",
      "5867/5867 [==============================] - 235s 40ms/step - loss: 2.2595 - acc: 0.1202 - val_loss: 2.2532 - val_acc: 0.1047\n",
      "\n",
      "Epoch 00005: val_loss improved from 2.26390 to 2.25325, saving model to E:\\Xception\\UrbanSound8K\\model-2.25.h5\n",
      "Epoch 6/250\n",
      "5867/5867 [==============================] - 235s 40ms/step - loss: 2.4020 - acc: 0.1139 - val_loss: 2.3906 - val_acc: 0.1485\n",
      "\n",
      "Epoch 00006: val_loss did not improve from 2.25325\n",
      "Epoch 7/250\n",
      "5867/5867 [==============================] - 235s 40ms/step - loss: 2.1891 - acc: 0.1679 - val_loss: 2.2570 - val_acc: 0.0555\n",
      "\n",
      "Epoch 00007: val_loss did not improve from 2.25325\n",
      "Epoch 8/250\n",
      "5867/5867 [==============================] - 235s 40ms/step - loss: 2.0919 - acc: 0.1955 - val_loss: 2.1218 - val_acc: 0.1726\n",
      "\n",
      "Epoch 00008: val_loss improved from 2.25325 to 2.12177, saving model to E:\\Xception\\UrbanSound8K\\model-2.12.h5\n",
      "Epoch 9/250\n",
      "5867/5867 [==============================] - 235s 40ms/step - loss: 2.0730 - acc: 0.1887 - val_loss: 2.0483 - val_acc: 0.1869\n",
      "\n",
      "Epoch 00009: val_loss improved from 2.12177 to 2.04833, saving model to E:\\Xception\\UrbanSound8K\\model-2.05.h5\n",
      "Epoch 10/250\n",
      "5867/5867 [==============================] - 235s 40ms/step - loss: 2.0808 - acc: 0.1769 - val_loss: 2.0529 - val_acc: 0.1887\n",
      "\n",
      "Epoch 00010: val_loss did not improve from 2.04833\n",
      "Epoch 11/250\n",
      "5867/5867 [==============================] - 235s 40ms/step - loss: 2.1126 - acc: 0.1621 - val_loss: 2.1399 - val_acc: 0.1503\n",
      "\n",
      "Epoch 00011: val_loss did not improve from 2.04833\n",
      "Epoch 12/250\n",
      "5867/5867 [==============================] - 235s 40ms/step - loss: 2.2580 - acc: 0.1306 - val_loss: 2.2496 - val_acc: 0.0939\n",
      "\n",
      "Epoch 00012: val_loss did not improve from 2.04833\n",
      "Epoch 13/250\n",
      "5867/5867 [==============================] - 235s 40ms/step - loss: 2.1913 - acc: 0.1408 - val_loss: 2.2140 - val_acc: 0.1476\n",
      "\n",
      "Epoch 00013: val_loss did not improve from 2.04833\n",
      "Epoch 14/250\n",
      "5867/5867 [==============================] - 235s 40ms/step - loss: 2.1756 - acc: 0.1485 - val_loss: 2.1995 - val_acc: 0.1288\n",
      "\n",
      "Epoch 00014: val_loss did not improve from 2.04833\n",
      "Epoch 15/250\n",
      "5867/5867 [==============================] - 235s 40ms/step - loss: 2.1607 - acc: 0.1498 - val_loss: 2.1956 - val_acc: 0.1011\n",
      "\n",
      "Epoch 00015: val_loss did not improve from 2.04833\n",
      "Epoch 16/250\n",
      "5867/5867 [==============================] - 235s 40ms/step - loss: 2.1531 - acc: 0.1490 - val_loss: 2.2060 - val_acc: 0.1136\n",
      "\n",
      "Epoch 00016: val_loss did not improve from 2.04833\n",
      "Epoch 17/250\n",
      "5867/5867 [==============================] - 235s 40ms/step - loss: 2.1443 - acc: 0.1520 - val_loss: 2.1984 - val_acc: 0.1592\n",
      "\n",
      "Epoch 00017: val_loss did not improve from 2.04833\n",
      "Epoch 18/250\n",
      "5867/5867 [==============================] - 235s 40ms/step - loss: 2.1428 - acc: 0.1624 - val_loss: 2.1760 - val_acc: 0.1673\n",
      "\n",
      "Epoch 00018: val_loss did not improve from 2.04833\n",
      "Epoch 19/250\n",
      "5867/5867 [==============================] - 235s 40ms/step - loss: 2.1336 - acc: 0.1844 - val_loss: 2.1664 - val_acc: 0.1860\n",
      "\n",
      "Epoch 00019: val_loss did not improve from 2.04833\n",
      "Epoch 20/250\n",
      "5867/5867 [==============================] - 235s 40ms/step - loss: 2.1266 - acc: 0.1986 - val_loss: 2.1628 - val_acc: 0.1896\n",
      "\n",
      "Epoch 00020: val_loss did not improve from 2.04833\n",
      "Epoch 21/250\n",
      "5867/5867 [==============================] - 235s 40ms/step - loss: 2.1144 - acc: 0.2132 - val_loss: 2.1705 - val_acc: 0.1691\n",
      "\n",
      "Epoch 00021: val_loss did not improve from 2.04833\n",
      "Epoch 22/250\n",
      "5867/5867 [==============================] - 235s 40ms/step - loss: 2.0959 - acc: 0.2299 - val_loss: 2.1845 - val_acc: 0.1467\n",
      "\n",
      "Epoch 00022: val_loss did not improve from 2.04833\n",
      "Epoch 23/250\n",
      "5867/5867 [==============================] - 235s 40ms/step - loss: 2.1087 - acc: 0.2287 - val_loss: 2.2001 - val_acc: 0.2030\n",
      "\n",
      "Epoch 00023: val_loss did not improve from 2.04833\n",
      "Epoch 24/250\n",
      "5867/5867 [==============================] - 237s 40ms/step - loss: 2.1157 - acc: 0.2081 - val_loss: 2.1653 - val_acc: 0.1995\n",
      "\n",
      "Epoch 00024: val_loss did not improve from 2.04833\n",
      "Epoch 25/250\n",
      "5867/5867 [==============================] - 236s 40ms/step - loss: 2.1205 - acc: 0.1890 - val_loss: 2.2155 - val_acc: 0.1547\n",
      "\n",
      "Epoch 00025: val_loss did not improve from 2.04833\n",
      "Epoch 26/250\n",
      "5867/5867 [==============================] - 235s 40ms/step - loss: 2.1054 - acc: 0.2047 - val_loss: 2.1773 - val_acc: 0.1905\n",
      "\n",
      "Epoch 00026: val_loss did not improve from 2.04833\n",
      "Epoch 27/250\n",
      "5867/5867 [==============================] - 235s 40ms/step - loss: 2.0904 - acc: 0.2206 - val_loss: 2.1448 - val_acc: 0.1860\n",
      "\n",
      "Epoch 00027: val_loss did not improve from 2.04833\n",
      "Epoch 28/250\n",
      "5867/5867 [==============================] - 235s 40ms/step - loss: 2.0833 - acc: 0.2231 - val_loss: 2.1237 - val_acc: 0.1905\n",
      "\n",
      "Epoch 00028: val_loss did not improve from 2.04833\n",
      "Epoch 29/250\n",
      "5867/5867 [==============================] - 235s 40ms/step - loss: 2.0796 - acc: 0.2204 - val_loss: 2.1291 - val_acc: 0.2147\n",
      "\n",
      "Epoch 00029: val_loss did not improve from 2.04833\n",
      "Epoch 30/250\n",
      "5867/5867 [==============================] - 236s 40ms/step - loss: 2.0788 - acc: 0.2204 - val_loss: 2.1103 - val_acc: 0.2361\n",
      "\n",
      "Epoch 00030: val_loss did not improve from 2.04833\n",
      "Epoch 31/250\n",
      "5867/5867 [==============================] - 235s 40ms/step - loss: 2.0746 - acc: 0.2258 - val_loss: 2.0910 - val_acc: 0.2451\n",
      "\n",
      "Epoch 00031: val_loss did not improve from 2.04833\n",
      "Epoch 32/250\n",
      "5867/5867 [==============================] - 238s 41ms/step - loss: 2.0651 - acc: 0.2279 - val_loss: 2.1282 - val_acc: 0.2227\n",
      "\n",
      "Epoch 00032: val_loss did not improve from 2.04833\n",
      "Epoch 33/250\n",
      "5867/5867 [==============================] - 235s 40ms/step - loss: 2.0676 - acc: 0.2250 - val_loss: 2.1127 - val_acc: 0.1995\n",
      "\n",
      "Epoch 00033: val_loss did not improve from 2.04833\n",
      "Epoch 34/250\n",
      "5867/5867 [==============================] - 236s 40ms/step - loss: 2.0673 - acc: 0.2367 - val_loss: 2.0832 - val_acc: 0.2478\n",
      "\n",
      "Epoch 00034: val_loss did not improve from 2.04833\n",
      "Epoch 35/250\n",
      "5867/5867 [==============================] - 235s 40ms/step - loss: 2.0581 - acc: 0.2376 - val_loss: 2.0825 - val_acc: 0.2496\n",
      "\n",
      "Epoch 00035: val_loss did not improve from 2.04833\n",
      "Epoch 36/250\n",
      "5867/5867 [==============================] - 235s 40ms/step - loss: 2.0581 - acc: 0.2422 - val_loss: 2.0864 - val_acc: 0.2308\n",
      "\n",
      "Epoch 00036: val_loss did not improve from 2.04833\n",
      "Epoch 37/250\n",
      "5867/5867 [==============================] - 235s 40ms/step - loss: 2.0533 - acc: 0.2475 - val_loss: 2.0919 - val_acc: 0.2102\n",
      "\n",
      "Epoch 00037: val_loss did not improve from 2.04833\n",
      "Epoch 38/250\n",
      "5867/5867 [==============================] - 235s 40ms/step - loss: 2.0494 - acc: 0.2395 - val_loss: 2.1049 - val_acc: 0.2048\n",
      "\n",
      "Epoch 00038: val_loss did not improve from 2.04833\n",
      "Epoch 39/250\n",
      "5867/5867 [==============================] - 235s 40ms/step - loss: 2.0560 - acc: 0.2383 - val_loss: 2.0605 - val_acc: 0.2558\n",
      "\n",
      "Epoch 00039: val_loss did not improve from 2.04833\n",
      "Training completed in time:  2:34:56.140285\n"
     ]
    }
   ],
   "source": [
    "from keras.callbacks import ModelCheckpoint, EarlyStopping\n",
    "from datetime import datetime \n",
    "\n",
    "num_epochs = 250\n",
    "# low batch size due to memory maximum dimension, modify if using smaller dataset or larger VRAM\n",
    "num_batch_size = 6\n",
    "\n",
    "callbacks = [ModelCheckpoint(filepath='E:\\\\Xception\\\\UrbanSound8K\\\\model-{val_loss:.2f}.h5', \n",
    "                               verbose=1, save_best_only=True, monitor=\"val_loss\"),\n",
    "                EarlyStopping(monitor='val_loss', patience=30)]\n",
    "\n",
    "start = datetime.now()\n",
    "\n",
    "history = model.fit(x_train, y_train, batch_size=num_batch_size, epochs=num_epochs, validation_split=0.16, verbose=1, callbacks=callbacks)\n",
    "\n",
    "duration = datetime.now() - start\n",
    "print(\"Training completed in time: \", duration)"
   ]
  },
  {
   "cell_type": "markdown",
   "id": "fossil-academy",
   "metadata": {},
   "source": [
    "### Save model of last epoch"
   ]
  },
  {
   "cell_type": "code",
   "execution_count": 9,
   "id": "variable-middle",
   "metadata": {},
   "outputs": [],
   "source": [
    "model.save('E:\\\\Xception\\\\UrbanSound8K\\\\model-new-0.24_lastEpoch.h5')"
   ]
  },
  {
   "cell_type": "markdown",
   "id": "valued-candidate",
   "metadata": {},
   "source": [
    "## 8 Model Evaluation"
   ]
  },
  {
   "cell_type": "markdown",
   "id": "christian-intention",
   "metadata": {},
   "source": [
    "### Evaluate model"
   ]
  },
  {
   "cell_type": "code",
   "execution_count": 6,
   "id": "shaped-induction",
   "metadata": {},
   "outputs": [
    {
     "name": "stdout",
     "output_type": "stream",
     "text": [
      "Evaluate on test data\n",
      "1747/1747 [==============================] - 17s 10ms/step\n",
      "test loss, test acc: [2.046015382358942, 0.26273612499782956]\n"
     ]
    }
   ],
   "source": [
    "# Evaluate the model on the test data using `evaluate`\n",
    "print(\"Evaluate on test data\")\n",
    "results = model.evaluate(x_test, y_test, batch_size=num_batch_size)\n",
    "print(\"test loss, test acc:\", results)"
   ]
  },
  {
   "cell_type": "markdown",
   "id": "chief-table",
   "metadata": {},
   "source": [
    "### Plot history graphs"
   ]
  },
  {
   "cell_type": "code",
   "execution_count": 7,
   "id": "unexpected-paintball",
   "metadata": {},
   "outputs": [
    {
     "data": {
      "image/png": "[encoded data removed]",
      "text/plain": [
       "<Figure size 432x288 with 1 Axes>"
      ]
     },
     "metadata": {
      "needs_background": "light"
     },
     "output_type": "display_data"
    },
    {
     "data": {
      "image/png": "[encoded data removed]",
      "text/plain": [
       "<Figure size 432x288 with 1 Axes>"
      ]
     },
     "metadata": {
      "needs_background": "light"
     },
     "output_type": "display_data"
    }
   ],
   "source": [
    "import matplotlib.pyplot as plt\n",
    "\n",
    "# summarize history for accuracy\n",
    "plt.plot(history.history['acc'])\n",
    "plt.plot(history.history['val_acc'])\n",
    "plt.title('model accuracy')\n",
    "plt.ylabel('accuracy')\n",
    "plt.xlabel('epoch')\n",
    "plt.legend(['train', 'test'], loc='upper left')\n",
    "plt.show()\n",
    "# summarize history for loss\n",
    "plt.plot(history.history['loss'])\n",
    "plt.plot(history.history['val_loss'])\n",
    "plt.title('model loss')\n",
    "plt.ylabel('loss')\n",
    "plt.xlabel('epoch')\n",
    "plt.legend(['train', 'test'], loc='upper left')\n",
    "plt.show()"
   ]
  },
  {
   "cell_type": "markdown",
   "id": "severe-musical",
   "metadata": {},
   "source": [
    "### Compute metrics of model"
   ]
  },
  {
   "cell_type": "code",
   "execution_count": 8,
   "id": "numerous-earthquake",
   "metadata": {},
   "outputs": [
    {
     "name": "stdout",
     "output_type": "stream",
     "text": [
      "1747/1747 [==============================] - 21s 12ms/step\n",
      "                  precision    recall  f1-score   support\n",
      "\n",
      " air conditioner      0.071     0.005     0.009       203\n",
      "        car horn      0.286     0.023     0.043        86\n",
      "children playing      0.171     0.158     0.164       183\n",
      "        dog bark      0.218     0.398     0.282       201\n",
      "        drilling      0.218     0.286     0.247       206\n",
      "   engine idling      0.000     0.000     0.000       193\n",
      "        gun shot      0.354     0.792     0.489        72\n",
      "      jackhammer      0.328     0.423     0.370       208\n",
      "           siren      0.336     0.218     0.265       165\n",
      "    street music      0.281     0.465     0.350       230\n",
      "\n",
      "        accuracy                          0.263      1747\n",
      "       macro avg      0.226     0.277     0.222      1747\n",
      "    weighted avg      0.213     0.263     0.217      1747\n",
      "\n"
     ]
    }
   ],
   "source": [
    "import sklearn.metrics \n",
    "from sklearn.metrics import classification_report, confusion_matrix\n",
    "\n",
    "classnames = [\"air conditioner\", \"car horn\", \"children playing\", \"dog bark\", \"drilling\", \"engine idling\", \"gun shot\", \"jackhammer\", \"siren\", \"street music\"]\n",
    "\n",
    "preds = model.predict(x_test,verbose=1)\n",
    "\n",
    "Ypred = np.argmax(preds, axis=1)\n",
    "Ytest = np.argmax(y_test, axis=1)\n",
    "\n",
    "print(classification_report(Ytest, Ypred, labels=None, target_names=classnames, digits=3))"
   ]
  }
 ],
 "metadata": {
  "kernelspec": {
   "display_name": "Python 3",
   "language": "python",
   "name": "python3"
  },
  "language_info": {
   "codemirror_mode": {
    "name": "ipython",
    "version": 3
   },
   "file_extension": ".py",
   "mimetype": "text/x-python",
   "name": "python",
   "nbconvert_exporter": "python",
   "pygments_lexer": "ipython3",
   "version": "3.8.8"
  }
 },
 "nbformat": 4,
 "nbformat_minor": 5
}
