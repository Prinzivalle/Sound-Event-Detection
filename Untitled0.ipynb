{
  "nbformat": 4,
  "nbformat_minor": 0,
  "metadata": {
    "colab": {
      "name": "Untitled0.ipynb",
      "provenance": [],
      "collapsed_sections": [
        "lj6DO31nrreb",
        "3U6wFvCWEGun",
        "I-DedsknrpJn"
      ],
      "authorship_tag": "ABX9TyNqr4LqRJav8Ue4Cec4xpVA"
    },
    "kernelspec": {
      "name": "python3",
      "display_name": "Python 3"
    },
    "accelerator": "GPU"
  },
  "cells": [
    {
      "cell_type": "code",
      "metadata": {
        "colab": {
          "base_uri": "https://localhost:8080/",
          "height": 357
        },
        "id": "7ovABqndutsN",
        "outputId": "277c64c6-ecb6-4ab2-cf9b-7b44ca95b74b"
      },
      "source": [
        "!pip install q keras==2.2.4\r\n"
      ],
      "execution_count": null,
      "outputs": [
        {
          "output_type": "stream",
          "text": [
            "Requirement already satisfied: q in /usr/local/lib/python3.7/dist-packages (2.6)\n",
            "Collecting keras==2.2.4\n",
            "  Using cached https://files.pythonhosted.org/packages/5e/10/aa32dad071ce52b5502266b5c659451cfd6ffcbf14e6c8c4f16c0ff5aaab/Keras-2.2.4-py2.py3-none-any.whl\n",
            "Requirement already satisfied: six>=1.9.0 in /usr/local/lib/python3.7/dist-packages (from keras==2.2.4) (1.15.0)\n",
            "Requirement already satisfied: numpy>=1.9.1 in /usr/local/lib/python3.7/dist-packages (from keras==2.2.4) (1.19.5)\n",
            "Requirement already satisfied: h5py in /usr/local/lib/python3.7/dist-packages (from keras==2.2.4) (2.10.0)\n",
            "Requirement already satisfied: pyyaml in /usr/local/lib/python3.7/dist-packages (from keras==2.2.4) (3.13)\n",
            "Requirement already satisfied: scipy>=0.14 in /usr/local/lib/python3.7/dist-packages (from keras==2.2.4) (1.4.1)\n",
            "Requirement already satisfied: keras-applications>=1.0.6 in /tensorflow-1.15.2/python3.7 (from keras==2.2.4) (1.0.8)\n",
            "Requirement already satisfied: keras-preprocessing>=1.0.5 in /usr/local/lib/python3.7/dist-packages (from keras==2.2.4) (1.1.2)\n",
            "Installing collected packages: keras\n",
            "  Found existing installation: Keras 2.3.1\n",
            "    Uninstalling Keras-2.3.1:\n",
            "      Successfully uninstalled Keras-2.3.1\n",
            "Successfully installed keras-2.2.4\n"
          ],
          "name": "stdout"
        },
        {
          "output_type": "display_data",
          "data": {
            "application/vnd.colab-display-data+json": {
              "pip_warning": {
                "packages": [
                  "keras"
                ]
              }
            }
          },
          "metadata": {
            "tags": []
          }
        }
      ]
    },
    {
      "cell_type": "code",
      "metadata": {
        "colab": {
          "base_uri": "https://localhost:8080/"
        },
        "id": "5ON7kzGQvlnN",
        "outputId": "a92aa0ff-8d35-4364-b220-e3ed1ed1d2a9"
      },
      "source": [
        "%tensorflow_version 1.15.5"
      ],
      "execution_count": null,
      "outputs": [
        {
          "output_type": "stream",
          "text": [
            "`%tensorflow_version` only switches the major version: 1.x or 2.x.\n",
            "You set: `1.15.5`. This will be interpreted as: `1.x`.\n",
            "\n",
            "\n",
            "TensorFlow 1.x selected.\n"
          ],
          "name": "stdout"
        }
      ]
    },
    {
      "cell_type": "code",
      "metadata": {
        "colab": {
          "base_uri": "https://localhost:8080/"
        },
        "id": "sVAsV4OXvcQE",
        "outputId": "923cfa6c-a8a3-4afe-9ba6-bf9f56f7fb0a"
      },
      "source": [
        "import numpy as np\r\n",
        "import tensorflow as tf\r\n",
        "import keras\r\n",
        "from keras.preprocessing.image import ImageDataGenerator\r\n",
        "\r\n",
        "print(\"Tensorflow version %s\" %tf.__version__)\r\n",
        "print(\"Keras version %s\" %keras.__version__)\r\n",
        "\r\n",
        "device_name = tf.test.gpu_device_name()\r\n",
        "if device_name != '/device:GPU:0':\r\n",
        "  raise SystemError('GPU device not found')\r\n",
        "print('Found GPU at: {}'.format(device_name))"
      ],
      "execution_count": 1,
      "outputs": [
        {
          "output_type": "stream",
          "text": [
            "Tensorflow version 2.4.1\n",
            "Keras version 2.4.3\n",
            "Found GPU at: /device:GPU:0\n"
          ],
          "name": "stdout"
        }
      ]
    },
    {
      "cell_type": "code",
      "metadata": {
        "colab": {
          "base_uri": "https://localhost:8080/"
        },
        "id": "LHkHclRnvhQI",
        "outputId": "dc59112e-0e8b-482f-f803-274d11005e05"
      },
      "source": [
        "import os\r\n",
        "from google.colab import drive\r\n",
        "drive.mount('/content/drive')\r\n",
        "\r\n",
        "!pip3 install pickle5\r\n",
        "import pickle5 as pickle\r\n",
        "import pandas as pd\r\n",
        "with open('/content/drive/MyDrive/processed_data_frame_new.pkl', \"rb\") as fh:\r\n",
        "  data = pickle.load(fh)\r\n",
        "dataframe = pd.DataFrame(data)\r\n",
        "#read_pickle('/content/drive/MyDrive/processed_data_frame.pkl')"
      ],
      "execution_count": 2,
      "outputs": [
        {
          "output_type": "stream",
          "text": [
            "Mounted at /content/drive\n",
            "Collecting pickle5\n",
            "\u001b[?25l  Downloading https://files.pythonhosted.org/packages/f7/4c/5c4dd0462c8d3a6bc4af500a6af240763c2ebd1efdc736fc2c946d44b70a/pickle5-0.0.11.tar.gz (132kB)\n",
            "\u001b[K     |████████████████████████████████| 133kB 16.8MB/s \n",
            "\u001b[?25hBuilding wheels for collected packages: pickle5\n",
            "  Building wheel for pickle5 (setup.py) ... \u001b[?25l\u001b[?25hdone\n",
            "  Created wheel for pickle5: filename=pickle5-0.0.11-cp37-cp37m-linux_x86_64.whl size=219270 sha256=c25495b7cef827dbbebb9780c8efc5085b56ddd9bfd16ad6c9aec06fcafb907d\n",
            "  Stored in directory: /root/.cache/pip/wheels/a6/90/95/f889ca4aa8b0e0c7f21c8470b6f5d6032f0390a3a141a9a3bd\n",
            "Successfully built pickle5\n",
            "Installing collected packages: pickle5\n",
            "Successfully installed pickle5-0.0.11\n"
          ],
          "name": "stdout"
        }
      ]
    },
    {
      "cell_type": "code",
      "metadata": {
        "id": "3e4ut1Y6zdXs"
      },
      "source": [
        "dataframe"
      ],
      "execution_count": null,
      "outputs": []
    },
    {
      "cell_type": "code",
      "metadata": {
        "id": "IHv0-kJ1vhYv"
      },
      "source": [
        "#from sklearn.preprocessing import LabelEncoder\r\n",
        "#from keras.utils import to_categorical\r\n",
        "\r\n",
        "# Convert features and corresponding classification labels into numpy arrays\r\n",
        "X = np.array(dataframe.feature.tolist())\r\n",
        "y = np.array(dataframe.class_label.tolist())\r\n",
        "\r\n",
        "# no need to encode labels since they are already in form of one hot encode\r\n",
        "\r\n",
        "# delete dataframe to save memory\r\n",
        "#reset_selective -f dataframe\r\n",
        "\r\n",
        "# split the dataset \r\n",
        "from sklearn.model_selection import train_test_split \r\n",
        "\r\n",
        "x_train, x_test, y_train, y_test = train_test_split(X, y, test_size=0.2, random_state = 42)\r\n",
        "\r\n",
        "# delete X to save memory\r\n",
        "#reset_selective -f X"
      ],
      "execution_count": 3,
      "outputs": []
    },
    {
      "cell_type": "markdown",
      "metadata": {
        "id": "lj6DO31nrreb"
      },
      "source": [
        "## baseline model"
      ]
    },
    {
      "cell_type": "code",
      "metadata": {
        "colab": {
          "base_uri": "https://localhost:8080/"
        },
        "id": "u65NKa2RroZV",
        "outputId": "50bf7078-2a87-4b91-c97a-be336b50af92"
      },
      "source": [
        "from keras.models import Model\r\n",
        "from keras.layers import SeparableConv2D, ZeroPadding2D, Activation, Dropout, Dense, \\\r\n",
        "                            Conv2D, MaxPooling2D, Reshape, GRU\r\n",
        "from keras.layers.normalization import BatchNormalization\r\n",
        "from keras import Input, optimizers\r\n",
        "\r\n",
        "num_rows = X.shape[1]\r\n",
        "num_columns = X.shape[2]\r\n",
        "num_channels = 1\r\n",
        "\r\n",
        "x_train = x_train.reshape(x_train.shape[0], num_rows, num_columns, num_channels)\r\n",
        "x_test = x_test.reshape(x_test.shape[0], num_rows, num_columns, num_channels)\r\n",
        "\r\n",
        "num_labels = y.shape[2]\r\n",
        "#num_labels = 16\r\n",
        "\r\n",
        "def Net(dilated_kernel, dilation, dilated_padding):\r\n",
        "    \r\n",
        "    # input layer\r\n",
        "    inputs = Input(shape=(num_rows, num_columns, num_channels))\r\n",
        "    \r\n",
        "    # DWS-CNN layer 1\r\n",
        "    x = ZeroPadding2D(padding=(2))(inputs)\r\n",
        "    # use valid padding since padding is introduced before due to its special form (maybe it's equal to use same padding?)\r\n",
        "    x = Conv2D(256,kernel_size=(5,5), strides=(1,1), padding='valid')(x)\r\n",
        "    x = Activation('relu')(x)\r\n",
        "    # Batch Normalisation before passing it to the next layer\r\n",
        "    x = BatchNormalization()(x)\r\n",
        "    # Pooling\r\n",
        "    x = MaxPooling2D(pool_size=(1,5), strides=(1,5), padding='valid')(x)\r\n",
        "    # Dropout\r\n",
        "    x = Dropout(0.25)(x)\r\n",
        "    \r\n",
        "    # DWS-CNN layer 2\r\n",
        "    x = ZeroPadding2D(padding=(2))(x)\r\n",
        "    # use valid padding since padding is introduced before due to its special form\r\n",
        "    x = Conv2D(256,kernel_size=(5,5), strides=(1,1), padding='valid')(x)\r\n",
        "    x = Activation('relu')(x)\r\n",
        "    # Batch Normalisation before passing it to the next layer\r\n",
        "    x = BatchNormalization()(x)\r\n",
        "    # Pooling\r\n",
        "    x = MaxPooling2D(pool_size=(1,4), strides=(1,4), padding='valid')(x)\r\n",
        "    # Dropout\r\n",
        "    x = Dropout(0.25)(x)\r\n",
        "    \r\n",
        "    # DWS-CNN layer 3\r\n",
        "    x = ZeroPadding2D(padding=(2))(x)\r\n",
        "    # use valid padding since padding is introduced before due to its special form\r\n",
        "    x = Conv2D(256,kernel_size=(5,5), strides=(1,1), padding='valid')(x)\r\n",
        "    x = Activation('relu')(x)\r\n",
        "    # Batch Normalisation before passing it to the next layer\r\n",
        "    x = BatchNormalization()(x)\r\n",
        "    # Pooling\r\n",
        "    x = MaxPooling2D(pool_size=(1,2), strides=(1,2), padding='valid')(x)\r\n",
        "    # Dropout\r\n",
        "    x = Dropout(0.25)(x)\r\n",
        "    \r\n",
        "    x = Reshape((1024, 256))(x)\r\n",
        "    \r\n",
        "    # GRU\r\n",
        "    #x = ZeroPadding2D(padding=(dilated_padding*dilation, 1))(x)\r\n",
        "    #x = Conv2D(256, kernel_size=dilated_kernel, dilation_rate=(dilation, 1))(x)\r\n",
        "    #x = BatchNormalization()(x)\r\n",
        "    #x = Activation('relu')(x)\r\n",
        "    x = GRU(256, return_sequences=True)(x)\r\n",
        "        \r\n",
        "    # classifier layer\r\n",
        "    outputs = Dense(num_labels,activation='sigmoid')(x)\r\n",
        "    \r\n",
        "    \r\n",
        "    # model compilation for training\r\n",
        "    adam = optimizers.Adam(lr=0.0001)\r\n",
        "    model = Model(inputs, outputs)                            \r\n",
        "    model.compile(loss='binary_crossentropy', optimizer=adam, metrics=[\"binary_accuracy\"])\r\n",
        "    \r\n",
        "    return model\r\n",
        "\r\n",
        "\r\n",
        "# create the model\r\n",
        "dilated_kernel = (3,3)\r\n",
        "dilation = 10\r\n",
        "dilated_padding = 1\r\n",
        "model = Net(dilated_kernel,dilation,dilated_padding)\r\n",
        "model.summary()"
      ],
      "execution_count": 6,
      "outputs": [
        {
          "output_type": "stream",
          "text": [
            "Model: \"model_1\"\n",
            "_________________________________________________________________\n",
            "Layer (type)                 Output Shape              Param #   \n",
            "=================================================================\n",
            "input_2 (InputLayer)         [(None, 1024, 40, 1)]     0         \n",
            "_________________________________________________________________\n",
            "zero_padding2d_3 (ZeroPaddin (None, 1028, 44, 1)       0         \n",
            "_________________________________________________________________\n",
            "conv2d_3 (Conv2D)            (None, 1024, 40, 256)     6656      \n",
            "_________________________________________________________________\n",
            "activation_3 (Activation)    (None, 1024, 40, 256)     0         \n",
            "_________________________________________________________________\n",
            "batch_normalization_3 (Batch (None, 1024, 40, 256)     1024      \n",
            "_________________________________________________________________\n",
            "max_pooling2d_3 (MaxPooling2 (None, 1024, 8, 256)      0         \n",
            "_________________________________________________________________\n",
            "dropout_3 (Dropout)          (None, 1024, 8, 256)      0         \n",
            "_________________________________________________________________\n",
            "zero_padding2d_4 (ZeroPaddin (None, 1028, 12, 256)     0         \n",
            "_________________________________________________________________\n",
            "conv2d_4 (Conv2D)            (None, 1024, 8, 256)      1638656   \n",
            "_________________________________________________________________\n",
            "activation_4 (Activation)    (None, 1024, 8, 256)      0         \n",
            "_________________________________________________________________\n",
            "batch_normalization_4 (Batch (None, 1024, 8, 256)      1024      \n",
            "_________________________________________________________________\n",
            "max_pooling2d_4 (MaxPooling2 (None, 1024, 2, 256)      0         \n",
            "_________________________________________________________________\n",
            "dropout_4 (Dropout)          (None, 1024, 2, 256)      0         \n",
            "_________________________________________________________________\n",
            "zero_padding2d_5 (ZeroPaddin (None, 1028, 6, 256)      0         \n",
            "_________________________________________________________________\n",
            "conv2d_5 (Conv2D)            (None, 1024, 2, 256)      1638656   \n",
            "_________________________________________________________________\n",
            "activation_5 (Activation)    (None, 1024, 2, 256)      0         \n",
            "_________________________________________________________________\n",
            "batch_normalization_5 (Batch (None, 1024, 2, 256)      1024      \n",
            "_________________________________________________________________\n",
            "max_pooling2d_5 (MaxPooling2 (None, 1024, 1, 256)      0         \n",
            "_________________________________________________________________\n",
            "dropout_5 (Dropout)          (None, 1024, 1, 256)      0         \n",
            "_________________________________________________________________\n",
            "reshape_1 (Reshape)          (None, 1024, 256)         0         \n",
            "_________________________________________________________________\n",
            "gru_1 (GRU)                  (None, 1024, 256)         394752    \n",
            "_________________________________________________________________\n",
            "dense_1 (Dense)              (None, 1024, 16)          4112      \n",
            "=================================================================\n",
            "Total params: 3,685,904\n",
            "Trainable params: 3,684,368\n",
            "Non-trainable params: 1,536\n",
            "_________________________________________________________________\n"
          ],
          "name": "stdout"
        }
      ]
    },
    {
      "cell_type": "markdown",
      "metadata": {
        "id": "3U6wFvCWEGun"
      },
      "source": [
        "## Dessed model"
      ]
    },
    {
      "cell_type": "code",
      "metadata": {
        "colab": {
          "base_uri": "https://localhost:8080/"
        },
        "id": "Un_24V80EGal",
        "outputId": "fb03362e-fb59-47c1-ccb1-2f78b3bf9b44"
      },
      "source": [
        "from keras.models import Model\r\n",
        "from keras.layers import SeparableConv2D, ZeroPadding2D, Activation, Dropout, Dense, \\\r\n",
        "                            Conv2D, MaxPooling2D, Reshape, GRU\r\n",
        "from keras.layers.normalization import BatchNormalization\r\n",
        "from keras import Input, optimizers\r\n",
        "\r\n",
        "num_rows = X.shape[1]\r\n",
        "num_columns = X.shape[2]\r\n",
        "num_channels = 1\r\n",
        "\r\n",
        "x_train = x_train.reshape(x_train.shape[0], num_rows, num_columns, num_channels)\r\n",
        "x_test = x_test.reshape(x_test.shape[0], num_rows, num_columns, num_channels)\r\n",
        "\r\n",
        "num_labels = y.shape[2]\r\n",
        "#num_labels = 16\r\n",
        "\r\n",
        "def Net():\r\n",
        "    \r\n",
        "    # input layer\r\n",
        "    inputs = Input(shape=(num_rows, num_columns, num_channels))\r\n",
        "    \r\n",
        "    # DWS-CNN layer 1\r\n",
        "    x = ZeroPadding2D(padding=(2))(inputs)\r\n",
        "    # use valid padding since padding is introduced before due to its special form (maybe it's equal to use same padding?)\r\n",
        "    x = SeparableConv2D(256,kernel_size=(5,5), strides=(1,1), padding='valid')(x)\r\n",
        "    x = Activation('relu')(x)\r\n",
        "    # Batch Normalisation before passing it to the next layer\r\n",
        "    x = BatchNormalization()(x)\r\n",
        "    # Pooling\r\n",
        "    x = MaxPooling2D(pool_size=(1,5), strides=(1,5), padding='valid')(x)\r\n",
        "    # Dropout\r\n",
        "    x = Dropout(0.25)(x)\r\n",
        "    \r\n",
        "    # DWS-CNN layer 2\r\n",
        "    x = ZeroPadding2D(padding=(2))(x)\r\n",
        "    # use valid padding since padding is introduced before due to its special form\r\n",
        "    x = SeparableConv2D(256,kernel_size=(5,5), strides=(1,1), padding='valid')(x)\r\n",
        "    x = Activation('relu')(x)\r\n",
        "    # Batch Normalisation before passing it to the next layer\r\n",
        "    x = BatchNormalization()(x)\r\n",
        "    # Pooling\r\n",
        "    x = MaxPooling2D(pool_size=(1,4), strides=(1,4), padding='valid')(x)\r\n",
        "    # Dropout\r\n",
        "    x = Dropout(0.25)(x)\r\n",
        "    \r\n",
        "    # DWS-CNN layer 3\r\n",
        "    x = ZeroPadding2D(padding=(2))(x)\r\n",
        "    # use valid padding since padding is introduced before due to its special form\r\n",
        "    x = SeparableConv2D(256,kernel_size=(5,5), strides=(1,1), padding='valid')(x)\r\n",
        "    x = Activation('relu')(x)\r\n",
        "    # Batch Normalisation before passing it to the next layer\r\n",
        "    x = BatchNormalization()(x)\r\n",
        "    # Pooling\r\n",
        "    x = MaxPooling2D(pool_size=(1,2), strides=(1,2), padding='valid')(x)\r\n",
        "    # Dropout\r\n",
        "    x = Dropout(0.25)(x)\r\n",
        "    \r\n",
        "    x = Reshape((1024, 256))(x)\r\n",
        "    \r\n",
        "    # GRU\r\n",
        "    x = GRU(256, return_sequences=True)(x)\r\n",
        "        \r\n",
        "    # classifier layer\r\n",
        "    outputs = Dense(num_labels,activation='sigmoid')(x)\r\n",
        "    \r\n",
        "    \r\n",
        "    # model compilation for training\r\n",
        "    adam = optimizers.Adam(lr=0.0001)\r\n",
        "    model = Model(inputs, outputs)                            \r\n",
        "    model.compile(loss='binary_crossentropy', optimizer=adam, metrics=[\"binary_accuracy\"])\r\n",
        "    \r\n",
        "    return model\r\n",
        "\r\n",
        "\r\n",
        "# create the model\r\n",
        "dilated_kernel = (3,3)\r\n",
        "dilation = 10\r\n",
        "dilated_padding = 1\r\n",
        "model = Net()\r\n",
        "model.summary()"
      ],
      "execution_count": null,
      "outputs": [
        {
          "output_type": "stream",
          "text": [
            "Model: \"model\"\n",
            "_________________________________________________________________\n",
            "Layer (type)                 Output Shape              Param #   \n",
            "=================================================================\n",
            "input_1 (InputLayer)         [(None, 1024, 40, 1)]     0         \n",
            "_________________________________________________________________\n",
            "zero_padding2d (ZeroPadding2 (None, 1028, 44, 1)       0         \n",
            "_________________________________________________________________\n",
            "separable_conv2d (SeparableC (None, 1024, 40, 256)     537       \n",
            "_________________________________________________________________\n",
            "activation (Activation)      (None, 1024, 40, 256)     0         \n",
            "_________________________________________________________________\n",
            "batch_normalization (BatchNo (None, 1024, 40, 256)     1024      \n",
            "_________________________________________________________________\n",
            "max_pooling2d (MaxPooling2D) (None, 1024, 8, 256)      0         \n",
            "_________________________________________________________________\n",
            "dropout (Dropout)            (None, 1024, 8, 256)      0         \n",
            "_________________________________________________________________\n",
            "zero_padding2d_1 (ZeroPaddin (None, 1028, 12, 256)     0         \n",
            "_________________________________________________________________\n",
            "separable_conv2d_1 (Separabl (None, 1024, 8, 256)      72192     \n",
            "_________________________________________________________________\n",
            "activation_1 (Activation)    (None, 1024, 8, 256)      0         \n",
            "_________________________________________________________________\n",
            "batch_normalization_1 (Batch (None, 1024, 8, 256)      1024      \n",
            "_________________________________________________________________\n",
            "max_pooling2d_1 (MaxPooling2 (None, 1024, 2, 256)      0         \n",
            "_________________________________________________________________\n",
            "dropout_1 (Dropout)          (None, 1024, 2, 256)      0         \n",
            "_________________________________________________________________\n",
            "zero_padding2d_2 (ZeroPaddin (None, 1028, 6, 256)      0         \n",
            "_________________________________________________________________\n",
            "separable_conv2d_2 (Separabl (None, 1024, 2, 256)      72192     \n",
            "_________________________________________________________________\n",
            "activation_2 (Activation)    (None, 1024, 2, 256)      0         \n",
            "_________________________________________________________________\n",
            "batch_normalization_2 (Batch (None, 1024, 2, 256)      1024      \n",
            "_________________________________________________________________\n",
            "max_pooling2d_2 (MaxPooling2 (None, 1024, 1, 256)      0         \n",
            "_________________________________________________________________\n",
            "dropout_2 (Dropout)          (None, 1024, 1, 256)      0         \n",
            "_________________________________________________________________\n",
            "reshape (Reshape)            (None, 1024, 256)         0         \n",
            "_________________________________________________________________\n",
            "gru (GRU)                    (None, 1024, 256)         394752    \n",
            "_________________________________________________________________\n",
            "dense (Dense)                (None, 1024, 16)          4112      \n",
            "=================================================================\n",
            "Total params: 546,857\n",
            "Trainable params: 545,321\n",
            "Non-trainable params: 1,536\n",
            "_________________________________________________________________\n"
          ],
          "name": "stdout"
        }
      ]
    },
    {
      "cell_type": "markdown",
      "metadata": {
        "id": "Vr-7W-6GvaYp"
      },
      "source": [
        "## Baseline dilated"
      ]
    },
    {
      "cell_type": "code",
      "metadata": {
        "colab": {
          "base_uri": "https://localhost:8080/"
        },
        "id": "sau4io1ZvaCi",
        "outputId": "16f7b9e7-0ce0-4e0e-ec01-d6d12a43e471"
      },
      "source": [
        "from keras.models import Model\r\n",
        "from keras.layers import SeparableConv2D, ZeroPadding2D, Activation, Dropout, Dense, \\\r\n",
        "                            Conv2D, MaxPooling2D, Reshape, Permute\r\n",
        "from keras.layers.normalization import BatchNormalization\r\n",
        "from keras import Input, optimizers\r\n",
        "\r\n",
        "num_rows = X.shape[1]\r\n",
        "num_columns = X.shape[2]\r\n",
        "num_channels = 1\r\n",
        "\r\n",
        "x_train = x_train.reshape(x_train.shape[0], num_rows, num_columns, num_channels)\r\n",
        "x_test = x_test.reshape(x_test.shape[0], num_rows, num_columns, num_channels)\r\n",
        "\r\n",
        "num_labels = y.shape[2]\r\n",
        "#num_labels = 16\r\n",
        "\r\n",
        "def Net(dilated_kernel, dilation, dilated_padding):\r\n",
        "    \r\n",
        "    # input layer\r\n",
        "    inputs = Input(shape=(num_rows, num_columns, num_channels))\r\n",
        "    \r\n",
        "    # DWS-CNN layer 1\r\n",
        "    #x = ZeroPadding2D(padding=(2))(inputs)\r\n",
        "    # use valid padding since padding is introduced before due to its special form (maybe it's equal to use same padding?)\r\n",
        "    x = Conv2D(256,kernel_size=(5,5), strides=(1,1), padding='same')(inputs)\r\n",
        "    x = Activation('relu')(x)\r\n",
        "    # Batch Normalisation before passing it to the next layer\r\n",
        "    x = BatchNormalization()(x)\r\n",
        "    # Pooling\r\n",
        "    x = MaxPooling2D(pool_size=(1,5), padding='same')(x)\r\n",
        "    # Dropout\r\n",
        "    x = Dropout(0.25)(x)\r\n",
        "    \r\n",
        "    # DWS-CNN layer 2\r\n",
        "    #x = ZeroPadding2D(padding=(2))(x)\r\n",
        "    # use valid padding since padding is introduced before due to its special form\r\n",
        "    x = Conv2D(256,kernel_size=(5,5), strides=(1,1), padding='same')(x)\r\n",
        "    x = Activation('relu')(x)\r\n",
        "    # Batch Normalisation before passing it to the next layer\r\n",
        "    x = BatchNormalization()(x)\r\n",
        "    # Pooling\r\n",
        "    x = MaxPooling2D(pool_size=(1,4), padding='same')(x)\r\n",
        "    # Dropout\r\n",
        "    x = Dropout(0.25)(x)\r\n",
        "    \r\n",
        "    # DWS-CNN layer 3\r\n",
        "    #x = ZeroPadding2D(padding=(2))(x)\r\n",
        "    # use valid padding since padding is introduced before due to its special form\r\n",
        "    x = Conv2D(256,kernel_size=(5,5), strides=(1,1), padding='same')(x)\r\n",
        "    x = Activation('relu')(x)\r\n",
        "    # Batch Normalisation before passing it to the next layer\r\n",
        "    x = BatchNormalization()(x)\r\n",
        "    # Pooling\r\n",
        "    x = MaxPooling2D(pool_size=(1,2), padding='same')(x)\r\n",
        "    # Dropout\r\n",
        "    x = Dropout(0.25)(x)\r\n",
        "    \r\n",
        "    #x = Reshape((1024, 256))(x)\r\n",
        "    #x = Reshape((1024, 256, 1))(x)\r\n",
        "    x = Permute((1,3,2))(x)\r\n",
        "    #x = Permute((3,2,1))(x)\r\n",
        "    \r\n",
        "    # DIL-CNN \r\n",
        "    x = ZeroPadding2D(padding=(dilated_padding*dilation, 0))(x)\r\n",
        "    x = Conv2D(256, kernel_size=dilated_kernel, dilation_rate=(dilation, 1))(x)\r\n",
        "    x = Activation('relu')(x)\r\n",
        "    x = BatchNormalization()(x)\r\n",
        "    initializer = keras.initializers.Ones()\r\n",
        "    x = Conv2D(256, (1,1), strides=(1,3), kernel_initializer=initializer, trainable=False)(x)\r\n",
        "    \r\n",
        "    #x = Permute((2,1,3))(x)\r\n",
        "    \r\n",
        "    x = Reshape((1024, 256*85))(x)\r\n",
        "    \r\n",
        "    # classifier layer\r\n",
        "    outputs = Dense(num_labels,activation='sigmoid')(x)\r\n",
        "    \r\n",
        "    \r\n",
        "    # model compilation for training\r\n",
        "    adam = optimizers.Adam(lr=0.0001)\r\n",
        "    model = Model(inputs, outputs)                            \r\n",
        "    model.compile(loss='binary_crossentropy', optimizer=adam, metrics=[\"binary_accuracy\"])\r\n",
        "    \r\n",
        "    return model\r\n",
        "\r\n",
        "\r\n",
        "# create the model\r\n",
        "dilated_kernel = (3,3)\r\n",
        "dilation = 10\r\n",
        "dilated_padding = 1\r\n",
        "model = Net(dilated_kernel,dilation,dilated_padding)\r\n",
        "model.summary()"
      ],
      "execution_count": null,
      "outputs": [
        {
          "output_type": "stream",
          "text": [
            "Model: \"model\"\n",
            "_________________________________________________________________\n",
            "Layer (type)                 Output Shape              Param #   \n",
            "=================================================================\n",
            "input_1 (InputLayer)         [(None, 1024, 40, 1)]     0         \n",
            "_________________________________________________________________\n",
            "conv2d (Conv2D)              (None, 1024, 40, 256)     6656      \n",
            "_________________________________________________________________\n",
            "activation (Activation)      (None, 1024, 40, 256)     0         \n",
            "_________________________________________________________________\n",
            "batch_normalization (BatchNo (None, 1024, 40, 256)     1024      \n",
            "_________________________________________________________________\n",
            "max_pooling2d (MaxPooling2D) (None, 1024, 8, 256)      0         \n",
            "_________________________________________________________________\n",
            "dropout (Dropout)            (None, 1024, 8, 256)      0         \n",
            "_________________________________________________________________\n",
            "conv2d_1 (Conv2D)            (None, 1024, 8, 256)      1638656   \n",
            "_________________________________________________________________\n",
            "activation_1 (Activation)    (None, 1024, 8, 256)      0         \n",
            "_________________________________________________________________\n",
            "batch_normalization_1 (Batch (None, 1024, 8, 256)      1024      \n",
            "_________________________________________________________________\n",
            "max_pooling2d_1 (MaxPooling2 (None, 1024, 2, 256)      0         \n",
            "_________________________________________________________________\n",
            "dropout_1 (Dropout)          (None, 1024, 2, 256)      0         \n",
            "_________________________________________________________________\n",
            "conv2d_2 (Conv2D)            (None, 1024, 2, 256)      1638656   \n",
            "_________________________________________________________________\n",
            "activation_2 (Activation)    (None, 1024, 2, 256)      0         \n",
            "_________________________________________________________________\n",
            "batch_normalization_2 (Batch (None, 1024, 2, 256)      1024      \n",
            "_________________________________________________________________\n",
            "max_pooling2d_2 (MaxPooling2 (None, 1024, 1, 256)      0         \n",
            "_________________________________________________________________\n",
            "dropout_2 (Dropout)          (None, 1024, 1, 256)      0         \n",
            "_________________________________________________________________\n",
            "permute (Permute)            (None, 1024, 256, 1)      0         \n",
            "_________________________________________________________________\n",
            "zero_padding2d (ZeroPadding2 (None, 1044, 256, 1)      0         \n",
            "_________________________________________________________________\n",
            "conv2d_3 (Conv2D)            (None, 1024, 254, 256)    2560      \n",
            "_________________________________________________________________\n",
            "activation_3 (Activation)    (None, 1024, 254, 256)    0         \n",
            "_________________________________________________________________\n",
            "batch_normalization_3 (Batch (None, 1024, 254, 256)    1024      \n",
            "_________________________________________________________________\n",
            "conv2d_4 (Conv2D)            (None, 1024, 85, 256)     65792     \n",
            "_________________________________________________________________\n",
            "reshape (Reshape)            (None, 1024, 21760)       0         \n",
            "_________________________________________________________________\n",
            "dense (Dense)                (None, 1024, 16)          348176    \n",
            "=================================================================\n",
            "Total params: 3,704,592\n",
            "Trainable params: 3,636,752\n",
            "Non-trainable params: 67,840\n",
            "_________________________________________________________________\n"
          ],
          "name": "stdout"
        }
      ]
    },
    {
      "cell_type": "markdown",
      "metadata": {
        "id": "I-DedsknrpJn"
      },
      "source": [
        "## new model"
      ]
    },
    {
      "cell_type": "code",
      "metadata": {
        "colab": {
          "base_uri": "https://localhost:8080/"
        },
        "id": "0ICNx-O8vhbQ",
        "outputId": "28d149a1-d412-400e-dc3a-1c9da59be4d6"
      },
      "source": [
        "from keras.models import Model\r\n",
        "from keras.layers import SeparableConv2D, ZeroPadding2D, Activation, Dropout, Dense, \\\r\n",
        "                            Conv2D, MaxPooling2D, Reshape, Permute\r\n",
        "from keras.layers.normalization import BatchNormalization\r\n",
        "from keras import Input, optimizers\r\n",
        "\r\n",
        "num_rows = X.shape[1]\r\n",
        "num_columns = X.shape[2]\r\n",
        "num_channels = 1\r\n",
        "\r\n",
        "x_train = x_train.reshape(x_train.shape[0], num_rows, num_columns, num_channels)\r\n",
        "x_test = x_test.reshape(x_test.shape[0], num_rows, num_columns, num_channels)\r\n",
        "\r\n",
        "num_labels = y.shape[2]\r\n",
        "#num_labels = 16\r\n",
        "\r\n",
        "def Net(dilated_kernel, dilation, dilated_padding):\r\n",
        "    \r\n",
        "    # input layer\r\n",
        "    inputs = Input(shape=(num_rows, num_columns, num_channels))\r\n",
        "    \r\n",
        "    # DWS-CNN layer 1\r\n",
        "    x = ZeroPadding2D(padding=(2))(inputs)\r\n",
        "    # use valid padding since padding is introduced before due to its special form (maybe it's equal to use same padding?)\r\n",
        "    x = SeparableConv2D(256,kernel_size=(5,5), strides=(1,1), padding='valid')(x)\r\n",
        "    x = Activation('relu')(x)\r\n",
        "    # Batch Normalisation before passing it to the next layer\r\n",
        "    x = BatchNormalization()(x)\r\n",
        "    # Pooling\r\n",
        "    x = MaxPooling2D(pool_size=(1,5), strides=(1,5), padding='valid')(x)\r\n",
        "    # Dropout\r\n",
        "    x = Dropout(0.25)(x)\r\n",
        "    \r\n",
        "    # DWS-CNN layer 2\r\n",
        "    x = ZeroPadding2D(padding=(2))(x)\r\n",
        "    # use valid padding since padding is introduced before due to its special form\r\n",
        "    x = SeparableConv2D(256,kernel_size=(5,5), strides=(1,1), padding='valid')(x)\r\n",
        "    x = Activation('relu')(x)\r\n",
        "    # Batch Normalisation before passing it to the next layer\r\n",
        "    x = BatchNormalization()(x)\r\n",
        "    # Pooling\r\n",
        "    x = MaxPooling2D(pool_size=(1,4), strides=(1,4), padding='valid')(x)\r\n",
        "    # Dropout\r\n",
        "    x = Dropout(0.25)(x)\r\n",
        "    \r\n",
        "    # DWS-CNN layer 3\r\n",
        "    x = ZeroPadding2D(padding=(2))(x)\r\n",
        "    # use valid padding since padding is introduced before due to its special form\r\n",
        "    x = SeparableConv2D(256,kernel_size=(5,5), strides=(1,1), padding='valid')(x)\r\n",
        "    x = Activation('relu')(x)\r\n",
        "    # Batch Normalisation before passing it to the next layer\r\n",
        "    x = BatchNormalization()(x)\r\n",
        "    # Pooling\r\n",
        "    x = MaxPooling2D(pool_size=(1,2), strides=(1,2), padding='valid')(x)\r\n",
        "    # Dropout\r\n",
        "    x = Dropout(0.25)(x)\r\n",
        "    \r\n",
        "    x = Permute((1,3,2))(x)\r\n",
        "    \r\n",
        "    # DIL-CNN \r\n",
        "    x = ZeroPadding2D(padding=(dilated_padding*dilation, 0))(x)\r\n",
        "    x = Conv2D(256, kernel_size=dilated_kernel, dilation_rate=(dilation, 1))(x)#, strides=(1,3))(x)\r\n",
        "    x = Activation('relu')(x)\r\n",
        "    x = BatchNormalization()(x)\r\n",
        "    #initializer = keras.initializers.Ones()\r\n",
        "    #x = Conv2D(256, (1,1), strides=(1,3), kernel_initializer=initializer, trainable=False)(x)\r\n",
        "    x = MaxPooling2D(pool_size=(1,3), strides=(1,3), padding='valid')(x)\r\n",
        "    \r\n",
        "    x = Reshape((1024, 256*84))(x)\r\n",
        "    \r\n",
        "    # classifier layer\r\n",
        "    outputs = Dense(num_labels,activation='sigmoid')(x)\r\n",
        "    \r\n",
        "    \r\n",
        "    # model compilation for training\r\n",
        "    adam = optimizers.Adam()#lr=0.0001)\r\n",
        "    model = Model(inputs, outputs)                            \r\n",
        "    model.compile(loss='binary_crossentropy', optimizer=adam, metrics=[\"binary_accuracy\"])\r\n",
        "    \r\n",
        "    return model\r\n",
        "\r\n",
        "\r\n",
        "# create the model\r\n",
        "dilated_kernel = (3,3)\r\n",
        "dilation = 10\r\n",
        "dilated_padding = 1\r\n",
        "model = Net(dilated_kernel,dilation,dilated_padding)\r\n",
        "model.summary()"
      ],
      "execution_count": null,
      "outputs": [
        {
          "output_type": "stream",
          "text": [
            "Model: \"model\"\n",
            "_________________________________________________________________\n",
            "Layer (type)                 Output Shape              Param #   \n",
            "=================================================================\n",
            "input_2 (InputLayer)         [(None, 1024, 40, 1)]     0         \n",
            "_________________________________________________________________\n",
            "zero_padding2d_4 (ZeroPaddin (None, 1028, 44, 1)       0         \n",
            "_________________________________________________________________\n",
            "separable_conv2d_3 (Separabl (None, 1024, 40, 256)     537       \n",
            "_________________________________________________________________\n",
            "activation_4 (Activation)    (None, 1024, 40, 256)     0         \n",
            "_________________________________________________________________\n",
            "batch_normalization_4 (Batch (None, 1024, 40, 256)     1024      \n",
            "_________________________________________________________________\n",
            "max_pooling2d_4 (MaxPooling2 (None, 1024, 8, 256)      0         \n",
            "_________________________________________________________________\n",
            "dropout_3 (Dropout)          (None, 1024, 8, 256)      0         \n",
            "_________________________________________________________________\n",
            "zero_padding2d_5 (ZeroPaddin (None, 1028, 12, 256)     0         \n",
            "_________________________________________________________________\n",
            "separable_conv2d_4 (Separabl (None, 1024, 8, 256)      72192     \n",
            "_________________________________________________________________\n",
            "activation_5 (Activation)    (None, 1024, 8, 256)      0         \n",
            "_________________________________________________________________\n",
            "batch_normalization_5 (Batch (None, 1024, 8, 256)      1024      \n",
            "_________________________________________________________________\n",
            "max_pooling2d_5 (MaxPooling2 (None, 1024, 2, 256)      0         \n",
            "_________________________________________________________________\n",
            "dropout_4 (Dropout)          (None, 1024, 2, 256)      0         \n",
            "_________________________________________________________________\n",
            "zero_padding2d_6 (ZeroPaddin (None, 1028, 6, 256)      0         \n",
            "_________________________________________________________________\n",
            "separable_conv2d_5 (Separabl (None, 1024, 2, 256)      72192     \n",
            "_________________________________________________________________\n",
            "activation_6 (Activation)    (None, 1024, 2, 256)      0         \n",
            "_________________________________________________________________\n",
            "batch_normalization_6 (Batch (None, 1024, 2, 256)      1024      \n",
            "_________________________________________________________________\n",
            "max_pooling2d_6 (MaxPooling2 (None, 1024, 1, 256)      0         \n",
            "_________________________________________________________________\n",
            "dropout_5 (Dropout)          (None, 1024, 1, 256)      0         \n",
            "_________________________________________________________________\n",
            "permute_1 (Permute)          (None, 1024, 256, 1)      0         \n",
            "_________________________________________________________________\n",
            "zero_padding2d_7 (ZeroPaddin (None, 1044, 256, 1)      0         \n",
            "_________________________________________________________________\n",
            "conv2d_1 (Conv2D)            (None, 1024, 254, 256)    2560      \n",
            "_________________________________________________________________\n",
            "activation_7 (Activation)    (None, 1024, 254, 256)    0         \n",
            "_________________________________________________________________\n",
            "batch_normalization_7 (Batch (None, 1024, 254, 256)    1024      \n",
            "_________________________________________________________________\n",
            "max_pooling2d_7 (MaxPooling2 (None, 1024, 84, 256)     0         \n",
            "_________________________________________________________________\n",
            "reshape_1 (Reshape)          (None, 1024, 21504)       0         \n",
            "_________________________________________________________________\n",
            "dense (Dense)                (None, 1024, 16)          344080    \n",
            "=================================================================\n",
            "Total params: 495,657\n",
            "Trainable params: 493,609\n",
            "Non-trainable params: 2,048\n",
            "_________________________________________________________________\n"
          ],
          "name": "stdout"
        }
      ]
    },
    {
      "cell_type": "markdown",
      "metadata": {
        "id": "cNzMSCbW4Cv5"
      },
      "source": [
        "## Train the model"
      ]
    },
    {
      "cell_type": "code",
      "metadata": {
        "id": "ZZbIeHH1vheD",
        "colab": {
          "base_uri": "https://localhost:8080/"
        },
        "outputId": "5ad6150f-544e-446d-d055-268182f3b473"
      },
      "source": [
        "from keras.callbacks import ModelCheckpoint, EarlyStopping\r\n",
        "from datetime import datetime \r\n",
        "\r\n",
        "num_epochs = 250\r\n",
        "# low batch size due to memory maximum dimension, modify if using smaller dataset\r\n",
        "num_batch_size = 8\r\n",
        "\r\n",
        "callbacks = [ModelCheckpoint(filepath='/content/drive/MyDrive/model-{val_loss:.2f}_baseline.h5', \r\n",
        "                               verbose=1, save_best_only=True, monitor=\"val_loss\"),\r\n",
        "                EarlyStopping(monitor='val_loss', patience=30)]\r\n",
        "\r\n",
        "start = datetime.now()\r\n",
        "\r\n",
        "#y_train = y_train.reshape(y_train.shape[0], 1024, 16)\r\n",
        "#y_test = y_test.reshape(y_test.shape[0], 1024, 16)\r\n",
        "\r\n",
        "history = model.fit(x_train, y_train, batch_size=num_batch_size, epochs=num_epochs, validation_split=0.16, verbose=1, callbacks=callbacks)\r\n",
        "\r\n",
        "duration = datetime.now() - start\r\n",
        "print(\"Training completed in time: \", duration)"
      ],
      "execution_count": 7,
      "outputs": [
        {
          "output_type": "stream",
          "text": [
            "Epoch 1/250\n",
            "284/284 [==============================] - 70s 239ms/step - loss: 0.2844 - binary_accuracy: 0.8925 - val_loss: 0.1856 - val_binary_accuracy: 0.9383\n",
            "\n",
            "Epoch 00001: val_loss improved from inf to 0.18562, saving model to /content/drive/MyDrive/model-0.19_baseline.h5\n",
            "Epoch 2/250\n",
            "284/284 [==============================] - 67s 236ms/step - loss: 0.1750 - binary_accuracy: 0.9433 - val_loss: 0.1592 - val_binary_accuracy: 0.9496\n",
            "\n",
            "Epoch 00002: val_loss improved from 0.18562 to 0.15925, saving model to /content/drive/MyDrive/model-0.16_baseline.h5\n",
            "Epoch 3/250\n",
            "284/284 [==============================] - 67s 236ms/step - loss: 0.1620 - binary_accuracy: 0.9489 - val_loss: 0.1434 - val_binary_accuracy: 0.9546\n",
            "\n",
            "Epoch 00003: val_loss improved from 0.15925 to 0.14338, saving model to /content/drive/MyDrive/model-0.14_baseline.h5\n",
            "Epoch 4/250\n",
            "284/284 [==============================] - 67s 236ms/step - loss: 0.1471 - binary_accuracy: 0.9541 - val_loss: 0.1424 - val_binary_accuracy: 0.9553\n",
            "\n",
            "Epoch 00004: val_loss improved from 0.14338 to 0.14239, saving model to /content/drive/MyDrive/model-0.14_baseline.h5\n",
            "Epoch 5/250\n",
            "284/284 [==============================] - 67s 236ms/step - loss: 0.1458 - binary_accuracy: 0.9548 - val_loss: 0.1464 - val_binary_accuracy: 0.9537\n",
            "\n",
            "Epoch 00005: val_loss did not improve from 0.14239\n",
            "Epoch 6/250\n",
            "284/284 [==============================] - 67s 236ms/step - loss: 0.1389 - binary_accuracy: 0.9563 - val_loss: 0.1309 - val_binary_accuracy: 0.9591\n",
            "\n",
            "Epoch 00006: val_loss improved from 0.14239 to 0.13093, saving model to /content/drive/MyDrive/model-0.13_baseline.h5\n",
            "Epoch 7/250\n",
            "284/284 [==============================] - 67s 236ms/step - loss: 0.1350 - binary_accuracy: 0.9581 - val_loss: 0.1261 - val_binary_accuracy: 0.9606\n",
            "\n",
            "Epoch 00007: val_loss improved from 0.13093 to 0.12607, saving model to /content/drive/MyDrive/model-0.13_baseline.h5\n",
            "Epoch 8/250\n",
            "284/284 [==============================] - 67s 236ms/step - loss: 0.1328 - binary_accuracy: 0.9579 - val_loss: 0.1260 - val_binary_accuracy: 0.9610\n",
            "\n",
            "Epoch 00008: val_loss improved from 0.12607 to 0.12603, saving model to /content/drive/MyDrive/model-0.13_baseline.h5\n",
            "Epoch 9/250\n",
            "284/284 [==============================] - 67s 236ms/step - loss: 0.1266 - binary_accuracy: 0.9606 - val_loss: 0.1268 - val_binary_accuracy: 0.9597\n",
            "\n",
            "Epoch 00009: val_loss did not improve from 0.12603\n",
            "Epoch 10/250\n",
            "284/284 [==============================] - 67s 236ms/step - loss: 0.1269 - binary_accuracy: 0.9603 - val_loss: 0.1215 - val_binary_accuracy: 0.9625\n",
            "\n",
            "Epoch 00010: val_loss improved from 0.12603 to 0.12151, saving model to /content/drive/MyDrive/model-0.12_baseline.h5\n",
            "Epoch 11/250\n",
            "284/284 [==============================] - 67s 236ms/step - loss: 0.1233 - binary_accuracy: 0.9613 - val_loss: 0.1248 - val_binary_accuracy: 0.9613\n",
            "\n",
            "Epoch 00011: val_loss did not improve from 0.12151\n",
            "Epoch 12/250\n",
            "284/284 [==============================] - 67s 236ms/step - loss: 0.1203 - binary_accuracy: 0.9622 - val_loss: 0.1191 - val_binary_accuracy: 0.9636\n",
            "\n",
            "Epoch 00012: val_loss improved from 0.12151 to 0.11908, saving model to /content/drive/MyDrive/model-0.12_baseline.h5\n",
            "Epoch 13/250\n",
            "284/284 [==============================] - 67s 236ms/step - loss: 0.1196 - binary_accuracy: 0.9624 - val_loss: 0.1168 - val_binary_accuracy: 0.9642\n",
            "\n",
            "Epoch 00013: val_loss improved from 0.11908 to 0.11678, saving model to /content/drive/MyDrive/model-0.12_baseline.h5\n",
            "Epoch 14/250\n",
            "284/284 [==============================] - 67s 236ms/step - loss: 0.1196 - binary_accuracy: 0.9625 - val_loss: 0.1229 - val_binary_accuracy: 0.9616\n",
            "\n",
            "Epoch 00014: val_loss did not improve from 0.11678\n",
            "Epoch 15/250\n",
            "284/284 [==============================] - 67s 236ms/step - loss: 0.1145 - binary_accuracy: 0.9644 - val_loss: 0.1164 - val_binary_accuracy: 0.9643\n",
            "\n",
            "Epoch 00015: val_loss improved from 0.11678 to 0.11643, saving model to /content/drive/MyDrive/model-0.12_baseline.h5\n",
            "Epoch 16/250\n",
            "284/284 [==============================] - 67s 236ms/step - loss: 0.1137 - binary_accuracy: 0.9642 - val_loss: 0.1197 - val_binary_accuracy: 0.9630\n",
            "\n",
            "Epoch 00016: val_loss did not improve from 0.11643\n",
            "Epoch 17/250\n",
            "284/284 [==============================] - 67s 236ms/step - loss: 0.1105 - binary_accuracy: 0.9655 - val_loss: 0.1167 - val_binary_accuracy: 0.9642\n",
            "\n",
            "Epoch 00017: val_loss did not improve from 0.11643\n",
            "Epoch 18/250\n",
            "284/284 [==============================] - 67s 235ms/step - loss: 0.1097 - binary_accuracy: 0.9661 - val_loss: 0.1144 - val_binary_accuracy: 0.9645\n",
            "\n",
            "Epoch 00018: val_loss improved from 0.11643 to 0.11440, saving model to /content/drive/MyDrive/model-0.11_baseline.h5\n",
            "Epoch 19/250\n",
            "284/284 [==============================] - 67s 236ms/step - loss: 0.1071 - binary_accuracy: 0.9667 - val_loss: 0.1212 - val_binary_accuracy: 0.9619\n",
            "\n",
            "Epoch 00019: val_loss did not improve from 0.11440\n",
            "Epoch 20/250\n",
            "284/284 [==============================] - 67s 235ms/step - loss: 0.1057 - binary_accuracy: 0.9670 - val_loss: 0.1128 - val_binary_accuracy: 0.9651\n",
            "\n",
            "Epoch 00020: val_loss improved from 0.11440 to 0.11281, saving model to /content/drive/MyDrive/model-0.11_baseline.h5\n",
            "Epoch 21/250\n",
            "284/284 [==============================] - 67s 236ms/step - loss: 0.1034 - binary_accuracy: 0.9676 - val_loss: 0.1222 - val_binary_accuracy: 0.9621\n",
            "\n",
            "Epoch 00021: val_loss did not improve from 0.11281\n",
            "Epoch 22/250\n",
            "284/284 [==============================] - 67s 236ms/step - loss: 0.1018 - binary_accuracy: 0.9684 - val_loss: 0.1146 - val_binary_accuracy: 0.9645\n",
            "\n",
            "Epoch 00022: val_loss did not improve from 0.11281\n",
            "Epoch 23/250\n",
            "284/284 [==============================] - 67s 236ms/step - loss: 0.1008 - binary_accuracy: 0.9685 - val_loss: 0.1127 - val_binary_accuracy: 0.9653\n",
            "\n",
            "Epoch 00023: val_loss improved from 0.11281 to 0.11265, saving model to /content/drive/MyDrive/model-0.11_baseline.h5\n",
            "Epoch 24/250\n",
            "284/284 [==============================] - 67s 236ms/step - loss: 0.0992 - binary_accuracy: 0.9692 - val_loss: 0.1129 - val_binary_accuracy: 0.9654\n",
            "\n",
            "Epoch 00024: val_loss did not improve from 0.11265\n",
            "Epoch 25/250\n",
            "284/284 [==============================] - 67s 236ms/step - loss: 0.0995 - binary_accuracy: 0.9689 - val_loss: 0.1104 - val_binary_accuracy: 0.9665\n",
            "\n",
            "Epoch 00025: val_loss improved from 0.11265 to 0.11043, saving model to /content/drive/MyDrive/model-0.11_baseline.h5\n",
            "Epoch 26/250\n",
            "284/284 [==============================] - 67s 235ms/step - loss: 0.0977 - binary_accuracy: 0.9692 - val_loss: 0.1151 - val_binary_accuracy: 0.9645\n",
            "\n",
            "Epoch 00026: val_loss did not improve from 0.11043\n",
            "Epoch 27/250\n",
            "284/284 [==============================] - 67s 235ms/step - loss: 0.0948 - binary_accuracy: 0.9705 - val_loss: 0.1117 - val_binary_accuracy: 0.9660\n",
            "\n",
            "Epoch 00027: val_loss did not improve from 0.11043\n",
            "Epoch 28/250\n",
            "284/284 [==============================] - 67s 235ms/step - loss: 0.0942 - binary_accuracy: 0.9706 - val_loss: 0.1166 - val_binary_accuracy: 0.9643\n",
            "\n",
            "Epoch 00028: val_loss did not improve from 0.11043\n",
            "Epoch 29/250\n",
            "284/284 [==============================] - 67s 235ms/step - loss: 0.0926 - binary_accuracy: 0.9711 - val_loss: 0.1116 - val_binary_accuracy: 0.9660\n",
            "\n",
            "Epoch 00029: val_loss did not improve from 0.11043\n",
            "Epoch 30/250\n",
            "284/284 [==============================] - 67s 236ms/step - loss: 0.0915 - binary_accuracy: 0.9717 - val_loss: 0.1128 - val_binary_accuracy: 0.9658\n",
            "\n",
            "Epoch 00030: val_loss did not improve from 0.11043\n",
            "Epoch 31/250\n",
            "284/284 [==============================] - 67s 236ms/step - loss: 0.0902 - binary_accuracy: 0.9718 - val_loss: 0.1170 - val_binary_accuracy: 0.9639\n",
            "\n",
            "Epoch 00031: val_loss did not improve from 0.11043\n",
            "Epoch 32/250\n",
            "284/284 [==============================] - 67s 236ms/step - loss: 0.0891 - binary_accuracy: 0.9721 - val_loss: 0.1113 - val_binary_accuracy: 0.9660\n",
            "\n",
            "Epoch 00032: val_loss did not improve from 0.11043\n",
            "Epoch 33/250\n",
            "284/284 [==============================] - 67s 236ms/step - loss: 0.0887 - binary_accuracy: 0.9719 - val_loss: 0.1123 - val_binary_accuracy: 0.9659\n",
            "\n",
            "Epoch 00033: val_loss did not improve from 0.11043\n",
            "Epoch 34/250\n",
            "284/284 [==============================] - 67s 236ms/step - loss: 0.0854 - binary_accuracy: 0.9732 - val_loss: 0.1171 - val_binary_accuracy: 0.9641\n",
            "\n",
            "Epoch 00034: val_loss did not improve from 0.11043\n",
            "Epoch 35/250\n",
            "284/284 [==============================] - 67s 237ms/step - loss: 0.0838 - binary_accuracy: 0.9741 - val_loss: 0.1130 - val_binary_accuracy: 0.9664\n",
            "\n",
            "Epoch 00035: val_loss did not improve from 0.11043\n",
            "Epoch 36/250\n",
            "284/284 [==============================] - 67s 237ms/step - loss: 0.0855 - binary_accuracy: 0.9734 - val_loss: 0.1120 - val_binary_accuracy: 0.9667\n",
            "\n",
            "Epoch 00036: val_loss did not improve from 0.11043\n",
            "Epoch 37/250\n",
            "284/284 [==============================] - 67s 236ms/step - loss: 0.0828 - binary_accuracy: 0.9739 - val_loss: 0.1167 - val_binary_accuracy: 0.9654\n",
            "\n",
            "Epoch 00037: val_loss did not improve from 0.11043\n",
            "Epoch 38/250\n",
            "284/284 [==============================] - 67s 236ms/step - loss: 0.0806 - binary_accuracy: 0.9748 - val_loss: 0.1141 - val_binary_accuracy: 0.9654\n",
            "\n",
            "Epoch 00038: val_loss did not improve from 0.11043\n",
            "Epoch 39/250\n",
            "284/284 [==============================] - 67s 236ms/step - loss: 0.0810 - binary_accuracy: 0.9749 - val_loss: 0.1170 - val_binary_accuracy: 0.9649\n",
            "\n",
            "Epoch 00039: val_loss did not improve from 0.11043\n",
            "Epoch 40/250\n",
            "284/284 [==============================] - 67s 236ms/step - loss: 0.0810 - binary_accuracy: 0.9748 - val_loss: 0.1156 - val_binary_accuracy: 0.9656\n",
            "\n",
            "Epoch 00040: val_loss did not improve from 0.11043\n",
            "Epoch 41/250\n",
            "284/284 [==============================] - 67s 236ms/step - loss: 0.0792 - binary_accuracy: 0.9754 - val_loss: 0.1156 - val_binary_accuracy: 0.9652\n",
            "\n",
            "Epoch 00041: val_loss did not improve from 0.11043\n",
            "Epoch 42/250\n",
            "284/284 [==============================] - 67s 236ms/step - loss: 0.0777 - binary_accuracy: 0.9757 - val_loss: 0.1145 - val_binary_accuracy: 0.9662\n",
            "\n",
            "Epoch 00042: val_loss did not improve from 0.11043\n",
            "Epoch 43/250\n",
            "284/284 [==============================] - 67s 236ms/step - loss: 0.0771 - binary_accuracy: 0.9759 - val_loss: 0.1175 - val_binary_accuracy: 0.9654\n",
            "\n",
            "Epoch 00043: val_loss did not improve from 0.11043\n",
            "Epoch 44/250\n",
            "284/284 [==============================] - 67s 237ms/step - loss: 0.0769 - binary_accuracy: 0.9759 - val_loss: 0.1157 - val_binary_accuracy: 0.9662\n",
            "\n",
            "Epoch 00044: val_loss did not improve from 0.11043\n",
            "Epoch 45/250\n",
            "284/284 [==============================] - 67s 236ms/step - loss: 0.0754 - binary_accuracy: 0.9765 - val_loss: 0.1156 - val_binary_accuracy: 0.9665\n",
            "\n",
            "Epoch 00045: val_loss did not improve from 0.11043\n",
            "Epoch 46/250\n",
            "284/284 [==============================] - 67s 236ms/step - loss: 0.0764 - binary_accuracy: 0.9761 - val_loss: 0.1187 - val_binary_accuracy: 0.9654\n",
            "\n",
            "Epoch 00046: val_loss did not improve from 0.11043\n",
            "Epoch 47/250\n",
            "284/284 [==============================] - 67s 236ms/step - loss: 0.0743 - binary_accuracy: 0.9769 - val_loss: 0.1199 - val_binary_accuracy: 0.9648\n",
            "\n",
            "Epoch 00047: val_loss did not improve from 0.11043\n",
            "Epoch 48/250\n",
            "284/284 [==============================] - 67s 236ms/step - loss: 0.0757 - binary_accuracy: 0.9762 - val_loss: 0.1198 - val_binary_accuracy: 0.9653\n",
            "\n",
            "Epoch 00048: val_loss did not improve from 0.11043\n",
            "Epoch 49/250\n",
            "284/284 [==============================] - 67s 236ms/step - loss: 0.0720 - binary_accuracy: 0.9773 - val_loss: 0.1187 - val_binary_accuracy: 0.9650\n",
            "\n",
            "Epoch 00049: val_loss did not improve from 0.11043\n",
            "Epoch 50/250\n",
            "284/284 [==============================] - 67s 236ms/step - loss: 0.0723 - binary_accuracy: 0.9774 - val_loss: 0.1201 - val_binary_accuracy: 0.9661\n",
            "\n",
            "Epoch 00050: val_loss did not improve from 0.11043\n",
            "Epoch 51/250\n",
            "284/284 [==============================] - 67s 236ms/step - loss: 0.0715 - binary_accuracy: 0.9775 - val_loss: 0.1233 - val_binary_accuracy: 0.9653\n",
            "\n",
            "Epoch 00051: val_loss did not improve from 0.11043\n",
            "Epoch 52/250\n",
            "284/284 [==============================] - 67s 236ms/step - loss: 0.0706 - binary_accuracy: 0.9777 - val_loss: 0.1204 - val_binary_accuracy: 0.9658\n",
            "\n",
            "Epoch 00052: val_loss did not improve from 0.11043\n",
            "Epoch 53/250\n",
            "284/284 [==============================] - 67s 236ms/step - loss: 0.0701 - binary_accuracy: 0.9779 - val_loss: 0.1258 - val_binary_accuracy: 0.9640\n",
            "\n",
            "Epoch 00053: val_loss did not improve from 0.11043\n",
            "Epoch 54/250\n",
            "284/284 [==============================] - 67s 236ms/step - loss: 0.0682 - binary_accuracy: 0.9785 - val_loss: 0.1265 - val_binary_accuracy: 0.9642\n",
            "\n",
            "Epoch 00054: val_loss did not improve from 0.11043\n",
            "Epoch 55/250\n",
            "284/284 [==============================] - 67s 236ms/step - loss: 0.0691 - binary_accuracy: 0.9781 - val_loss: 0.1219 - val_binary_accuracy: 0.9653\n",
            "\n",
            "Epoch 00055: val_loss did not improve from 0.11043\n",
            "Training completed in time:  1:01:37.433621\n"
          ],
          "name": "stdout"
        }
      ]
    },
    {
      "cell_type": "code",
      "metadata": {
        "id": "D80dzXbzmjpB"
      },
      "source": [
        "model.save('/content/drive/MyDrive/model-baseline-0.11_lastEpoch2.h5')"
      ],
      "execution_count": 10,
      "outputs": []
    },
    {
      "cell_type": "code",
      "metadata": {
        "id": "GcgsF2fZvhgj",
        "colab": {
          "base_uri": "https://localhost:8080/"
        },
        "outputId": "86a3c082-e2a3-4108-8438-24e1e698c219"
      },
      "source": [
        "# Evaluate the model on the test data using `evaluate`\r\n",
        "print(\"Evaluate on test data\")\r\n",
        "results = model.evaluate(x_test, y_test, batch_size=num_batch_size)\r\n",
        "print(\"test loss, test acc:\", results)"
      ],
      "execution_count": 8,
      "outputs": [
        {
          "output_type": "stream",
          "text": [
            "Evaluate on test data\n",
            "85/85 [==============================] - 7s 73ms/step - loss: 0.1316 - binary_accuracy: 0.9617\n",
            "test loss, test acc: [0.1316055804491043, 0.9616914987564087]\n"
          ],
          "name": "stdout"
        }
      ]
    },
    {
      "cell_type": "code",
      "metadata": {
        "colab": {
          "base_uri": "https://localhost:8080/",
          "height": 573
        },
        "id": "z2ZOVgAMvhil",
        "outputId": "51f44183-e99a-43cb-ba8e-627a1a59cc48"
      },
      "source": [
        "import matplotlib.pyplot as plt\r\n",
        "\r\n",
        "# summarize history for accuracy\r\n",
        "plt.plot(history.history['binary_accuracy'])\r\n",
        "plt.plot(history.history['val_binary_accuracy'])\r\n",
        "plt.title('model accuracy')\r\n",
        "plt.ylabel('accuracy')\r\n",
        "plt.xlabel('epoch')\r\n",
        "plt.legend(['train', 'test'], loc='upper left')\r\n",
        "plt.show()\r\n",
        "# summarize history for loss\r\n",
        "plt.plot(history.history['loss'])\r\n",
        "plt.plot(history.history['val_loss'])\r\n",
        "plt.title('model loss')\r\n",
        "plt.ylabel('loss')\r\n",
        "plt.xlabel('epoch')\r\n",
        "plt.legend(['train', 'test'], loc='upper left')\r\n",
        "plt.show()"
      ],
      "execution_count": 9,
      "outputs": [
        {
          "output_type": "display_data",
          "data": {
            "image/png": "[encoded data removed]",
            "text/plain": [
              "<Figure size 432x288 with 1 Axes>"
            ]
          },
          "metadata": {
            "tags": [],
            "needs_background": "light"
          }
        },
        {
          "output_type": "display_data",
          "data": {
            "image/png": "[encoded data removed]",
            "text/plain": [
              "<Figure size 432x288 with 1 Axes>"
            ]
          },
          "metadata": {
            "tags": [],
            "needs_background": "light"
          }
        }
      ]
    },
    {
      "cell_type": "code",
      "metadata": {
        "colab": {
          "base_uri": "https://localhost:8080/",
          "height": 573
        },
        "id": "16YhgLXlg8mG",
        "outputId": "1f02f0fe-420b-4342-8d6e-e21328dd2925"
      },
      "source": [
        "import matplotlib.pyplot as plt\r\n",
        "import pandas as pd\r\n",
        "\r\n",
        "historydf = pd.read_csv('/content/drive/MyDrive/history_baseline_dilated.csv')\r\n",
        "historydf.columns = [\"loss\", \"acc\", \"val_loss\", \"val_acc\"]\r\n",
        "\r\n",
        "\r\n",
        "\r\n",
        "# summarize history for accuracy\r\n",
        "plt.plot(np.array(historydf.acc.tolist()))\r\n",
        "plt.plot(np.array(historydf.val_acc.tolist()))\r\n",
        "plt.title('model accuracy')\r\n",
        "plt.ylabel('accuracy')\r\n",
        "plt.xlabel('epoch')\r\n",
        "plt.legend(['train', 'test'], loc='upper left')\r\n",
        "plt.show()\r\n",
        "# summarize history for loss\r\n",
        "plt.plot(np.array(historydf.loss.tolist()))\r\n",
        "plt.plot(np.array(historydf.val_loss.tolist()))\r\n",
        "plt.title('model loss')\r\n",
        "plt.ylabel('loss')\r\n",
        "plt.xlabel('epoch')\r\n",
        "plt.legend(['train', 'test'], loc='upper left')\r\n",
        "plt.show()"
      ],
      "execution_count": null,
      "outputs": [
        {
          "output_type": "display_data",
          "data": {
            "image/png": "[encoded data removed]",
            "text/plain": [
              "<Figure size 432x288 with 1 Axes>"
            ]
          },
          "metadata": {
            "tags": [],
            "needs_background": "light"
          }
        },
        {
          "output_type": "display_data",
          "data": {
            "image/png": "[encoded data removed]",
            "text/plain": [
              "<Figure size 432x288 with 1 Axes>"
            ]
          },
          "metadata": {
            "tags": [],
            "needs_background": "light"
          }
        }
      ]
    },
    {
      "cell_type": "code",
      "metadata": {
        "id": "vZkGJtk6pRcu"
      },
      "source": [
        "model = keras.models.load_model('/content/drive/MyDrive/model-0.11_baseline.h5')"
      ],
      "execution_count": 11,
      "outputs": []
    },
    {
      "cell_type": "code",
      "metadata": {
        "id": "2jAOtu-FvhlF",
        "colab": {
          "base_uri": "https://localhost:8080/"
        },
        "outputId": "ac1dea67-0018-41ad-f4af-0d1752c9446d"
      },
      "source": [
        "TP = 0\r\n",
        "FP = 0\r\n",
        "TN = 0\r\n",
        "FN = 0\r\n",
        "\r\n",
        "y_pred = model.predict(x_test, batch_size=8, verbose=1)\r\n",
        "\r\n",
        "for i in range(y_test.shape[0]):\r\n",
        "    if i%100 == 0:\r\n",
        "        print(\"processing element \", i)\r\n",
        "    for j in range(y_test.shape[1]):\r\n",
        "        for k in range(y_test.shape[2]):\r\n",
        "            \r\n",
        "            test = y_test[i][j][k]\r\n",
        "            pred = y_pred[i][j][k]\r\n",
        "            \r\n",
        "            # binarization of predicted output\r\n",
        "            if(pred >= 0.5):\r\n",
        "                pred = 1\r\n",
        "            else:\r\n",
        "                pred = 0\r\n",
        "\r\n",
        "            if(test == 1 and pred == 1):\r\n",
        "                TP = TP + 1\r\n",
        "            elif(test == 0 and pred == 1):\r\n",
        "                FP = FP + 1\r\n",
        "            elif(test == 0 and pred == 0):\r\n",
        "                TN = TN + 1\r\n",
        "            elif(test == 1 and pred == 0):\r\n",
        "                FN = FN + 1\r\n",
        "                \r\n",
        "#print(TP+FP+TN+FN)\r\n",
        "#print(y_test.shape[1]*y_test.shape[2]*y_test.shape[0])\r\n",
        "\r\n",
        "recall = TP/(TP+FN)\r\n",
        "\r\n",
        "precision = TP/(TP+FP)\r\n",
        "\r\n",
        "f1_score = 2*recall*precision/(recall+precision)\r\n",
        "\r\n",
        "print(\"recall: \", recall)\r\n",
        "print(\"precision: \", precision)\r\n",
        "print(\"f1: \", f1_score)"
      ],
      "execution_count": 12,
      "outputs": [
        {
          "output_type": "stream",
          "text": [
            "85/85 [==============================] - 7s 73ms/step\n",
            "processing element  0\n",
            "processing element  100\n",
            "processing element  200\n",
            "processing element  300\n",
            "processing element  400\n",
            "processing element  500\n",
            "processing element  600\n",
            "recall:  0.6299638628286958\n",
            "precision:  0.8300186369353766\n",
            "f1:  0.7162849511252557\n"
          ],
          "name": "stdout"
        }
      ]
    },
    {
      "cell_type": "code",
      "metadata": {
        "id": "BvaDrIHpvhnG",
        "colab": {
          "base_uri": "https://localhost:8080/"
        },
        "outputId": "46b184ff-c819-4528-d7c5-382dfa7b114a"
      },
      "source": [
        "TP"
      ],
      "execution_count": null,
      "outputs": [
        {
          "output_type": "execute_result",
          "data": {
            "text/plain": [
              "528734"
            ]
          },
          "metadata": {
            "tags": []
          },
          "execution_count": 10
        }
      ]
    },
    {
      "cell_type": "code",
      "metadata": {
        "id": "8oTAioOcvhpF",
        "colab": {
          "base_uri": "https://localhost:8080/"
        },
        "outputId": "27965c48-a8b8-4a71-ed55-0fc97ec2991d"
      },
      "source": [
        "print(\"f1: \", f1_score)"
      ],
      "execution_count": null,
      "outputs": [
        {
          "output_type": "stream",
          "text": [
            "f1:  0.7299315162729577\n"
          ],
          "name": "stdout"
        }
      ]
    },
    {
      "cell_type": "markdown",
      "metadata": {
        "id": "F0V-hVJgdEmg"
      },
      "source": [
        "## save model"
      ]
    },
    {
      "cell_type": "code",
      "metadata": {
        "id": "5ebi1aSfc7zr"
      },
      "source": [
        "filename = '/content/drive/MyDrive/model-dessed-endtrain.h5'\r\n",
        "model.save(filename)"
      ],
      "execution_count": null,
      "outputs": []
    }
  ]
}