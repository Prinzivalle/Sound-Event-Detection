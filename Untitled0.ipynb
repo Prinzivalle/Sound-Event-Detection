{
  "nbformat": 4,
  "nbformat_minor": 0,
  "metadata": {
    "colab": {
      "name": "Untitled0.ipynb",
      "provenance": [],
      "collapsed_sections": [
        "lj6DO31nrreb",
        "3U6wFvCWEGun",
        "I-DedsknrpJn"
      ],
      "authorship_tag": "ABX9TyMUO2ZIiGyE/PEhWGHeWKUR"
    },
    "kernelspec": {
      "name": "python3",
      "display_name": "Python 3"
    },
    "accelerator": "GPU"
  },
  "cells": [
    {
      "cell_type": "code",
      "metadata": {
        "colab": {
          "base_uri": "https://localhost:8080/",
          "height": 357
        },
        "id": "7ovABqndutsN",
        "outputId": "277c64c6-ecb6-4ab2-cf9b-7b44ca95b74b"
      },
      "source": [
        "!pip install q keras==2.2.4\r\n"
      ],
      "execution_count": null,
      "outputs": [
        {
          "output_type": "stream",
          "text": [
            "Requirement already satisfied: q in /usr/local/lib/python3.7/dist-packages (2.6)\n",
            "Collecting keras==2.2.4\n",
            "  Using cached https://files.pythonhosted.org/packages/5e/10/aa32dad071ce52b5502266b5c659451cfd6ffcbf14e6c8c4f16c0ff5aaab/Keras-2.2.4-py2.py3-none-any.whl\n",
            "Requirement already satisfied: six>=1.9.0 in /usr/local/lib/python3.7/dist-packages (from keras==2.2.4) (1.15.0)\n",
            "Requirement already satisfied: numpy>=1.9.1 in /usr/local/lib/python3.7/dist-packages (from keras==2.2.4) (1.19.5)\n",
            "Requirement already satisfied: h5py in /usr/local/lib/python3.7/dist-packages (from keras==2.2.4) (2.10.0)\n",
            "Requirement already satisfied: pyyaml in /usr/local/lib/python3.7/dist-packages (from keras==2.2.4) (3.13)\n",
            "Requirement already satisfied: scipy>=0.14 in /usr/local/lib/python3.7/dist-packages (from keras==2.2.4) (1.4.1)\n",
            "Requirement already satisfied: keras-applications>=1.0.6 in /tensorflow-1.15.2/python3.7 (from keras==2.2.4) (1.0.8)\n",
            "Requirement already satisfied: keras-preprocessing>=1.0.5 in /usr/local/lib/python3.7/dist-packages (from keras==2.2.4) (1.1.2)\n",
            "Installing collected packages: keras\n",
            "  Found existing installation: Keras 2.3.1\n",
            "    Uninstalling Keras-2.3.1:\n",
            "      Successfully uninstalled Keras-2.3.1\n",
            "Successfully installed keras-2.2.4\n"
          ],
          "name": "stdout"
        },
        {
          "output_type": "display_data",
          "data": {
            "application/vnd.colab-display-data+json": {
              "pip_warning": {
                "packages": [
                  "keras"
                ]
              }
            }
          },
          "metadata": {
            "tags": []
          }
        }
      ]
    },
    {
      "cell_type": "code",
      "metadata": {
        "colab": {
          "base_uri": "https://localhost:8080/"
        },
        "id": "5ON7kzGQvlnN",
        "outputId": "a92aa0ff-8d35-4364-b220-e3ed1ed1d2a9"
      },
      "source": [
        "%tensorflow_version 1.15.5"
      ],
      "execution_count": null,
      "outputs": [
        {
          "output_type": "stream",
          "text": [
            "`%tensorflow_version` only switches the major version: 1.x or 2.x.\n",
            "You set: `1.15.5`. This will be interpreted as: `1.x`.\n",
            "\n",
            "\n",
            "TensorFlow 1.x selected.\n"
          ],
          "name": "stdout"
        }
      ]
    },
    {
      "cell_type": "code",
      "metadata": {
        "colab": {
          "base_uri": "https://localhost:8080/"
        },
        "id": "sVAsV4OXvcQE",
        "outputId": "923cfa6c-a8a3-4afe-9ba6-bf9f56f7fb0a"
      },
      "source": [
        "import numpy as np\r\n",
        "import tensorflow as tf\r\n",
        "import keras\r\n",
        "from keras.preprocessing.image import ImageDataGenerator\r\n",
        "\r\n",
        "print(\"Tensorflow version %s\" %tf.__version__)\r\n",
        "print(\"Keras version %s\" %keras.__version__)\r\n",
        "\r\n",
        "device_name = tf.test.gpu_device_name()\r\n",
        "if device_name != '/device:GPU:0':\r\n",
        "  raise SystemError('GPU device not found')\r\n",
        "print('Found GPU at: {}'.format(device_name))"
      ],
      "execution_count": 1,
      "outputs": [
        {
          "output_type": "stream",
          "text": [
            "Tensorflow version 2.4.1\n",
            "Keras version 2.4.3\n",
            "Found GPU at: /device:GPU:0\n"
          ],
          "name": "stdout"
        }
      ]
    },
    {
      "cell_type": "code",
      "metadata": {
        "colab": {
          "base_uri": "https://localhost:8080/"
        },
        "id": "LHkHclRnvhQI",
        "outputId": "dc59112e-0e8b-482f-f803-274d11005e05"
      },
      "source": [
        "import os\r\n",
        "from google.colab import drive\r\n",
        "drive.mount('/content/drive')\r\n",
        "\r\n",
        "!pip3 install pickle5\r\n",
        "import pickle5 as pickle\r\n",
        "import pandas as pd\r\n",
        "with open('/content/drive/MyDrive/processed_data_frame_new.pkl', \"rb\") as fh:\r\n",
        "  data = pickle.load(fh)\r\n",
        "dataframe = pd.DataFrame(data)\r\n",
        "#read_pickle('/content/drive/MyDrive/processed_data_frame.pkl')"
      ],
      "execution_count": 2,
      "outputs": [
        {
          "output_type": "stream",
          "text": [
            "Mounted at /content/drive\n",
            "Collecting pickle5\n",
            "\u001b[?25l  Downloading https://files.pythonhosted.org/packages/f7/4c/5c4dd0462c8d3a6bc4af500a6af240763c2ebd1efdc736fc2c946d44b70a/pickle5-0.0.11.tar.gz (132kB)\n",
            "\u001b[K     |████████████████████████████████| 133kB 16.8MB/s \n",
            "\u001b[?25hBuilding wheels for collected packages: pickle5\n",
            "  Building wheel for pickle5 (setup.py) ... \u001b[?25l\u001b[?25hdone\n",
            "  Created wheel for pickle5: filename=pickle5-0.0.11-cp37-cp37m-linux_x86_64.whl size=219270 sha256=c25495b7cef827dbbebb9780c8efc5085b56ddd9bfd16ad6c9aec06fcafb907d\n",
            "  Stored in directory: /root/.cache/pip/wheels/a6/90/95/f889ca4aa8b0e0c7f21c8470b6f5d6032f0390a3a141a9a3bd\n",
            "Successfully built pickle5\n",
            "Installing collected packages: pickle5\n",
            "Successfully installed pickle5-0.0.11\n"
          ],
          "name": "stdout"
        }
      ]
    },
    {
      "cell_type": "code",
      "metadata": {
        "id": "3e4ut1Y6zdXs"
      },
      "source": [
        "dataframe"
      ],
      "execution_count": null,
      "outputs": []
    },
    {
      "cell_type": "code",
      "metadata": {
        "id": "IHv0-kJ1vhYv"
      },
      "source": [
        "#from sklearn.preprocessing import LabelEncoder\r\n",
        "#from keras.utils import to_categorical\r\n",
        "\r\n",
        "# Convert features and corresponding classification labels into numpy arrays\r\n",
        "X = np.array(dataframe.feature.tolist())\r\n",
        "y = np.array(dataframe.class_label.tolist())\r\n",
        "\r\n",
        "# no need to encode labels since they are already in form of one hot encode\r\n",
        "\r\n",
        "# delete dataframe to save memory\r\n",
        "#reset_selective -f dataframe\r\n",
        "\r\n",
        "# split the dataset \r\n",
        "from sklearn.model_selection import train_test_split \r\n",
        "\r\n",
        "x_train, x_test, y_train, y_test = train_test_split(X, y, test_size=0.2, random_state = 42)\r\n",
        "\r\n",
        "# delete X to save memory\r\n",
        "#reset_selective -f X"
      ],
      "execution_count": 3,
      "outputs": []
    },
    {
      "cell_type": "markdown",
      "metadata": {
        "id": "lj6DO31nrreb"
      },
      "source": [
        "## baseline model"
      ]
    },
    {
      "cell_type": "code",
      "metadata": {
        "colab": {
          "base_uri": "https://localhost:8080/"
        },
        "id": "u65NKa2RroZV",
        "outputId": "50bf7078-2a87-4b91-c97a-be336b50af92"
      },
      "source": [
        "from keras.models import Model\r\n",
        "from keras.layers import SeparableConv2D, ZeroPadding2D, Activation, Dropout, Dense, \\\r\n",
        "                            Conv2D, MaxPooling2D, Reshape, GRU\r\n",
        "from keras.layers.normalization import BatchNormalization\r\n",
        "from keras import Input, optimizers\r\n",
        "\r\n",
        "num_rows = X.shape[1]\r\n",
        "num_columns = X.shape[2]\r\n",
        "num_channels = 1\r\n",
        "\r\n",
        "x_train = x_train.reshape(x_train.shape[0], num_rows, num_columns, num_channels)\r\n",
        "x_test = x_test.reshape(x_test.shape[0], num_rows, num_columns, num_channels)\r\n",
        "\r\n",
        "num_labels = y.shape[2]\r\n",
        "#num_labels = 16\r\n",
        "\r\n",
        "def Net(dilated_kernel, dilation, dilated_padding):\r\n",
        "    \r\n",
        "    # input layer\r\n",
        "    inputs = Input(shape=(num_rows, num_columns, num_channels))\r\n",
        "    \r\n",
        "    # DWS-CNN layer 1\r\n",
        "    x = ZeroPadding2D(padding=(2))(inputs)\r\n",
        "    # use valid padding since padding is introduced before due to its special form (maybe it's equal to use same padding?)\r\n",
        "    x = Conv2D(256,kernel_size=(5,5), strides=(1,1), padding='valid')(x)\r\n",
        "    x = Activation('relu')(x)\r\n",
        "    # Batch Normalisation before passing it to the next layer\r\n",
        "    x = BatchNormalization()(x)\r\n",
        "    # Pooling\r\n",
        "    x = MaxPooling2D(pool_size=(1,5), strides=(1,5), padding='valid')(x)\r\n",
        "    # Dropout\r\n",
        "    x = Dropout(0.25)(x)\r\n",
        "    \r\n",
        "    # DWS-CNN layer 2\r\n",
        "    x = ZeroPadding2D(padding=(2))(x)\r\n",
        "    # use valid padding since padding is introduced before due to its special form\r\n",
        "    x = Conv2D(256,kernel_size=(5,5), strides=(1,1), padding='valid')(x)\r\n",
        "    x = Activation('relu')(x)\r\n",
        "    # Batch Normalisation before passing it to the next layer\r\n",
        "    x = BatchNormalization()(x)\r\n",
        "    # Pooling\r\n",
        "    x = MaxPooling2D(pool_size=(1,4), strides=(1,4), padding='valid')(x)\r\n",
        "    # Dropout\r\n",
        "    x = Dropout(0.25)(x)\r\n",
        "    \r\n",
        "    # DWS-CNN layer 3\r\n",
        "    x = ZeroPadding2D(padding=(2))(x)\r\n",
        "    # use valid padding since padding is introduced before due to its special form\r\n",
        "    x = Conv2D(256,kernel_size=(5,5), strides=(1,1), padding='valid')(x)\r\n",
        "    x = Activation('relu')(x)\r\n",
        "    # Batch Normalisation before passing it to the next layer\r\n",
        "    x = BatchNormalization()(x)\r\n",
        "    # Pooling\r\n",
        "    x = MaxPooling2D(pool_size=(1,2), strides=(1,2), padding='valid')(x)\r\n",
        "    # Dropout\r\n",
        "    x = Dropout(0.25)(x)\r\n",
        "    \r\n",
        "    x = Reshape((1024, 256))(x)\r\n",
        "    \r\n",
        "    # GRU\r\n",
        "    #x = ZeroPadding2D(padding=(dilated_padding*dilation, 1))(x)\r\n",
        "    #x = Conv2D(256, kernel_size=dilated_kernel, dilation_rate=(dilation, 1))(x)\r\n",
        "    #x = BatchNormalization()(x)\r\n",
        "    #x = Activation('relu')(x)\r\n",
        "    x = GRU(256, return_sequences=True)(x)\r\n",
        "        \r\n",
        "    # classifier layer\r\n",
        "    outputs = Dense(num_labels,activation='sigmoid')(x)\r\n",
        "    \r\n",
        "    \r\n",
        "    # model compilation for training\r\n",
        "    adam = optimizers.Adam(lr=0.0001)\r\n",
        "    model = Model(inputs, outputs)                            \r\n",
        "    model.compile(loss='binary_crossentropy', optimizer=adam, metrics=[\"binary_accuracy\"])\r\n",
        "    \r\n",
        "    return model\r\n",
        "\r\n",
        "\r\n",
        "# create the model\r\n",
        "dilated_kernel = (3,3)\r\n",
        "dilation = 10\r\n",
        "dilated_padding = 1\r\n",
        "model = Net(dilated_kernel,dilation,dilated_padding)\r\n",
        "model.summary()"
      ],
      "execution_count": 6,
      "outputs": [
        {
          "output_type": "stream",
          "text": [
            "Model: \"model_1\"\n",
            "_________________________________________________________________\n",
            "Layer (type)                 Output Shape              Param #   \n",
            "=================================================================\n",
            "input_2 (InputLayer)         [(None, 1024, 40, 1)]     0         \n",
            "_________________________________________________________________\n",
            "zero_padding2d_3 (ZeroPaddin (None, 1028, 44, 1)       0         \n",
            "_________________________________________________________________\n",
            "conv2d_3 (Conv2D)            (None, 1024, 40, 256)     6656      \n",
            "_________________________________________________________________\n",
            "activation_3 (Activation)    (None, 1024, 40, 256)     0         \n",
            "_________________________________________________________________\n",
            "batch_normalization_3 (Batch (None, 1024, 40, 256)     1024      \n",
            "_________________________________________________________________\n",
            "max_pooling2d_3 (MaxPooling2 (None, 1024, 8, 256)      0         \n",
            "_________________________________________________________________\n",
            "dropout_3 (Dropout)          (None, 1024, 8, 256)      0         \n",
            "_________________________________________________________________\n",
            "zero_padding2d_4 (ZeroPaddin (None, 1028, 12, 256)     0         \n",
            "_________________________________________________________________\n",
            "conv2d_4 (Conv2D)            (None, 1024, 8, 256)      1638656   \n",
            "_________________________________________________________________\n",
            "activation_4 (Activation)    (None, 1024, 8, 256)      0         \n",
            "_________________________________________________________________\n",
            "batch_normalization_4 (Batch (None, 1024, 8, 256)      1024      \n",
            "_________________________________________________________________\n",
            "max_pooling2d_4 (MaxPooling2 (None, 1024, 2, 256)      0         \n",
            "_________________________________________________________________\n",
            "dropout_4 (Dropout)          (None, 1024, 2, 256)      0         \n",
            "_________________________________________________________________\n",
            "zero_padding2d_5 (ZeroPaddin (None, 1028, 6, 256)      0         \n",
            "_________________________________________________________________\n",
            "conv2d_5 (Conv2D)            (None, 1024, 2, 256)      1638656   \n",
            "_________________________________________________________________\n",
            "activation_5 (Activation)    (None, 1024, 2, 256)      0         \n",
            "_________________________________________________________________\n",
            "batch_normalization_5 (Batch (None, 1024, 2, 256)      1024      \n",
            "_________________________________________________________________\n",
            "max_pooling2d_5 (MaxPooling2 (None, 1024, 1, 256)      0         \n",
            "_________________________________________________________________\n",
            "dropout_5 (Dropout)          (None, 1024, 1, 256)      0         \n",
            "_________________________________________________________________\n",
            "reshape_1 (Reshape)          (None, 1024, 256)         0         \n",
            "_________________________________________________________________\n",
            "gru_1 (GRU)                  (None, 1024, 256)         394752    \n",
            "_________________________________________________________________\n",
            "dense_1 (Dense)              (None, 1024, 16)          4112      \n",
            "=================================================================\n",
            "Total params: 3,685,904\n",
            "Trainable params: 3,684,368\n",
            "Non-trainable params: 1,536\n",
            "_________________________________________________________________\n"
          ],
          "name": "stdout"
        }
      ]
    },
    {
      "cell_type": "markdown",
      "metadata": {
        "id": "3U6wFvCWEGun"
      },
      "source": [
        "## Dessed model"
      ]
    },
    {
      "cell_type": "code",
      "metadata": {
        "colab": {
          "base_uri": "https://localhost:8080/"
        },
        "id": "Un_24V80EGal",
        "outputId": "cb8accb3-3da8-4307-f900-d5740d30aebd"
      },
      "source": [
        "from keras.models import Model\r\n",
        "from keras.layers import SeparableConv2D, ZeroPadding2D, Activation, Dropout, Dense, \\\r\n",
        "                            Conv2D, MaxPooling2D, Reshape, GRU\r\n",
        "from keras.layers.normalization import BatchNormalization\r\n",
        "from keras import Input, optimizers\r\n",
        "\r\n",
        "num_rows = X.shape[1]\r\n",
        "num_columns = X.shape[2]\r\n",
        "num_channels = 1\r\n",
        "\r\n",
        "x_train = x_train.reshape(x_train.shape[0], num_rows, num_columns, num_channels)\r\n",
        "x_test = x_test.reshape(x_test.shape[0], num_rows, num_columns, num_channels)\r\n",
        "\r\n",
        "num_labels = y.shape[2]\r\n",
        "#num_labels = 16\r\n",
        "\r\n",
        "def Net():\r\n",
        "    \r\n",
        "    # input layer\r\n",
        "    inputs = Input(shape=(num_rows, num_columns, num_channels))\r\n",
        "    \r\n",
        "    # DWS-CNN layer 1\r\n",
        "    x = ZeroPadding2D(padding=(2))(inputs)\r\n",
        "    # use valid padding since padding is introduced before due to its special form (maybe it's equal to use same padding?)\r\n",
        "    x = SeparableConv2D(256,kernel_size=(5,5), strides=(1,1), padding='valid')(x)\r\n",
        "    x = Activation('relu')(x)\r\n",
        "    # Batch Normalisation before passing it to the next layer\r\n",
        "    x = BatchNormalization()(x)\r\n",
        "    # Pooling\r\n",
        "    x = MaxPooling2D(pool_size=(1,5), strides=(1,5), padding='valid')(x)\r\n",
        "    # Dropout\r\n",
        "    x = Dropout(0.25)(x)\r\n",
        "    \r\n",
        "    # DWS-CNN layer 2\r\n",
        "    x = ZeroPadding2D(padding=(2))(x)\r\n",
        "    # use valid padding since padding is introduced before due to its special form\r\n",
        "    x = SeparableConv2D(256,kernel_size=(5,5), strides=(1,1), padding='valid')(x)\r\n",
        "    x = Activation('relu')(x)\r\n",
        "    # Batch Normalisation before passing it to the next layer\r\n",
        "    x = BatchNormalization()(x)\r\n",
        "    # Pooling\r\n",
        "    x = MaxPooling2D(pool_size=(1,4), strides=(1,4), padding='valid')(x)\r\n",
        "    # Dropout\r\n",
        "    x = Dropout(0.25)(x)\r\n",
        "    \r\n",
        "    # DWS-CNN layer 3\r\n",
        "    x = ZeroPadding2D(padding=(2))(x)\r\n",
        "    # use valid padding since padding is introduced before due to its special form\r\n",
        "    x = SeparableConv2D(256,kernel_size=(5,5), strides=(1,1), padding='valid')(x)\r\n",
        "    x = Activation('relu')(x)\r\n",
        "    # Batch Normalisation before passing it to the next layer\r\n",
        "    x = BatchNormalization()(x)\r\n",
        "    # Pooling\r\n",
        "    x = MaxPooling2D(pool_size=(1,2), strides=(1,2), padding='valid')(x)\r\n",
        "    # Dropout\r\n",
        "    x = Dropout(0.25)(x)\r\n",
        "    \r\n",
        "    x = Reshape((1024, 256))(x)\r\n",
        "    \r\n",
        "    # GRU\r\n",
        "    x = GRU(256, return_sequences=True)(x)\r\n",
        "        \r\n",
        "    # classifier layer\r\n",
        "    outputs = Dense(num_labels,activation='sigmoid')(x)\r\n",
        "    \r\n",
        "    \r\n",
        "    # model compilation for training\r\n",
        "    adam = optimizers.Adam(lr=0.0001)\r\n",
        "    model = Model(inputs, outputs)                            \r\n",
        "    model.compile(loss='binary_crossentropy', optimizer=adam, metrics=[\"binary_accuracy\"])\r\n",
        "    \r\n",
        "    return model\r\n",
        "\r\n",
        "\r\n",
        "# create the model\r\n",
        "dilated_kernel = (3,3)\r\n",
        "dilation = 10\r\n",
        "dilated_padding = 1\r\n",
        "model = Net()\r\n",
        "model.summary()"
      ],
      "execution_count": 13,
      "outputs": [
        {
          "output_type": "stream",
          "text": [
            "Model: \"model_2\"\n",
            "_________________________________________________________________\n",
            "Layer (type)                 Output Shape              Param #   \n",
            "=================================================================\n",
            "input_3 (InputLayer)         [(None, 1024, 40, 1)]     0         \n",
            "_________________________________________________________________\n",
            "zero_padding2d_6 (ZeroPaddin (None, 1028, 44, 1)       0         \n",
            "_________________________________________________________________\n",
            "separable_conv2d (SeparableC (None, 1024, 40, 256)     537       \n",
            "_________________________________________________________________\n",
            "activation_6 (Activation)    (None, 1024, 40, 256)     0         \n",
            "_________________________________________________________________\n",
            "batch_normalization_6 (Batch (None, 1024, 40, 256)     1024      \n",
            "_________________________________________________________________\n",
            "max_pooling2d_6 (MaxPooling2 (None, 1024, 8, 256)      0         \n",
            "_________________________________________________________________\n",
            "dropout_6 (Dropout)          (None, 1024, 8, 256)      0         \n",
            "_________________________________________________________________\n",
            "zero_padding2d_7 (ZeroPaddin (None, 1028, 12, 256)     0         \n",
            "_________________________________________________________________\n",
            "separable_conv2d_1 (Separabl (None, 1024, 8, 256)      72192     \n",
            "_________________________________________________________________\n",
            "activation_7 (Activation)    (None, 1024, 8, 256)      0         \n",
            "_________________________________________________________________\n",
            "batch_normalization_7 (Batch (None, 1024, 8, 256)      1024      \n",
            "_________________________________________________________________\n",
            "max_pooling2d_7 (MaxPooling2 (None, 1024, 2, 256)      0         \n",
            "_________________________________________________________________\n",
            "dropout_7 (Dropout)          (None, 1024, 2, 256)      0         \n",
            "_________________________________________________________________\n",
            "zero_padding2d_8 (ZeroPaddin (None, 1028, 6, 256)      0         \n",
            "_________________________________________________________________\n",
            "separable_conv2d_2 (Separabl (None, 1024, 2, 256)      72192     \n",
            "_________________________________________________________________\n",
            "activation_8 (Activation)    (None, 1024, 2, 256)      0         \n",
            "_________________________________________________________________\n",
            "batch_normalization_8 (Batch (None, 1024, 2, 256)      1024      \n",
            "_________________________________________________________________\n",
            "max_pooling2d_8 (MaxPooling2 (None, 1024, 1, 256)      0         \n",
            "_________________________________________________________________\n",
            "dropout_8 (Dropout)          (None, 1024, 1, 256)      0         \n",
            "_________________________________________________________________\n",
            "reshape_2 (Reshape)          (None, 1024, 256)         0         \n",
            "_________________________________________________________________\n",
            "gru_2 (GRU)                  (None, 1024, 256)         394752    \n",
            "_________________________________________________________________\n",
            "dense_2 (Dense)              (None, 1024, 16)          4112      \n",
            "=================================================================\n",
            "Total params: 546,857\n",
            "Trainable params: 545,321\n",
            "Non-trainable params: 1,536\n",
            "_________________________________________________________________\n"
          ],
          "name": "stdout"
        }
      ]
    },
    {
      "cell_type": "markdown",
      "metadata": {
        "id": "Vr-7W-6GvaYp"
      },
      "source": [
        "## Baseline dilated"
      ]
    },
    {
      "cell_type": "code",
      "metadata": {
        "colab": {
          "base_uri": "https://localhost:8080/"
        },
        "id": "sau4io1ZvaCi",
        "outputId": "16f7b9e7-0ce0-4e0e-ec01-d6d12a43e471"
      },
      "source": [
        "from keras.models import Model\r\n",
        "from keras.layers import SeparableConv2D, ZeroPadding2D, Activation, Dropout, Dense, \\\r\n",
        "                            Conv2D, MaxPooling2D, Reshape, Permute\r\n",
        "from keras.layers.normalization import BatchNormalization\r\n",
        "from keras import Input, optimizers\r\n",
        "\r\n",
        "num_rows = X.shape[1]\r\n",
        "num_columns = X.shape[2]\r\n",
        "num_channels = 1\r\n",
        "\r\n",
        "x_train = x_train.reshape(x_train.shape[0], num_rows, num_columns, num_channels)\r\n",
        "x_test = x_test.reshape(x_test.shape[0], num_rows, num_columns, num_channels)\r\n",
        "\r\n",
        "num_labels = y.shape[2]\r\n",
        "#num_labels = 16\r\n",
        "\r\n",
        "def Net(dilated_kernel, dilation, dilated_padding):\r\n",
        "    \r\n",
        "    # input layer\r\n",
        "    inputs = Input(shape=(num_rows, num_columns, num_channels))\r\n",
        "    \r\n",
        "    # DWS-CNN layer 1\r\n",
        "    #x = ZeroPadding2D(padding=(2))(inputs)\r\n",
        "    # use valid padding since padding is introduced before due to its special form (maybe it's equal to use same padding?)\r\n",
        "    x = Conv2D(256,kernel_size=(5,5), strides=(1,1), padding='same')(inputs)\r\n",
        "    x = Activation('relu')(x)\r\n",
        "    # Batch Normalisation before passing it to the next layer\r\n",
        "    x = BatchNormalization()(x)\r\n",
        "    # Pooling\r\n",
        "    x = MaxPooling2D(pool_size=(1,5), padding='same')(x)\r\n",
        "    # Dropout\r\n",
        "    x = Dropout(0.25)(x)\r\n",
        "    \r\n",
        "    # DWS-CNN layer 2\r\n",
        "    #x = ZeroPadding2D(padding=(2))(x)\r\n",
        "    # use valid padding since padding is introduced before due to its special form\r\n",
        "    x = Conv2D(256,kernel_size=(5,5), strides=(1,1), padding='same')(x)\r\n",
        "    x = Activation('relu')(x)\r\n",
        "    # Batch Normalisation before passing it to the next layer\r\n",
        "    x = BatchNormalization()(x)\r\n",
        "    # Pooling\r\n",
        "    x = MaxPooling2D(pool_size=(1,4), padding='same')(x)\r\n",
        "    # Dropout\r\n",
        "    x = Dropout(0.25)(x)\r\n",
        "    \r\n",
        "    # DWS-CNN layer 3\r\n",
        "    #x = ZeroPadding2D(padding=(2))(x)\r\n",
        "    # use valid padding since padding is introduced before due to its special form\r\n",
        "    x = Conv2D(256,kernel_size=(5,5), strides=(1,1), padding='same')(x)\r\n",
        "    x = Activation('relu')(x)\r\n",
        "    # Batch Normalisation before passing it to the next layer\r\n",
        "    x = BatchNormalization()(x)\r\n",
        "    # Pooling\r\n",
        "    x = MaxPooling2D(pool_size=(1,2), padding='same')(x)\r\n",
        "    # Dropout\r\n",
        "    x = Dropout(0.25)(x)\r\n",
        "    \r\n",
        "    #x = Reshape((1024, 256))(x)\r\n",
        "    #x = Reshape((1024, 256, 1))(x)\r\n",
        "    x = Permute((1,3,2))(x)\r\n",
        "    #x = Permute((3,2,1))(x)\r\n",
        "    \r\n",
        "    # DIL-CNN \r\n",
        "    x = ZeroPadding2D(padding=(dilated_padding*dilation, 0))(x)\r\n",
        "    x = Conv2D(256, kernel_size=dilated_kernel, dilation_rate=(dilation, 1))(x)\r\n",
        "    x = Activation('relu')(x)\r\n",
        "    x = BatchNormalization()(x)\r\n",
        "    initializer = keras.initializers.Ones()\r\n",
        "    x = Conv2D(256, (1,1), strides=(1,3), kernel_initializer=initializer, trainable=False)(x)\r\n",
        "    \r\n",
        "    #x = Permute((2,1,3))(x)\r\n",
        "    \r\n",
        "    x = Reshape((1024, 256*85))(x)\r\n",
        "    \r\n",
        "    # classifier layer\r\n",
        "    outputs = Dense(num_labels,activation='sigmoid')(x)\r\n",
        "    \r\n",
        "    \r\n",
        "    # model compilation for training\r\n",
        "    adam = optimizers.Adam(lr=0.0001)\r\n",
        "    model = Model(inputs, outputs)                            \r\n",
        "    model.compile(loss='binary_crossentropy', optimizer=adam, metrics=[\"binary_accuracy\"])\r\n",
        "    \r\n",
        "    return model\r\n",
        "\r\n",
        "\r\n",
        "# create the model\r\n",
        "dilated_kernel = (3,3)\r\n",
        "dilation = 10\r\n",
        "dilated_padding = 1\r\n",
        "model = Net(dilated_kernel,dilation,dilated_padding)\r\n",
        "model.summary()"
      ],
      "execution_count": null,
      "outputs": [
        {
          "output_type": "stream",
          "text": [
            "Model: \"model\"\n",
            "_________________________________________________________________\n",
            "Layer (type)                 Output Shape              Param #   \n",
            "=================================================================\n",
            "input_1 (InputLayer)         [(None, 1024, 40, 1)]     0         \n",
            "_________________________________________________________________\n",
            "conv2d (Conv2D)              (None, 1024, 40, 256)     6656      \n",
            "_________________________________________________________________\n",
            "activation (Activation)      (None, 1024, 40, 256)     0         \n",
            "_________________________________________________________________\n",
            "batch_normalization (BatchNo (None, 1024, 40, 256)     1024      \n",
            "_________________________________________________________________\n",
            "max_pooling2d (MaxPooling2D) (None, 1024, 8, 256)      0         \n",
            "_________________________________________________________________\n",
            "dropout (Dropout)            (None, 1024, 8, 256)      0         \n",
            "_________________________________________________________________\n",
            "conv2d_1 (Conv2D)            (None, 1024, 8, 256)      1638656   \n",
            "_________________________________________________________________\n",
            "activation_1 (Activation)    (None, 1024, 8, 256)      0         \n",
            "_________________________________________________________________\n",
            "batch_normalization_1 (Batch (None, 1024, 8, 256)      1024      \n",
            "_________________________________________________________________\n",
            "max_pooling2d_1 (MaxPooling2 (None, 1024, 2, 256)      0         \n",
            "_________________________________________________________________\n",
            "dropout_1 (Dropout)          (None, 1024, 2, 256)      0         \n",
            "_________________________________________________________________\n",
            "conv2d_2 (Conv2D)            (None, 1024, 2, 256)      1638656   \n",
            "_________________________________________________________________\n",
            "activation_2 (Activation)    (None, 1024, 2, 256)      0         \n",
            "_________________________________________________________________\n",
            "batch_normalization_2 (Batch (None, 1024, 2, 256)      1024      \n",
            "_________________________________________________________________\n",
            "max_pooling2d_2 (MaxPooling2 (None, 1024, 1, 256)      0         \n",
            "_________________________________________________________________\n",
            "dropout_2 (Dropout)          (None, 1024, 1, 256)      0         \n",
            "_________________________________________________________________\n",
            "permute (Permute)            (None, 1024, 256, 1)      0         \n",
            "_________________________________________________________________\n",
            "zero_padding2d (ZeroPadding2 (None, 1044, 256, 1)      0         \n",
            "_________________________________________________________________\n",
            "conv2d_3 (Conv2D)            (None, 1024, 254, 256)    2560      \n",
            "_________________________________________________________________\n",
            "activation_3 (Activation)    (None, 1024, 254, 256)    0         \n",
            "_________________________________________________________________\n",
            "batch_normalization_3 (Batch (None, 1024, 254, 256)    1024      \n",
            "_________________________________________________________________\n",
            "conv2d_4 (Conv2D)            (None, 1024, 85, 256)     65792     \n",
            "_________________________________________________________________\n",
            "reshape (Reshape)            (None, 1024, 21760)       0         \n",
            "_________________________________________________________________\n",
            "dense (Dense)                (None, 1024, 16)          348176    \n",
            "=================================================================\n",
            "Total params: 3,704,592\n",
            "Trainable params: 3,636,752\n",
            "Non-trainable params: 67,840\n",
            "_________________________________________________________________\n"
          ],
          "name": "stdout"
        }
      ]
    },
    {
      "cell_type": "markdown",
      "metadata": {
        "id": "I-DedsknrpJn"
      },
      "source": [
        "## new model"
      ]
    },
    {
      "cell_type": "code",
      "metadata": {
        "colab": {
          "base_uri": "https://localhost:8080/"
        },
        "id": "0ICNx-O8vhbQ",
        "outputId": "28d149a1-d412-400e-dc3a-1c9da59be4d6"
      },
      "source": [
        "from keras.models import Model\r\n",
        "from keras.layers import SeparableConv2D, ZeroPadding2D, Activation, Dropout, Dense, \\\r\n",
        "                            Conv2D, MaxPooling2D, Reshape, Permute\r\n",
        "from keras.layers.normalization import BatchNormalization\r\n",
        "from keras import Input, optimizers\r\n",
        "\r\n",
        "num_rows = X.shape[1]\r\n",
        "num_columns = X.shape[2]\r\n",
        "num_channels = 1\r\n",
        "\r\n",
        "x_train = x_train.reshape(x_train.shape[0], num_rows, num_columns, num_channels)\r\n",
        "x_test = x_test.reshape(x_test.shape[0], num_rows, num_columns, num_channels)\r\n",
        "\r\n",
        "num_labels = y.shape[2]\r\n",
        "#num_labels = 16\r\n",
        "\r\n",
        "def Net(dilated_kernel, dilation, dilated_padding):\r\n",
        "    \r\n",
        "    # input layer\r\n",
        "    inputs = Input(shape=(num_rows, num_columns, num_channels))\r\n",
        "    \r\n",
        "    # DWS-CNN layer 1\r\n",
        "    x = ZeroPadding2D(padding=(2))(inputs)\r\n",
        "    # use valid padding since padding is introduced before due to its special form (maybe it's equal to use same padding?)\r\n",
        "    x = SeparableConv2D(256,kernel_size=(5,5), strides=(1,1), padding='valid')(x)\r\n",
        "    x = Activation('relu')(x)\r\n",
        "    # Batch Normalisation before passing it to the next layer\r\n",
        "    x = BatchNormalization()(x)\r\n",
        "    # Pooling\r\n",
        "    x = MaxPooling2D(pool_size=(1,5), strides=(1,5), padding='valid')(x)\r\n",
        "    # Dropout\r\n",
        "    x = Dropout(0.25)(x)\r\n",
        "    \r\n",
        "    # DWS-CNN layer 2\r\n",
        "    x = ZeroPadding2D(padding=(2))(x)\r\n",
        "    # use valid padding since padding is introduced before due to its special form\r\n",
        "    x = SeparableConv2D(256,kernel_size=(5,5), strides=(1,1), padding='valid')(x)\r\n",
        "    x = Activation('relu')(x)\r\n",
        "    # Batch Normalisation before passing it to the next layer\r\n",
        "    x = BatchNormalization()(x)\r\n",
        "    # Pooling\r\n",
        "    x = MaxPooling2D(pool_size=(1,4), strides=(1,4), padding='valid')(x)\r\n",
        "    # Dropout\r\n",
        "    x = Dropout(0.25)(x)\r\n",
        "    \r\n",
        "    # DWS-CNN layer 3\r\n",
        "    x = ZeroPadding2D(padding=(2))(x)\r\n",
        "    # use valid padding since padding is introduced before due to its special form\r\n",
        "    x = SeparableConv2D(256,kernel_size=(5,5), strides=(1,1), padding='valid')(x)\r\n",
        "    x = Activation('relu')(x)\r\n",
        "    # Batch Normalisation before passing it to the next layer\r\n",
        "    x = BatchNormalization()(x)\r\n",
        "    # Pooling\r\n",
        "    x = MaxPooling2D(pool_size=(1,2), strides=(1,2), padding='valid')(x)\r\n",
        "    # Dropout\r\n",
        "    x = Dropout(0.25)(x)\r\n",
        "    \r\n",
        "    x = Permute((1,3,2))(x)\r\n",
        "    \r\n",
        "    # DIL-CNN \r\n",
        "    x = ZeroPadding2D(padding=(dilated_padding*dilation, 0))(x)\r\n",
        "    x = Conv2D(256, kernel_size=dilated_kernel, dilation_rate=(dilation, 1))(x)#, strides=(1,3))(x)\r\n",
        "    x = Activation('relu')(x)\r\n",
        "    x = BatchNormalization()(x)\r\n",
        "    #initializer = keras.initializers.Ones()\r\n",
        "    #x = Conv2D(256, (1,1), strides=(1,3), kernel_initializer=initializer, trainable=False)(x)\r\n",
        "    x = MaxPooling2D(pool_size=(1,3), strides=(1,3), padding='valid')(x)\r\n",
        "    \r\n",
        "    x = Reshape((1024, 256*84))(x)\r\n",
        "    \r\n",
        "    # classifier layer\r\n",
        "    outputs = Dense(num_labels,activation='sigmoid')(x)\r\n",
        "    \r\n",
        "    \r\n",
        "    # model compilation for training\r\n",
        "    adam = optimizers.Adam()#lr=0.0001)\r\n",
        "    model = Model(inputs, outputs)                            \r\n",
        "    model.compile(loss='binary_crossentropy', optimizer=adam, metrics=[\"binary_accuracy\"])\r\n",
        "    \r\n",
        "    return model\r\n",
        "\r\n",
        "\r\n",
        "# create the model\r\n",
        "dilated_kernel = (3,3)\r\n",
        "dilation = 10\r\n",
        "dilated_padding = 1\r\n",
        "model = Net(dilated_kernel,dilation,dilated_padding)\r\n",
        "model.summary()"
      ],
      "execution_count": null,
      "outputs": [
        {
          "output_type": "stream",
          "text": [
            "Model: \"model\"\n",
            "_________________________________________________________________\n",
            "Layer (type)                 Output Shape              Param #   \n",
            "=================================================================\n",
            "input_2 (InputLayer)         [(None, 1024, 40, 1)]     0         \n",
            "_________________________________________________________________\n",
            "zero_padding2d_4 (ZeroPaddin (None, 1028, 44, 1)       0         \n",
            "_________________________________________________________________\n",
            "separable_conv2d_3 (Separabl (None, 1024, 40, 256)     537       \n",
            "_________________________________________________________________\n",
            "activation_4 (Activation)    (None, 1024, 40, 256)     0         \n",
            "_________________________________________________________________\n",
            "batch_normalization_4 (Batch (None, 1024, 40, 256)     1024      \n",
            "_________________________________________________________________\n",
            "max_pooling2d_4 (MaxPooling2 (None, 1024, 8, 256)      0         \n",
            "_________________________________________________________________\n",
            "dropout_3 (Dropout)          (None, 1024, 8, 256)      0         \n",
            "_________________________________________________________________\n",
            "zero_padding2d_5 (ZeroPaddin (None, 1028, 12, 256)     0         \n",
            "_________________________________________________________________\n",
            "separable_conv2d_4 (Separabl (None, 1024, 8, 256)      72192     \n",
            "_________________________________________________________________\n",
            "activation_5 (Activation)    (None, 1024, 8, 256)      0         \n",
            "_________________________________________________________________\n",
            "batch_normalization_5 (Batch (None, 1024, 8, 256)      1024      \n",
            "_________________________________________________________________\n",
            "max_pooling2d_5 (MaxPooling2 (None, 1024, 2, 256)      0         \n",
            "_________________________________________________________________\n",
            "dropout_4 (Dropout)          (None, 1024, 2, 256)      0         \n",
            "_________________________________________________________________\n",
            "zero_padding2d_6 (ZeroPaddin (None, 1028, 6, 256)      0         \n",
            "_________________________________________________________________\n",
            "separable_conv2d_5 (Separabl (None, 1024, 2, 256)      72192     \n",
            "_________________________________________________________________\n",
            "activation_6 (Activation)    (None, 1024, 2, 256)      0         \n",
            "_________________________________________________________________\n",
            "batch_normalization_6 (Batch (None, 1024, 2, 256)      1024      \n",
            "_________________________________________________________________\n",
            "max_pooling2d_6 (MaxPooling2 (None, 1024, 1, 256)      0         \n",
            "_________________________________________________________________\n",
            "dropout_5 (Dropout)          (None, 1024, 1, 256)      0         \n",
            "_________________________________________________________________\n",
            "permute_1 (Permute)          (None, 1024, 256, 1)      0         \n",
            "_________________________________________________________________\n",
            "zero_padding2d_7 (ZeroPaddin (None, 1044, 256, 1)      0         \n",
            "_________________________________________________________________\n",
            "conv2d_1 (Conv2D)            (None, 1024, 254, 256)    2560      \n",
            "_________________________________________________________________\n",
            "activation_7 (Activation)    (None, 1024, 254, 256)    0         \n",
            "_________________________________________________________________\n",
            "batch_normalization_7 (Batch (None, 1024, 254, 256)    1024      \n",
            "_________________________________________________________________\n",
            "max_pooling2d_7 (MaxPooling2 (None, 1024, 84, 256)     0         \n",
            "_________________________________________________________________\n",
            "reshape_1 (Reshape)          (None, 1024, 21504)       0         \n",
            "_________________________________________________________________\n",
            "dense (Dense)                (None, 1024, 16)          344080    \n",
            "=================================================================\n",
            "Total params: 495,657\n",
            "Trainable params: 493,609\n",
            "Non-trainable params: 2,048\n",
            "_________________________________________________________________\n"
          ],
          "name": "stdout"
        }
      ]
    },
    {
      "cell_type": "markdown",
      "metadata": {
        "id": "cNzMSCbW4Cv5"
      },
      "source": [
        "## Train the model"
      ]
    },
    {
      "cell_type": "code",
      "metadata": {
        "id": "ZZbIeHH1vheD",
        "colab": {
          "base_uri": "https://localhost:8080/"
        },
        "outputId": "4bfaa0b9-6c6a-438e-9ee7-7f2f29d7ee4f"
      },
      "source": [
        "from keras.callbacks import ModelCheckpoint, EarlyStopping\r\n",
        "from datetime import datetime \r\n",
        "\r\n",
        "num_epochs = 250\r\n",
        "# low batch size due to memory maximum dimension, modify if using smaller dataset\r\n",
        "num_batch_size = 8\r\n",
        "\r\n",
        "callbacks = [ModelCheckpoint(filepath='/content/drive/MyDrive/model-{val_loss:.2f}_baseline.h5', \r\n",
        "                               verbose=1, save_best_only=True, monitor=\"val_loss\"),\r\n",
        "                EarlyStopping(monitor='val_loss', patience=30)]\r\n",
        "\r\n",
        "start = datetime.now()\r\n",
        "\r\n",
        "#y_train = y_train.reshape(y_train.shape[0], 1024, 16)\r\n",
        "#y_test = y_test.reshape(y_test.shape[0], 1024, 16)\r\n",
        "\r\n",
        "history = model.fit(x_train, y_train, batch_size=num_batch_size, epochs=num_epochs, validation_split=0.16, verbose=1, callbacks=callbacks)\r\n",
        "\r\n",
        "duration = datetime.now() - start\r\n",
        "print(\"Training completed in time: \", duration)"
      ],
      "execution_count": 14,
      "outputs": [
        {
          "output_type": "stream",
          "text": [
            "Epoch 1/250\n",
            "284/284 [==============================] - 50s 167ms/step - loss: 0.3410 - binary_accuracy: 0.8666 - val_loss: 0.6374 - val_binary_accuracy: 0.6561\n",
            "\n",
            "Epoch 00001: val_loss improved from inf to 0.63739, saving model to /content/drive/MyDrive/model-0.64_baseline.h5\n",
            "Epoch 2/250\n",
            "284/284 [==============================] - 48s 169ms/step - loss: 0.2173 - binary_accuracy: 0.9284 - val_loss: 0.2187 - val_binary_accuracy: 0.9260\n",
            "\n",
            "Epoch 00002: val_loss improved from 0.63739 to 0.21868, saving model to /content/drive/MyDrive/model-0.22_baseline.h5\n",
            "Epoch 3/250\n",
            "284/284 [==============================] - 48s 169ms/step - loss: 0.2036 - binary_accuracy: 0.9329 - val_loss: 0.1988 - val_binary_accuracy: 0.9336\n",
            "\n",
            "Epoch 00003: val_loss improved from 0.21868 to 0.19884, saving model to /content/drive/MyDrive/model-0.20_baseline.h5\n",
            "Epoch 4/250\n",
            "284/284 [==============================] - 48s 170ms/step - loss: 0.1975 - binary_accuracy: 0.9341 - val_loss: 0.1895 - val_binary_accuracy: 0.9372\n",
            "\n",
            "Epoch 00004: val_loss improved from 0.19884 to 0.18950, saving model to /content/drive/MyDrive/model-0.19_baseline.h5\n",
            "Epoch 5/250\n",
            "284/284 [==============================] - 46s 163ms/step - loss: 0.1908 - binary_accuracy: 0.9363 - val_loss: 0.1854 - val_binary_accuracy: 0.9367\n",
            "\n",
            "Epoch 00005: val_loss improved from 0.18950 to 0.18541, saving model to /content/drive/MyDrive/model-0.19_baseline.h5\n",
            "Epoch 6/250\n",
            "284/284 [==============================] - 48s 170ms/step - loss: 0.1845 - binary_accuracy: 0.9385 - val_loss: 0.1780 - val_binary_accuracy: 0.9413\n",
            "\n",
            "Epoch 00006: val_loss improved from 0.18541 to 0.17797, saving model to /content/drive/MyDrive/model-0.18_baseline.h5\n",
            "Epoch 7/250\n",
            "284/284 [==============================] - 48s 170ms/step - loss: 0.1817 - binary_accuracy: 0.9392 - val_loss: 0.1693 - val_binary_accuracy: 0.9442\n",
            "\n",
            "Epoch 00007: val_loss improved from 0.17797 to 0.16927, saving model to /content/drive/MyDrive/model-0.17_baseline.h5\n",
            "Epoch 8/250\n",
            "284/284 [==============================] - 48s 170ms/step - loss: 0.1789 - binary_accuracy: 0.9402 - val_loss: 0.1723 - val_binary_accuracy: 0.9429\n",
            "\n",
            "Epoch 00008: val_loss did not improve from 0.16927\n",
            "Epoch 9/250\n",
            "284/284 [==============================] - 48s 171ms/step - loss: 0.1765 - binary_accuracy: 0.9408 - val_loss: 0.1735 - val_binary_accuracy: 0.9419\n",
            "\n",
            "Epoch 00009: val_loss did not improve from 0.16927\n",
            "Epoch 10/250\n",
            "284/284 [==============================] - 48s 170ms/step - loss: 0.1735 - binary_accuracy: 0.9418 - val_loss: 0.1717 - val_binary_accuracy: 0.9428\n",
            "\n",
            "Epoch 00010: val_loss did not improve from 0.16927\n",
            "Epoch 11/250\n",
            "284/284 [==============================] - 48s 169ms/step - loss: 0.1728 - binary_accuracy: 0.9420 - val_loss: 0.1675 - val_binary_accuracy: 0.9444\n",
            "\n",
            "Epoch 00011: val_loss improved from 0.16927 to 0.16752, saving model to /content/drive/MyDrive/model-0.17_baseline.h5\n",
            "Epoch 12/250\n",
            "284/284 [==============================] - 48s 170ms/step - loss: 0.1706 - binary_accuracy: 0.9428 - val_loss: 0.1620 - val_binary_accuracy: 0.9470\n",
            "\n",
            "Epoch 00012: val_loss improved from 0.16752 to 0.16204, saving model to /content/drive/MyDrive/model-0.16_baseline.h5\n",
            "Epoch 13/250\n",
            "284/284 [==============================] - 48s 170ms/step - loss: 0.1666 - binary_accuracy: 0.9445 - val_loss: 0.1741 - val_binary_accuracy: 0.9398\n",
            "\n",
            "Epoch 00013: val_loss did not improve from 0.16204\n",
            "Epoch 14/250\n",
            "284/284 [==============================] - 48s 170ms/step - loss: 0.1669 - binary_accuracy: 0.9441 - val_loss: 0.1599 - val_binary_accuracy: 0.9474\n",
            "\n",
            "Epoch 00014: val_loss improved from 0.16204 to 0.15991, saving model to /content/drive/MyDrive/model-0.16_baseline.h5\n",
            "Epoch 15/250\n",
            "284/284 [==============================] - 48s 170ms/step - loss: 0.1639 - binary_accuracy: 0.9449 - val_loss: 0.1612 - val_binary_accuracy: 0.9474\n",
            "\n",
            "Epoch 00015: val_loss did not improve from 0.15991\n",
            "Epoch 16/250\n",
            "284/284 [==============================] - 48s 170ms/step - loss: 0.1638 - binary_accuracy: 0.9450 - val_loss: 0.1602 - val_binary_accuracy: 0.9477\n",
            "\n",
            "Epoch 00016: val_loss did not improve from 0.15991\n",
            "Epoch 17/250\n",
            "284/284 [==============================] - 48s 170ms/step - loss: 0.1591 - binary_accuracy: 0.9473 - val_loss: 0.1611 - val_binary_accuracy: 0.9469\n",
            "\n",
            "Epoch 00017: val_loss did not improve from 0.15991\n",
            "Epoch 18/250\n",
            "284/284 [==============================] - 48s 170ms/step - loss: 0.1582 - binary_accuracy: 0.9471 - val_loss: 0.1606 - val_binary_accuracy: 0.9475\n",
            "\n",
            "Epoch 00018: val_loss did not improve from 0.15991\n",
            "Epoch 19/250\n",
            "284/284 [==============================] - 48s 170ms/step - loss: 0.1581 - binary_accuracy: 0.9474 - val_loss: 0.1546 - val_binary_accuracy: 0.9492\n",
            "\n",
            "Epoch 00019: val_loss improved from 0.15991 to 0.15463, saving model to /content/drive/MyDrive/model-0.15_baseline.h5\n",
            "Epoch 20/250\n",
            "284/284 [==============================] - 48s 170ms/step - loss: 0.1574 - binary_accuracy: 0.9479 - val_loss: 0.1569 - val_binary_accuracy: 0.9490\n",
            "\n",
            "Epoch 00020: val_loss did not improve from 0.15463\n",
            "Epoch 21/250\n",
            "284/284 [==============================] - 48s 170ms/step - loss: 0.1552 - binary_accuracy: 0.9480 - val_loss: 0.1528 - val_binary_accuracy: 0.9510\n",
            "\n",
            "Epoch 00021: val_loss improved from 0.15463 to 0.15277, saving model to /content/drive/MyDrive/model-0.15_baseline.h5\n",
            "Epoch 22/250\n",
            "284/284 [==============================] - 48s 169ms/step - loss: 0.1539 - binary_accuracy: 0.9489 - val_loss: 0.1509 - val_binary_accuracy: 0.9514\n",
            "\n",
            "Epoch 00022: val_loss improved from 0.15277 to 0.15090, saving model to /content/drive/MyDrive/model-0.15_baseline.h5\n",
            "Epoch 23/250\n",
            "284/284 [==============================] - 48s 170ms/step - loss: 0.1515 - binary_accuracy: 0.9499 - val_loss: 0.1549 - val_binary_accuracy: 0.9504\n",
            "\n",
            "Epoch 00023: val_loss did not improve from 0.15090\n",
            "Epoch 24/250\n",
            "284/284 [==============================] - 48s 169ms/step - loss: 0.1486 - binary_accuracy: 0.9506 - val_loss: 0.1546 - val_binary_accuracy: 0.9499\n",
            "\n",
            "Epoch 00024: val_loss did not improve from 0.15090\n",
            "Epoch 25/250\n",
            "284/284 [==============================] - 48s 169ms/step - loss: 0.1502 - binary_accuracy: 0.9500 - val_loss: 0.1534 - val_binary_accuracy: 0.9507\n",
            "\n",
            "Epoch 00025: val_loss did not improve from 0.15090\n",
            "Epoch 26/250\n",
            "284/284 [==============================] - 48s 170ms/step - loss: 0.1465 - binary_accuracy: 0.9517 - val_loss: 0.1570 - val_binary_accuracy: 0.9486\n",
            "\n",
            "Epoch 00026: val_loss did not improve from 0.15090\n",
            "Epoch 27/250\n",
            "284/284 [==============================] - 48s 169ms/step - loss: 0.1454 - binary_accuracy: 0.9521 - val_loss: 0.1500 - val_binary_accuracy: 0.9515\n",
            "\n",
            "Epoch 00027: val_loss improved from 0.15090 to 0.15003, saving model to /content/drive/MyDrive/model-0.15_baseline.h5\n",
            "Epoch 28/250\n",
            "284/284 [==============================] - 48s 169ms/step - loss: 0.1434 - binary_accuracy: 0.9528 - val_loss: 0.1490 - val_binary_accuracy: 0.9524\n",
            "\n",
            "Epoch 00028: val_loss improved from 0.15003 to 0.14896, saving model to /content/drive/MyDrive/model-0.15_baseline.h5\n",
            "Epoch 29/250\n",
            "284/284 [==============================] - 48s 170ms/step - loss: 0.1449 - binary_accuracy: 0.9525 - val_loss: 0.1475 - val_binary_accuracy: 0.9527\n",
            "\n",
            "Epoch 00029: val_loss improved from 0.14896 to 0.14752, saving model to /content/drive/MyDrive/model-0.15_baseline.h5\n",
            "Epoch 30/250\n",
            "284/284 [==============================] - 48s 169ms/step - loss: 0.1413 - binary_accuracy: 0.9538 - val_loss: 0.1482 - val_binary_accuracy: 0.9528\n",
            "\n",
            "Epoch 00030: val_loss did not improve from 0.14752\n",
            "Epoch 31/250\n",
            "284/284 [==============================] - 48s 170ms/step - loss: 0.1408 - binary_accuracy: 0.9534 - val_loss: 0.1492 - val_binary_accuracy: 0.9520\n",
            "\n",
            "Epoch 00031: val_loss did not improve from 0.14752\n",
            "Epoch 32/250\n",
            "284/284 [==============================] - 48s 170ms/step - loss: 0.1427 - binary_accuracy: 0.9527 - val_loss: 0.1540 - val_binary_accuracy: 0.9504\n",
            "\n",
            "Epoch 00032: val_loss did not improve from 0.14752\n",
            "Epoch 33/250\n",
            "284/284 [==============================] - 48s 170ms/step - loss: 0.1371 - binary_accuracy: 0.9548 - val_loss: 0.1461 - val_binary_accuracy: 0.9531\n",
            "\n",
            "Epoch 00033: val_loss improved from 0.14752 to 0.14611, saving model to /content/drive/MyDrive/model-0.15_baseline.h5\n",
            "Epoch 34/250\n",
            "284/284 [==============================] - 48s 168ms/step - loss: 0.1406 - binary_accuracy: 0.9536 - val_loss: 0.1512 - val_binary_accuracy: 0.9515\n",
            "\n",
            "Epoch 00034: val_loss did not improve from 0.14611\n",
            "Epoch 35/250\n",
            "284/284 [==============================] - 48s 170ms/step - loss: 0.1411 - binary_accuracy: 0.9532 - val_loss: 0.1463 - val_binary_accuracy: 0.9535\n",
            "\n",
            "Epoch 00035: val_loss did not improve from 0.14611\n",
            "Epoch 36/250\n",
            "284/284 [==============================] - 48s 170ms/step - loss: 0.1390 - binary_accuracy: 0.9538 - val_loss: 0.1485 - val_binary_accuracy: 0.9529\n",
            "\n",
            "Epoch 00036: val_loss did not improve from 0.14611\n",
            "Epoch 37/250\n",
            "284/284 [==============================] - 48s 170ms/step - loss: 0.1354 - binary_accuracy: 0.9558 - val_loss: 0.1438 - val_binary_accuracy: 0.9546\n",
            "\n",
            "Epoch 00037: val_loss improved from 0.14611 to 0.14378, saving model to /content/drive/MyDrive/model-0.14_baseline.h5\n",
            "Epoch 38/250\n",
            "284/284 [==============================] - 48s 169ms/step - loss: 0.1377 - binary_accuracy: 0.9544 - val_loss: 0.1463 - val_binary_accuracy: 0.9536\n",
            "\n",
            "Epoch 00038: val_loss did not improve from 0.14378\n",
            "Epoch 39/250\n",
            "284/284 [==============================] - 48s 168ms/step - loss: 0.1303 - binary_accuracy: 0.9575 - val_loss: 0.1456 - val_binary_accuracy: 0.9537\n",
            "\n",
            "Epoch 00039: val_loss did not improve from 0.14378\n",
            "Epoch 40/250\n",
            "284/284 [==============================] - 48s 170ms/step - loss: 0.1310 - binary_accuracy: 0.9570 - val_loss: 0.1460 - val_binary_accuracy: 0.9538\n",
            "\n",
            "Epoch 00040: val_loss did not improve from 0.14378\n",
            "Epoch 41/250\n",
            "284/284 [==============================] - 48s 169ms/step - loss: 0.1324 - binary_accuracy: 0.9566 - val_loss: 0.1440 - val_binary_accuracy: 0.9546\n",
            "\n",
            "Epoch 00041: val_loss did not improve from 0.14378\n",
            "Epoch 42/250\n",
            "284/284 [==============================] - 48s 169ms/step - loss: 0.1294 - binary_accuracy: 0.9581 - val_loss: 0.1445 - val_binary_accuracy: 0.9547\n",
            "\n",
            "Epoch 00042: val_loss did not improve from 0.14378\n",
            "Epoch 43/250\n",
            "284/284 [==============================] - 48s 170ms/step - loss: 0.1294 - binary_accuracy: 0.9579 - val_loss: 0.1434 - val_binary_accuracy: 0.9549\n",
            "\n",
            "Epoch 00043: val_loss improved from 0.14378 to 0.14336, saving model to /content/drive/MyDrive/model-0.14_baseline.h5\n",
            "Epoch 44/250\n",
            "284/284 [==============================] - 48s 170ms/step - loss: 0.1287 - binary_accuracy: 0.9583 - val_loss: 0.1456 - val_binary_accuracy: 0.9541\n",
            "\n",
            "Epoch 00044: val_loss did not improve from 0.14336\n",
            "Epoch 45/250\n",
            "284/284 [==============================] - 48s 170ms/step - loss: 0.1284 - binary_accuracy: 0.9584 - val_loss: 0.1499 - val_binary_accuracy: 0.9517\n",
            "\n",
            "Epoch 00045: val_loss did not improve from 0.14336\n",
            "Epoch 46/250\n",
            "284/284 [==============================] - 48s 170ms/step - loss: 0.1272 - binary_accuracy: 0.9588 - val_loss: 0.1511 - val_binary_accuracy: 0.9516\n",
            "\n",
            "Epoch 00046: val_loss did not improve from 0.14336\n",
            "Epoch 47/250\n",
            "284/284 [==============================] - 48s 169ms/step - loss: 0.1251 - binary_accuracy: 0.9595 - val_loss: 0.1459 - val_binary_accuracy: 0.9536\n",
            "\n",
            "Epoch 00047: val_loss did not improve from 0.14336\n",
            "Epoch 48/250\n",
            "284/284 [==============================] - 48s 168ms/step - loss: 0.1261 - binary_accuracy: 0.9589 - val_loss: 0.1423 - val_binary_accuracy: 0.9556\n",
            "\n",
            "Epoch 00048: val_loss improved from 0.14336 to 0.14227, saving model to /content/drive/MyDrive/model-0.14_baseline.h5\n",
            "Epoch 49/250\n",
            "284/284 [==============================] - 48s 170ms/step - loss: 0.1256 - binary_accuracy: 0.9594 - val_loss: 0.1429 - val_binary_accuracy: 0.9552\n",
            "\n",
            "Epoch 00049: val_loss did not improve from 0.14227\n",
            "Epoch 50/250\n",
            "284/284 [==============================] - 48s 169ms/step - loss: 0.1229 - binary_accuracy: 0.9603 - val_loss: 0.1451 - val_binary_accuracy: 0.9542\n",
            "\n",
            "Epoch 00050: val_loss did not improve from 0.14227\n",
            "Epoch 51/250\n",
            "284/284 [==============================] - 48s 170ms/step - loss: 0.1228 - binary_accuracy: 0.9601 - val_loss: 0.1437 - val_binary_accuracy: 0.9552\n",
            "\n",
            "Epoch 00051: val_loss did not improve from 0.14227\n",
            "Epoch 52/250\n",
            "284/284 [==============================] - 48s 169ms/step - loss: 0.1218 - binary_accuracy: 0.9603 - val_loss: 0.1459 - val_binary_accuracy: 0.9542\n",
            "\n",
            "Epoch 00052: val_loss did not improve from 0.14227\n",
            "Epoch 53/250\n",
            "284/284 [==============================] - 48s 170ms/step - loss: 0.1205 - binary_accuracy: 0.9610 - val_loss: 0.1463 - val_binary_accuracy: 0.9543\n",
            "\n",
            "Epoch 00053: val_loss did not improve from 0.14227\n",
            "Epoch 54/250\n",
            "284/284 [==============================] - 48s 169ms/step - loss: 0.1180 - binary_accuracy: 0.9619 - val_loss: 0.1462 - val_binary_accuracy: 0.9539\n",
            "\n",
            "Epoch 00054: val_loss did not improve from 0.14227\n",
            "Epoch 55/250\n",
            "284/284 [==============================] - 48s 170ms/step - loss: 0.1198 - binary_accuracy: 0.9613 - val_loss: 0.1433 - val_binary_accuracy: 0.9557\n",
            "\n",
            "Epoch 00055: val_loss did not improve from 0.14227\n",
            "Epoch 56/250\n",
            "284/284 [==============================] - 48s 170ms/step - loss: 0.1185 - binary_accuracy: 0.9616 - val_loss: 0.1465 - val_binary_accuracy: 0.9541\n",
            "\n",
            "Epoch 00056: val_loss did not improve from 0.14227\n",
            "Epoch 57/250\n",
            "284/284 [==============================] - 48s 169ms/step - loss: 0.1156 - binary_accuracy: 0.9630 - val_loss: 0.1468 - val_binary_accuracy: 0.9537\n",
            "\n",
            "Epoch 00057: val_loss did not improve from 0.14227\n",
            "Epoch 58/250\n",
            "284/284 [==============================] - 48s 170ms/step - loss: 0.1188 - binary_accuracy: 0.9616 - val_loss: 0.1465 - val_binary_accuracy: 0.9543\n",
            "\n",
            "Epoch 00058: val_loss did not improve from 0.14227\n",
            "Epoch 59/250\n",
            "284/284 [==============================] - 48s 169ms/step - loss: 0.1191 - binary_accuracy: 0.9614 - val_loss: 0.1434 - val_binary_accuracy: 0.9552\n",
            "\n",
            "Epoch 00059: val_loss did not improve from 0.14227\n",
            "Epoch 60/250\n",
            "284/284 [==============================] - 48s 169ms/step - loss: 0.1169 - binary_accuracy: 0.9622 - val_loss: 0.1447 - val_binary_accuracy: 0.9549\n",
            "\n",
            "Epoch 00060: val_loss did not improve from 0.14227\n",
            "Epoch 61/250\n",
            "284/284 [==============================] - 48s 170ms/step - loss: 0.1149 - binary_accuracy: 0.9633 - val_loss: 0.1432 - val_binary_accuracy: 0.9554\n",
            "\n",
            "Epoch 00061: val_loss did not improve from 0.14227\n",
            "Epoch 62/250\n",
            "284/284 [==============================] - 48s 169ms/step - loss: 0.1144 - binary_accuracy: 0.9632 - val_loss: 0.1493 - val_binary_accuracy: 0.9535\n",
            "\n",
            "Epoch 00062: val_loss did not improve from 0.14227\n",
            "Epoch 63/250\n",
            "284/284 [==============================] - 48s 169ms/step - loss: 0.1148 - binary_accuracy: 0.9630 - val_loss: 0.1426 - val_binary_accuracy: 0.9554\n",
            "\n",
            "Epoch 00063: val_loss did not improve from 0.14227\n",
            "Epoch 64/250\n",
            "284/284 [==============================] - 48s 170ms/step - loss: 0.1119 - binary_accuracy: 0.9642 - val_loss: 0.1471 - val_binary_accuracy: 0.9545\n",
            "\n",
            "Epoch 00064: val_loss did not improve from 0.14227\n",
            "Epoch 65/250\n",
            "284/284 [==============================] - 48s 169ms/step - loss: 0.1113 - binary_accuracy: 0.9648 - val_loss: 0.1448 - val_binary_accuracy: 0.9554\n",
            "\n",
            "Epoch 00065: val_loss did not improve from 0.14227\n",
            "Epoch 66/250\n",
            "284/284 [==============================] - 48s 169ms/step - loss: 0.1110 - binary_accuracy: 0.9643 - val_loss: 0.1449 - val_binary_accuracy: 0.9550\n",
            "\n",
            "Epoch 00066: val_loss did not improve from 0.14227\n",
            "Epoch 67/250\n",
            "284/284 [==============================] - 48s 170ms/step - loss: 0.1121 - binary_accuracy: 0.9637 - val_loss: 0.1467 - val_binary_accuracy: 0.9551\n",
            "\n",
            "Epoch 00067: val_loss did not improve from 0.14227\n",
            "Epoch 68/250\n",
            "284/284 [==============================] - 48s 170ms/step - loss: 0.1098 - binary_accuracy: 0.9646 - val_loss: 0.1471 - val_binary_accuracy: 0.9546\n",
            "\n",
            "Epoch 00068: val_loss did not improve from 0.14227\n",
            "Epoch 69/250\n",
            "284/284 [==============================] - 48s 168ms/step - loss: 0.1095 - binary_accuracy: 0.9649 - val_loss: 0.1469 - val_binary_accuracy: 0.9544\n",
            "\n",
            "Epoch 00069: val_loss did not improve from 0.14227\n",
            "Epoch 70/250\n",
            "284/284 [==============================] - 48s 170ms/step - loss: 0.1068 - binary_accuracy: 0.9657 - val_loss: 0.1435 - val_binary_accuracy: 0.9555\n",
            "\n",
            "Epoch 00070: val_loss did not improve from 0.14227\n",
            "Epoch 71/250\n",
            "284/284 [==============================] - 48s 169ms/step - loss: 0.1073 - binary_accuracy: 0.9658 - val_loss: 0.1471 - val_binary_accuracy: 0.9547\n",
            "\n",
            "Epoch 00071: val_loss did not improve from 0.14227\n",
            "Epoch 72/250\n",
            "284/284 [==============================] - 48s 170ms/step - loss: 0.1085 - binary_accuracy: 0.9650 - val_loss: 0.1468 - val_binary_accuracy: 0.9544\n",
            "\n",
            "Epoch 00072: val_loss did not improve from 0.14227\n",
            "Epoch 73/250\n",
            "284/284 [==============================] - 48s 169ms/step - loss: 0.1027 - binary_accuracy: 0.9674 - val_loss: 0.1476 - val_binary_accuracy: 0.9543\n",
            "\n",
            "Epoch 00073: val_loss did not improve from 0.14227\n",
            "Epoch 74/250\n",
            "284/284 [==============================] - 46s 163ms/step - loss: 0.1063 - binary_accuracy: 0.9663 - val_loss: 0.1482 - val_binary_accuracy: 0.9548\n",
            "\n",
            "Epoch 00074: val_loss did not improve from 0.14227\n",
            "Epoch 75/250\n",
            "284/284 [==============================] - 48s 170ms/step - loss: 0.1048 - binary_accuracy: 0.9663 - val_loss: 0.1469 - val_binary_accuracy: 0.9547\n",
            "\n",
            "Epoch 00075: val_loss did not improve from 0.14227\n",
            "Epoch 76/250\n",
            "284/284 [==============================] - 48s 170ms/step - loss: 0.1049 - binary_accuracy: 0.9667 - val_loss: 0.1502 - val_binary_accuracy: 0.9538\n",
            "\n",
            "Epoch 00076: val_loss did not improve from 0.14227\n",
            "Epoch 77/250\n",
            "284/284 [==============================] - 48s 169ms/step - loss: 0.1044 - binary_accuracy: 0.9667 - val_loss: 0.1483 - val_binary_accuracy: 0.9542\n",
            "\n",
            "Epoch 00077: val_loss did not improve from 0.14227\n",
            "Epoch 78/250\n",
            "284/284 [==============================] - 48s 169ms/step - loss: 0.1043 - binary_accuracy: 0.9668 - val_loss: 0.1471 - val_binary_accuracy: 0.9551\n",
            "\n",
            "Epoch 00078: val_loss did not improve from 0.14227\n",
            "Training completed in time:  1:02:42.090072\n"
          ],
          "name": "stdout"
        }
      ]
    },
    {
      "cell_type": "code",
      "metadata": {
        "id": "D80dzXbzmjpB"
      },
      "source": [
        "model.save('/content/drive/MyDrive/model-dessed-0.14_lastEpoch2.h5')"
      ],
      "execution_count": 18,
      "outputs": []
    },
    {
      "cell_type": "code",
      "metadata": {
        "id": "GcgsF2fZvhgj",
        "colab": {
          "base_uri": "https://localhost:8080/"
        },
        "outputId": "436d97a9-8084-4d18-be21-e899cdd64e93"
      },
      "source": [
        "# Evaluate the model on the test data using `evaluate`\r\n",
        "print(\"Evaluate on test data\")\r\n",
        "results = model.evaluate(x_test, y_test, batch_size=num_batch_size)\r\n",
        "print(\"test loss, test acc:\", results)"
      ],
      "execution_count": 15,
      "outputs": [
        {
          "output_type": "stream",
          "text": [
            "Evaluate on test data\n",
            "85/85 [==============================] - 4s 44ms/step - loss: 0.1563 - binary_accuracy: 0.9512\n",
            "test loss, test acc: [0.1562904566526413, 0.9512346386909485]\n"
          ],
          "name": "stdout"
        }
      ]
    },
    {
      "cell_type": "code",
      "metadata": {
        "colab": {
          "base_uri": "https://localhost:8080/",
          "height": 573
        },
        "id": "z2ZOVgAMvhil",
        "outputId": "9b2bd7bb-b91d-4fee-d43a-7dca719a344a"
      },
      "source": [
        "import matplotlib.pyplot as plt\r\n",
        "\r\n",
        "# summarize history for accuracy\r\n",
        "plt.plot(history.history['binary_accuracy'])\r\n",
        "plt.plot(history.history['val_binary_accuracy'])\r\n",
        "plt.title('model accuracy')\r\n",
        "plt.ylabel('accuracy')\r\n",
        "plt.xlabel('epoch')\r\n",
        "plt.legend(['train', 'test'], loc='upper left')\r\n",
        "plt.show()\r\n",
        "# summarize history for loss\r\n",
        "plt.plot(history.history['loss'])\r\n",
        "plt.plot(history.history['val_loss'])\r\n",
        "plt.title('model loss')\r\n",
        "plt.ylabel('loss')\r\n",
        "plt.xlabel('epoch')\r\n",
        "plt.legend(['train', 'test'], loc='upper left')\r\n",
        "plt.show()"
      ],
      "execution_count": 16,
      "outputs": [
        {
          "output_type": "display_data",
          "data": {
            "image/png": "[encoded data removed]",
            "text/plain": [
              "<Figure size 432x288 with 1 Axes>"
            ]
          },
          "metadata": {
            "tags": [],
            "needs_background": "light"
          }
        },
        {
          "output_type": "display_data",
          "data": {
            "image/png": "[encoded data removed]",
            "text/plain": [
              "<Figure size 432x288 with 1 Axes>"
            ]
          },
          "metadata": {
            "tags": [],
            "needs_background": "light"
          }
        }
      ]
    },
    {
      "cell_type": "code",
      "metadata": {
        "colab": {
          "base_uri": "https://localhost:8080/",
          "height": 573
        },
        "id": "16YhgLXlg8mG",
        "outputId": "1f02f0fe-420b-4342-8d6e-e21328dd2925"
      },
      "source": [
        "import matplotlib.pyplot as plt\r\n",
        "import pandas as pd\r\n",
        "\r\n",
        "historydf = pd.read_csv('/content/drive/MyDrive/history_baseline_dilated.csv')\r\n",
        "historydf.columns = [\"loss\", \"acc\", \"val_loss\", \"val_acc\"]\r\n",
        "\r\n",
        "\r\n",
        "\r\n",
        "# summarize history for accuracy\r\n",
        "plt.plot(np.array(historydf.acc.tolist()))\r\n",
        "plt.plot(np.array(historydf.val_acc.tolist()))\r\n",
        "plt.title('model accuracy')\r\n",
        "plt.ylabel('accuracy')\r\n",
        "plt.xlabel('epoch')\r\n",
        "plt.legend(['train', 'test'], loc='upper left')\r\n",
        "plt.show()\r\n",
        "# summarize history for loss\r\n",
        "plt.plot(np.array(historydf.loss.tolist()))\r\n",
        "plt.plot(np.array(historydf.val_loss.tolist()))\r\n",
        "plt.title('model loss')\r\n",
        "plt.ylabel('loss')\r\n",
        "plt.xlabel('epoch')\r\n",
        "plt.legend(['train', 'test'], loc='upper left')\r\n",
        "plt.show()"
      ],
      "execution_count": null,
      "outputs": [
        {
          "output_type": "display_data",
          "data": {
            "image/png": "[encoded data removed]",
            "text/plain": [
              "<Figure size 432x288 with 1 Axes>"
            ]
          },
          "metadata": {
            "tags": [],
            "needs_background": "light"
          }
        },
        {
          "output_type": "display_data",
          "data": {
            "image/png": "[encoded data removed]",
            "text/plain": [
              "<Figure size 432x288 with 1 Axes>"
            ]
          },
          "metadata": {
            "tags": [],
            "needs_background": "light"
          }
        }
      ]
    },
    {
      "cell_type": "code",
      "metadata": {
        "id": "vZkGJtk6pRcu"
      },
      "source": [
        "model = keras.models.load_model('/content/drive/MyDrive/model-0.14_baseline.h5')"
      ],
      "execution_count": 19,
      "outputs": []
    },
    {
      "cell_type": "code",
      "metadata": {
        "id": "2jAOtu-FvhlF",
        "colab": {
          "base_uri": "https://localhost:8080/"
        },
        "outputId": "6e8af9f7-33c4-46f2-993b-671943cfab10"
      },
      "source": [
        "TP = 0\r\n",
        "FP = 0\r\n",
        "TN = 0\r\n",
        "FN = 0\r\n",
        "\r\n",
        "y_pred = model.predict(x_test, batch_size=8, verbose=1)\r\n",
        "\r\n",
        "for i in range(y_test.shape[0]):\r\n",
        "    if i%100 == 0:\r\n",
        "        print(\"processing element \", i)\r\n",
        "    for j in range(y_test.shape[1]):\r\n",
        "        for k in range(y_test.shape[2]):\r\n",
        "            \r\n",
        "            test = y_test[i][j][k]\r\n",
        "            pred = y_pred[i][j][k]\r\n",
        "            \r\n",
        "            # binarization of predicted output\r\n",
        "            if(pred >= 0.5):\r\n",
        "                pred = 1\r\n",
        "            else:\r\n",
        "                pred = 0\r\n",
        "\r\n",
        "            if(test == 1 and pred == 1):\r\n",
        "                TP = TP + 1\r\n",
        "            elif(test == 0 and pred == 1):\r\n",
        "                FP = FP + 1\r\n",
        "            elif(test == 0 and pred == 0):\r\n",
        "                TN = TN + 1\r\n",
        "            elif(test == 1 and pred == 0):\r\n",
        "                FN = FN + 1\r\n",
        "                \r\n",
        "#print(TP+FP+TN+FN)\r\n",
        "#print(y_test.shape[1]*y_test.shape[2]*y_test.shape[0])\r\n",
        "\r\n",
        "recall = TP/(TP+FN)\r\n",
        "\r\n",
        "precision = TP/(TP+FP)\r\n",
        "\r\n",
        "f1_score = 2*recall*precision/(recall+precision)\r\n",
        "\r\n",
        "print(\"recall: \", recall)\r\n",
        "print(\"precision: \", precision)\r\n",
        "print(\"f1: \", f1_score)"
      ],
      "execution_count": 20,
      "outputs": [
        {
          "output_type": "stream",
          "text": [
            "85/85 [==============================] - 4s 43ms/step\n",
            "processing element  0\n",
            "processing element  100\n",
            "processing element  200\n",
            "processing element  300\n",
            "processing element  400\n",
            "processing element  500\n",
            "processing element  600\n",
            "recall:  0.5151746130123807\n",
            "precision:  0.7537758633613731\n",
            "f1:  0.6120430953538518\n"
          ],
          "name": "stdout"
        }
      ]
    },
    {
      "cell_type": "code",
      "metadata": {
        "id": "BvaDrIHpvhnG",
        "colab": {
          "base_uri": "https://localhost:8080/"
        },
        "outputId": "46b184ff-c819-4528-d7c5-382dfa7b114a"
      },
      "source": [
        "TP"
      ],
      "execution_count": null,
      "outputs": [
        {
          "output_type": "execute_result",
          "data": {
            "text/plain": [
              "528734"
            ]
          },
          "metadata": {
            "tags": []
          },
          "execution_count": 10
        }
      ]
    },
    {
      "cell_type": "code",
      "metadata": {
        "id": "8oTAioOcvhpF",
        "colab": {
          "base_uri": "https://localhost:8080/"
        },
        "outputId": "27965c48-a8b8-4a71-ed55-0fc97ec2991d"
      },
      "source": [
        "print(\"f1: \", f1_score)"
      ],
      "execution_count": null,
      "outputs": [
        {
          "output_type": "stream",
          "text": [
            "f1:  0.7299315162729577\n"
          ],
          "name": "stdout"
        }
      ]
    },
    {
      "cell_type": "markdown",
      "metadata": {
        "id": "F0V-hVJgdEmg"
      },
      "source": [
        "## save model"
      ]
    },
    {
      "cell_type": "code",
      "metadata": {
        "id": "5ebi1aSfc7zr"
      },
      "source": [
        "filename = '/content/drive/MyDrive/model-dessed-endtrain.h5'\r\n",
        "model.save(filename)"
      ],
      "execution_count": null,
      "outputs": []
    }
  ]
}