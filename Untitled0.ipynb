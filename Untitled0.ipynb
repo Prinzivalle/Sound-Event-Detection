{
  "nbformat": 4,
  "nbformat_minor": 0,
  "metadata": {
    "colab": {
      "name": "Untitled0.ipynb",
      "provenance": [],
      "collapsed_sections": [
        "lj6DO31nrreb",
        "3U6wFvCWEGun",
        "I-DedsknrpJn"
      ],
      "authorship_tag": "ABX9TyMdQ750xuGIqyODhOUqEBrZ"
    },
    "kernelspec": {
      "name": "python3",
      "display_name": "Python 3"
    },
    "accelerator": "GPU"
  },
  "cells": [
    {
      "cell_type": "code",
      "metadata": {
        "colab": {
          "base_uri": "https://localhost:8080/",
          "height": 357
        },
        "id": "7ovABqndutsN",
        "outputId": "277c64c6-ecb6-4ab2-cf9b-7b44ca95b74b"
      },
      "source": [
        "!pip install q keras==2.2.4\r\n"
      ],
      "execution_count": null,
      "outputs": [
        {
          "output_type": "stream",
          "text": [
            "Requirement already satisfied: q in /usr/local/lib/python3.7/dist-packages (2.6)\n",
            "Collecting keras==2.2.4\n",
            "  Using cached https://files.pythonhosted.org/packages/5e/10/aa32dad071ce52b5502266b5c659451cfd6ffcbf14e6c8c4f16c0ff5aaab/Keras-2.2.4-py2.py3-none-any.whl\n",
            "Requirement already satisfied: six>=1.9.0 in /usr/local/lib/python3.7/dist-packages (from keras==2.2.4) (1.15.0)\n",
            "Requirement already satisfied: numpy>=1.9.1 in /usr/local/lib/python3.7/dist-packages (from keras==2.2.4) (1.19.5)\n",
            "Requirement already satisfied: h5py in /usr/local/lib/python3.7/dist-packages (from keras==2.2.4) (2.10.0)\n",
            "Requirement already satisfied: pyyaml in /usr/local/lib/python3.7/dist-packages (from keras==2.2.4) (3.13)\n",
            "Requirement already satisfied: scipy>=0.14 in /usr/local/lib/python3.7/dist-packages (from keras==2.2.4) (1.4.1)\n",
            "Requirement already satisfied: keras-applications>=1.0.6 in /tensorflow-1.15.2/python3.7 (from keras==2.2.4) (1.0.8)\n",
            "Requirement already satisfied: keras-preprocessing>=1.0.5 in /usr/local/lib/python3.7/dist-packages (from keras==2.2.4) (1.1.2)\n",
            "Installing collected packages: keras\n",
            "  Found existing installation: Keras 2.3.1\n",
            "    Uninstalling Keras-2.3.1:\n",
            "      Successfully uninstalled Keras-2.3.1\n",
            "Successfully installed keras-2.2.4\n"
          ],
          "name": "stdout"
        },
        {
          "output_type": "display_data",
          "data": {
            "application/vnd.colab-display-data+json": {
              "pip_warning": {
                "packages": [
                  "keras"
                ]
              }
            }
          },
          "metadata": {
            "tags": []
          }
        }
      ]
    },
    {
      "cell_type": "code",
      "metadata": {
        "colab": {
          "base_uri": "https://localhost:8080/"
        },
        "id": "5ON7kzGQvlnN",
        "outputId": "a92aa0ff-8d35-4364-b220-e3ed1ed1d2a9"
      },
      "source": [
        "%tensorflow_version 1.15.5"
      ],
      "execution_count": null,
      "outputs": [
        {
          "output_type": "stream",
          "text": [
            "`%tensorflow_version` only switches the major version: 1.x or 2.x.\n",
            "You set: `1.15.5`. This will be interpreted as: `1.x`.\n",
            "\n",
            "\n",
            "TensorFlow 1.x selected.\n"
          ],
          "name": "stdout"
        }
      ]
    },
    {
      "cell_type": "code",
      "metadata": {
        "colab": {
          "base_uri": "https://localhost:8080/"
        },
        "id": "sVAsV4OXvcQE",
        "outputId": "7247bf9b-784b-4424-f32b-ea53378c5c49"
      },
      "source": [
        "import numpy as np\r\n",
        "import tensorflow as tf\r\n",
        "import keras\r\n",
        "from keras.preprocessing.image import ImageDataGenerator\r\n",
        "\r\n",
        "print(\"Tensorflow version %s\" %tf.__version__)\r\n",
        "print(\"Keras version %s\" %keras.__version__)\r\n",
        "\r\n",
        "device_name = tf.test.gpu_device_name()\r\n",
        "if device_name != '/device:GPU:0':\r\n",
        "  raise SystemError('GPU device not found')\r\n",
        "print('Found GPU at: {}'.format(device_name))"
      ],
      "execution_count": 1,
      "outputs": [
        {
          "output_type": "stream",
          "text": [
            "Tensorflow version 2.4.1\n",
            "Keras version 2.4.3\n",
            "Found GPU at: /device:GPU:0\n"
          ],
          "name": "stdout"
        }
      ]
    },
    {
      "cell_type": "code",
      "metadata": {
        "colab": {
          "base_uri": "https://localhost:8080/"
        },
        "id": "LHkHclRnvhQI",
        "outputId": "ef1d5263-ae8e-4a81-cfdc-e7c0d33ced89"
      },
      "source": [
        "import os\r\n",
        "from google.colab import drive\r\n",
        "drive.mount('/content/drive')\r\n",
        "\r\n",
        "!pip3 install pickle5\r\n",
        "import pickle5 as pickle\r\n",
        "import pandas as pd\r\n",
        "with open('/content/drive/MyDrive/processed_data_frame_new.pkl', \"rb\") as fh:\r\n",
        "  data = pickle.load(fh)\r\n",
        "dataframe = pd.DataFrame(data)\r\n",
        "#read_pickle('/content/drive/MyDrive/processed_data_frame.pkl')"
      ],
      "execution_count": 2,
      "outputs": [
        {
          "output_type": "stream",
          "text": [
            "Mounted at /content/drive\n",
            "Collecting pickle5\n",
            "\u001b[?25l  Downloading https://files.pythonhosted.org/packages/f7/4c/5c4dd0462c8d3a6bc4af500a6af240763c2ebd1efdc736fc2c946d44b70a/pickle5-0.0.11.tar.gz (132kB)\n",
            "\u001b[K     |████████████████████████████████| 133kB 16.7MB/s \n",
            "\u001b[?25hBuilding wheels for collected packages: pickle5\n",
            "  Building wheel for pickle5 (setup.py) ... \u001b[?25l\u001b[?25hdone\n",
            "  Created wheel for pickle5: filename=pickle5-0.0.11-cp37-cp37m-linux_x86_64.whl size=219264 sha256=095491623b191365a029e2dda59f9b51224e0718f6f2e87d059dd7335ec527e8\n",
            "  Stored in directory: /root/.cache/pip/wheels/a6/90/95/f889ca4aa8b0e0c7f21c8470b6f5d6032f0390a3a141a9a3bd\n",
            "Successfully built pickle5\n",
            "Installing collected packages: pickle5\n",
            "Successfully installed pickle5-0.0.11\n"
          ],
          "name": "stdout"
        }
      ]
    },
    {
      "cell_type": "code",
      "metadata": {
        "id": "3e4ut1Y6zdXs"
      },
      "source": [
        "dataframe"
      ],
      "execution_count": null,
      "outputs": []
    },
    {
      "cell_type": "code",
      "metadata": {
        "id": "IHv0-kJ1vhYv"
      },
      "source": [
        "#from sklearn.preprocessing import LabelEncoder\r\n",
        "#from keras.utils import to_categorical\r\n",
        "\r\n",
        "# Convert features and corresponding classification labels into numpy arrays\r\n",
        "X = np.array(dataframe.feature.tolist())\r\n",
        "y = np.array(dataframe.class_label.tolist())\r\n",
        "\r\n",
        "# no need to encode labels since they are already in form of one hot encode\r\n",
        "\r\n",
        "# delete dataframe to save memory\r\n",
        "#reset_selective -f dataframe\r\n",
        "\r\n",
        "# split the dataset \r\n",
        "from sklearn.model_selection import train_test_split \r\n",
        "\r\n",
        "x_train, x_test, y_train, y_test = train_test_split(X, y, test_size=0.2, random_state = 42)\r\n",
        "\r\n",
        "# delete X to save memory\r\n",
        "#reset_selective -f X"
      ],
      "execution_count": 3,
      "outputs": []
    },
    {
      "cell_type": "markdown",
      "metadata": {
        "id": "lj6DO31nrreb"
      },
      "source": [
        "## baseline model"
      ]
    },
    {
      "cell_type": "code",
      "metadata": {
        "colab": {
          "base_uri": "https://localhost:8080/"
        },
        "id": "u65NKa2RroZV",
        "outputId": "39fcb4a8-c43a-45b2-bcd3-00c0a68ab773"
      },
      "source": [
        "from keras.models import Model\r\n",
        "from keras.layers import SeparableConv2D, ZeroPadding2D, Activation, Dropout, Dense, \\\r\n",
        "                            Conv2D, MaxPooling2D, Reshape, GRU\r\n",
        "from keras.layers.normalization import BatchNormalization\r\n",
        "from keras import Input, optimizers\r\n",
        "\r\n",
        "num_rows = X.shape[1]\r\n",
        "num_columns = X.shape[2]\r\n",
        "num_channels = 1\r\n",
        "\r\n",
        "x_train = x_train.reshape(x_train.shape[0], num_rows, num_columns, num_channels)\r\n",
        "x_test = x_test.reshape(x_test.shape[0], num_rows, num_columns, num_channels)\r\n",
        "\r\n",
        "num_labels = y.shape[2]\r\n",
        "#num_labels = 16\r\n",
        "\r\n",
        "def Net(dilated_kernel, dilation, dilated_padding):\r\n",
        "    \r\n",
        "    # input layer\r\n",
        "    inputs = Input(shape=(num_rows, num_columns, num_channels))\r\n",
        "    \r\n",
        "    # DWS-CNN layer 1\r\n",
        "    x = ZeroPadding2D(padding=(2))(inputs)\r\n",
        "    # use valid padding since padding is introduced before due to its special form (maybe it's equal to use same padding?)\r\n",
        "    x = Conv2D(256,kernel_size=(5,5), strides=(1,1), padding='valid')(x)\r\n",
        "    x = Activation('relu')(x)\r\n",
        "    # Batch Normalisation before passing it to the next layer\r\n",
        "    x = BatchNormalization()(x)\r\n",
        "    # Pooling\r\n",
        "    x = MaxPooling2D(pool_size=(1,5), strides=(1,5), padding='valid')(x)\r\n",
        "    # Dropout\r\n",
        "    x = Dropout(0.25)(x)\r\n",
        "    \r\n",
        "    # DWS-CNN layer 2\r\n",
        "    x = ZeroPadding2D(padding=(2))(x)\r\n",
        "    # use valid padding since padding is introduced before due to its special form\r\n",
        "    x = Conv2D(256,kernel_size=(5,5), strides=(1,1), padding='valid')(x)\r\n",
        "    x = Activation('relu')(x)\r\n",
        "    # Batch Normalisation before passing it to the next layer\r\n",
        "    x = BatchNormalization()(x)\r\n",
        "    # Pooling\r\n",
        "    x = MaxPooling2D(pool_size=(1,4), strides=(1,4), padding='valid')(x)\r\n",
        "    # Dropout\r\n",
        "    x = Dropout(0.25)(x)\r\n",
        "    \r\n",
        "    # DWS-CNN layer 3\r\n",
        "    x = ZeroPadding2D(padding=(2))(x)\r\n",
        "    # use valid padding since padding is introduced before due to its special form\r\n",
        "    x = Conv2D(256,kernel_size=(5,5), strides=(1,1), padding='valid')(x)\r\n",
        "    x = Activation('relu')(x)\r\n",
        "    # Batch Normalisation before passing it to the next layer\r\n",
        "    x = BatchNormalization()(x)\r\n",
        "    # Pooling\r\n",
        "    x = MaxPooling2D(pool_size=(1,2), strides=(1,2), padding='valid')(x)\r\n",
        "    # Dropout\r\n",
        "    x = Dropout(0.25)(x)\r\n",
        "    \r\n",
        "    x = Reshape((1024, 256))(x)\r\n",
        "    \r\n",
        "    # GRU\r\n",
        "    #x = ZeroPadding2D(padding=(dilated_padding*dilation, 1))(x)\r\n",
        "    #x = Conv2D(256, kernel_size=dilated_kernel, dilation_rate=(dilation, 1))(x)\r\n",
        "    #x = BatchNormalization()(x)\r\n",
        "    #x = Activation('relu')(x)\r\n",
        "    x = GRU(256, return_sequences=True)(x)\r\n",
        "        \r\n",
        "    # classifier layer\r\n",
        "    outputs = Dense(num_labels,activation='sigmoid')(x)\r\n",
        "    \r\n",
        "    \r\n",
        "    # model compilation for training\r\n",
        "    adam = optimizers.Adam(lr=0.0001)\r\n",
        "    model = Model(inputs, outputs)                            \r\n",
        "    model.compile(loss='binary_crossentropy', optimizer=adam, metrics=[\"binary_accuracy\"])\r\n",
        "    \r\n",
        "    return model\r\n",
        "\r\n",
        "\r\n",
        "# create the model\r\n",
        "dilated_kernel = (3,3)\r\n",
        "dilation = 10\r\n",
        "dilated_padding = 1\r\n",
        "model = Net(dilated_kernel,dilation,dilated_padding)\r\n",
        "model.summary()"
      ],
      "execution_count": null,
      "outputs": [
        {
          "output_type": "stream",
          "text": [
            "Model: \"model\"\n",
            "_________________________________________________________________\n",
            "Layer (type)                 Output Shape              Param #   \n",
            "=================================================================\n",
            "input_1 (InputLayer)         [(None, 1024, 40, 1)]     0         \n",
            "_________________________________________________________________\n",
            "zero_padding2d (ZeroPadding2 (None, 1028, 44, 1)       0         \n",
            "_________________________________________________________________\n",
            "conv2d (Conv2D)              (None, 1024, 40, 256)     6656      \n",
            "_________________________________________________________________\n",
            "activation (Activation)      (None, 1024, 40, 256)     0         \n",
            "_________________________________________________________________\n",
            "batch_normalization (BatchNo (None, 1024, 40, 256)     1024      \n",
            "_________________________________________________________________\n",
            "max_pooling2d (MaxPooling2D) (None, 1024, 8, 256)      0         \n",
            "_________________________________________________________________\n",
            "dropout (Dropout)            (None, 1024, 8, 256)      0         \n",
            "_________________________________________________________________\n",
            "zero_padding2d_1 (ZeroPaddin (None, 1028, 12, 256)     0         \n",
            "_________________________________________________________________\n",
            "conv2d_1 (Conv2D)            (None, 1024, 8, 256)      1638656   \n",
            "_________________________________________________________________\n",
            "activation_1 (Activation)    (None, 1024, 8, 256)      0         \n",
            "_________________________________________________________________\n",
            "batch_normalization_1 (Batch (None, 1024, 8, 256)      1024      \n",
            "_________________________________________________________________\n",
            "max_pooling2d_1 (MaxPooling2 (None, 1024, 2, 256)      0         \n",
            "_________________________________________________________________\n",
            "dropout_1 (Dropout)          (None, 1024, 2, 256)      0         \n",
            "_________________________________________________________________\n",
            "zero_padding2d_2 (ZeroPaddin (None, 1028, 6, 256)      0         \n",
            "_________________________________________________________________\n",
            "conv2d_2 (Conv2D)            (None, 1024, 2, 256)      1638656   \n",
            "_________________________________________________________________\n",
            "activation_2 (Activation)    (None, 1024, 2, 256)      0         \n",
            "_________________________________________________________________\n",
            "batch_normalization_2 (Batch (None, 1024, 2, 256)      1024      \n",
            "_________________________________________________________________\n",
            "max_pooling2d_2 (MaxPooling2 (None, 1024, 1, 256)      0         \n",
            "_________________________________________________________________\n",
            "dropout_2 (Dropout)          (None, 1024, 1, 256)      0         \n",
            "_________________________________________________________________\n",
            "reshape (Reshape)            (None, 1024, 256)         0         \n",
            "_________________________________________________________________\n",
            "gru (GRU)                    (None, 1024, 256)         394752    \n",
            "_________________________________________________________________\n",
            "dense (Dense)                (None, 1024, 16)          4112      \n",
            "=================================================================\n",
            "Total params: 3,685,904\n",
            "Trainable params: 3,684,368\n",
            "Non-trainable params: 1,536\n",
            "_________________________________________________________________\n"
          ],
          "name": "stdout"
        }
      ]
    },
    {
      "cell_type": "markdown",
      "metadata": {
        "id": "3U6wFvCWEGun"
      },
      "source": [
        "## Dessed model"
      ]
    },
    {
      "cell_type": "code",
      "metadata": {
        "colab": {
          "base_uri": "https://localhost:8080/"
        },
        "id": "Un_24V80EGal",
        "outputId": "fb03362e-fb59-47c1-ccb1-2f78b3bf9b44"
      },
      "source": [
        "from keras.models import Model\r\n",
        "from keras.layers import SeparableConv2D, ZeroPadding2D, Activation, Dropout, Dense, \\\r\n",
        "                            Conv2D, MaxPooling2D, Reshape, GRU\r\n",
        "from keras.layers.normalization import BatchNormalization\r\n",
        "from keras import Input, optimizers\r\n",
        "\r\n",
        "num_rows = X.shape[1]\r\n",
        "num_columns = X.shape[2]\r\n",
        "num_channels = 1\r\n",
        "\r\n",
        "x_train = x_train.reshape(x_train.shape[0], num_rows, num_columns, num_channels)\r\n",
        "x_test = x_test.reshape(x_test.shape[0], num_rows, num_columns, num_channels)\r\n",
        "\r\n",
        "num_labels = y.shape[2]\r\n",
        "#num_labels = 16\r\n",
        "\r\n",
        "def Net():\r\n",
        "    \r\n",
        "    # input layer\r\n",
        "    inputs = Input(shape=(num_rows, num_columns, num_channels))\r\n",
        "    \r\n",
        "    # DWS-CNN layer 1\r\n",
        "    x = ZeroPadding2D(padding=(2))(inputs)\r\n",
        "    # use valid padding since padding is introduced before due to its special form (maybe it's equal to use same padding?)\r\n",
        "    x = SeparableConv2D(256,kernel_size=(5,5), strides=(1,1), padding='valid')(x)\r\n",
        "    x = Activation('relu')(x)\r\n",
        "    # Batch Normalisation before passing it to the next layer\r\n",
        "    x = BatchNormalization()(x)\r\n",
        "    # Pooling\r\n",
        "    x = MaxPooling2D(pool_size=(1,5), strides=(1,5), padding='valid')(x)\r\n",
        "    # Dropout\r\n",
        "    x = Dropout(0.25)(x)\r\n",
        "    \r\n",
        "    # DWS-CNN layer 2\r\n",
        "    x = ZeroPadding2D(padding=(2))(x)\r\n",
        "    # use valid padding since padding is introduced before due to its special form\r\n",
        "    x = SeparableConv2D(256,kernel_size=(5,5), strides=(1,1), padding='valid')(x)\r\n",
        "    x = Activation('relu')(x)\r\n",
        "    # Batch Normalisation before passing it to the next layer\r\n",
        "    x = BatchNormalization()(x)\r\n",
        "    # Pooling\r\n",
        "    x = MaxPooling2D(pool_size=(1,4), strides=(1,4), padding='valid')(x)\r\n",
        "    # Dropout\r\n",
        "    x = Dropout(0.25)(x)\r\n",
        "    \r\n",
        "    # DWS-CNN layer 3\r\n",
        "    x = ZeroPadding2D(padding=(2))(x)\r\n",
        "    # use valid padding since padding is introduced before due to its special form\r\n",
        "    x = SeparableConv2D(256,kernel_size=(5,5), strides=(1,1), padding='valid')(x)\r\n",
        "    x = Activation('relu')(x)\r\n",
        "    # Batch Normalisation before passing it to the next layer\r\n",
        "    x = BatchNormalization()(x)\r\n",
        "    # Pooling\r\n",
        "    x = MaxPooling2D(pool_size=(1,2), strides=(1,2), padding='valid')(x)\r\n",
        "    # Dropout\r\n",
        "    x = Dropout(0.25)(x)\r\n",
        "    \r\n",
        "    x = Reshape((1024, 256))(x)\r\n",
        "    \r\n",
        "    # GRU\r\n",
        "    x = GRU(256, return_sequences=True)(x)\r\n",
        "        \r\n",
        "    # classifier layer\r\n",
        "    outputs = Dense(num_labels,activation='sigmoid')(x)\r\n",
        "    \r\n",
        "    \r\n",
        "    # model compilation for training\r\n",
        "    adam = optimizers.Adam(lr=0.0001)\r\n",
        "    model = Model(inputs, outputs)                            \r\n",
        "    model.compile(loss='binary_crossentropy', optimizer=adam, metrics=[\"binary_accuracy\"])\r\n",
        "    \r\n",
        "    return model\r\n",
        "\r\n",
        "\r\n",
        "# create the model\r\n",
        "dilated_kernel = (3,3)\r\n",
        "dilation = 10\r\n",
        "dilated_padding = 1\r\n",
        "model = Net()\r\n",
        "model.summary()"
      ],
      "execution_count": null,
      "outputs": [
        {
          "output_type": "stream",
          "text": [
            "Model: \"model\"\n",
            "_________________________________________________________________\n",
            "Layer (type)                 Output Shape              Param #   \n",
            "=================================================================\n",
            "input_1 (InputLayer)         [(None, 1024, 40, 1)]     0         \n",
            "_________________________________________________________________\n",
            "zero_padding2d (ZeroPadding2 (None, 1028, 44, 1)       0         \n",
            "_________________________________________________________________\n",
            "separable_conv2d (SeparableC (None, 1024, 40, 256)     537       \n",
            "_________________________________________________________________\n",
            "activation (Activation)      (None, 1024, 40, 256)     0         \n",
            "_________________________________________________________________\n",
            "batch_normalization (BatchNo (None, 1024, 40, 256)     1024      \n",
            "_________________________________________________________________\n",
            "max_pooling2d (MaxPooling2D) (None, 1024, 8, 256)      0         \n",
            "_________________________________________________________________\n",
            "dropout (Dropout)            (None, 1024, 8, 256)      0         \n",
            "_________________________________________________________________\n",
            "zero_padding2d_1 (ZeroPaddin (None, 1028, 12, 256)     0         \n",
            "_________________________________________________________________\n",
            "separable_conv2d_1 (Separabl (None, 1024, 8, 256)      72192     \n",
            "_________________________________________________________________\n",
            "activation_1 (Activation)    (None, 1024, 8, 256)      0         \n",
            "_________________________________________________________________\n",
            "batch_normalization_1 (Batch (None, 1024, 8, 256)      1024      \n",
            "_________________________________________________________________\n",
            "max_pooling2d_1 (MaxPooling2 (None, 1024, 2, 256)      0         \n",
            "_________________________________________________________________\n",
            "dropout_1 (Dropout)          (None, 1024, 2, 256)      0         \n",
            "_________________________________________________________________\n",
            "zero_padding2d_2 (ZeroPaddin (None, 1028, 6, 256)      0         \n",
            "_________________________________________________________________\n",
            "separable_conv2d_2 (Separabl (None, 1024, 2, 256)      72192     \n",
            "_________________________________________________________________\n",
            "activation_2 (Activation)    (None, 1024, 2, 256)      0         \n",
            "_________________________________________________________________\n",
            "batch_normalization_2 (Batch (None, 1024, 2, 256)      1024      \n",
            "_________________________________________________________________\n",
            "max_pooling2d_2 (MaxPooling2 (None, 1024, 1, 256)      0         \n",
            "_________________________________________________________________\n",
            "dropout_2 (Dropout)          (None, 1024, 1, 256)      0         \n",
            "_________________________________________________________________\n",
            "reshape (Reshape)            (None, 1024, 256)         0         \n",
            "_________________________________________________________________\n",
            "gru (GRU)                    (None, 1024, 256)         394752    \n",
            "_________________________________________________________________\n",
            "dense (Dense)                (None, 1024, 16)          4112      \n",
            "=================================================================\n",
            "Total params: 546,857\n",
            "Trainable params: 545,321\n",
            "Non-trainable params: 1,536\n",
            "_________________________________________________________________\n"
          ],
          "name": "stdout"
        }
      ]
    },
    {
      "cell_type": "markdown",
      "metadata": {
        "id": "Vr-7W-6GvaYp"
      },
      "source": [
        "## Baseline dilated"
      ]
    },
    {
      "cell_type": "code",
      "metadata": {
        "colab": {
          "base_uri": "https://localhost:8080/"
        },
        "id": "sau4io1ZvaCi",
        "outputId": "16f7b9e7-0ce0-4e0e-ec01-d6d12a43e471"
      },
      "source": [
        "from keras.models import Model\r\n",
        "from keras.layers import SeparableConv2D, ZeroPadding2D, Activation, Dropout, Dense, \\\r\n",
        "                            Conv2D, MaxPooling2D, Reshape, Permute\r\n",
        "from keras.layers.normalization import BatchNormalization\r\n",
        "from keras import Input, optimizers\r\n",
        "\r\n",
        "num_rows = X.shape[1]\r\n",
        "num_columns = X.shape[2]\r\n",
        "num_channels = 1\r\n",
        "\r\n",
        "x_train = x_train.reshape(x_train.shape[0], num_rows, num_columns, num_channels)\r\n",
        "x_test = x_test.reshape(x_test.shape[0], num_rows, num_columns, num_channels)\r\n",
        "\r\n",
        "num_labels = y.shape[2]\r\n",
        "#num_labels = 16\r\n",
        "\r\n",
        "def Net(dilated_kernel, dilation, dilated_padding):\r\n",
        "    \r\n",
        "    # input layer\r\n",
        "    inputs = Input(shape=(num_rows, num_columns, num_channels))\r\n",
        "    \r\n",
        "    # DWS-CNN layer 1\r\n",
        "    #x = ZeroPadding2D(padding=(2))(inputs)\r\n",
        "    # use valid padding since padding is introduced before due to its special form (maybe it's equal to use same padding?)\r\n",
        "    x = Conv2D(256,kernel_size=(5,5), strides=(1,1), padding='same')(inputs)\r\n",
        "    x = Activation('relu')(x)\r\n",
        "    # Batch Normalisation before passing it to the next layer\r\n",
        "    x = BatchNormalization()(x)\r\n",
        "    # Pooling\r\n",
        "    x = MaxPooling2D(pool_size=(1,5), padding='same')(x)\r\n",
        "    # Dropout\r\n",
        "    x = Dropout(0.25)(x)\r\n",
        "    \r\n",
        "    # DWS-CNN layer 2\r\n",
        "    #x = ZeroPadding2D(padding=(2))(x)\r\n",
        "    # use valid padding since padding is introduced before due to its special form\r\n",
        "    x = Conv2D(256,kernel_size=(5,5), strides=(1,1), padding='same')(x)\r\n",
        "    x = Activation('relu')(x)\r\n",
        "    # Batch Normalisation before passing it to the next layer\r\n",
        "    x = BatchNormalization()(x)\r\n",
        "    # Pooling\r\n",
        "    x = MaxPooling2D(pool_size=(1,4), padding='same')(x)\r\n",
        "    # Dropout\r\n",
        "    x = Dropout(0.25)(x)\r\n",
        "    \r\n",
        "    # DWS-CNN layer 3\r\n",
        "    #x = ZeroPadding2D(padding=(2))(x)\r\n",
        "    # use valid padding since padding is introduced before due to its special form\r\n",
        "    x = Conv2D(256,kernel_size=(5,5), strides=(1,1), padding='same')(x)\r\n",
        "    x = Activation('relu')(x)\r\n",
        "    # Batch Normalisation before passing it to the next layer\r\n",
        "    x = BatchNormalization()(x)\r\n",
        "    # Pooling\r\n",
        "    x = MaxPooling2D(pool_size=(1,2), padding='same')(x)\r\n",
        "    # Dropout\r\n",
        "    x = Dropout(0.25)(x)\r\n",
        "    \r\n",
        "    #x = Reshape((1024, 256))(x)\r\n",
        "    #x = Reshape((1024, 256, 1))(x)\r\n",
        "    x = Permute((1,3,2))(x)\r\n",
        "    #x = Permute((3,2,1))(x)\r\n",
        "    \r\n",
        "    # DIL-CNN \r\n",
        "    x = ZeroPadding2D(padding=(dilated_padding*dilation, 0))(x)\r\n",
        "    x = Conv2D(256, kernel_size=dilated_kernel, dilation_rate=(dilation, 1))(x)\r\n",
        "    x = Activation('relu')(x)\r\n",
        "    x = BatchNormalization()(x)\r\n",
        "    initializer = keras.initializers.Ones()\r\n",
        "    x = Conv2D(256, (1,1), strides=(1,3), kernel_initializer=initializer, trainable=False)(x)\r\n",
        "    \r\n",
        "    #x = Permute((2,1,3))(x)\r\n",
        "    \r\n",
        "    x = Reshape((1024, 256*85))(x)\r\n",
        "    \r\n",
        "    # classifier layer\r\n",
        "    outputs = Dense(num_labels,activation='sigmoid')(x)\r\n",
        "    \r\n",
        "    \r\n",
        "    # model compilation for training\r\n",
        "    adam = optimizers.Adam(lr=0.0001)\r\n",
        "    model = Model(inputs, outputs)                            \r\n",
        "    model.compile(loss='binary_crossentropy', optimizer=adam, metrics=[\"binary_accuracy\"])\r\n",
        "    \r\n",
        "    return model\r\n",
        "\r\n",
        "\r\n",
        "# create the model\r\n",
        "dilated_kernel = (3,3)\r\n",
        "dilation = 10\r\n",
        "dilated_padding = 1\r\n",
        "model = Net(dilated_kernel,dilation,dilated_padding)\r\n",
        "model.summary()"
      ],
      "execution_count": null,
      "outputs": [
        {
          "output_type": "stream",
          "text": [
            "Model: \"model\"\n",
            "_________________________________________________________________\n",
            "Layer (type)                 Output Shape              Param #   \n",
            "=================================================================\n",
            "input_1 (InputLayer)         [(None, 1024, 40, 1)]     0         \n",
            "_________________________________________________________________\n",
            "conv2d (Conv2D)              (None, 1024, 40, 256)     6656      \n",
            "_________________________________________________________________\n",
            "activation (Activation)      (None, 1024, 40, 256)     0         \n",
            "_________________________________________________________________\n",
            "batch_normalization (BatchNo (None, 1024, 40, 256)     1024      \n",
            "_________________________________________________________________\n",
            "max_pooling2d (MaxPooling2D) (None, 1024, 8, 256)      0         \n",
            "_________________________________________________________________\n",
            "dropout (Dropout)            (None, 1024, 8, 256)      0         \n",
            "_________________________________________________________________\n",
            "conv2d_1 (Conv2D)            (None, 1024, 8, 256)      1638656   \n",
            "_________________________________________________________________\n",
            "activation_1 (Activation)    (None, 1024, 8, 256)      0         \n",
            "_________________________________________________________________\n",
            "batch_normalization_1 (Batch (None, 1024, 8, 256)      1024      \n",
            "_________________________________________________________________\n",
            "max_pooling2d_1 (MaxPooling2 (None, 1024, 2, 256)      0         \n",
            "_________________________________________________________________\n",
            "dropout_1 (Dropout)          (None, 1024, 2, 256)      0         \n",
            "_________________________________________________________________\n",
            "conv2d_2 (Conv2D)            (None, 1024, 2, 256)      1638656   \n",
            "_________________________________________________________________\n",
            "activation_2 (Activation)    (None, 1024, 2, 256)      0         \n",
            "_________________________________________________________________\n",
            "batch_normalization_2 (Batch (None, 1024, 2, 256)      1024      \n",
            "_________________________________________________________________\n",
            "max_pooling2d_2 (MaxPooling2 (None, 1024, 1, 256)      0         \n",
            "_________________________________________________________________\n",
            "dropout_2 (Dropout)          (None, 1024, 1, 256)      0         \n",
            "_________________________________________________________________\n",
            "permute (Permute)            (None, 1024, 256, 1)      0         \n",
            "_________________________________________________________________\n",
            "zero_padding2d (ZeroPadding2 (None, 1044, 256, 1)      0         \n",
            "_________________________________________________________________\n",
            "conv2d_3 (Conv2D)            (None, 1024, 254, 256)    2560      \n",
            "_________________________________________________________________\n",
            "activation_3 (Activation)    (None, 1024, 254, 256)    0         \n",
            "_________________________________________________________________\n",
            "batch_normalization_3 (Batch (None, 1024, 254, 256)    1024      \n",
            "_________________________________________________________________\n",
            "conv2d_4 (Conv2D)            (None, 1024, 85, 256)     65792     \n",
            "_________________________________________________________________\n",
            "reshape (Reshape)            (None, 1024, 21760)       0         \n",
            "_________________________________________________________________\n",
            "dense (Dense)                (None, 1024, 16)          348176    \n",
            "=================================================================\n",
            "Total params: 3,704,592\n",
            "Trainable params: 3,636,752\n",
            "Non-trainable params: 67,840\n",
            "_________________________________________________________________\n"
          ],
          "name": "stdout"
        }
      ]
    },
    {
      "cell_type": "markdown",
      "metadata": {
        "id": "I-DedsknrpJn"
      },
      "source": [
        "## new model"
      ]
    },
    {
      "cell_type": "code",
      "metadata": {
        "colab": {
          "base_uri": "https://localhost:8080/"
        },
        "id": "0ICNx-O8vhbQ",
        "outputId": "ded6b39a-88e0-4a27-86a0-a42e8ef83c48"
      },
      "source": [
        "from keras.models import Model\r\n",
        "from keras.layers import SeparableConv2D, ZeroPadding2D, Activation, Dropout, Dense, \\\r\n",
        "                            Conv2D, MaxPooling2D, Reshape, Permute\r\n",
        "from keras.layers.normalization import BatchNormalization\r\n",
        "from keras import Input, optimizers\r\n",
        "\r\n",
        "num_rows = X.shape[1]\r\n",
        "num_columns = X.shape[2]\r\n",
        "num_channels = 1\r\n",
        "\r\n",
        "x_train = x_train.reshape(x_train.shape[0], num_rows, num_columns, num_channels)\r\n",
        "x_test = x_test.reshape(x_test.shape[0], num_rows, num_columns, num_channels)\r\n",
        "\r\n",
        "num_labels = y.shape[2]\r\n",
        "#num_labels = 16\r\n",
        "\r\n",
        "def Net(dilated_kernel, dilation, dilated_padding):\r\n",
        "    \r\n",
        "    # input layer\r\n",
        "    inputs = Input(shape=(num_rows, num_columns, num_channels))\r\n",
        "    \r\n",
        "    # DWS-CNN layer 1\r\n",
        "    x = ZeroPadding2D(padding=(2))(inputs)\r\n",
        "    # use valid padding since padding is introduced before due to its special form (maybe it's equal to use same padding?)\r\n",
        "    x = SeparableConv2D(256,kernel_size=(5,5), strides=(1,1), padding='valid')(x)\r\n",
        "    x = Activation('relu')(x)\r\n",
        "    # Batch Normalisation before passing it to the next layer\r\n",
        "    x = BatchNormalization()(x)\r\n",
        "    # Pooling\r\n",
        "    x = MaxPooling2D(pool_size=(1,5), strides=(1,5), padding='valid')(x)\r\n",
        "    # Dropout\r\n",
        "    x = Dropout(0.25)(x)\r\n",
        "    \r\n",
        "    # DWS-CNN layer 2\r\n",
        "    x = ZeroPadding2D(padding=(2))(x)\r\n",
        "    # use valid padding since padding is introduced before due to its special form\r\n",
        "    x = SeparableConv2D(256,kernel_size=(5,5), strides=(1,1), padding='valid')(x)\r\n",
        "    x = Activation('relu')(x)\r\n",
        "    # Batch Normalisation before passing it to the next layer\r\n",
        "    x = BatchNormalization()(x)\r\n",
        "    # Pooling\r\n",
        "    x = MaxPooling2D(pool_size=(1,4), strides=(1,4), padding='valid')(x)\r\n",
        "    # Dropout\r\n",
        "    x = Dropout(0.25)(x)\r\n",
        "    \r\n",
        "    # DWS-CNN layer 3\r\n",
        "    x = ZeroPadding2D(padding=(2))(x)\r\n",
        "    # use valid padding since padding is introduced before due to its special form\r\n",
        "    x = SeparableConv2D(256,kernel_size=(5,5), strides=(1,1), padding='valid')(x)\r\n",
        "    x = Activation('relu')(x)\r\n",
        "    # Batch Normalisation before passing it to the next layer\r\n",
        "    x = BatchNormalization()(x)\r\n",
        "    # Pooling\r\n",
        "    x = MaxPooling2D(pool_size=(1,2), strides=(1,2), padding='valid')(x)\r\n",
        "    # Dropout\r\n",
        "    x = Dropout(0.25)(x)\r\n",
        "    \r\n",
        "    x = Permute((1,3,2))(x)\r\n",
        "    \r\n",
        "    # DIL-CNN \r\n",
        "    x = ZeroPadding2D(padding=(dilated_padding*dilation, 0))(x)\r\n",
        "    x = Conv2D(256, kernel_size=dilated_kernel, dilation_rate=(dilation, 1))(x)#, strides=(1,3))(x)\r\n",
        "    x = Activation('relu')(x)\r\n",
        "    x = BatchNormalization()(x)\r\n",
        "    initializer = keras.initializers.Ones()\r\n",
        "    x = Conv2D(256, (1,1), strides=(1,3), kernel_initializer=initializer, trainable=False)(x)\r\n",
        "    \r\n",
        "    x = Reshape((1024, 256*85))(x)\r\n",
        "    \r\n",
        "    # classifier layer\r\n",
        "    outputs = Dense(num_labels,activation='sigmoid')(x)\r\n",
        "    \r\n",
        "    \r\n",
        "    # model compilation for training\r\n",
        "    adam = optimizers.Adam()#lr=0.0001)\r\n",
        "    model = Model(inputs, outputs)                            \r\n",
        "    model.compile(loss='binary_crossentropy', optimizer=adam, metrics=[\"binary_accuracy\"])\r\n",
        "    \r\n",
        "    return model\r\n",
        "\r\n",
        "\r\n",
        "# create the model\r\n",
        "dilated_kernel = (3,3)\r\n",
        "dilation = 10\r\n",
        "dilated_padding = 1\r\n",
        "model = Net(dilated_kernel,dilation,dilated_padding)\r\n",
        "model.summary()"
      ],
      "execution_count": 6,
      "outputs": [
        {
          "output_type": "stream",
          "text": [
            "Model: \"model_1\"\n",
            "_________________________________________________________________\n",
            "Layer (type)                 Output Shape              Param #   \n",
            "=================================================================\n",
            "input_3 (InputLayer)         [(None, 1024, 40, 1)]     0         \n",
            "_________________________________________________________________\n",
            "zero_padding2d_8 (ZeroPaddin (None, 1028, 44, 1)       0         \n",
            "_________________________________________________________________\n",
            "separable_conv2d_6 (Separabl (None, 1024, 40, 256)     537       \n",
            "_________________________________________________________________\n",
            "activation_8 (Activation)    (None, 1024, 40, 256)     0         \n",
            "_________________________________________________________________\n",
            "batch_normalization_8 (Batch (None, 1024, 40, 256)     1024      \n",
            "_________________________________________________________________\n",
            "max_pooling2d_6 (MaxPooling2 (None, 1024, 8, 256)      0         \n",
            "_________________________________________________________________\n",
            "dropout_6 (Dropout)          (None, 1024, 8, 256)      0         \n",
            "_________________________________________________________________\n",
            "zero_padding2d_9 (ZeroPaddin (None, 1028, 12, 256)     0         \n",
            "_________________________________________________________________\n",
            "separable_conv2d_7 (Separabl (None, 1024, 8, 256)      72192     \n",
            "_________________________________________________________________\n",
            "activation_9 (Activation)    (None, 1024, 8, 256)      0         \n",
            "_________________________________________________________________\n",
            "batch_normalization_9 (Batch (None, 1024, 8, 256)      1024      \n",
            "_________________________________________________________________\n",
            "max_pooling2d_7 (MaxPooling2 (None, 1024, 2, 256)      0         \n",
            "_________________________________________________________________\n",
            "dropout_7 (Dropout)          (None, 1024, 2, 256)      0         \n",
            "_________________________________________________________________\n",
            "zero_padding2d_10 (ZeroPaddi (None, 1028, 6, 256)      0         \n",
            "_________________________________________________________________\n",
            "separable_conv2d_8 (Separabl (None, 1024, 2, 256)      72192     \n",
            "_________________________________________________________________\n",
            "activation_10 (Activation)   (None, 1024, 2, 256)      0         \n",
            "_________________________________________________________________\n",
            "batch_normalization_10 (Batc (None, 1024, 2, 256)      1024      \n",
            "_________________________________________________________________\n",
            "max_pooling2d_8 (MaxPooling2 (None, 1024, 1, 256)      0         \n",
            "_________________________________________________________________\n",
            "dropout_8 (Dropout)          (None, 1024, 1, 256)      0         \n",
            "_________________________________________________________________\n",
            "permute_2 (Permute)          (None, 1024, 256, 1)      0         \n",
            "_________________________________________________________________\n",
            "zero_padding2d_11 (ZeroPaddi (None, 1044, 256, 1)      0         \n",
            "_________________________________________________________________\n",
            "conv2d_4 (Conv2D)            (None, 1024, 254, 256)    2560      \n",
            "_________________________________________________________________\n",
            "activation_11 (Activation)   (None, 1024, 254, 256)    0         \n",
            "_________________________________________________________________\n",
            "batch_normalization_11 (Batc (None, 1024, 254, 256)    1024      \n",
            "_________________________________________________________________\n",
            "conv2d_5 (Conv2D)            (None, 1024, 85, 256)     65792     \n",
            "_________________________________________________________________\n",
            "reshape_2 (Reshape)          (None, 1024, 21760)       0         \n",
            "_________________________________________________________________\n",
            "dense_1 (Dense)              (None, 1024, 16)          348176    \n",
            "=================================================================\n",
            "Total params: 565,545\n",
            "Trainable params: 497,705\n",
            "Non-trainable params: 67,840\n",
            "_________________________________________________________________\n"
          ],
          "name": "stdout"
        }
      ]
    },
    {
      "cell_type": "markdown",
      "metadata": {
        "id": "cNzMSCbW4Cv5"
      },
      "source": [
        "## Train the model"
      ]
    },
    {
      "cell_type": "code",
      "metadata": {
        "id": "ZZbIeHH1vheD",
        "colab": {
          "base_uri": "https://localhost:8080/"
        },
        "outputId": "c328b7fa-e8bf-40b8-aced-aec060378d38"
      },
      "source": [
        "from keras.callbacks import ModelCheckpoint, EarlyStopping\r\n",
        "from datetime import datetime \r\n",
        "\r\n",
        "num_epochs = 250\r\n",
        "# low batch size due to memory maximum dimension, modify if using smaller dataset\r\n",
        "num_batch_size = 8\r\n",
        "\r\n",
        "callbacks = [ModelCheckpoint(filepath='/content/drive/MyDrive/model-{val_loss:.2f}_newModel.h5', \r\n",
        "                               verbose=1, save_best_only=True, monitor=\"val_loss\"),\r\n",
        "                EarlyStopping(monitor='val_loss', patience=30)]\r\n",
        "\r\n",
        "start = datetime.now()\r\n",
        "\r\n",
        "#y_train = y_train.reshape(y_train.shape[0], 1024, 16)\r\n",
        "#y_test = y_test.reshape(y_test.shape[0], 1024, 16)\r\n",
        "\r\n",
        "history = model.fit(x_train, y_train, batch_size=num_batch_size, epochs=num_epochs, validation_split=0.16, verbose=1, callbacks=callbacks)\r\n",
        "\r\n",
        "duration = datetime.now() - start\r\n",
        "print(\"Training completed in time: \", duration)"
      ],
      "execution_count": 7,
      "outputs": [
        {
          "output_type": "stream",
          "text": [
            "Epoch 1/250\n",
            "284/284 [==============================] - 219s 646ms/step - loss: 27.5154 - binary_accuracy: 0.8531 - val_loss: 0.5189 - val_binary_accuracy: 0.9273\n",
            "\n",
            "Epoch 00001: val_loss improved from inf to 0.51892, saving model to /content/drive/MyDrive/model-0.52_newModel.h5\n",
            "Epoch 2/250\n",
            "284/284 [==============================] - 182s 640ms/step - loss: 0.4697 - binary_accuracy: 0.8961 - val_loss: 0.3216 - val_binary_accuracy: 0.8825\n",
            "\n",
            "Epoch 00002: val_loss improved from 0.51892 to 0.32164, saving model to /content/drive/MyDrive/model-0.32_newModel.h5\n",
            "Epoch 3/250\n",
            "284/284 [==============================] - 181s 639ms/step - loss: 0.2851 - binary_accuracy: 0.9147 - val_loss: 0.5718 - val_binary_accuracy: 0.7386\n",
            "\n",
            "Epoch 00003: val_loss did not improve from 0.32164\n",
            "Epoch 4/250\n",
            "284/284 [==============================] - 181s 638ms/step - loss: 0.2498 - binary_accuracy: 0.9222 - val_loss: 0.4537 - val_binary_accuracy: 0.8455\n",
            "\n",
            "Epoch 00004: val_loss did not improve from 0.32164\n",
            "Epoch 5/250\n",
            "284/284 [==============================] - 181s 638ms/step - loss: 0.2487 - binary_accuracy: 0.9207 - val_loss: 0.3714 - val_binary_accuracy: 0.8864\n",
            "\n",
            "Epoch 00005: val_loss did not improve from 0.32164\n",
            "Epoch 6/250\n",
            "284/284 [==============================] - 182s 639ms/step - loss: 7.6695 - binary_accuracy: 0.9076 - val_loss: 29.8481 - val_binary_accuracy: 0.8378\n",
            "\n",
            "Epoch 00006: val_loss did not improve from 0.32164\n",
            "Epoch 7/250\n",
            "284/284 [==============================] - 182s 642ms/step - loss: 1.0060 - binary_accuracy: 0.8843 - val_loss: 1.6799 - val_binary_accuracy: 0.7330\n",
            "\n",
            "Epoch 00007: val_loss did not improve from 0.32164\n",
            "Epoch 8/250\n",
            "284/284 [==============================] - 182s 642ms/step - loss: 0.4579 - binary_accuracy: 0.8989 - val_loss: 1.0564 - val_binary_accuracy: 0.6763\n",
            "\n",
            "Epoch 00008: val_loss did not improve from 0.32164\n",
            "Epoch 9/250\n",
            "284/284 [==============================] - 182s 642ms/step - loss: 0.3228 - binary_accuracy: 0.9115 - val_loss: 0.8798 - val_binary_accuracy: 0.6045\n",
            "\n",
            "Epoch 00009: val_loss did not improve from 0.32164\n",
            "Epoch 10/250\n",
            "284/284 [==============================] - 182s 642ms/step - loss: 0.2804 - binary_accuracy: 0.9175 - val_loss: 0.5931 - val_binary_accuracy: 0.7402\n",
            "\n",
            "Epoch 00010: val_loss did not improve from 0.32164\n",
            "Epoch 11/250\n",
            "284/284 [==============================] - 182s 641ms/step - loss: 0.2644 - binary_accuracy: 0.9207 - val_loss: 0.3074 - val_binary_accuracy: 0.8864\n",
            "\n",
            "Epoch 00011: val_loss improved from 0.32164 to 0.30736, saving model to /content/drive/MyDrive/model-0.31_newModel.h5\n",
            "Epoch 12/250\n",
            "284/284 [==============================] - 182s 642ms/step - loss: 0.2450 - binary_accuracy: 0.9229 - val_loss: 0.4475 - val_binary_accuracy: 0.8081\n",
            "\n",
            "Epoch 00012: val_loss did not improve from 0.30736\n",
            "Epoch 13/250\n",
            "284/284 [==============================] - 182s 642ms/step - loss: 0.2687 - binary_accuracy: 0.9190 - val_loss: 0.4964 - val_binary_accuracy: 0.7316\n",
            "\n",
            "Epoch 00013: val_loss did not improve from 0.30736\n",
            "Epoch 14/250\n",
            "284/284 [==============================] - 182s 641ms/step - loss: 0.6245 - binary_accuracy: 0.9175 - val_loss: 266.1705 - val_binary_accuracy: 0.8330\n",
            "\n",
            "Epoch 00014: val_loss did not improve from 0.30736\n",
            "Epoch 15/250\n",
            "284/284 [==============================] - 182s 641ms/step - loss: 13.0455 - binary_accuracy: 0.8726 - val_loss: 20.1320 - val_binary_accuracy: 0.3646\n",
            "\n",
            "Epoch 00015: val_loss did not improve from 0.30736\n",
            "Epoch 16/250\n",
            "284/284 [==============================] - 182s 641ms/step - loss: 0.6111 - binary_accuracy: 0.8994 - val_loss: 1.2007 - val_binary_accuracy: 0.7245\n",
            "\n",
            "Epoch 00016: val_loss did not improve from 0.30736\n",
            "Epoch 17/250\n",
            "284/284 [==============================] - 182s 641ms/step - loss: 0.3486 - binary_accuracy: 0.9127 - val_loss: 0.9834 - val_binary_accuracy: 0.8175\n",
            "\n",
            "Epoch 00017: val_loss did not improve from 0.30736\n",
            "Epoch 18/250\n",
            "284/284 [==============================] - 182s 642ms/step - loss: 0.2932 - binary_accuracy: 0.9144 - val_loss: 0.6320 - val_binary_accuracy: 0.7330\n",
            "\n",
            "Epoch 00018: val_loss did not improve from 0.30736\n",
            "Epoch 19/250\n",
            "284/284 [==============================] - 182s 641ms/step - loss: 0.2959 - binary_accuracy: 0.9164 - val_loss: 1.2703 - val_binary_accuracy: 0.7080\n",
            "\n",
            "Epoch 00019: val_loss did not improve from 0.30736\n",
            "Epoch 20/250\n",
            "284/284 [==============================] - 182s 642ms/step - loss: 0.2928 - binary_accuracy: 0.9157 - val_loss: 0.6366 - val_binary_accuracy: 0.7137\n",
            "\n",
            "Epoch 00020: val_loss did not improve from 0.30736\n",
            "Epoch 21/250\n",
            "284/284 [==============================] - 182s 641ms/step - loss: 0.2370 - binary_accuracy: 0.9237 - val_loss: 0.3808 - val_binary_accuracy: 0.8371\n",
            "\n",
            "Epoch 00021: val_loss did not improve from 0.30736\n",
            "Epoch 22/250\n",
            "284/284 [==============================] - 182s 642ms/step - loss: 0.2314 - binary_accuracy: 0.9251 - val_loss: 0.4758 - val_binary_accuracy: 0.8722\n",
            "\n",
            "Epoch 00022: val_loss did not improve from 0.30736\n",
            "Epoch 23/250\n",
            "284/284 [==============================] - 182s 642ms/step - loss: 0.2523 - binary_accuracy: 0.9208 - val_loss: 0.3286 - val_binary_accuracy: 0.9135\n",
            "\n",
            "Epoch 00023: val_loss did not improve from 0.30736\n",
            "Epoch 24/250\n",
            "284/284 [==============================] - 182s 642ms/step - loss: 0.6548 - binary_accuracy: 0.9178 - val_loss: 42.5993 - val_binary_accuracy: 0.8128\n",
            "\n",
            "Epoch 00024: val_loss did not improve from 0.30736\n",
            "Epoch 25/250\n",
            "284/284 [==============================] - 182s 641ms/step - loss: 2.1229 - binary_accuracy: 0.8783 - val_loss: 20.0301 - val_binary_accuracy: 0.5111\n",
            "\n",
            "Epoch 00025: val_loss did not improve from 0.30736\n",
            "Epoch 26/250\n",
            "284/284 [==============================] - 182s 642ms/step - loss: 0.3466 - binary_accuracy: 0.9171 - val_loss: 23.6477 - val_binary_accuracy: 0.5957\n",
            "\n",
            "Epoch 00026: val_loss did not improve from 0.30736\n",
            "Epoch 27/250\n",
            "284/284 [==============================] - 182s 642ms/step - loss: 0.3738 - binary_accuracy: 0.9118 - val_loss: 5.2228 - val_binary_accuracy: 0.1709\n",
            "\n",
            "Epoch 00027: val_loss did not improve from 0.30736\n",
            "Epoch 28/250\n",
            "284/284 [==============================] - 182s 641ms/step - loss: 0.2447 - binary_accuracy: 0.9236 - val_loss: 3.0238 - val_binary_accuracy: 0.4160\n",
            "\n",
            "Epoch 00028: val_loss did not improve from 0.30736\n",
            "Epoch 29/250\n",
            "284/284 [==============================] - 182s 641ms/step - loss: 0.2293 - binary_accuracy: 0.9260 - val_loss: 1.6001 - val_binary_accuracy: 0.4124\n",
            "\n",
            "Epoch 00029: val_loss did not improve from 0.30736\n",
            "Epoch 30/250\n",
            "284/284 [==============================] - 182s 642ms/step - loss: 0.2269 - binary_accuracy: 0.9258 - val_loss: 2.1086 - val_binary_accuracy: 0.6234\n",
            "\n",
            "Epoch 00030: val_loss did not improve from 0.30736\n",
            "Epoch 31/250\n",
            "284/284 [==============================] - 182s 641ms/step - loss: 3.8850 - binary_accuracy: 0.8913 - val_loss: 46.8608 - val_binary_accuracy: 0.4543\n",
            "\n",
            "Epoch 00031: val_loss did not improve from 0.30736\n",
            "Epoch 32/250\n",
            "284/284 [==============================] - 182s 642ms/step - loss: 0.5999 - binary_accuracy: 0.9004 - val_loss: 4.1417 - val_binary_accuracy: 0.4610\n",
            "\n",
            "Epoch 00032: val_loss did not improve from 0.30736\n",
            "Epoch 33/250\n",
            "284/284 [==============================] - 182s 642ms/step - loss: 0.2635 - binary_accuracy: 0.9229 - val_loss: 0.6350 - val_binary_accuracy: 0.7085\n",
            "\n",
            "Epoch 00033: val_loss did not improve from 0.30736\n",
            "Epoch 34/250\n",
            "284/284 [==============================] - 182s 642ms/step - loss: 0.2444 - binary_accuracy: 0.9240 - val_loss: 0.2385 - val_binary_accuracy: 0.9290\n",
            "\n",
            "Epoch 00034: val_loss improved from 0.30736 to 0.23852, saving model to /content/drive/MyDrive/model-0.24_newModel.h5\n",
            "Epoch 35/250\n",
            "284/284 [==============================] - 182s 641ms/step - loss: 0.2345 - binary_accuracy: 0.9242 - val_loss: 0.3315 - val_binary_accuracy: 0.8617\n",
            "\n",
            "Epoch 00035: val_loss did not improve from 0.23852\n",
            "Epoch 36/250\n",
            "284/284 [==============================] - 182s 641ms/step - loss: 0.2348 - binary_accuracy: 0.9252 - val_loss: 0.3292 - val_binary_accuracy: 0.8551\n",
            "\n",
            "Epoch 00036: val_loss did not improve from 0.23852\n",
            "Epoch 37/250\n",
            "284/284 [==============================] - 182s 641ms/step - loss: 0.2279 - binary_accuracy: 0.9258 - val_loss: 0.2709 - val_binary_accuracy: 0.9080\n",
            "\n",
            "Epoch 00037: val_loss did not improve from 0.23852\n",
            "Epoch 38/250\n",
            "284/284 [==============================] - 182s 642ms/step - loss: 9.3962 - binary_accuracy: 0.8869 - val_loss: 49.9091 - val_binary_accuracy: 0.5483\n",
            "\n",
            "Epoch 00038: val_loss did not improve from 0.23852\n",
            "Epoch 39/250\n",
            "284/284 [==============================] - 182s 642ms/step - loss: 0.4513 - binary_accuracy: 0.9057 - val_loss: 7.3219 - val_binary_accuracy: 0.4620\n",
            "\n",
            "Epoch 00039: val_loss did not improve from 0.23852\n",
            "Epoch 40/250\n",
            "284/284 [==============================] - 182s 642ms/step - loss: 0.3040 - binary_accuracy: 0.9188 - val_loss: 1.2535 - val_binary_accuracy: 0.5359\n",
            "\n",
            "Epoch 00040: val_loss did not improve from 0.23852\n",
            "Epoch 41/250\n",
            "284/284 [==============================] - 182s 642ms/step - loss: 0.2709 - binary_accuracy: 0.9211 - val_loss: 0.6805 - val_binary_accuracy: 0.7454\n",
            "\n",
            "Epoch 00041: val_loss did not improve from 0.23852\n",
            "Epoch 42/250\n",
            "284/284 [==============================] - 182s 642ms/step - loss: 0.2573 - binary_accuracy: 0.9215 - val_loss: 0.3496 - val_binary_accuracy: 0.9068\n",
            "\n",
            "Epoch 00042: val_loss did not improve from 0.23852\n",
            "Epoch 43/250\n",
            "284/284 [==============================] - 182s 642ms/step - loss: 0.2511 - binary_accuracy: 0.9228 - val_loss: 0.3651 - val_binary_accuracy: 0.8238\n",
            "\n",
            "Epoch 00043: val_loss did not improve from 0.23852\n",
            "Epoch 44/250\n",
            "284/284 [==============================] - 182s 643ms/step - loss: 0.2400 - binary_accuracy: 0.9247 - val_loss: 0.7685 - val_binary_accuracy: 0.6495\n",
            "\n",
            "Epoch 00044: val_loss did not improve from 0.23852\n",
            "Epoch 45/250\n",
            "284/284 [==============================] - 182s 642ms/step - loss: 0.2366 - binary_accuracy: 0.9237 - val_loss: 0.8568 - val_binary_accuracy: 0.7229\n",
            "\n",
            "Epoch 00045: val_loss did not improve from 0.23852\n",
            "Epoch 46/250\n",
            "284/284 [==============================] - 182s 642ms/step - loss: 0.2385 - binary_accuracy: 0.9232 - val_loss: 0.3057 - val_binary_accuracy: 0.8980\n",
            "\n",
            "Epoch 00046: val_loss did not improve from 0.23852\n",
            "Epoch 47/250\n",
            "284/284 [==============================] - 182s 642ms/step - loss: 0.2496 - binary_accuracy: 0.9243 - val_loss: 89.2170 - val_binary_accuracy: 0.5987\n",
            "\n",
            "Epoch 00047: val_loss did not improve from 0.23852\n",
            "Epoch 48/250\n",
            "284/284 [==============================] - 182s 642ms/step - loss: 4.6044 - binary_accuracy: 0.8638 - val_loss: 23.8026 - val_binary_accuracy: 0.3501\n",
            "\n",
            "Epoch 00048: val_loss did not improve from 0.23852\n",
            "Epoch 49/250\n",
            "284/284 [==============================] - 182s 642ms/step - loss: 0.2752 - binary_accuracy: 0.9200 - val_loss: 2.1712 - val_binary_accuracy: 0.5536\n",
            "\n",
            "Epoch 00049: val_loss did not improve from 0.23852\n",
            "Epoch 50/250\n",
            "284/284 [==============================] - 182s 642ms/step - loss: 0.2325 - binary_accuracy: 0.9254 - val_loss: 0.5291 - val_binary_accuracy: 0.7313\n",
            "\n",
            "Epoch 00050: val_loss did not improve from 0.23852\n",
            "Epoch 51/250\n",
            "284/284 [==============================] - 182s 642ms/step - loss: 0.2353 - binary_accuracy: 0.9241 - val_loss: 0.3828 - val_binary_accuracy: 0.8797\n",
            "\n",
            "Epoch 00051: val_loss did not improve from 0.23852\n",
            "Epoch 52/250\n",
            "284/284 [==============================] - 182s 642ms/step - loss: 0.2635 - binary_accuracy: 0.9206 - val_loss: 0.3778 - val_binary_accuracy: 0.8611\n",
            "\n",
            "Epoch 00052: val_loss did not improve from 0.23852\n",
            "Epoch 53/250\n",
            "284/284 [==============================] - 182s 642ms/step - loss: 0.2383 - binary_accuracy: 0.9229 - val_loss: 0.7664 - val_binary_accuracy: 0.6952\n",
            "\n",
            "Epoch 00053: val_loss did not improve from 0.23852\n",
            "Epoch 54/250\n",
            "284/284 [==============================] - 182s 642ms/step - loss: 0.2241 - binary_accuracy: 0.9268 - val_loss: 0.4122 - val_binary_accuracy: 0.8036\n",
            "\n",
            "Epoch 00054: val_loss did not improve from 0.23852\n",
            "Epoch 55/250\n",
            "284/284 [==============================] - 182s 642ms/step - loss: 0.3726 - binary_accuracy: 0.9238 - val_loss: 521.4297 - val_binary_accuracy: 0.6961\n",
            "\n",
            "Epoch 00055: val_loss did not improve from 0.23852\n",
            "Epoch 56/250\n",
            "284/284 [==============================] - 182s 642ms/step - loss: 5.3536 - binary_accuracy: 0.8750 - val_loss: 34.7610 - val_binary_accuracy: 0.2900\n",
            "\n",
            "Epoch 00056: val_loss did not improve from 0.23852\n",
            "Epoch 57/250\n",
            "284/284 [==============================] - 182s 642ms/step - loss: 0.4650 - binary_accuracy: 0.9092 - val_loss: 18.6533 - val_binary_accuracy: 0.1537\n",
            "\n",
            "Epoch 00057: val_loss did not improve from 0.23852\n",
            "Epoch 58/250\n",
            "284/284 [==============================] - 182s 642ms/step - loss: 0.2625 - binary_accuracy: 0.9253 - val_loss: 21.0507 - val_binary_accuracy: 0.4956\n",
            "\n",
            "Epoch 00058: val_loss did not improve from 0.23852\n",
            "Epoch 59/250\n",
            "284/284 [==============================] - 182s 642ms/step - loss: 1.0748 - binary_accuracy: 0.8847 - val_loss: 14.5793 - val_binary_accuracy: 0.1788\n",
            "\n",
            "Epoch 00059: val_loss did not improve from 0.23852\n",
            "Epoch 60/250\n",
            "284/284 [==============================] - 182s 642ms/step - loss: 0.2356 - binary_accuracy: 0.9275 - val_loss: 2.9383 - val_binary_accuracy: 0.3762\n",
            "\n",
            "Epoch 00060: val_loss did not improve from 0.23852\n",
            "Epoch 61/250\n",
            "284/284 [==============================] - 182s 642ms/step - loss: 0.4862 - binary_accuracy: 0.9094 - val_loss: 6.3068 - val_binary_accuracy: 0.3140\n",
            "\n",
            "Epoch 00061: val_loss did not improve from 0.23852\n",
            "Epoch 62/250\n",
            "284/284 [==============================] - 182s 642ms/step - loss: 0.4024 - binary_accuracy: 0.9163 - val_loss: 35.1247 - val_binary_accuracy: 0.2037\n",
            "\n",
            "Epoch 00062: val_loss did not improve from 0.23852\n",
            "Epoch 63/250\n",
            "284/284 [==============================] - 182s 642ms/step - loss: 0.2401 - binary_accuracy: 0.9259 - val_loss: 0.6180 - val_binary_accuracy: 0.7144\n",
            "\n",
            "Epoch 00063: val_loss did not improve from 0.23852\n",
            "Epoch 64/250\n",
            "284/284 [==============================] - 182s 642ms/step - loss: 0.2159 - binary_accuracy: 0.9289 - val_loss: 0.5714 - val_binary_accuracy: 0.6844\n",
            "\n",
            "Epoch 00064: val_loss did not improve from 0.23852\n",
            "Training completed in time:  3:14:54.153443\n"
          ],
          "name": "stdout"
        }
      ]
    },
    {
      "cell_type": "code",
      "metadata": {
        "id": "D80dzXbzmjpB"
      },
      "source": [
        "model.save('/content/drive/MyDrive/baseline-newModel-0.57_lastEpoch.h5')"
      ],
      "execution_count": 8,
      "outputs": []
    },
    {
      "cell_type": "code",
      "metadata": {
        "id": "GcgsF2fZvhgj",
        "colab": {
          "base_uri": "https://localhost:8080/"
        },
        "outputId": "81546fa9-71d4-497d-a35d-9906842291a7"
      },
      "source": [
        "# Evaluate the model on the test data using `evaluate`\r\n",
        "print(\"Evaluate on test data\")\r\n",
        "results = model.evaluate(x_test, y_test, batch_size=num_batch_size)\r\n",
        "print(\"test loss, test acc:\", results)"
      ],
      "execution_count": 10,
      "outputs": [
        {
          "output_type": "stream",
          "text": [
            "Evaluate on test data\n",
            "85/85 [==============================] - 19s 226ms/step - loss: 0.2410 - binary_accuracy: 0.9287\n",
            "test loss, test acc: [0.24104027450084686, 0.9286700487136841]\n"
          ],
          "name": "stdout"
        }
      ]
    },
    {
      "cell_type": "code",
      "metadata": {
        "colab": {
          "base_uri": "https://localhost:8080/",
          "height": 573
        },
        "id": "z2ZOVgAMvhil",
        "outputId": "fdb9a133-7da3-474b-a880-37d6a6fe5477"
      },
      "source": [
        "import matplotlib.pyplot as plt\r\n",
        "\r\n",
        "# summarize history for accuracy\r\n",
        "plt.plot(history.history['binary_accuracy'])\r\n",
        "plt.plot(history.history['val_binary_accuracy'])\r\n",
        "plt.title('model accuracy')\r\n",
        "plt.ylabel('accuracy')\r\n",
        "plt.xlabel('epoch')\r\n",
        "plt.legend(['train', 'test'], loc='upper left')\r\n",
        "plt.show()\r\n",
        "# summarize history for loss\r\n",
        "plt.plot(history.history['loss'])\r\n",
        "plt.plot(history.history['val_loss'])\r\n",
        "plt.title('model loss')\r\n",
        "plt.ylabel('loss')\r\n",
        "plt.xlabel('epoch')\r\n",
        "plt.legend(['train', 'test'], loc='upper left')\r\n",
        "plt.show()"
      ],
      "execution_count": 11,
      "outputs": [
        {
          "output_type": "display_data",
          "data": {
            "image/png": "[encoded data removed]",
            "text/plain": [
              "<Figure size 432x288 with 1 Axes>"
            ]
          },
          "metadata": {
            "tags": [],
            "needs_background": "light"
          }
        },
        {
          "output_type": "display_data",
          "data": {
            "image/png": "[encoded data removed]",
            "text/plain": [
              "<Figure size 432x288 with 1 Axes>"
            ]
          },
          "metadata": {
            "tags": [],
            "needs_background": "light"
          }
        }
      ]
    },
    {
      "cell_type": "code",
      "metadata": {
        "colab": {
          "base_uri": "https://localhost:8080/",
          "height": 573
        },
        "id": "16YhgLXlg8mG",
        "outputId": "1f02f0fe-420b-4342-8d6e-e21328dd2925"
      },
      "source": [
        "import matplotlib.pyplot as plt\r\n",
        "import pandas as pd\r\n",
        "\r\n",
        "historydf = pd.read_csv('/content/drive/MyDrive/history_baseline_dilated.csv')\r\n",
        "historydf.columns = [\"loss\", \"acc\", \"val_loss\", \"val_acc\"]\r\n",
        "\r\n",
        "\r\n",
        "\r\n",
        "# summarize history for accuracy\r\n",
        "plt.plot(np.array(historydf.acc.tolist()))\r\n",
        "plt.plot(np.array(historydf.val_acc.tolist()))\r\n",
        "plt.title('model accuracy')\r\n",
        "plt.ylabel('accuracy')\r\n",
        "plt.xlabel('epoch')\r\n",
        "plt.legend(['train', 'test'], loc='upper left')\r\n",
        "plt.show()\r\n",
        "# summarize history for loss\r\n",
        "plt.plot(np.array(historydf.loss.tolist()))\r\n",
        "plt.plot(np.array(historydf.val_loss.tolist()))\r\n",
        "plt.title('model loss')\r\n",
        "plt.ylabel('loss')\r\n",
        "plt.xlabel('epoch')\r\n",
        "plt.legend(['train', 'test'], loc='upper left')\r\n",
        "plt.show()"
      ],
      "execution_count": null,
      "outputs": [
        {
          "output_type": "display_data",
          "data": {
            "image/png": "[encoded data removed]",
            "text/plain": [
              "<Figure size 432x288 with 1 Axes>"
            ]
          },
          "metadata": {
            "tags": [],
            "needs_background": "light"
          }
        },
        {
          "output_type": "display_data",
          "data": {
            "image/png": "[encoded data removed]",
            "text/plain": [
              "<Figure size 432x288 with 1 Axes>"
            ]
          },
          "metadata": {
            "tags": [],
            "needs_background": "light"
          }
        }
      ]
    },
    {
      "cell_type": "code",
      "metadata": {
        "id": "vZkGJtk6pRcu"
      },
      "source": [
        "model = keras.models.load_model('/content/drive/MyDrive/model-0.24_newModel.h5')"
      ],
      "execution_count": 9,
      "outputs": []
    },
    {
      "cell_type": "code",
      "metadata": {
        "id": "2jAOtu-FvhlF",
        "colab": {
          "base_uri": "https://localhost:8080/"
        },
        "outputId": "c189b4e9-3e38-4129-ae23-51cb603bacf0"
      },
      "source": [
        "TP = 0\r\n",
        "FP = 0\r\n",
        "TN = 0\r\n",
        "FN = 0\r\n",
        "\r\n",
        "y_pred = model.predict(x_test, batch_size=8, verbose=1)\r\n",
        "\r\n",
        "for i in range(y_test.shape[0]):\r\n",
        "    if i%100 == 0:\r\n",
        "        print(\"processing element \", i)\r\n",
        "    for j in range(y_test.shape[1]):\r\n",
        "        for k in range(y_test.shape[2]):\r\n",
        "            \r\n",
        "            test = y_test[i][j][k]\r\n",
        "            pred = y_pred[i][j][k]\r\n",
        "            \r\n",
        "            # binarization of predicted output\r\n",
        "            if(pred >= 0.5):\r\n",
        "                pred = 1\r\n",
        "            else:\r\n",
        "                pred = 0\r\n",
        "\r\n",
        "            if(test == 1 and pred == 1):\r\n",
        "                TP = TP + 1\r\n",
        "            elif(test == 0 and pred == 1):\r\n",
        "                FP = FP + 1\r\n",
        "            elif(test == 0 and pred == 0):\r\n",
        "                TN = TN + 1\r\n",
        "            elif(test == 1 and pred == 0):\r\n",
        "                FN = FN + 1\r\n",
        "                \r\n",
        "#print(TP+FP+TN+FN)\r\n",
        "#print(y_test.shape[1]*y_test.shape[2]*y_test.shape[0])\r\n",
        "\r\n",
        "recall = TP/(TP+FN)\r\n",
        "\r\n",
        "precision = TP/(TP+FP)\r\n",
        "\r\n",
        "f1_score = 2*recall*precision/(recall+precision)\r\n",
        "\r\n",
        "print(\"recall: \", recall)\r\n",
        "print(\"precision: \", precision)\r\n",
        "print(\"f1: \", f1_score)"
      ],
      "execution_count": 13,
      "outputs": [
        {
          "output_type": "stream",
          "text": [
            "85/85 [==============================] - 19s 225ms/step\n",
            "processing element  0\n",
            "processing element  100\n",
            "processing element  200\n",
            "processing element  300\n",
            "processing element  400\n",
            "processing element  500\n",
            "processing element  600\n",
            "recall:  0.07025380989748639\n",
            "precision:  0.550218725228267\n",
            "f1:  0.12459846177200938\n"
          ],
          "name": "stdout"
        }
      ]
    },
    {
      "cell_type": "code",
      "metadata": {
        "id": "BvaDrIHpvhnG",
        "colab": {
          "base_uri": "https://localhost:8080/"
        },
        "outputId": "46b184ff-c819-4528-d7c5-382dfa7b114a"
      },
      "source": [
        "TP"
      ],
      "execution_count": null,
      "outputs": [
        {
          "output_type": "execute_result",
          "data": {
            "text/plain": [
              "528734"
            ]
          },
          "metadata": {
            "tags": []
          },
          "execution_count": 10
        }
      ]
    },
    {
      "cell_type": "code",
      "metadata": {
        "id": "8oTAioOcvhpF",
        "colab": {
          "base_uri": "https://localhost:8080/"
        },
        "outputId": "27965c48-a8b8-4a71-ed55-0fc97ec2991d"
      },
      "source": [
        "print(\"f1: \", f1_score)"
      ],
      "execution_count": null,
      "outputs": [
        {
          "output_type": "stream",
          "text": [
            "f1:  0.7299315162729577\n"
          ],
          "name": "stdout"
        }
      ]
    },
    {
      "cell_type": "markdown",
      "metadata": {
        "id": "F0V-hVJgdEmg"
      },
      "source": [
        "## save model"
      ]
    },
    {
      "cell_type": "code",
      "metadata": {
        "id": "5ebi1aSfc7zr"
      },
      "source": [
        "filename = '/content/drive/MyDrive/model-dessed-endtrain.h5'\r\n",
        "model.save(filename)"
      ],
      "execution_count": null,
      "outputs": []
    }
  ]
}