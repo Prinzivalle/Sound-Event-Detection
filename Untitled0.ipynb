{
  "nbformat": 4,
  "nbformat_minor": 0,
  "metadata": {
    "colab": {
      "name": "Untitled0.ipynb",
      "provenance": [],
      "collapsed_sections": [],
      "authorship_tag": "ABX9TyPvNecQYZWtCvY+cPVONToo"
    },
    "kernelspec": {
      "name": "python3",
      "display_name": "Python 3"
    },
    "accelerator": "GPU"
  },
  "cells": [
    {
      "cell_type": "code",
      "metadata": {
        "colab": {
          "base_uri": "https://localhost:8080/",
          "height": 357
        },
        "id": "7ovABqndutsN",
        "outputId": "277c64c6-ecb6-4ab2-cf9b-7b44ca95b74b"
      },
      "source": [
        "!pip install q keras==2.2.4\r\n"
      ],
      "execution_count": 3,
      "outputs": [
        {
          "output_type": "stream",
          "text": [
            "Requirement already satisfied: q in /usr/local/lib/python3.7/dist-packages (2.6)\n",
            "Collecting keras==2.2.4\n",
            "  Using cached https://files.pythonhosted.org/packages/5e/10/aa32dad071ce52b5502266b5c659451cfd6ffcbf14e6c8c4f16c0ff5aaab/Keras-2.2.4-py2.py3-none-any.whl\n",
            "Requirement already satisfied: six>=1.9.0 in /usr/local/lib/python3.7/dist-packages (from keras==2.2.4) (1.15.0)\n",
            "Requirement already satisfied: numpy>=1.9.1 in /usr/local/lib/python3.7/dist-packages (from keras==2.2.4) (1.19.5)\n",
            "Requirement already satisfied: h5py in /usr/local/lib/python3.7/dist-packages (from keras==2.2.4) (2.10.0)\n",
            "Requirement already satisfied: pyyaml in /usr/local/lib/python3.7/dist-packages (from keras==2.2.4) (3.13)\n",
            "Requirement already satisfied: scipy>=0.14 in /usr/local/lib/python3.7/dist-packages (from keras==2.2.4) (1.4.1)\n",
            "Requirement already satisfied: keras-applications>=1.0.6 in /tensorflow-1.15.2/python3.7 (from keras==2.2.4) (1.0.8)\n",
            "Requirement already satisfied: keras-preprocessing>=1.0.5 in /usr/local/lib/python3.7/dist-packages (from keras==2.2.4) (1.1.2)\n",
            "Installing collected packages: keras\n",
            "  Found existing installation: Keras 2.3.1\n",
            "    Uninstalling Keras-2.3.1:\n",
            "      Successfully uninstalled Keras-2.3.1\n",
            "Successfully installed keras-2.2.4\n"
          ],
          "name": "stdout"
        },
        {
          "output_type": "display_data",
          "data": {
            "application/vnd.colab-display-data+json": {
              "pip_warning": {
                "packages": [
                  "keras"
                ]
              }
            }
          },
          "metadata": {
            "tags": []
          }
        }
      ]
    },
    {
      "cell_type": "code",
      "metadata": {
        "colab": {
          "base_uri": "https://localhost:8080/"
        },
        "id": "5ON7kzGQvlnN",
        "outputId": "a92aa0ff-8d35-4364-b220-e3ed1ed1d2a9"
      },
      "source": [
        "%tensorflow_version 1.15.5"
      ],
      "execution_count": 1,
      "outputs": [
        {
          "output_type": "stream",
          "text": [
            "`%tensorflow_version` only switches the major version: 1.x or 2.x.\n",
            "You set: `1.15.5`. This will be interpreted as: `1.x`.\n",
            "\n",
            "\n",
            "TensorFlow 1.x selected.\n"
          ],
          "name": "stdout"
        }
      ]
    },
    {
      "cell_type": "code",
      "metadata": {
        "colab": {
          "base_uri": "https://localhost:8080/"
        },
        "id": "sVAsV4OXvcQE",
        "outputId": "875b1263-3749-45fe-eb9b-babc31f70ef9"
      },
      "source": [
        "import numpy as np\r\n",
        "import tensorflow as tf\r\n",
        "import keras\r\n",
        "from keras.preprocessing.image import ImageDataGenerator\r\n",
        "\r\n",
        "print(\"Tensorflow version %s\" %tf.__version__)\r\n",
        "print(\"Keras version %s\" %keras.__version__)\r\n",
        "\r\n",
        "device_name = tf.test.gpu_device_name()\r\n",
        "if device_name != '/device:GPU:0':\r\n",
        "  raise SystemError('GPU device not found')\r\n",
        "print('Found GPU at: {}'.format(device_name))"
      ],
      "execution_count": 1,
      "outputs": [
        {
          "output_type": "stream",
          "text": [
            "Tensorflow version 2.4.1\n",
            "Keras version 2.4.3\n",
            "Found GPU at: /device:GPU:0\n"
          ],
          "name": "stdout"
        }
      ]
    },
    {
      "cell_type": "code",
      "metadata": {
        "colab": {
          "base_uri": "https://localhost:8080/"
        },
        "id": "LHkHclRnvhQI",
        "outputId": "b533e19a-58db-4069-c929-1bb0e759c287"
      },
      "source": [
        "import os\r\n",
        "from google.colab import drive\r\n",
        "drive.mount('/content/drive')\r\n",
        "\r\n",
        "!pip3 install pickle5\r\n",
        "import pickle5 as pickle\r\n",
        "import pandas as pd\r\n",
        "with open('/content/drive/MyDrive/processed_data_frame_new.pkl', \"rb\") as fh:\r\n",
        "  data = pickle.load(fh)\r\n",
        "dataframe = pd.DataFrame(data)\r\n",
        "#read_pickle('/content/drive/MyDrive/processed_data_frame.pkl')"
      ],
      "execution_count": 2,
      "outputs": [
        {
          "output_type": "stream",
          "text": [
            "Mounted at /content/drive\n",
            "Collecting pickle5\n",
            "\u001b[?25l  Downloading https://files.pythonhosted.org/packages/f7/4c/5c4dd0462c8d3a6bc4af500a6af240763c2ebd1efdc736fc2c946d44b70a/pickle5-0.0.11.tar.gz (132kB)\n",
            "\u001b[K     |████████████████████████████████| 133kB 5.9MB/s \n",
            "\u001b[?25hBuilding wheels for collected packages: pickle5\n",
            "  Building wheel for pickle5 (setup.py) ... \u001b[?25l\u001b[?25hdone\n",
            "  Created wheel for pickle5: filename=pickle5-0.0.11-cp37-cp37m-linux_x86_64.whl size=219250 sha256=abc7bdd0efe78836865186c9c3749ab08b67592d8bcea0e404434bceaf473fa6\n",
            "  Stored in directory: /root/.cache/pip/wheels/a6/90/95/f889ca4aa8b0e0c7f21c8470b6f5d6032f0390a3a141a9a3bd\n",
            "Successfully built pickle5\n",
            "Installing collected packages: pickle5\n",
            "Successfully installed pickle5-0.0.11\n"
          ],
          "name": "stdout"
        }
      ]
    },
    {
      "cell_type": "code",
      "metadata": {
        "id": "3e4ut1Y6zdXs"
      },
      "source": [
        "dataframe"
      ],
      "execution_count": null,
      "outputs": []
    },
    {
      "cell_type": "code",
      "metadata": {
        "id": "IHv0-kJ1vhYv"
      },
      "source": [
        "#from sklearn.preprocessing import LabelEncoder\r\n",
        "#from keras.utils import to_categorical\r\n",
        "\r\n",
        "# Convert features and corresponding classification labels into numpy arrays\r\n",
        "X = np.array(dataframe.feature.tolist())\r\n",
        "y = np.array(dataframe.class_label.tolist())\r\n",
        "\r\n",
        "# no need to encode labels since they are already in form of one hot encode\r\n",
        "\r\n",
        "# delete dataframe to save memory\r\n",
        "#reset_selective -f dataframe\r\n",
        "\r\n",
        "# split the dataset \r\n",
        "from sklearn.model_selection import train_test_split \r\n",
        "\r\n",
        "x_train, x_test, y_train, y_test = train_test_split(X, y, test_size=0.2, random_state = 42)\r\n",
        "\r\n",
        "# delete X to save memory\r\n",
        "#reset_selective -f X"
      ],
      "execution_count": 3,
      "outputs": []
    },
    {
      "cell_type": "markdown",
      "metadata": {
        "id": "lj6DO31nrreb"
      },
      "source": [
        "## baseline model"
      ]
    },
    {
      "cell_type": "code",
      "metadata": {
        "colab": {
          "base_uri": "https://localhost:8080/"
        },
        "id": "u65NKa2RroZV",
        "outputId": "39fcb4a8-c43a-45b2-bcd3-00c0a68ab773"
      },
      "source": [
        "from keras.models import Model\r\n",
        "from keras.layers import SeparableConv2D, ZeroPadding2D, Activation, Dropout, Dense, \\\r\n",
        "                            Conv2D, MaxPooling2D, Reshape, GRU\r\n",
        "from keras.layers.normalization import BatchNormalization\r\n",
        "from keras import Input, optimizers\r\n",
        "\r\n",
        "num_rows = X.shape[1]\r\n",
        "num_columns = X.shape[2]\r\n",
        "num_channels = 1\r\n",
        "\r\n",
        "x_train = x_train.reshape(x_train.shape[0], num_rows, num_columns, num_channels)\r\n",
        "x_test = x_test.reshape(x_test.shape[0], num_rows, num_columns, num_channels)\r\n",
        "\r\n",
        "num_labels = y.shape[2]\r\n",
        "#num_labels = 16\r\n",
        "\r\n",
        "def Net(dilated_kernel, dilation, dilated_padding):\r\n",
        "    \r\n",
        "    # input layer\r\n",
        "    inputs = Input(shape=(num_rows, num_columns, num_channels))\r\n",
        "    \r\n",
        "    # DWS-CNN layer 1\r\n",
        "    x = ZeroPadding2D(padding=(2))(inputs)\r\n",
        "    # use valid padding since padding is introduced before due to its special form (maybe it's equal to use same padding?)\r\n",
        "    x = Conv2D(256,kernel_size=(5,5), strides=(1,1), padding='valid')(x)\r\n",
        "    x = Activation('relu')(x)\r\n",
        "    # Batch Normalisation before passing it to the next layer\r\n",
        "    x = BatchNormalization()(x)\r\n",
        "    # Pooling\r\n",
        "    x = MaxPooling2D(pool_size=(1,5), strides=(1,5), padding='valid')(x)\r\n",
        "    # Dropout\r\n",
        "    x = Dropout(0.25)(x)\r\n",
        "    \r\n",
        "    # DWS-CNN layer 2\r\n",
        "    x = ZeroPadding2D(padding=(2))(x)\r\n",
        "    # use valid padding since padding is introduced before due to its special form\r\n",
        "    x = Conv2D(256,kernel_size=(5,5), strides=(1,1), padding='valid')(x)\r\n",
        "    x = Activation('relu')(x)\r\n",
        "    # Batch Normalisation before passing it to the next layer\r\n",
        "    x = BatchNormalization()(x)\r\n",
        "    # Pooling\r\n",
        "    x = MaxPooling2D(pool_size=(1,4), strides=(1,4), padding='valid')(x)\r\n",
        "    # Dropout\r\n",
        "    x = Dropout(0.25)(x)\r\n",
        "    \r\n",
        "    # DWS-CNN layer 3\r\n",
        "    x = ZeroPadding2D(padding=(2))(x)\r\n",
        "    # use valid padding since padding is introduced before due to its special form\r\n",
        "    x = Conv2D(256,kernel_size=(5,5), strides=(1,1), padding='valid')(x)\r\n",
        "    x = Activation('relu')(x)\r\n",
        "    # Batch Normalisation before passing it to the next layer\r\n",
        "    x = BatchNormalization()(x)\r\n",
        "    # Pooling\r\n",
        "    x = MaxPooling2D(pool_size=(1,2), strides=(1,2), padding='valid')(x)\r\n",
        "    # Dropout\r\n",
        "    x = Dropout(0.25)(x)\r\n",
        "    \r\n",
        "    x = Reshape((1024, 256))(x)\r\n",
        "    \r\n",
        "    # GRU\r\n",
        "    #x = ZeroPadding2D(padding=(dilated_padding*dilation, 1))(x)\r\n",
        "    #x = Conv2D(256, kernel_size=dilated_kernel, dilation_rate=(dilation, 1))(x)\r\n",
        "    #x = BatchNormalization()(x)\r\n",
        "    #x = Activation('relu')(x)\r\n",
        "    x = GRU(256, return_sequences=True)(x)\r\n",
        "        \r\n",
        "    # classifier layer\r\n",
        "    outputs = Dense(num_labels,activation='sigmoid')(x)\r\n",
        "    \r\n",
        "    \r\n",
        "    # model compilation for training\r\n",
        "    adam = optimizers.Adam(lr=0.0001)\r\n",
        "    model = Model(inputs, outputs)                            \r\n",
        "    model.compile(loss='binary_crossentropy', optimizer=adam, metrics=[\"binary_accuracy\"])\r\n",
        "    \r\n",
        "    return model\r\n",
        "\r\n",
        "\r\n",
        "# create the model\r\n",
        "dilated_kernel = (3,3)\r\n",
        "dilation = 10\r\n",
        "dilated_padding = 1\r\n",
        "model = Net(dilated_kernel,dilation,dilated_padding)\r\n",
        "model.summary()"
      ],
      "execution_count": 4,
      "outputs": [
        {
          "output_type": "stream",
          "text": [
            "Model: \"model\"\n",
            "_________________________________________________________________\n",
            "Layer (type)                 Output Shape              Param #   \n",
            "=================================================================\n",
            "input_1 (InputLayer)         [(None, 1024, 40, 1)]     0         \n",
            "_________________________________________________________________\n",
            "zero_padding2d (ZeroPadding2 (None, 1028, 44, 1)       0         \n",
            "_________________________________________________________________\n",
            "conv2d (Conv2D)              (None, 1024, 40, 256)     6656      \n",
            "_________________________________________________________________\n",
            "activation (Activation)      (None, 1024, 40, 256)     0         \n",
            "_________________________________________________________________\n",
            "batch_normalization (BatchNo (None, 1024, 40, 256)     1024      \n",
            "_________________________________________________________________\n",
            "max_pooling2d (MaxPooling2D) (None, 1024, 8, 256)      0         \n",
            "_________________________________________________________________\n",
            "dropout (Dropout)            (None, 1024, 8, 256)      0         \n",
            "_________________________________________________________________\n",
            "zero_padding2d_1 (ZeroPaddin (None, 1028, 12, 256)     0         \n",
            "_________________________________________________________________\n",
            "conv2d_1 (Conv2D)            (None, 1024, 8, 256)      1638656   \n",
            "_________________________________________________________________\n",
            "activation_1 (Activation)    (None, 1024, 8, 256)      0         \n",
            "_________________________________________________________________\n",
            "batch_normalization_1 (Batch (None, 1024, 8, 256)      1024      \n",
            "_________________________________________________________________\n",
            "max_pooling2d_1 (MaxPooling2 (None, 1024, 2, 256)      0         \n",
            "_________________________________________________________________\n",
            "dropout_1 (Dropout)          (None, 1024, 2, 256)      0         \n",
            "_________________________________________________________________\n",
            "zero_padding2d_2 (ZeroPaddin (None, 1028, 6, 256)      0         \n",
            "_________________________________________________________________\n",
            "conv2d_2 (Conv2D)            (None, 1024, 2, 256)      1638656   \n",
            "_________________________________________________________________\n",
            "activation_2 (Activation)    (None, 1024, 2, 256)      0         \n",
            "_________________________________________________________________\n",
            "batch_normalization_2 (Batch (None, 1024, 2, 256)      1024      \n",
            "_________________________________________________________________\n",
            "max_pooling2d_2 (MaxPooling2 (None, 1024, 1, 256)      0         \n",
            "_________________________________________________________________\n",
            "dropout_2 (Dropout)          (None, 1024, 1, 256)      0         \n",
            "_________________________________________________________________\n",
            "reshape (Reshape)            (None, 1024, 256)         0         \n",
            "_________________________________________________________________\n",
            "gru (GRU)                    (None, 1024, 256)         394752    \n",
            "_________________________________________________________________\n",
            "dense (Dense)                (None, 1024, 16)          4112      \n",
            "=================================================================\n",
            "Total params: 3,685,904\n",
            "Trainable params: 3,684,368\n",
            "Non-trainable params: 1,536\n",
            "_________________________________________________________________\n"
          ],
          "name": "stdout"
        }
      ]
    },
    {
      "cell_type": "markdown",
      "metadata": {
        "id": "3U6wFvCWEGun"
      },
      "source": [
        "## Dessed model"
      ]
    },
    {
      "cell_type": "code",
      "metadata": {
        "colab": {
          "base_uri": "https://localhost:8080/"
        },
        "id": "Un_24V80EGal",
        "outputId": "9a195032-8777-423f-d50c-c8f289ad867f"
      },
      "source": [
        "from keras.models import Model\r\n",
        "from keras.layers import SeparableConv2D, ZeroPadding2D, Activation, Dropout, Dense, \\\r\n",
        "                            Conv2D, MaxPooling2D, Reshape, GRU\r\n",
        "from keras.layers.normalization import BatchNormalization\r\n",
        "from keras import Input, optimizers\r\n",
        "\r\n",
        "num_rows = X.shape[1]\r\n",
        "num_columns = X.shape[2]\r\n",
        "num_channels = 1\r\n",
        "\r\n",
        "x_train = x_train.reshape(x_train.shape[0], num_rows, num_columns, num_channels)\r\n",
        "x_test = x_test.reshape(x_test.shape[0], num_rows, num_columns, num_channels)\r\n",
        "\r\n",
        "num_labels = y.shape[2]\r\n",
        "#num_labels = 16\r\n",
        "\r\n",
        "def Net():\r\n",
        "    \r\n",
        "    # input layer\r\n",
        "    inputs = Input(shape=(num_rows, num_columns, num_channels))\r\n",
        "    \r\n",
        "    # DWS-CNN layer 1\r\n",
        "    x = ZeroPadding2D(padding=(2))(inputs)\r\n",
        "    # use valid padding since padding is introduced before due to its special form (maybe it's equal to use same padding?)\r\n",
        "    x = SeparableConv2D(256,kernel_size=(5,5), strides=(1,1), padding='valid')(x)\r\n",
        "    x = Activation('relu')(x)\r\n",
        "    # Batch Normalisation before passing it to the next layer\r\n",
        "    x = BatchNormalization()(x)\r\n",
        "    # Pooling\r\n",
        "    x = MaxPooling2D(pool_size=(1,5), strides=(1,5), padding='valid')(x)\r\n",
        "    # Dropout\r\n",
        "    x = Dropout(0.25)(x)\r\n",
        "    \r\n",
        "    # DWS-CNN layer 2\r\n",
        "    x = ZeroPadding2D(padding=(2))(x)\r\n",
        "    # use valid padding since padding is introduced before due to its special form\r\n",
        "    x = SeparableConv2D(256,kernel_size=(5,5), strides=(1,1), padding='valid')(x)\r\n",
        "    x = Activation('relu')(x)\r\n",
        "    # Batch Normalisation before passing it to the next layer\r\n",
        "    x = BatchNormalization()(x)\r\n",
        "    # Pooling\r\n",
        "    x = MaxPooling2D(pool_size=(1,4), strides=(1,4), padding='valid')(x)\r\n",
        "    # Dropout\r\n",
        "    x = Dropout(0.25)(x)\r\n",
        "    \r\n",
        "    # DWS-CNN layer 3\r\n",
        "    x = ZeroPadding2D(padding=(2))(x)\r\n",
        "    # use valid padding since padding is introduced before due to its special form\r\n",
        "    x = SeparableConv2D(256,kernel_size=(5,5), strides=(1,1), padding='valid')(x)\r\n",
        "    x = Activation('relu')(x)\r\n",
        "    # Batch Normalisation before passing it to the next layer\r\n",
        "    x = BatchNormalization()(x)\r\n",
        "    # Pooling\r\n",
        "    x = MaxPooling2D(pool_size=(1,2), strides=(1,2), padding='valid')(x)\r\n",
        "    # Dropout\r\n",
        "    x = Dropout(0.25)(x)\r\n",
        "    \r\n",
        "    x = Reshape((1024, 256))(x)\r\n",
        "    \r\n",
        "    # GRU\r\n",
        "    x = GRU(256, return_sequences=True)(x)\r\n",
        "        \r\n",
        "    # classifier layer\r\n",
        "    outputs = Dense(num_labels,activation='sigmoid')(x)\r\n",
        "    \r\n",
        "    \r\n",
        "    # model compilation for training\r\n",
        "    adam = optimizers.Adam(lr=0.0001)\r\n",
        "    model = Model(inputs, outputs)                            \r\n",
        "    model.compile(loss='binary_crossentropy', optimizer=adam, metrics=[\"binary_accuracy\"])\r\n",
        "    \r\n",
        "    return model\r\n",
        "\r\n",
        "\r\n",
        "# create the model\r\n",
        "dilated_kernel = (3,3)\r\n",
        "dilation = 10\r\n",
        "dilated_padding = 1\r\n",
        "model = Net()\r\n",
        "model.summary()"
      ],
      "execution_count": null,
      "outputs": [
        {
          "output_type": "stream",
          "text": [
            "Model: \"model\"\n",
            "_________________________________________________________________\n",
            "Layer (type)                 Output Shape              Param #   \n",
            "=================================================================\n",
            "input_1 (InputLayer)         [(None, 1024, 40, 1)]     0         \n",
            "_________________________________________________________________\n",
            "zero_padding2d (ZeroPadding2 (None, 1028, 44, 1)       0         \n",
            "_________________________________________________________________\n",
            "separable_conv2d (SeparableC (None, 1024, 40, 256)     537       \n",
            "_________________________________________________________________\n",
            "activation (Activation)      (None, 1024, 40, 256)     0         \n",
            "_________________________________________________________________\n",
            "batch_normalization (BatchNo (None, 1024, 40, 256)     1024      \n",
            "_________________________________________________________________\n",
            "max_pooling2d (MaxPooling2D) (None, 1024, 8, 256)      0         \n",
            "_________________________________________________________________\n",
            "dropout (Dropout)            (None, 1024, 8, 256)      0         \n",
            "_________________________________________________________________\n",
            "zero_padding2d_1 (ZeroPaddin (None, 1028, 12, 256)     0         \n",
            "_________________________________________________________________\n",
            "separable_conv2d_1 (Separabl (None, 1024, 8, 256)      72192     \n",
            "_________________________________________________________________\n",
            "activation_1 (Activation)    (None, 1024, 8, 256)      0         \n",
            "_________________________________________________________________\n",
            "batch_normalization_1 (Batch (None, 1024, 8, 256)      1024      \n",
            "_________________________________________________________________\n",
            "max_pooling2d_1 (MaxPooling2 (None, 1024, 2, 256)      0         \n",
            "_________________________________________________________________\n",
            "dropout_1 (Dropout)          (None, 1024, 2, 256)      0         \n",
            "_________________________________________________________________\n",
            "zero_padding2d_2 (ZeroPaddin (None, 1028, 6, 256)      0         \n",
            "_________________________________________________________________\n",
            "separable_conv2d_2 (Separabl (None, 1024, 2, 256)      72192     \n",
            "_________________________________________________________________\n",
            "activation_2 (Activation)    (None, 1024, 2, 256)      0         \n",
            "_________________________________________________________________\n",
            "batch_normalization_2 (Batch (None, 1024, 2, 256)      1024      \n",
            "_________________________________________________________________\n",
            "max_pooling2d_2 (MaxPooling2 (None, 1024, 1, 256)      0         \n",
            "_________________________________________________________________\n",
            "dropout_2 (Dropout)          (None, 1024, 1, 256)      0         \n",
            "_________________________________________________________________\n",
            "reshape (Reshape)            (None, 1024, 256)         0         \n",
            "_________________________________________________________________\n",
            "gru (GRU)                    (None, 1024, 256)         394752    \n",
            "_________________________________________________________________\n",
            "dense (Dense)                (None, 1024, 16)          4112      \n",
            "=================================================================\n",
            "Total params: 546,857\n",
            "Trainable params: 545,321\n",
            "Non-trainable params: 1,536\n",
            "_________________________________________________________________\n"
          ],
          "name": "stdout"
        }
      ]
    },
    {
      "cell_type": "markdown",
      "metadata": {
        "id": "Vr-7W-6GvaYp"
      },
      "source": [
        "## Baseline dilated"
      ]
    },
    {
      "cell_type": "code",
      "metadata": {
        "colab": {
          "base_uri": "https://localhost:8080/",
          "height": 816
        },
        "id": "sau4io1ZvaCi",
        "outputId": "a2a01d5b-2596-4d9d-f24d-7da1baa71869"
      },
      "source": [
        "from keras.models import Model\r\n",
        "from keras.layers import SeparableConv2D, ZeroPadding2D, Activation, Dropout, Dense, \\\r\n",
        "                            Conv2D, MaxPooling2D, Reshape, Permute\r\n",
        "from keras.layers.normalization import BatchNormalization\r\n",
        "from keras import Input, optimizers\r\n",
        "\r\n",
        "num_rows = X.shape[1]\r\n",
        "num_columns = X.shape[2]\r\n",
        "num_channels = 1\r\n",
        "\r\n",
        "x_train = x_train.reshape(x_train.shape[0], num_rows, num_columns, num_channels)\r\n",
        "x_test = x_test.reshape(x_test.shape[0], num_rows, num_columns, num_channels)\r\n",
        "\r\n",
        "num_labels = y.shape[2]\r\n",
        "#num_labels = 16\r\n",
        "\r\n",
        "def Net(dilated_kernel, dilation, dilated_padding):\r\n",
        "    \r\n",
        "    # input layer\r\n",
        "    inputs = Input(shape=(num_rows, num_columns, num_channels))\r\n",
        "    \r\n",
        "    # DWS-CNN layer 1\r\n",
        "    #x = ZeroPadding2D(padding=(2))(inputs)\r\n",
        "    # use valid padding since padding is introduced before due to its special form (maybe it's equal to use same padding?)\r\n",
        "    x = Conv2D(256,kernel_size=(5,5), strides=(1,1), padding='same')(inputs)\r\n",
        "    x = Activation('relu')(x)\r\n",
        "    # Batch Normalisation before passing it to the next layer\r\n",
        "    x = BatchNormalization()(x)\r\n",
        "    # Pooling\r\n",
        "    x = MaxPooling2D(pool_size=(1,5), padding='same')(x)\r\n",
        "    # Dropout\r\n",
        "    x = Dropout(0.25)(x)\r\n",
        "    \r\n",
        "    # DWS-CNN layer 2\r\n",
        "    #x = ZeroPadding2D(padding=(2))(x)\r\n",
        "    # use valid padding since padding is introduced before due to its special form\r\n",
        "    x = Conv2D(256,kernel_size=(5,5), strides=(1,1), padding='same')(x)\r\n",
        "    x = Activation('relu')(x)\r\n",
        "    # Batch Normalisation before passing it to the next layer\r\n",
        "    x = BatchNormalization()(x)\r\n",
        "    # Pooling\r\n",
        "    x = MaxPooling2D(pool_size=(1,4), padding='same')(x)\r\n",
        "    # Dropout\r\n",
        "    x = Dropout(0.25)(x)\r\n",
        "    \r\n",
        "    # DWS-CNN layer 3\r\n",
        "    #x = ZeroPadding2D(padding=(2))(x)\r\n",
        "    # use valid padding since padding is introduced before due to its special form\r\n",
        "    x = Conv2D(256,kernel_size=(5,5), strides=(1,1), padding='same')(x)\r\n",
        "    x = Activation('relu')(x)\r\n",
        "    # Batch Normalisation before passing it to the next layer\r\n",
        "    x = BatchNormalization()(x)\r\n",
        "    # Pooling\r\n",
        "    x = MaxPooling2D(pool_size=(1,2), padding='same')(x)\r\n",
        "    # Dropout\r\n",
        "    x = Dropout(0.25)(x)\r\n",
        "    \r\n",
        "    #x = Reshape((1024, 256))(x)\r\n",
        "    #x = Reshape((1024, 256, 1))(x)\r\n",
        "    x = Permute((1,3,2))(x)\r\n",
        "    #x = Permute((3,2,1))(x)\r\n",
        "    \r\n",
        "    # DIL-CNN \r\n",
        "    x = ZeroPadding2D(padding=(dilated_padding*dilation, 0))(x)\r\n",
        "    x = Conv2D(256, kernel_size=dilated_kernel, dilation_rate=(dilation, 1), strides=(1,3))(x)\r\n",
        "    x = Activation('relu')(x)\r\n",
        "    x = BatchNormalization()(x)\r\n",
        "    \r\n",
        "    #x = Permute((2,1,3))(x)\r\n",
        "    \r\n",
        "    x = Reshape((1024, 256*85))(x)\r\n",
        "    \r\n",
        "    # classifier layer\r\n",
        "    outputs = Dense(num_labels,activation='sigmoid')(x)\r\n",
        "    \r\n",
        "    \r\n",
        "    # model compilation for training\r\n",
        "    adam = optimizers.Adam(lr=0.0001)\r\n",
        "    model = Model(inputs, outputs)                            \r\n",
        "    model.compile(loss='binary_crossentropy', optimizer=adam, metrics=[\"binary_accuracy\"])\r\n",
        "    \r\n",
        "    return model\r\n",
        "\r\n",
        "\r\n",
        "# create the model\r\n",
        "dilated_kernel = (3,3)\r\n",
        "dilation = 10\r\n",
        "dilated_padding = 1\r\n",
        "model = Net(dilated_kernel,dilation,dilated_padding)\r\n",
        "model.summary()"
      ],
      "execution_count": 5,
      "outputs": [
        {
          "output_type": "stream",
          "text": [
            "WARNING:tensorflow:From /usr/local/lib/python3.7/dist-packages/keras/backend/tensorflow_backend.py:74: The name tf.get_default_graph is deprecated. Please use tf.compat.v1.get_default_graph instead.\n",
            "\n",
            "WARNING:tensorflow:From /usr/local/lib/python3.7/dist-packages/keras/backend/tensorflow_backend.py:517: The name tf.placeholder is deprecated. Please use tf.compat.v1.placeholder instead.\n",
            "\n",
            "WARNING:tensorflow:From /usr/local/lib/python3.7/dist-packages/keras/backend/tensorflow_backend.py:4138: The name tf.random_uniform is deprecated. Please use tf.random.uniform instead.\n",
            "\n",
            "WARNING:tensorflow:From /usr/local/lib/python3.7/dist-packages/keras/backend/tensorflow_backend.py:174: The name tf.get_default_session is deprecated. Please use tf.compat.v1.get_default_session instead.\n",
            "\n",
            "WARNING:tensorflow:From /usr/local/lib/python3.7/dist-packages/keras/backend/tensorflow_backend.py:181: The name tf.ConfigProto is deprecated. Please use tf.compat.v1.ConfigProto instead.\n",
            "\n",
            "WARNING:tensorflow:From /usr/local/lib/python3.7/dist-packages/keras/backend/tensorflow_backend.py:186: The name tf.Session is deprecated. Please use tf.compat.v1.Session instead.\n",
            "\n",
            "WARNING:tensorflow:From /usr/local/lib/python3.7/dist-packages/keras/backend/tensorflow_backend.py:190: The name tf.global_variables is deprecated. Please use tf.compat.v1.global_variables instead.\n",
            "\n",
            "WARNING:tensorflow:From /usr/local/lib/python3.7/dist-packages/keras/backend/tensorflow_backend.py:199: The name tf.is_variable_initialized is deprecated. Please use tf.compat.v1.is_variable_initialized instead.\n",
            "\n",
            "WARNING:tensorflow:From /usr/local/lib/python3.7/dist-packages/keras/backend/tensorflow_backend.py:206: The name tf.variables_initializer is deprecated. Please use tf.compat.v1.variables_initializer instead.\n",
            "\n",
            "WARNING:tensorflow:From /usr/local/lib/python3.7/dist-packages/keras/backend/tensorflow_backend.py:1834: The name tf.nn.fused_batch_norm is deprecated. Please use tf.compat.v1.nn.fused_batch_norm instead.\n",
            "\n",
            "WARNING:tensorflow:From /usr/local/lib/python3.7/dist-packages/keras/backend/tensorflow_backend.py:133: The name tf.placeholder_with_default is deprecated. Please use tf.compat.v1.placeholder_with_default instead.\n",
            "\n",
            "WARNING:tensorflow:From /usr/local/lib/python3.7/dist-packages/keras/backend/tensorflow_backend.py:3976: The name tf.nn.max_pool is deprecated. Please use tf.nn.max_pool2d instead.\n",
            "\n",
            "WARNING:tensorflow:From /usr/local/lib/python3.7/dist-packages/keras/backend/tensorflow_backend.py:3445: calling dropout (from tensorflow.python.ops.nn_ops) with keep_prob is deprecated and will be removed in a future version.\n",
            "Instructions for updating:\n",
            "Please use `rate` instead of `keep_prob`. Rate should be set to `rate = 1 - keep_prob`.\n"
          ],
          "name": "stdout"
        },
        {
          "output_type": "error",
          "ename": "ValueError",
          "evalue": "ignored",
          "traceback": [
            "\u001b[0;31m---------------------------------------------------------------------------\u001b[0m",
            "\u001b[0;31mValueError\u001b[0m                                Traceback (most recent call last)",
            "\u001b[0;32m<ipython-input-5-85c8d0aa673c>\u001b[0m in \u001b[0;36m<module>\u001b[0;34m()\u001b[0m\n\u001b[1;32m     86\u001b[0m \u001b[0mdilation\u001b[0m \u001b[0;34m=\u001b[0m \u001b[0;36m10\u001b[0m\u001b[0;34m\u001b[0m\u001b[0;34m\u001b[0m\u001b[0m\n\u001b[1;32m     87\u001b[0m \u001b[0mdilated_padding\u001b[0m \u001b[0;34m=\u001b[0m \u001b[0;36m1\u001b[0m\u001b[0;34m\u001b[0m\u001b[0;34m\u001b[0m\u001b[0m\n\u001b[0;32m---> 88\u001b[0;31m \u001b[0mmodel\u001b[0m \u001b[0;34m=\u001b[0m \u001b[0mNet\u001b[0m\u001b[0;34m(\u001b[0m\u001b[0mdilated_kernel\u001b[0m\u001b[0;34m,\u001b[0m\u001b[0mdilation\u001b[0m\u001b[0;34m,\u001b[0m\u001b[0mdilated_padding\u001b[0m\u001b[0;34m)\u001b[0m\u001b[0;34m\u001b[0m\u001b[0;34m\u001b[0m\u001b[0m\n\u001b[0m\u001b[1;32m     89\u001b[0m \u001b[0mmodel\u001b[0m\u001b[0;34m.\u001b[0m\u001b[0msummary\u001b[0m\u001b[0;34m(\u001b[0m\u001b[0;34m)\u001b[0m\u001b[0;34m\u001b[0m\u001b[0;34m\u001b[0m\u001b[0m\n",
            "\u001b[0;32m<ipython-input-5-85c8d0aa673c>\u001b[0m in \u001b[0;36mNet\u001b[0;34m(dilated_kernel, dilation, dilated_padding)\u001b[0m\n\u001b[1;32m     62\u001b[0m     \u001b[0;31m# DIL-CNN\u001b[0m\u001b[0;34m\u001b[0m\u001b[0;34m\u001b[0m\u001b[0;34m\u001b[0m\u001b[0m\n\u001b[1;32m     63\u001b[0m     \u001b[0mx\u001b[0m \u001b[0;34m=\u001b[0m \u001b[0mZeroPadding2D\u001b[0m\u001b[0;34m(\u001b[0m\u001b[0mpadding\u001b[0m\u001b[0;34m=\u001b[0m\u001b[0;34m(\u001b[0m\u001b[0mdilated_padding\u001b[0m\u001b[0;34m*\u001b[0m\u001b[0mdilation\u001b[0m\u001b[0;34m,\u001b[0m \u001b[0;36m0\u001b[0m\u001b[0;34m)\u001b[0m\u001b[0;34m)\u001b[0m\u001b[0;34m(\u001b[0m\u001b[0mx\u001b[0m\u001b[0;34m)\u001b[0m\u001b[0;34m\u001b[0m\u001b[0;34m\u001b[0m\u001b[0m\n\u001b[0;32m---> 64\u001b[0;31m     \u001b[0mx\u001b[0m \u001b[0;34m=\u001b[0m \u001b[0mConv2D\u001b[0m\u001b[0;34m(\u001b[0m\u001b[0;36m256\u001b[0m\u001b[0;34m,\u001b[0m \u001b[0mkernel_size\u001b[0m\u001b[0;34m=\u001b[0m\u001b[0mdilated_kernel\u001b[0m\u001b[0;34m,\u001b[0m \u001b[0mdilation_rate\u001b[0m\u001b[0;34m=\u001b[0m\u001b[0;34m(\u001b[0m\u001b[0mdilation\u001b[0m\u001b[0;34m,\u001b[0m \u001b[0;36m1\u001b[0m\u001b[0;34m)\u001b[0m\u001b[0;34m,\u001b[0m \u001b[0mstrides\u001b[0m\u001b[0;34m=\u001b[0m\u001b[0;34m(\u001b[0m\u001b[0;36m1\u001b[0m\u001b[0;34m,\u001b[0m\u001b[0;36m3\u001b[0m\u001b[0;34m)\u001b[0m\u001b[0;34m)\u001b[0m\u001b[0;34m(\u001b[0m\u001b[0mx\u001b[0m\u001b[0;34m)\u001b[0m\u001b[0;34m\u001b[0m\u001b[0;34m\u001b[0m\u001b[0m\n\u001b[0m\u001b[1;32m     65\u001b[0m     \u001b[0mx\u001b[0m \u001b[0;34m=\u001b[0m \u001b[0mActivation\u001b[0m\u001b[0;34m(\u001b[0m\u001b[0;34m'relu'\u001b[0m\u001b[0;34m)\u001b[0m\u001b[0;34m(\u001b[0m\u001b[0mx\u001b[0m\u001b[0;34m)\u001b[0m\u001b[0;34m\u001b[0m\u001b[0;34m\u001b[0m\u001b[0m\n\u001b[1;32m     66\u001b[0m     \u001b[0mx\u001b[0m \u001b[0;34m=\u001b[0m \u001b[0mBatchNormalization\u001b[0m\u001b[0;34m(\u001b[0m\u001b[0;34m)\u001b[0m\u001b[0;34m(\u001b[0m\u001b[0mx\u001b[0m\u001b[0;34m)\u001b[0m\u001b[0;34m\u001b[0m\u001b[0;34m\u001b[0m\u001b[0m\n",
            "\u001b[0;32m/usr/local/lib/python3.7/dist-packages/keras/engine/base_layer.py\u001b[0m in \u001b[0;36m__call__\u001b[0;34m(self, inputs, **kwargs)\u001b[0m\n\u001b[1;32m    455\u001b[0m             \u001b[0;31m# Actually call the layer,\u001b[0m\u001b[0;34m\u001b[0m\u001b[0;34m\u001b[0m\u001b[0;34m\u001b[0m\u001b[0m\n\u001b[1;32m    456\u001b[0m             \u001b[0;31m# collecting output(s), mask(s), and shape(s).\u001b[0m\u001b[0;34m\u001b[0m\u001b[0;34m\u001b[0m\u001b[0;34m\u001b[0m\u001b[0m\n\u001b[0;32m--> 457\u001b[0;31m             \u001b[0moutput\u001b[0m \u001b[0;34m=\u001b[0m \u001b[0mself\u001b[0m\u001b[0;34m.\u001b[0m\u001b[0mcall\u001b[0m\u001b[0;34m(\u001b[0m\u001b[0minputs\u001b[0m\u001b[0;34m,\u001b[0m \u001b[0;34m**\u001b[0m\u001b[0mkwargs\u001b[0m\u001b[0;34m)\u001b[0m\u001b[0;34m\u001b[0m\u001b[0;34m\u001b[0m\u001b[0m\n\u001b[0m\u001b[1;32m    458\u001b[0m             \u001b[0moutput_mask\u001b[0m \u001b[0;34m=\u001b[0m \u001b[0mself\u001b[0m\u001b[0;34m.\u001b[0m\u001b[0mcompute_mask\u001b[0m\u001b[0;34m(\u001b[0m\u001b[0minputs\u001b[0m\u001b[0;34m,\u001b[0m \u001b[0mprevious_mask\u001b[0m\u001b[0;34m)\u001b[0m\u001b[0;34m\u001b[0m\u001b[0;34m\u001b[0m\u001b[0m\n\u001b[1;32m    459\u001b[0m \u001b[0;34m\u001b[0m\u001b[0m\n",
            "\u001b[0;32m/usr/local/lib/python3.7/dist-packages/keras/layers/convolutional.py\u001b[0m in \u001b[0;36mcall\u001b[0;34m(self, inputs)\u001b[0m\n\u001b[1;32m    169\u001b[0m                 \u001b[0mpadding\u001b[0m\u001b[0;34m=\u001b[0m\u001b[0mself\u001b[0m\u001b[0;34m.\u001b[0m\u001b[0mpadding\u001b[0m\u001b[0;34m,\u001b[0m\u001b[0;34m\u001b[0m\u001b[0;34m\u001b[0m\u001b[0m\n\u001b[1;32m    170\u001b[0m                 \u001b[0mdata_format\u001b[0m\u001b[0;34m=\u001b[0m\u001b[0mself\u001b[0m\u001b[0;34m.\u001b[0m\u001b[0mdata_format\u001b[0m\u001b[0;34m,\u001b[0m\u001b[0;34m\u001b[0m\u001b[0;34m\u001b[0m\u001b[0m\n\u001b[0;32m--> 171\u001b[0;31m                 dilation_rate=self.dilation_rate)\n\u001b[0m\u001b[1;32m    172\u001b[0m         \u001b[0;32mif\u001b[0m \u001b[0mself\u001b[0m\u001b[0;34m.\u001b[0m\u001b[0mrank\u001b[0m \u001b[0;34m==\u001b[0m \u001b[0;36m3\u001b[0m\u001b[0;34m:\u001b[0m\u001b[0;34m\u001b[0m\u001b[0;34m\u001b[0m\u001b[0m\n\u001b[1;32m    173\u001b[0m             outputs = K.conv3d(\n",
            "\u001b[0;32m/usr/local/lib/python3.7/dist-packages/keras/backend/tensorflow_backend.py\u001b[0m in \u001b[0;36mconv2d\u001b[0;34m(x, kernel, strides, padding, data_format, dilation_rate)\u001b[0m\n\u001b[1;32m   3648\u001b[0m         \u001b[0mstrides\u001b[0m\u001b[0;34m=\u001b[0m\u001b[0mstrides\u001b[0m\u001b[0;34m,\u001b[0m\u001b[0;34m\u001b[0m\u001b[0;34m\u001b[0m\u001b[0m\n\u001b[1;32m   3649\u001b[0m         \u001b[0mpadding\u001b[0m\u001b[0;34m=\u001b[0m\u001b[0mpadding\u001b[0m\u001b[0;34m,\u001b[0m\u001b[0;34m\u001b[0m\u001b[0;34m\u001b[0m\u001b[0m\n\u001b[0;32m-> 3650\u001b[0;31m         data_format=tf_data_format)\n\u001b[0m\u001b[1;32m   3651\u001b[0m \u001b[0;34m\u001b[0m\u001b[0m\n\u001b[1;32m   3652\u001b[0m     \u001b[0;32mif\u001b[0m \u001b[0mdata_format\u001b[0m \u001b[0;34m==\u001b[0m \u001b[0;34m'channels_first'\u001b[0m \u001b[0;32mand\u001b[0m \u001b[0mtf_data_format\u001b[0m \u001b[0;34m==\u001b[0m \u001b[0;34m'NHWC'\u001b[0m\u001b[0;34m:\u001b[0m\u001b[0;34m\u001b[0m\u001b[0;34m\u001b[0m\u001b[0m\n",
            "\u001b[0;32m/tensorflow-1.15.2/python3.7/tensorflow_core/python/ops/nn_ops.py\u001b[0m in \u001b[0;36mconvolution\u001b[0;34m(input, filter, padding, strides, dilation_rate, name, data_format, filters, dilations)\u001b[0m\n\u001b[1;32m    896\u001b[0m       \u001b[0mdata_format\u001b[0m\u001b[0;34m=\u001b[0m\u001b[0mdata_format\u001b[0m\u001b[0;34m,\u001b[0m\u001b[0;34m\u001b[0m\u001b[0;34m\u001b[0m\u001b[0m\n\u001b[1;32m    897\u001b[0m       \u001b[0mdilations\u001b[0m\u001b[0;34m=\u001b[0m\u001b[0mdilation_rate\u001b[0m\u001b[0;34m,\u001b[0m\u001b[0;34m\u001b[0m\u001b[0;34m\u001b[0m\u001b[0m\n\u001b[0;32m--> 898\u001b[0;31m       name=name)\n\u001b[0m\u001b[1;32m    899\u001b[0m \u001b[0;34m\u001b[0m\u001b[0m\n\u001b[1;32m    900\u001b[0m \u001b[0;34m\u001b[0m\u001b[0m\n",
            "\u001b[0;32m/tensorflow-1.15.2/python3.7/tensorflow_core/python/ops/nn_ops.py\u001b[0m in \u001b[0;36mconvolution_internal\u001b[0;34m(input, filters, strides, padding, data_format, dilations, name, call_from_convolution)\u001b[0m\n\u001b[1;32m   1023\u001b[0m           \u001b[0mdilation_rate\u001b[0m\u001b[0;34m=\u001b[0m\u001b[0mdilations\u001b[0m\u001b[0;34m,\u001b[0m\u001b[0;34m\u001b[0m\u001b[0;34m\u001b[0m\u001b[0m\n\u001b[1;32m   1024\u001b[0m           \u001b[0mname\u001b[0m\u001b[0;34m=\u001b[0m\u001b[0mname\u001b[0m\u001b[0;34m,\u001b[0m\u001b[0;34m\u001b[0m\u001b[0;34m\u001b[0m\u001b[0m\n\u001b[0;32m-> 1025\u001b[0;31m           data_format=data_format)\n\u001b[0m\u001b[1;32m   1026\u001b[0m       \u001b[0;32mreturn\u001b[0m \u001b[0mop\u001b[0m\u001b[0;34m(\u001b[0m\u001b[0minput\u001b[0m\u001b[0;34m,\u001b[0m \u001b[0mfilters\u001b[0m\u001b[0;34m)\u001b[0m\u001b[0;34m\u001b[0m\u001b[0;34m\u001b[0m\u001b[0m\n\u001b[1;32m   1027\u001b[0m \u001b[0;34m\u001b[0m\u001b[0m\n",
            "\u001b[0;32m/tensorflow-1.15.2/python3.7/tensorflow_core/python/ops/nn_ops.py\u001b[0m in \u001b[0;36m__init__\u001b[0;34m(self, input_shape, filter_shape, padding, strides, dilation_rate, name, data_format)\u001b[0m\n\u001b[1;32m   1089\u001b[0m \u001b[0;34m\u001b[0m\u001b[0m\n\u001b[1;32m   1090\u001b[0m     strides, dilation_rate = _get_strides_and_dilation_rate(\n\u001b[0;32m-> 1091\u001b[0;31m         num_spatial_dims, strides, dilation_rate)\n\u001b[0m\u001b[1;32m   1092\u001b[0m \u001b[0;34m\u001b[0m\u001b[0m\n\u001b[1;32m   1093\u001b[0m     \u001b[0mself\u001b[0m\u001b[0;34m.\u001b[0m\u001b[0minput_shape\u001b[0m \u001b[0;34m=\u001b[0m \u001b[0minput_shape\u001b[0m\u001b[0;34m\u001b[0m\u001b[0;34m\u001b[0m\u001b[0m\n",
            "\u001b[0;32m/tensorflow-1.15.2/python3.7/tensorflow_core/python/ops/nn_ops.py\u001b[0m in \u001b[0;36m_get_strides_and_dilation_rate\u001b[0;34m(num_spatial_dims, strides, dilation_rate)\u001b[0m\n\u001b[1;32m    758\u001b[0m   \u001b[0;32mif\u001b[0m \u001b[0mnp\u001b[0m\u001b[0;34m.\u001b[0m\u001b[0many\u001b[0m\u001b[0;34m(\u001b[0m\u001b[0mstrides\u001b[0m \u001b[0;34m>\u001b[0m \u001b[0;36m1\u001b[0m\u001b[0;34m)\u001b[0m \u001b[0;32mand\u001b[0m \u001b[0mnp\u001b[0m\u001b[0;34m.\u001b[0m\u001b[0many\u001b[0m\u001b[0;34m(\u001b[0m\u001b[0mdilation_rate\u001b[0m \u001b[0;34m>\u001b[0m \u001b[0;36m1\u001b[0m\u001b[0;34m)\u001b[0m\u001b[0;34m:\u001b[0m\u001b[0;34m\u001b[0m\u001b[0;34m\u001b[0m\u001b[0m\n\u001b[1;32m    759\u001b[0m     raise ValueError(\n\u001b[0;32m--> 760\u001b[0;31m         \"strides > 1 not supported in conjunction with dilation_rate > 1\")\n\u001b[0m\u001b[1;32m    761\u001b[0m   \u001b[0;32mreturn\u001b[0m \u001b[0mstrides\u001b[0m\u001b[0;34m,\u001b[0m \u001b[0mdilation_rate\u001b[0m\u001b[0;34m\u001b[0m\u001b[0;34m\u001b[0m\u001b[0m\n\u001b[1;32m    762\u001b[0m \u001b[0;34m\u001b[0m\u001b[0m\n",
            "\u001b[0;31mValueError\u001b[0m: strides > 1 not supported in conjunction with dilation_rate > 1"
          ]
        }
      ]
    },
    {
      "cell_type": "markdown",
      "metadata": {
        "id": "I-DedsknrpJn"
      },
      "source": [
        "## new model"
      ]
    },
    {
      "cell_type": "code",
      "metadata": {
        "colab": {
          "base_uri": "https://localhost:8080/"
        },
        "id": "0ICNx-O8vhbQ",
        "outputId": "b312fbc4-6dd8-4bdb-e7be-b750e410dc9a"
      },
      "source": [
        "from keras.models import Model\r\n",
        "from keras.layers import SeparableConv2D, ZeroPadding2D, Activation, Dropout, Dense, \\\r\n",
        "                            Conv2D, MaxPooling2D, Reshape, Permute\r\n",
        "from keras.layers.normalization import BatchNormalization\r\n",
        "from keras import Input, optimizers\r\n",
        "\r\n",
        "num_rows = X.shape[1]\r\n",
        "num_columns = X.shape[2]\r\n",
        "num_channels = 1\r\n",
        "\r\n",
        "x_train = x_train.reshape(x_train.shape[0], num_rows, num_columns, num_channels)\r\n",
        "x_test = x_test.reshape(x_test.shape[0], num_rows, num_columns, num_channels)\r\n",
        "\r\n",
        "num_labels = y.shape[2]\r\n",
        "#num_labels = 16\r\n",
        "\r\n",
        "def Net(dilated_kernel, dilation, dilated_padding):\r\n",
        "    \r\n",
        "    # input layer\r\n",
        "    inputs = Input(shape=(num_rows, num_columns, num_channels))\r\n",
        "    \r\n",
        "    # DWS-CNN layer 1\r\n",
        "    x = ZeroPadding2D(padding=(2))(inputs)\r\n",
        "    # use valid padding since padding is introduced before due to its special form (maybe it's equal to use same padding?)\r\n",
        "    x = SeparableConv2D(256,kernel_size=(5,5), strides=(1,1), padding='valid')(x)\r\n",
        "    x = Activation('relu')(x)\r\n",
        "    # Batch Normalisation before passing it to the next layer\r\n",
        "    x = BatchNormalization()(x)\r\n",
        "    # Pooling\r\n",
        "    x = MaxPooling2D(pool_size=(1,5), strides=(1,5), padding='valid')(x)\r\n",
        "    # Dropout\r\n",
        "    x = Dropout(0.25)(x)\r\n",
        "    \r\n",
        "    # DWS-CNN layer 2\r\n",
        "    x = ZeroPadding2D(padding=(2))(x)\r\n",
        "    # use valid padding since padding is introduced before due to its special form\r\n",
        "    x = SeparableConv2D(256,kernel_size=(5,5), strides=(1,1), padding='valid')(x)\r\n",
        "    x = Activation('relu')(x)\r\n",
        "    # Batch Normalisation before passing it to the next layer\r\n",
        "    x = BatchNormalization()(x)\r\n",
        "    # Pooling\r\n",
        "    x = MaxPooling2D(pool_size=(1,4), strides=(1,4), padding='valid')(x)\r\n",
        "    # Dropout\r\n",
        "    x = Dropout(0.25)(x)\r\n",
        "    \r\n",
        "    # DWS-CNN layer 3\r\n",
        "    x = ZeroPadding2D(padding=(2))(x)\r\n",
        "    # use valid padding since padding is introduced before due to its special form\r\n",
        "    x = SeparableConv2D(256,kernel_size=(5,5), strides=(1,1), padding='valid')(x)\r\n",
        "    x = Activation('relu')(x)\r\n",
        "    # Batch Normalisation before passing it to the next layer\r\n",
        "    x = BatchNormalization()(x)\r\n",
        "    # Pooling\r\n",
        "    x = MaxPooling2D(pool_size=(1,2), strides=(1,2), padding='valid')(x)\r\n",
        "    # Dropout\r\n",
        "    x = Dropout(0.25)(x)\r\n",
        "    \r\n",
        "    x = Permute((1,3,2))(x)\r\n",
        "    \r\n",
        "    # DIL-CNN \r\n",
        "    x = ZeroPadding2D(padding=(dilated_padding*dilation, 0))(x)\r\n",
        "    x = Conv2D(256, kernel_size=dilated_kernel, dilation_rate=(dilation, 1))(x)#, strides=(1,3))(x)\r\n",
        "    x = Activation('relu')(x)\r\n",
        "    x = BatchNormalization()(x)\r\n",
        "    initializer = keras.initializers.Ones()\r\n",
        "    x = Conv2D(256, (1,1), strides=(1,3), kernel_initializer=initializer)(x)\r\n",
        "    \r\n",
        "    x = Reshape((1024, 256*84))(x)\r\n",
        "    \r\n",
        "    # classifier layer\r\n",
        "    outputs = Dense(num_labels,activation='sigmoid')(x)\r\n",
        "    \r\n",
        "    \r\n",
        "    # model compilation for training\r\n",
        "    adam = optimizers.Adam()#lr=0.0001)\r\n",
        "    model = Model(inputs, outputs)                            \r\n",
        "    model.compile(loss='binary_crossentropy', optimizer=adam, metrics=[\"binary_accuracy\"])\r\n",
        "    \r\n",
        "    return model\r\n",
        "\r\n",
        "\r\n",
        "# create the model\r\n",
        "dilated_kernel = (5,5)\r\n",
        "dilation = 10\r\n",
        "dilated_padding = 2\r\n",
        "model = Net(dilated_kernel,dilation,dilated_padding)\r\n",
        "model.summary()"
      ],
      "execution_count": 16,
      "outputs": [
        {
          "output_type": "stream",
          "text": [
            "Model: \"model_2\"\n",
            "_________________________________________________________________\n",
            "Layer (type)                 Output Shape              Param #   \n",
            "=================================================================\n",
            "input_4 (InputLayer)         [(None, 1024, 40, 1)]     0         \n",
            "_________________________________________________________________\n",
            "zero_padding2d_11 (ZeroPaddi (None, 1028, 44, 1)       0         \n",
            "_________________________________________________________________\n",
            "separable_conv2d_9 (Separabl (None, 1024, 40, 256)     537       \n",
            "_________________________________________________________________\n",
            "activation_11 (Activation)   (None, 1024, 40, 256)     0         \n",
            "_________________________________________________________________\n",
            "batch_normalization_11 (Batc (None, 1024, 40, 256)     1024      \n",
            "_________________________________________________________________\n",
            "max_pooling2d_9 (MaxPooling2 (None, 1024, 8, 256)      0         \n",
            "_________________________________________________________________\n",
            "dropout_9 (Dropout)          (None, 1024, 8, 256)      0         \n",
            "_________________________________________________________________\n",
            "zero_padding2d_12 (ZeroPaddi (None, 1028, 12, 256)     0         \n",
            "_________________________________________________________________\n",
            "separable_conv2d_10 (Separab (None, 1024, 8, 256)      72192     \n",
            "_________________________________________________________________\n",
            "activation_12 (Activation)   (None, 1024, 8, 256)      0         \n",
            "_________________________________________________________________\n",
            "batch_normalization_12 (Batc (None, 1024, 8, 256)      1024      \n",
            "_________________________________________________________________\n",
            "max_pooling2d_10 (MaxPooling (None, 1024, 2, 256)      0         \n",
            "_________________________________________________________________\n",
            "dropout_10 (Dropout)         (None, 1024, 2, 256)      0         \n",
            "_________________________________________________________________\n",
            "zero_padding2d_13 (ZeroPaddi (None, 1028, 6, 256)      0         \n",
            "_________________________________________________________________\n",
            "separable_conv2d_11 (Separab (None, 1024, 2, 256)      72192     \n",
            "_________________________________________________________________\n",
            "activation_13 (Activation)   (None, 1024, 2, 256)      0         \n",
            "_________________________________________________________________\n",
            "batch_normalization_13 (Batc (None, 1024, 2, 256)      1024      \n",
            "_________________________________________________________________\n",
            "max_pooling2d_11 (MaxPooling (None, 1024, 1, 256)      0         \n",
            "_________________________________________________________________\n",
            "dropout_11 (Dropout)         (None, 1024, 1, 256)      0         \n",
            "_________________________________________________________________\n",
            "permute_2 (Permute)          (None, 1024, 256, 1)      0         \n",
            "_________________________________________________________________\n",
            "zero_padding2d_14 (ZeroPaddi (None, 1064, 256, 1)      0         \n",
            "_________________________________________________________________\n",
            "conv2d_4 (Conv2D)            (None, 1024, 252, 256)    6656      \n",
            "_________________________________________________________________\n",
            "activation_14 (Activation)   (None, 1024, 252, 256)    0         \n",
            "_________________________________________________________________\n",
            "batch_normalization_14 (Batc (None, 1024, 252, 256)    1024      \n",
            "_________________________________________________________________\n",
            "conv2d_5 (Conv2D)            (None, 1024, 84, 256)     65792     \n",
            "_________________________________________________________________\n",
            "reshape_2 (Reshape)          (None, 1024, 21504)       0         \n",
            "_________________________________________________________________\n",
            "dense_2 (Dense)              (None, 1024, 16)          344080    \n",
            "=================================================================\n",
            "Total params: 565,545\n",
            "Trainable params: 563,497\n",
            "Non-trainable params: 2,048\n",
            "_________________________________________________________________\n"
          ],
          "name": "stdout"
        }
      ]
    },
    {
      "cell_type": "code",
      "metadata": {
        "id": "ZZbIeHH1vheD",
        "colab": {
          "base_uri": "https://localhost:8080/"
        },
        "outputId": "f03ff0a0-8cb0-4adb-fc51-9e0cf6b88c3f"
      },
      "source": [
        "from keras.callbacks import ModelCheckpoint, EarlyStopping\r\n",
        "from datetime import datetime \r\n",
        "\r\n",
        "num_epochs = 250\r\n",
        "# low batch size due to memory maximum dimension, modify if using smaller dataset\r\n",
        "num_batch_size = 16\r\n",
        "\r\n",
        "callbacks = [ModelCheckpoint(filepath='/content/drive/MyDrive/model-{val_loss:.2f}.h5', \r\n",
        "                               verbose=1, save_best_only=True, monitor=\"val_loss\"),\r\n",
        "                EarlyStopping(monitor='val_loss', patience=30)]\r\n",
        "\r\n",
        "start = datetime.now()\r\n",
        "\r\n",
        "#y_train = y_train.reshape(y_train.shape[0], 1024, 16)\r\n",
        "#y_test = y_test.reshape(y_test.shape[0], 1024, 16)\r\n",
        "\r\n",
        "history = model.fit(x_train, y_train, batch_size=num_batch_size, epochs=num_epochs, validation_split=0.16, verbose=1, callbacks=callbacks)\r\n",
        "\r\n",
        "duration = datetime.now() - start\r\n",
        "print(\"Training completed in time: \", duration)"
      ],
      "execution_count": 5,
      "outputs": [
        {
          "output_type": "stream",
          "text": [
            "Epoch 1/250\n",
            "142/142 [==============================] - 76s 261ms/step - loss: 0.3114 - binary_accuracy: 0.8822 - val_loss: 0.1893 - val_binary_accuracy: 0.9397\n",
            "\n",
            "Epoch 00001: val_loss improved from inf to 0.18931, saving model to /content/drive/MyDrive/model-0.19.h5\n",
            "Epoch 2/250\n",
            "142/142 [==============================] - 31s 217ms/step - loss: 0.1768 - binary_accuracy: 0.9428 - val_loss: 0.1626 - val_binary_accuracy: 0.9484\n",
            "\n",
            "Epoch 00002: val_loss improved from 0.18931 to 0.16263, saving model to /content/drive/MyDrive/model-0.16.h5\n",
            "Epoch 3/250\n",
            "142/142 [==============================] - 31s 217ms/step - loss: 0.1617 - binary_accuracy: 0.9488 - val_loss: 0.1604 - val_binary_accuracy: 0.9473\n",
            "\n",
            "Epoch 00003: val_loss improved from 0.16263 to 0.16041, saving model to /content/drive/MyDrive/model-0.16.h5\n",
            "Epoch 4/250\n",
            "142/142 [==============================] - 31s 216ms/step - loss: 0.1544 - binary_accuracy: 0.9513 - val_loss: 0.1469 - val_binary_accuracy: 0.9533\n",
            "\n",
            "Epoch 00004: val_loss improved from 0.16041 to 0.14695, saving model to /content/drive/MyDrive/model-0.15.h5\n",
            "Epoch 5/250\n",
            "142/142 [==============================] - 31s 216ms/step - loss: 0.1471 - binary_accuracy: 0.9538 - val_loss: 0.1391 - val_binary_accuracy: 0.9566\n",
            "\n",
            "Epoch 00005: val_loss improved from 0.14695 to 0.13906, saving model to /content/drive/MyDrive/model-0.14.h5\n",
            "Epoch 6/250\n",
            "142/142 [==============================] - 31s 216ms/step - loss: 0.1404 - binary_accuracy: 0.9557 - val_loss: 0.1315 - val_binary_accuracy: 0.9592\n",
            "\n",
            "Epoch 00006: val_loss improved from 0.13906 to 0.13153, saving model to /content/drive/MyDrive/model-0.13.h5\n",
            "Epoch 7/250\n",
            "142/142 [==============================] - 31s 217ms/step - loss: 0.1376 - binary_accuracy: 0.9572 - val_loss: 0.1293 - val_binary_accuracy: 0.9592\n",
            "\n",
            "Epoch 00007: val_loss improved from 0.13153 to 0.12933, saving model to /content/drive/MyDrive/model-0.13.h5\n",
            "Epoch 8/250\n",
            "142/142 [==============================] - 31s 216ms/step - loss: 0.1335 - binary_accuracy: 0.9581 - val_loss: 0.1278 - val_binary_accuracy: 0.9611\n",
            "\n",
            "Epoch 00008: val_loss improved from 0.12933 to 0.12775, saving model to /content/drive/MyDrive/model-0.13.h5\n",
            "Epoch 9/250\n",
            "142/142 [==============================] - 31s 217ms/step - loss: 0.1302 - binary_accuracy: 0.9594 - val_loss: 0.1245 - val_binary_accuracy: 0.9614\n",
            "\n",
            "Epoch 00009: val_loss improved from 0.12775 to 0.12453, saving model to /content/drive/MyDrive/model-0.12.h5\n",
            "Epoch 10/250\n",
            "142/142 [==============================] - 31s 216ms/step - loss: 0.1278 - binary_accuracy: 0.9601 - val_loss: 0.1246 - val_binary_accuracy: 0.9615\n",
            "\n",
            "Epoch 00010: val_loss did not improve from 0.12453\n",
            "Epoch 11/250\n",
            "142/142 [==============================] - 31s 217ms/step - loss: 0.1250 - binary_accuracy: 0.9608 - val_loss: 0.1263 - val_binary_accuracy: 0.9604\n",
            "\n",
            "Epoch 00011: val_loss did not improve from 0.12453\n",
            "Epoch 12/250\n",
            "142/142 [==============================] - 31s 217ms/step - loss: 0.1239 - binary_accuracy: 0.9613 - val_loss: 0.1293 - val_binary_accuracy: 0.9589\n",
            "\n",
            "Epoch 00012: val_loss did not improve from 0.12453\n",
            "Epoch 13/250\n",
            "142/142 [==============================] - 31s 217ms/step - loss: 0.1198 - binary_accuracy: 0.9627 - val_loss: 0.1204 - val_binary_accuracy: 0.9621\n",
            "\n",
            "Epoch 00013: val_loss improved from 0.12453 to 0.12038, saving model to /content/drive/MyDrive/model-0.12.h5\n",
            "Epoch 14/250\n",
            "142/142 [==============================] - 31s 216ms/step - loss: 0.1187 - binary_accuracy: 0.9630 - val_loss: 0.1176 - val_binary_accuracy: 0.9639\n",
            "\n",
            "Epoch 00014: val_loss improved from 0.12038 to 0.11756, saving model to /content/drive/MyDrive/model-0.12.h5\n",
            "Epoch 15/250\n",
            "142/142 [==============================] - 31s 216ms/step - loss: 0.1155 - binary_accuracy: 0.9641 - val_loss: 0.1180 - val_binary_accuracy: 0.9632\n",
            "\n",
            "Epoch 00015: val_loss did not improve from 0.11756\n",
            "Epoch 16/250\n",
            "142/142 [==============================] - 31s 217ms/step - loss: 0.1139 - binary_accuracy: 0.9645 - val_loss: 0.1200 - val_binary_accuracy: 0.9625\n",
            "\n",
            "Epoch 00016: val_loss did not improve from 0.11756\n",
            "Epoch 17/250\n",
            "142/142 [==============================] - 31s 217ms/step - loss: 0.1110 - binary_accuracy: 0.9655 - val_loss: 0.1174 - val_binary_accuracy: 0.9639\n",
            "\n",
            "Epoch 00017: val_loss improved from 0.11756 to 0.11737, saving model to /content/drive/MyDrive/model-0.12.h5\n",
            "Epoch 18/250\n",
            "142/142 [==============================] - 31s 217ms/step - loss: 0.1096 - binary_accuracy: 0.9658 - val_loss: 0.1163 - val_binary_accuracy: 0.9638\n",
            "\n",
            "Epoch 00018: val_loss improved from 0.11737 to 0.11633, saving model to /content/drive/MyDrive/model-0.12.h5\n",
            "Epoch 19/250\n",
            "142/142 [==============================] - 31s 217ms/step - loss: 0.1088 - binary_accuracy: 0.9658 - val_loss: 0.1150 - val_binary_accuracy: 0.9644\n",
            "\n",
            "Epoch 00019: val_loss improved from 0.11633 to 0.11503, saving model to /content/drive/MyDrive/model-0.12.h5\n",
            "Epoch 20/250\n",
            "142/142 [==============================] - 31s 217ms/step - loss: 0.1083 - binary_accuracy: 0.9663 - val_loss: 0.1125 - val_binary_accuracy: 0.9655\n",
            "\n",
            "Epoch 00020: val_loss improved from 0.11503 to 0.11253, saving model to /content/drive/MyDrive/model-0.11.h5\n",
            "Epoch 21/250\n",
            "142/142 [==============================] - 31s 217ms/step - loss: 0.1077 - binary_accuracy: 0.9662 - val_loss: 0.1136 - val_binary_accuracy: 0.9654\n",
            "\n",
            "Epoch 00021: val_loss did not improve from 0.11253\n",
            "Epoch 22/250\n",
            "142/142 [==============================] - 31s 217ms/step - loss: 0.1030 - binary_accuracy: 0.9680 - val_loss: 0.1196 - val_binary_accuracy: 0.9625\n",
            "\n",
            "Epoch 00022: val_loss did not improve from 0.11253\n",
            "Epoch 23/250\n",
            "142/142 [==============================] - 31s 217ms/step - loss: 0.1039 - binary_accuracy: 0.9675 - val_loss: 0.1137 - val_binary_accuracy: 0.9652\n",
            "\n",
            "Epoch 00023: val_loss did not improve from 0.11253\n",
            "Epoch 24/250\n",
            "142/142 [==============================] - 31s 217ms/step - loss: 0.0987 - binary_accuracy: 0.9696 - val_loss: 0.1170 - val_binary_accuracy: 0.9641\n",
            "\n",
            "Epoch 00024: val_loss did not improve from 0.11253\n",
            "Epoch 25/250\n",
            "142/142 [==============================] - 31s 217ms/step - loss: 0.0984 - binary_accuracy: 0.9694 - val_loss: 0.1138 - val_binary_accuracy: 0.9648\n",
            "\n",
            "Epoch 00025: val_loss did not improve from 0.11253\n",
            "Epoch 26/250\n",
            "142/142 [==============================] - 31s 217ms/step - loss: 0.0988 - binary_accuracy: 0.9694 - val_loss: 0.1141 - val_binary_accuracy: 0.9652\n",
            "\n",
            "Epoch 00026: val_loss did not improve from 0.11253\n",
            "Epoch 27/250\n",
            "142/142 [==============================] - 31s 217ms/step - loss: 0.0963 - binary_accuracy: 0.9699 - val_loss: 0.1119 - val_binary_accuracy: 0.9660\n",
            "\n",
            "Epoch 00027: val_loss improved from 0.11253 to 0.11192, saving model to /content/drive/MyDrive/model-0.11.h5\n",
            "Epoch 28/250\n",
            "142/142 [==============================] - 31s 217ms/step - loss: 0.0952 - binary_accuracy: 0.9707 - val_loss: 0.1147 - val_binary_accuracy: 0.9641\n",
            "\n",
            "Epoch 00028: val_loss did not improve from 0.11192\n",
            "Epoch 29/250\n",
            "142/142 [==============================] - 31s 217ms/step - loss: 0.0948 - binary_accuracy: 0.9706 - val_loss: 0.1170 - val_binary_accuracy: 0.9636\n",
            "\n",
            "Epoch 00029: val_loss did not improve from 0.11192\n",
            "Epoch 30/250\n",
            "142/142 [==============================] - 31s 216ms/step - loss: 0.0946 - binary_accuracy: 0.9707 - val_loss: 0.1129 - val_binary_accuracy: 0.9654\n",
            "\n",
            "Epoch 00030: val_loss did not improve from 0.11192\n",
            "Epoch 31/250\n",
            "142/142 [==============================] - 31s 217ms/step - loss: 0.0929 - binary_accuracy: 0.9712 - val_loss: 0.1127 - val_binary_accuracy: 0.9648\n",
            "\n",
            "Epoch 00031: val_loss did not improve from 0.11192\n",
            "Epoch 32/250\n",
            "142/142 [==============================] - 31s 217ms/step - loss: 0.0929 - binary_accuracy: 0.9713 - val_loss: 0.1102 - val_binary_accuracy: 0.9666\n",
            "\n",
            "Epoch 00032: val_loss improved from 0.11192 to 0.11024, saving model to /content/drive/MyDrive/model-0.11.h5\n",
            "Epoch 33/250\n",
            "142/142 [==============================] - 31s 217ms/step - loss: 0.0880 - binary_accuracy: 0.9730 - val_loss: 0.1165 - val_binary_accuracy: 0.9640\n",
            "\n",
            "Epoch 00033: val_loss did not improve from 0.11024\n",
            "Epoch 34/250\n",
            "142/142 [==============================] - 31s 217ms/step - loss: 0.0887 - binary_accuracy: 0.9725 - val_loss: 0.1136 - val_binary_accuracy: 0.9653\n",
            "\n",
            "Epoch 00034: val_loss did not improve from 0.11024\n",
            "Epoch 35/250\n",
            "142/142 [==============================] - 31s 217ms/step - loss: 0.0876 - binary_accuracy: 0.9730 - val_loss: 0.1132 - val_binary_accuracy: 0.9656\n",
            "\n",
            "Epoch 00035: val_loss did not improve from 0.11024\n",
            "Epoch 36/250\n",
            "142/142 [==============================] - 31s 217ms/step - loss: 0.0863 - binary_accuracy: 0.9734 - val_loss: 0.1128 - val_binary_accuracy: 0.9655\n",
            "\n",
            "Epoch 00036: val_loss did not improve from 0.11024\n",
            "Epoch 37/250\n",
            "142/142 [==============================] - 31s 217ms/step - loss: 0.0860 - binary_accuracy: 0.9731 - val_loss: 0.1147 - val_binary_accuracy: 0.9654\n",
            "\n",
            "Epoch 00037: val_loss did not improve from 0.11024\n",
            "Epoch 38/250\n",
            "142/142 [==============================] - 31s 217ms/step - loss: 0.0849 - binary_accuracy: 0.9735 - val_loss: 0.1128 - val_binary_accuracy: 0.9657\n",
            "\n",
            "Epoch 00038: val_loss did not improve from 0.11024\n",
            "Epoch 39/250\n",
            "142/142 [==============================] - 31s 217ms/step - loss: 0.0844 - binary_accuracy: 0.9742 - val_loss: 0.1120 - val_binary_accuracy: 0.9664\n",
            "\n",
            "Epoch 00039: val_loss did not improve from 0.11024\n",
            "Epoch 40/250\n",
            "142/142 [==============================] - 31s 217ms/step - loss: 0.0822 - binary_accuracy: 0.9745 - val_loss: 0.1149 - val_binary_accuracy: 0.9654\n",
            "\n",
            "Epoch 00040: val_loss did not improve from 0.11024\n",
            "Epoch 41/250\n",
            "142/142 [==============================] - 31s 217ms/step - loss: 0.0811 - binary_accuracy: 0.9749 - val_loss: 0.1121 - val_binary_accuracy: 0.9664\n",
            "\n",
            "Epoch 00041: val_loss did not improve from 0.11024\n",
            "Epoch 42/250\n",
            "142/142 [==============================] - 31s 217ms/step - loss: 0.0814 - binary_accuracy: 0.9746 - val_loss: 0.1149 - val_binary_accuracy: 0.9656\n",
            "\n",
            "Epoch 00042: val_loss did not improve from 0.11024\n",
            "Epoch 43/250\n",
            "142/142 [==============================] - 31s 217ms/step - loss: 0.0804 - binary_accuracy: 0.9751 - val_loss: 0.1147 - val_binary_accuracy: 0.9657\n",
            "\n",
            "Epoch 00043: val_loss did not improve from 0.11024\n",
            "Epoch 44/250\n",
            "142/142 [==============================] - 31s 217ms/step - loss: 0.0786 - binary_accuracy: 0.9756 - val_loss: 0.1179 - val_binary_accuracy: 0.9642\n",
            "\n",
            "Epoch 00044: val_loss did not improve from 0.11024\n",
            "Epoch 45/250\n",
            "142/142 [==============================] - 31s 217ms/step - loss: 0.0785 - binary_accuracy: 0.9755 - val_loss: 0.1134 - val_binary_accuracy: 0.9665\n",
            "\n",
            "Epoch 00045: val_loss did not improve from 0.11024\n",
            "Epoch 46/250\n",
            "142/142 [==============================] - 31s 217ms/step - loss: 0.0756 - binary_accuracy: 0.9764 - val_loss: 0.1150 - val_binary_accuracy: 0.9661\n",
            "\n",
            "Epoch 00046: val_loss did not improve from 0.11024\n",
            "Epoch 47/250\n",
            "142/142 [==============================] - 31s 217ms/step - loss: 0.0763 - binary_accuracy: 0.9765 - val_loss: 0.1147 - val_binary_accuracy: 0.9659\n",
            "\n",
            "Epoch 00047: val_loss did not improve from 0.11024\n",
            "Epoch 48/250\n",
            "142/142 [==============================] - 31s 217ms/step - loss: 0.0763 - binary_accuracy: 0.9761 - val_loss: 0.1164 - val_binary_accuracy: 0.9647\n",
            "\n",
            "Epoch 00048: val_loss did not improve from 0.11024\n",
            "Epoch 49/250\n",
            "142/142 [==============================] - 31s 217ms/step - loss: 0.0742 - binary_accuracy: 0.9769 - val_loss: 0.1146 - val_binary_accuracy: 0.9662\n",
            "\n",
            "Epoch 00049: val_loss did not improve from 0.11024\n",
            "Epoch 50/250\n",
            "142/142 [==============================] - 31s 217ms/step - loss: 0.0736 - binary_accuracy: 0.9771 - val_loss: 0.1197 - val_binary_accuracy: 0.9640\n",
            "\n",
            "Epoch 00050: val_loss did not improve from 0.11024\n",
            "Epoch 51/250\n",
            "142/142 [==============================] - 31s 217ms/step - loss: 0.0723 - binary_accuracy: 0.9775 - val_loss: 0.1206 - val_binary_accuracy: 0.9647\n",
            "\n",
            "Epoch 00051: val_loss did not improve from 0.11024\n",
            "Epoch 52/250\n",
            "142/142 [==============================] - 31s 217ms/step - loss: 0.0725 - binary_accuracy: 0.9775 - val_loss: 0.1177 - val_binary_accuracy: 0.9653\n",
            "\n",
            "Epoch 00052: val_loss did not improve from 0.11024\n",
            "Epoch 53/250\n",
            "142/142 [==============================] - 31s 217ms/step - loss: 0.0706 - binary_accuracy: 0.9781 - val_loss: 0.1288 - val_binary_accuracy: 0.9624\n",
            "\n",
            "Epoch 00053: val_loss did not improve from 0.11024\n",
            "Epoch 54/250\n",
            "142/142 [==============================] - 31s 217ms/step - loss: 0.0729 - binary_accuracy: 0.9771 - val_loss: 0.1192 - val_binary_accuracy: 0.9650\n",
            "\n",
            "Epoch 00054: val_loss did not improve from 0.11024\n",
            "Epoch 55/250\n",
            "142/142 [==============================] - 31s 217ms/step - loss: 0.0710 - binary_accuracy: 0.9776 - val_loss: 0.1207 - val_binary_accuracy: 0.9649\n",
            "\n",
            "Epoch 00055: val_loss did not improve from 0.11024\n",
            "Epoch 56/250\n",
            "142/142 [==============================] - 31s 217ms/step - loss: 0.0701 - binary_accuracy: 0.9780 - val_loss: 0.1167 - val_binary_accuracy: 0.9660\n",
            "\n",
            "Epoch 00056: val_loss did not improve from 0.11024\n",
            "Epoch 57/250\n",
            "142/142 [==============================] - 31s 217ms/step - loss: 0.0703 - binary_accuracy: 0.9779 - val_loss: 0.1209 - val_binary_accuracy: 0.9650\n",
            "\n",
            "Epoch 00057: val_loss did not improve from 0.11024\n",
            "Epoch 58/250\n",
            "142/142 [==============================] - 31s 217ms/step - loss: 0.0692 - binary_accuracy: 0.9785 - val_loss: 0.1209 - val_binary_accuracy: 0.9650\n",
            "\n",
            "Epoch 00058: val_loss did not improve from 0.11024\n",
            "Epoch 59/250\n",
            "142/142 [==============================] - 31s 217ms/step - loss: 0.0682 - binary_accuracy: 0.9787 - val_loss: 0.1201 - val_binary_accuracy: 0.9661\n",
            "\n",
            "Epoch 00059: val_loss did not improve from 0.11024\n",
            "Epoch 60/250\n",
            "142/142 [==============================] - 31s 217ms/step - loss: 0.0680 - binary_accuracy: 0.9787 - val_loss: 0.1234 - val_binary_accuracy: 0.9648\n",
            "\n",
            "Epoch 00060: val_loss did not improve from 0.11024\n",
            "Epoch 61/250\n",
            "142/142 [==============================] - 31s 217ms/step - loss: 0.0665 - binary_accuracy: 0.9790 - val_loss: 0.1238 - val_binary_accuracy: 0.9649\n",
            "\n",
            "Epoch 00061: val_loss did not improve from 0.11024\n",
            "Epoch 62/250\n",
            "142/142 [==============================] - 31s 217ms/step - loss: 0.0670 - binary_accuracy: 0.9788 - val_loss: 0.1229 - val_binary_accuracy: 0.9655\n",
            "\n",
            "Epoch 00062: val_loss did not improve from 0.11024\n",
            "Training completed in time:  0:32:41.694311\n"
          ],
          "name": "stdout"
        }
      ]
    },
    {
      "cell_type": "code",
      "metadata": {
        "id": "D80dzXbzmjpB"
      },
      "source": [
        "model.save('/content/drive/MyDrive/baseline-0.12.h5')"
      ],
      "execution_count": 12,
      "outputs": []
    },
    {
      "cell_type": "code",
      "metadata": {
        "colab": {
          "base_uri": "https://localhost:8080/"
        },
        "id": "GcgsF2fZvhgj",
        "outputId": "125e4d5c-c36b-49d4-9642-6989cdfc4da1"
      },
      "source": [
        "# Evaluate the model on the test data using `evaluate`\r\n",
        "print(\"Evaluate on test data\")\r\n",
        "results = model.evaluate(x_test, y_test, batch_size=num_batch_size)\r\n",
        "print(\"test loss, test acc:\", results)"
      ],
      "execution_count": 6,
      "outputs": [
        {
          "output_type": "stream",
          "text": [
            "Evaluate on test data\n",
            "43/43 [==============================] - 4s 84ms/step - loss: 0.1356 - binary_accuracy: 0.9621\n",
            "test loss, test acc: [0.13557842373847961, 0.9620664715766907]\n"
          ],
          "name": "stdout"
        }
      ]
    },
    {
      "cell_type": "code",
      "metadata": {
        "colab": {
          "base_uri": "https://localhost:8080/",
          "height": 573
        },
        "id": "z2ZOVgAMvhil",
        "outputId": "d4ec7f3f-555b-4f66-f718-51ff2508262b"
      },
      "source": [
        "import matplotlib.pyplot as plt\r\n",
        "\r\n",
        "# summarize history for accuracy\r\n",
        "plt.plot(history.history['binary_accuracy'])\r\n",
        "plt.plot(history.history['val_binary_accuracy'])\r\n",
        "plt.title('model accuracy')\r\n",
        "plt.ylabel('accuracy')\r\n",
        "plt.xlabel('epoch')\r\n",
        "plt.legend(['train', 'test'], loc='upper left')\r\n",
        "plt.show()\r\n",
        "# summarize history for loss\r\n",
        "plt.plot(history.history['loss'])\r\n",
        "plt.plot(history.history['val_loss'])\r\n",
        "plt.title('model loss')\r\n",
        "plt.ylabel('loss')\r\n",
        "plt.xlabel('epoch')\r\n",
        "plt.legend(['train', 'test'], loc='upper left')\r\n",
        "plt.show()"
      ],
      "execution_count": 7,
      "outputs": [
        {
          "output_type": "display_data",
          "data": {
            "image/png": "[encoded data removed]",
            "text/plain": [
              "<Figure size 432x288 with 1 Axes>"
            ]
          },
          "metadata": {
            "tags": [],
            "needs_background": "light"
          }
        },
        {
          "output_type": "display_data",
          "data": {
            "image/png": "[encoded data removed]",
            "text/plain": [
              "<Figure size 432x288 with 1 Axes>"
            ]
          },
          "metadata": {
            "tags": [],
            "needs_background": "light"
          }
        }
      ]
    },
    {
      "cell_type": "code",
      "metadata": {
        "id": "vZkGJtk6pRcu"
      },
      "source": [
        "model2 = keras.models.load_model('/content/drive/MyDrive/model-0.21-dessed.h5')"
      ],
      "execution_count": null,
      "outputs": []
    },
    {
      "cell_type": "code",
      "metadata": {
        "id": "2jAOtu-FvhlF",
        "colab": {
          "base_uri": "https://localhost:8080/"
        },
        "outputId": "ae495999-4db6-41f0-dc79-a8e0f800403d"
      },
      "source": [
        "TP = 0\r\n",
        "FP = 0\r\n",
        "TN = 0\r\n",
        "FN = 0\r\n",
        "\r\n",
        "y_pred = model.predict(x_test, batch_size=8, verbose=1)\r\n",
        "\r\n",
        "for i in range(y_test.shape[0]):\r\n",
        "    if i%100 == 0:\r\n",
        "        print(\"processing element \", i)\r\n",
        "    for j in range(y_test.shape[1]):\r\n",
        "        for k in range(y_test.shape[2]):\r\n",
        "            \r\n",
        "            test = y_test[i][j][k]\r\n",
        "            pred = y_pred[i][j][k]\r\n",
        "            \r\n",
        "            # binarization of predicted output\r\n",
        "            if(pred >= 0.5):\r\n",
        "                pred = 1\r\n",
        "            else:\r\n",
        "                pred = 0\r\n",
        "\r\n",
        "            if(test == 1 and pred == 1):\r\n",
        "                TP = TP + 1\r\n",
        "            elif(test == 0 and pred == 1):\r\n",
        "                FP = FP + 1\r\n",
        "            elif(test == 0 and pred == 0):\r\n",
        "                TN = TN + 1\r\n",
        "            elif(test == 1 and pred == 0):\r\n",
        "                FN = FN + 1\r\n",
        "                \r\n",
        "#print(TP+FP+TN+FN)\r\n",
        "#print(y_test.shape[1]*y_test.shape[2]*y_test.shape[0])\r\n",
        "\r\n",
        "recall = TP/(TP+FN)\r\n",
        "\r\n",
        "precision = TP/(TP+FP)\r\n",
        "\r\n",
        "f1_score = 2*recall*precision/(recall+precision)\r\n",
        "\r\n",
        "print(\"recall: \", recall)\r\n",
        "print(\"precision: \", precision)\r\n",
        "print(\"f1: \", f1_score)"
      ],
      "execution_count": 8,
      "outputs": [
        {
          "output_type": "stream",
          "text": [
            "85/85 [==============================] - 6s 52ms/step\n",
            "processing element  0\n",
            "processing element  100\n",
            "processing element  200\n",
            "processing element  300\n",
            "processing element  400\n",
            "processing element  500\n",
            "processing element  600\n",
            "recall:  0.6606829575500697\n",
            "precision:  0.7806265871375421\n",
            "f1:  0.7156640074065852\n"
          ],
          "name": "stdout"
        }
      ]
    },
    {
      "cell_type": "code",
      "metadata": {
        "id": "BvaDrIHpvhnG",
        "colab": {
          "base_uri": "https://localhost:8080/"
        },
        "outputId": "46b184ff-c819-4528-d7c5-382dfa7b114a"
      },
      "source": [
        "TP"
      ],
      "execution_count": 10,
      "outputs": [
        {
          "output_type": "execute_result",
          "data": {
            "text/plain": [
              "528734"
            ]
          },
          "metadata": {
            "tags": []
          },
          "execution_count": 10
        }
      ]
    },
    {
      "cell_type": "code",
      "metadata": {
        "id": "8oTAioOcvhpF",
        "colab": {
          "base_uri": "https://localhost:8080/"
        },
        "outputId": "d0efd741-5b20-4714-86e1-52dd169cddc3"
      },
      "source": [
        "print(\"f1: \", f1_score)"
      ],
      "execution_count": null,
      "outputs": [
        {
          "output_type": "stream",
          "text": [
            "f1:  0.335704965485368\n"
          ],
          "name": "stdout"
        }
      ]
    },
    {
      "cell_type": "markdown",
      "metadata": {
        "id": "F0V-hVJgdEmg"
      },
      "source": [
        "## save model"
      ]
    },
    {
      "cell_type": "code",
      "metadata": {
        "id": "5ebi1aSfc7zr"
      },
      "source": [
        "filename = '/content/drive/MyDrive/model-dessed-endtrain.h5'\r\n",
        "model.save(filename)"
      ],
      "execution_count": null,
      "outputs": []
    }
  ]
}