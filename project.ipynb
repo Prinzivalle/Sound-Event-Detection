{
 "cells": [
  {
   "cell_type": "markdown",
   "id": "challenging-orientation",
   "metadata": {},
   "source": [
    "# Sound Event Detection with Depthwise Separable and Dilated Convolutions"
   ]
  },
  {
   "cell_type": "markdown",
   "id": "hungarian-message",
   "metadata": {},
   "source": [
    "## Import libraries"
   ]
  },
  {
   "cell_type": "code",
   "execution_count": 1,
   "id": "flexible-honey",
   "metadata": {},
   "outputs": [
    {
     "name": "stdout",
     "output_type": "stream",
     "text": [
      "Tensorflow version 2.4.1\n",
      "Keras version 2.4.3\n"
     ]
    }
   ],
   "source": [
    "import numpy as np\n",
    "import tensorflow as tf\n",
    "import keras\n",
    "from keras.preprocessing.image import ImageDataGenerator\n",
    "\n",
    "print(\"Tensorflow version %s\" %tf.__version__)\n",
    "print(\"Keras version %s\" %keras.__version__)"
   ]
  },
  {
   "cell_type": "markdown",
   "id": "initial-minnesota",
   "metadata": {},
   "source": [
    "## Load data and get mel spectrogram from audio"
   ]
  },
  {
   "cell_type": "code",
   "execution_count": 2,
   "id": "sixth-respondent",
   "metadata": {},
   "outputs": [
    {
     "name": "stderr",
     "output_type": "stream",
     "text": [
      "E:\\anaconda3\\envs\\hello-tf\\lib\\site-packages\\librosa\\core\\spectrum.py:222: UserWarning: n_fft=2048 is too small for input signal of length=1323\n",
      "  warnings.warn(\n",
      "E:\\anaconda3\\envs\\hello-tf\\lib\\site-packages\\librosa\\core\\spectrum.py:222: UserWarning: n_fft=2048 is too small for input signal of length=1103\n",
      "  warnings.warn(\n",
      "E:\\anaconda3\\envs\\hello-tf\\lib\\site-packages\\librosa\\core\\spectrum.py:222: UserWarning: n_fft=2048 is too small for input signal of length=1523\n",
      "  warnings.warn(\n"
     ]
    },
    {
     "name": "stdout",
     "output_type": "stream",
     "text": [
      "Finished feature extraction from  8732  files\n"
     ]
    }
   ],
   "source": [
    "# Load various imports \n",
    "import pandas as pd\n",
    "import os\n",
    "import librosa\n",
    "\n",
    "max_pad_len = 174\n",
    "\n",
    "def extract_features(file_name):\n",
    "   \n",
    "    #try:\n",
    "    audio, sample_rate = librosa.load(file_name, res_type='kaiser_fast') \n",
    "        #melspec_args = {\"n_fft\": 160, \"hop_length\": 80, \"window\":  get_window(\"hamming\", 0.02)}\n",
    "        #mfccs = librosa.feature.mfcc(y=y, sr=sr, S=None, n_mfcc=12, **melspec_args)\n",
    "    mfccs = librosa.feature.mfcc(y=audio, sr=sample_rate, n_mfcc=1024, n_mels=40)\n",
    "    pad_width = max_pad_len - mfccs.shape[1]\n",
    "    mfccs = np.pad(mfccs, pad_width=((0, 0), (0, pad_width)), mode='constant')\n",
    "        \n",
    "    #except Exception as e:\n",
    "    #    print(\"Error encountered while parsing file: \", file_name)\n",
    "    #    return None \n",
    "     \n",
    "    return mfccs\n",
    "    \n",
    "# Set the path to the full UrbanSound dataset \n",
    "fulldatasetpath = '/Xception/UrbanSound8K/audio/'\n",
    "\n",
    "metadata = pd.read_csv('UrbanSound8K/metadata/UrbanSound8K.csv')\n",
    "\n",
    "features = []\n",
    "\n",
    "# Iterate through each sound file and extract the features \n",
    "for index, row in metadata.iterrows():\n",
    "    \n",
    "    file_name = os.path.join(os.path.abspath(fulldatasetpath),'fold'+str(row[\"fold\"]),str(row[\"slice_file_name\"]))\n",
    "    \n",
    "    class_label = row[\"class\"]\n",
    "    data = extract_features(file_name)\n",
    "    \n",
    "    features.append([data, class_label])\n",
    "\n",
    "# Convert into a Panda dataframe \n",
    "featuresdf = pd.DataFrame(features, columns=['feature','class_label'])\n",
    "\n",
    "print('Finished feature extraction from ', len(featuresdf), ' files')"
   ]
  },
  {
   "cell_type": "markdown",
   "id": "single-handbook",
   "metadata": {},
   "source": [
    "## Preprocess data"
   ]
  },
  {
   "cell_type": "code",
   "execution_count": 3,
   "id": "micro-corporation",
   "metadata": {},
   "outputs": [],
   "source": [
    "from sklearn.preprocessing import LabelEncoder\n",
    "from keras.utils import to_categorical\n",
    "\n",
    "# Convert features and corresponding classification labels into numpy arrays\n",
    "X = np.array(featuresdf.feature.tolist())\n",
    "y = np.array(featuresdf.class_label.tolist())\n",
    "\n",
    "# Encode the classification labels\n",
    "le = LabelEncoder()\n",
    "yy = to_categorical(le.fit_transform(y)) \n",
    "\n",
    "# split the dataset \n",
    "from sklearn.model_selection import train_test_split \n",
    "\n",
    "x_train, x_test, y_train, y_test = train_test_split(X, yy, test_size=0.2, random_state = 42)"
   ]
  },
  {
   "cell_type": "code",
   "execution_count": null,
   "id": "guilty-technician",
   "metadata": {},
   "outputs": [],
   "source": []
  },
  {
   "cell_type": "code",
   "execution_count": 4,
   "id": "better-premium",
   "metadata": {},
   "outputs": [
    {
     "name": "stdout",
     "output_type": "stream",
     "text": [
      "Model: \"sequential\"\n",
      "_________________________________________________________________\n",
      "Layer (type)                 Output Shape              Param #   \n",
      "=================================================================\n",
      "conv2d (Conv2D)              (None, 39, 173, 16)       80        \n",
      "_________________________________________________________________\n",
      "max_pooling2d (MaxPooling2D) (None, 19, 86, 16)        0         \n",
      "_________________________________________________________________\n",
      "dropout (Dropout)            (None, 19, 86, 16)        0         \n",
      "_________________________________________________________________\n",
      "conv2d_1 (Conv2D)            (None, 18, 85, 32)        2080      \n",
      "_________________________________________________________________\n",
      "max_pooling2d_1 (MaxPooling2 (None, 9, 42, 32)         0         \n",
      "_________________________________________________________________\n",
      "dropout_1 (Dropout)          (None, 9, 42, 32)         0         \n",
      "_________________________________________________________________\n",
      "conv2d_2 (Conv2D)            (None, 8, 41, 64)         8256      \n",
      "_________________________________________________________________\n",
      "max_pooling2d_2 (MaxPooling2 (None, 4, 20, 64)         0         \n",
      "_________________________________________________________________\n",
      "dropout_2 (Dropout)          (None, 4, 20, 64)         0         \n",
      "_________________________________________________________________\n",
      "conv2d_3 (Conv2D)            (None, 3, 19, 128)        32896     \n",
      "_________________________________________________________________\n",
      "max_pooling2d_3 (MaxPooling2 (None, 1, 9, 128)         0         \n",
      "_________________________________________________________________\n",
      "dropout_3 (Dropout)          (None, 1, 9, 128)         0         \n",
      "_________________________________________________________________\n",
      "global_average_pooling2d (Gl (None, 128)               0         \n",
      "_________________________________________________________________\n",
      "dense (Dense)                (None, 10)                1290      \n",
      "=================================================================\n",
      "Total params: 44,602\n",
      "Trainable params: 44,602\n",
      "Non-trainable params: 0\n",
      "_________________________________________________________________\n",
      "55/55 [==============================] - 1s 10ms/step - loss: 7.2314 - accuracy: 0.1243\n",
      "Pre-training accuracy: 11.6772%\n"
     ]
    }
   ],
   "source": [
    "import numpy as np\n",
    "from keras.models import Sequential\n",
    "from keras.layers import Dense, Dropout, Activation, Flatten\n",
    "from keras.layers import Convolution2D, Conv2D, MaxPooling2D, GlobalAveragePooling2D\n",
    "from keras.optimizers import Adam\n",
    "from keras.utils import np_utils\n",
    "from sklearn import metrics \n",
    "\n",
    "num_rows = 40\n",
    "num_columns = 174\n",
    "num_channels = 1\n",
    "\n",
    "x_train = x_train.reshape(x_train.shape[0], num_rows, num_columns, num_channels)\n",
    "x_test = x_test.reshape(x_test.shape[0], num_rows, num_columns, num_channels)\n",
    "\n",
    "num_labels = yy.shape[1]\n",
    "filter_size = 2\n",
    "\n",
    "# Construct model \n",
    "model = Sequential()\n",
    "model.add(Conv2D(filters=16, kernel_size=2, input_shape=(num_rows, num_columns, num_channels), activation='relu'))\n",
    "model.add(MaxPooling2D(pool_size=2))\n",
    "model.add(Dropout(0.2))\n",
    "\n",
    "model.add(Conv2D(filters=32, kernel_size=2, activation='relu'))\n",
    "model.add(MaxPooling2D(pool_size=2))\n",
    "model.add(Dropout(0.2))\n",
    "\n",
    "model.add(Conv2D(filters=64, kernel_size=2, activation='relu'))\n",
    "model.add(MaxPooling2D(pool_size=2))\n",
    "model.add(Dropout(0.2))\n",
    "\n",
    "model.add(Conv2D(filters=128, kernel_size=2, activation='relu'))\n",
    "model.add(MaxPooling2D(pool_size=2))\n",
    "model.add(Dropout(0.2))\n",
    "model.add(GlobalAveragePooling2D())\n",
    "\n",
    "model.add(Dense(num_labels, activation='softmax'))\n",
    "\n",
    "# Compile the model\n",
    "model.compile(loss='categorical_crossentropy', metrics=['accuracy'], optimizer='adam')\n",
    "\n",
    "# Display model architecture summary \n",
    "model.summary()\n",
    "\n",
    "# Calculate pre-training accuracy \n",
    "score = model.evaluate(x_test, y_test, verbose=1)\n",
    "accuracy = 100*score[1]\n",
    "\n",
    "print(\"Pre-training accuracy: %.4f%%\" % accuracy) "
   ]
  },
  {
   "cell_type": "code",
   "execution_count": null,
   "id": "after-builder",
   "metadata": {},
   "outputs": [],
   "source": []
  },
  {
   "cell_type": "code",
   "execution_count": null,
   "id": "portuguese-oxide",
   "metadata": {},
   "outputs": [],
   "source": []
  },
  {
   "cell_type": "markdown",
   "id": "rising-water",
   "metadata": {},
   "source": [
    "## Model"
   ]
  },
  {
   "cell_type": "code",
   "execution_count": 6,
   "id": "infrared-mounting",
   "metadata": {
    "scrolled": false
   },
   "outputs": [
    {
     "name": "stdout",
     "output_type": "stream",
     "text": [
      "Model: \"sequential_1\"\n",
      "_________________________________________________________________\n",
      "Layer (type)                 Output Shape              Param #   \n",
      "=================================================================\n",
      "zero_padding2d_4 (ZeroPaddin (None, 44, 178, 1)        0         \n",
      "_________________________________________________________________\n",
      "separable_conv2d_3 (Separabl (None, 40, 174, 256)      537       \n",
      "_________________________________________________________________\n",
      "activation_5 (Activation)    (None, 40, 174, 256)      0         \n",
      "_________________________________________________________________\n",
      "batch_normalization_4 (Batch (None, 40, 174, 256)      1024      \n",
      "_________________________________________________________________\n",
      "max_pooling2d_3 (MaxPooling2 (None, 40, 34, 256)       0         \n",
      "_________________________________________________________________\n",
      "dropout_3 (Dropout)          (None, 40, 34, 256)       0         \n",
      "_________________________________________________________________\n",
      "zero_padding2d_5 (ZeroPaddin (None, 44, 38, 256)       0         \n",
      "_________________________________________________________________\n",
      "separable_conv2d_4 (Separabl (None, 40, 34, 256)       72192     \n",
      "_________________________________________________________________\n",
      "activation_6 (Activation)    (None, 40, 34, 256)       0         \n",
      "_________________________________________________________________\n",
      "batch_normalization_5 (Batch (None, 40, 34, 256)       1024      \n",
      "_________________________________________________________________\n",
      "max_pooling2d_4 (MaxPooling2 (None, 40, 8, 256)        0         \n",
      "_________________________________________________________________\n",
      "dropout_4 (Dropout)          (None, 40, 8, 256)        0         \n",
      "_________________________________________________________________\n",
      "zero_padding2d_6 (ZeroPaddin (None, 44, 12, 256)       0         \n",
      "_________________________________________________________________\n",
      "separable_conv2d_5 (Separabl (None, 40, 8, 256)        72192     \n",
      "_________________________________________________________________\n",
      "activation_7 (Activation)    (None, 40, 8, 256)        0         \n",
      "_________________________________________________________________\n",
      "batch_normalization_6 (Batch (None, 40, 8, 256)        1024      \n",
      "_________________________________________________________________\n",
      "max_pooling2d_5 (MaxPooling2 (None, 40, 4, 256)        0         \n",
      "_________________________________________________________________\n",
      "dropout_5 (Dropout)          (None, 40, 4, 256)        0         \n",
      "_________________________________________________________________\n",
      "zero_padding2d_7 (ZeroPaddin (None, 40, 44, 256)       0         \n",
      "_________________________________________________________________\n",
      "conv2d_1 (Conv2D)            (None, 38, 24, 256)       590080    \n",
      "_________________________________________________________________\n",
      "batch_normalization_7 (Batch (None, 38, 24, 256)       1024      \n",
      "_________________________________________________________________\n",
      "activation_8 (Activation)    (None, 38, 24, 256)       0         \n",
      "_________________________________________________________________\n",
      "avg_pool (GlobalAveragePooli (None, 256)               0         \n",
      "_________________________________________________________________\n",
      "dense_1 (Dense)              (None, 10)                2570      \n",
      "_________________________________________________________________\n",
      "activation_9 (Activation)    (None, 10)                0         \n",
      "=================================================================\n",
      "Total params: 741,667\n",
      "Trainable params: 739,619\n",
      "Non-trainable params: 2,048\n",
      "_________________________________________________________________\n"
     ]
    }
   ],
   "source": [
    "from keras.models import Sequential\n",
    "from keras.layers import SeparableConv2D, ZeroPadding2D, Activation, Dropout, Dense, \\\n",
    "                            Conv2D, MaxPooling2D, Flatten, GlobalAveragePooling2D\n",
    "from keras.layers.normalization import BatchNormalization\n",
    "from keras import Input, optimizers\n",
    "\n",
    "num_rows = 40\n",
    "num_columns = 174\n",
    "num_channels = 1\n",
    "\n",
    "x_train = x_train.reshape(x_train.shape[0], num_rows, num_columns, num_channels)\n",
    "x_test = x_test.reshape(x_test.shape[0], num_rows, num_columns, num_channels)\n",
    "\n",
    "num_labels = yy.shape[1]\n",
    "\n",
    "def Net(input_shape, num_classes, dilated_kernel, dilation, dilated_padding):\n",
    "\n",
    "    model = Sequential()\n",
    "    \n",
    "    # input layer\n",
    "    #model.add(Input(shape=(256,256,1)))#TODO ADD REAL SIZE\n",
    "    model.add(Input(shape=(num_rows, num_columns, num_channels)))\n",
    "    \n",
    "    # DWS-CNN layer 1\n",
    "    model.add(ZeroPadding2D(padding=(2)))\n",
    "    # use valid padding since padding is introduced before since it has a special form\n",
    "    model.add(SeparableConv2D(256,kernel_size=(5,5), strides=(1,1), padding='valid'))\n",
    "    model.add(Activation('relu'))\n",
    "    # Batch Normalisation before passing it to the next layer\n",
    "    model.add(BatchNormalization())\n",
    "    # Pooling\n",
    "    model.add(MaxPooling2D(pool_size=(1,5), strides=(1,5), padding='valid'))\n",
    "    # Dropout\n",
    "    model.add(Dropout(0.25))\n",
    "    \n",
    "    # DWS-CNN layer 2\n",
    "    model.add(ZeroPadding2D(padding=(2, 2)))\n",
    "    # use valid padding since padding is introduced before since it has a special form\n",
    "    model.add(SeparableConv2D(256,kernel_size=(5,5), strides=(1,1), padding='valid'))\n",
    "    model.add(Activation('relu'))\n",
    "    # Batch Normalisation before passing it to the next layer\n",
    "    model.add(BatchNormalization())\n",
    "    # Pooling\n",
    "    model.add(MaxPooling2D(pool_size=(1,4), strides=(1,4), padding='valid'))\n",
    "    # Dropout\n",
    "    model.add(Dropout(0.25))\n",
    "    \n",
    "    # DWS-CNN layer 3\n",
    "    model.add(ZeroPadding2D(padding=(2, 2)))\n",
    "    # use valid padding since padding is introduced before since it has a special form\n",
    "    model.add(SeparableConv2D(256,kernel_size=(5,5), strides=(1,1), padding='valid'))\n",
    "    model.add(Activation('relu'))\n",
    "    # Batch Normalisation before passing it to the next layer\n",
    "    model.add(BatchNormalization())\n",
    "    # Pooling\n",
    "    model.add(MaxPooling2D(pool_size=(1,2), strides=(1,2), padding='valid'))\n",
    "    # Dropout\n",
    "    model.add(Dropout(0.25))\n",
    "    \n",
    "    # DIL-CNN \n",
    "    model.add(ZeroPadding2D(padding=(0, dilated_padding*dilation)))\n",
    "    model.add(Conv2D(256, kernel_size=dilated_kernel, dilation_rate=(1,dilation)))\n",
    "    model.add(BatchNormalization())\n",
    "    model.add(Activation('relu'))\n",
    "    \n",
    "    # classifier layer\n",
    "    #model.add(Flatten())\n",
    "    model.add(GlobalAveragePooling2D(name='avg_pool'))\n",
    "    model.add(Dense(num_labels))\n",
    "    model.add(Activation('sigmoid'))\n",
    "    \n",
    "    # model compilation for training\n",
    "    adam = optimizers.Adam(lr=0.0001)\n",
    "    metrics=['accuracy', keras.metrics.Precision(), keras.metrics.Recall()]\n",
    "    model.compile(loss='categorical_crossentropy', optimizer=adam, metrics=metrics)\n",
    "    \n",
    "    return model\n",
    "\n",
    "\n",
    "# create the model\n",
    "input_shape = (16, 16, 16, 1)\n",
    "num_classes = 16\n",
    "dilated_kernel = (3,3)\n",
    "dilation = (10)\n",
    "dilated_padding = 2\n",
    "model = Net(input_shape,num_classes,dilated_kernel,dilation,dilated_padding)\n",
    "model.summary()"
   ]
  },
  {
   "cell_type": "markdown",
   "id": "personal-musician",
   "metadata": {},
   "source": [
    "## Train the model"
   ]
  },
  {
   "cell_type": "code",
   "execution_count": 7,
   "id": "dietary-diploma",
   "metadata": {
    "scrolled": false
   },
   "outputs": [
    {
     "name": "stdout",
     "output_type": "stream",
     "text": [
      "Epoch 1/50\n",
      "437/437 [==============================] - 330s 754ms/step - loss: 1.8484 - accuracy: 0.3285 - precision_1: 0.1701 - recall_1: 0.9064 - val_loss: 2.5427 - val_accuracy: 0.1214 - val_precision_1: 0.1324 - val_recall_1: 0.5518\n",
      "Epoch 2/50\n",
      "437/437 [==============================] - 324s 742ms/step - loss: 1.2875 - accuracy: 0.5386 - precision_1: 0.2078 - recall_1: 0.9651 - val_loss: 1.6068 - val_accuracy: 0.4276 - val_precision_1: 0.2048 - val_recall_1: 0.9153\n",
      "Epoch 3/50\n",
      "437/437 [==============================] - 326s 746ms/step - loss: 1.1065 - accuracy: 0.6261 - precision_1: 0.2179 - recall_1: 0.9736 - val_loss: 1.7470 - val_accuracy: 0.4408 - val_precision_1: 0.2182 - val_recall_1: 0.9153\n",
      "Epoch 4/50\n",
      "437/437 [==============================] - 330s 755ms/step - loss: 1.0106 - accuracy: 0.6650 - precision_1: 0.2268 - recall_1: 0.9713 - val_loss: 1.3928 - val_accuracy: 0.5140 - val_precision_1: 0.2303 - val_recall_1: 0.9359\n",
      "Epoch 5/50\n",
      "437/437 [==============================] - 332s 759ms/step - loss: 0.9139 - accuracy: 0.7110 - precision_1: 0.2377 - recall_1: 0.9694 - val_loss: 1.2782 - val_accuracy: 0.5965 - val_precision_1: 0.2227 - val_recall_1: 0.9347\n",
      "Epoch 6/50\n",
      "437/437 [==============================] - 330s 754ms/step - loss: 0.8611 - accuracy: 0.7162 - precision_1: 0.2466 - recall_1: 0.9708 - val_loss: 1.3416 - val_accuracy: 0.5467 - val_precision_1: 0.2452 - val_recall_1: 0.9376\n",
      "Epoch 7/50\n",
      "437/437 [==============================] - 334s 765ms/step - loss: 0.8222 - accuracy: 0.7364 - precision_1: 0.2547 - recall_1: 0.9732 - val_loss: 1.0850 - val_accuracy: 0.6388 - val_precision_1: 0.2458 - val_recall_1: 0.9519\n",
      "Epoch 8/50\n",
      "437/437 [==============================] - 330s 754ms/step - loss: 0.7724 - accuracy: 0.7459 - precision_1: 0.2622 - recall_1: 0.9713 - val_loss: 1.1135 - val_accuracy: 0.6342 - val_precision_1: 0.2553 - val_recall_1: 0.9525\n",
      "Epoch 9/50\n",
      "437/437 [==============================] - 328s 751ms/step - loss: 0.7304 - accuracy: 0.7701 - precision_1: 0.2689 - recall_1: 0.9755 - val_loss: 1.0889 - val_accuracy: 0.6434 - val_precision_1: 0.2554 - val_recall_1: 0.9479\n",
      "Epoch 10/50\n",
      "437/437 [==============================] - 330s 755ms/step - loss: 0.7213 - accuracy: 0.7775 - precision_1: 0.2764 - recall_1: 0.9726 - val_loss: 0.9133 - val_accuracy: 0.7035 - val_precision_1: 0.2644 - val_recall_1: 0.9611\n",
      "Epoch 11/50\n",
      "437/437 [==============================] - 325s 743ms/step - loss: 0.6486 - accuracy: 0.7989 - precision_1: 0.2867 - recall_1: 0.9783 - val_loss: 1.0741 - val_accuracy: 0.6686 - val_precision_1: 0.2674 - val_recall_1: 0.9485\n",
      "Epoch 12/50\n",
      "437/437 [==============================] - 328s 750ms/step - loss: 0.6362 - accuracy: 0.7984 - precision_1: 0.2897 - recall_1: 0.9743 - val_loss: 0.8491 - val_accuracy: 0.7298 - val_precision_1: 0.2698 - val_recall_1: 0.9525\n",
      "Epoch 13/50\n",
      "437/437 [==============================] - 333s 763ms/step - loss: 0.6032 - accuracy: 0.8170 - precision_1: 0.2981 - recall_1: 0.9753 - val_loss: 1.0060 - val_accuracy: 0.6880 - val_precision_1: 0.2757 - val_recall_1: 0.9439\n",
      "Epoch 14/50\n",
      "437/437 [==============================] - 329s 753ms/step - loss: 0.5790 - accuracy: 0.8181 - precision_1: 0.3050 - recall_1: 0.9776 - val_loss: 0.8258 - val_accuracy: 0.7275 - val_precision_1: 0.2809 - val_recall_1: 0.9588\n",
      "Epoch 15/50\n",
      "437/437 [==============================] - 331s 757ms/step - loss: 0.5627 - accuracy: 0.8190 - precision_1: 0.3160 - recall_1: 0.9795 - val_loss: 0.8800 - val_accuracy: 0.7212 - val_precision_1: 0.2732 - val_recall_1: 0.9450\n",
      "Epoch 16/50\n",
      "437/437 [==============================] - 331s 758ms/step - loss: 0.5488 - accuracy: 0.8274 - precision_1: 0.3198 - recall_1: 0.9826 - val_loss: 0.7688 - val_accuracy: 0.7470 - val_precision_1: 0.2903 - val_recall_1: 0.9594\n",
      "Epoch 17/50\n",
      "437/437 [==============================] - 331s 758ms/step - loss: 0.5140 - accuracy: 0.8397 - precision_1: 0.3306 - recall_1: 0.9785 - val_loss: 0.7154 - val_accuracy: 0.7647 - val_precision_1: 0.2988 - val_recall_1: 0.9651\n",
      "Epoch 18/50\n",
      "437/437 [==============================] - 330s 756ms/step - loss: 0.4995 - accuracy: 0.8462 - precision_1: 0.3361 - recall_1: 0.9779 - val_loss: 0.7711 - val_accuracy: 0.7418 - val_precision_1: 0.2989 - val_recall_1: 0.9571\n",
      "Epoch 19/50\n",
      "437/437 [==============================] - 331s 757ms/step - loss: 0.4714 - accuracy: 0.8468 - precision_1: 0.3391 - recall_1: 0.9820 - val_loss: 0.8105 - val_accuracy: 0.7521 - val_precision_1: 0.2948 - val_recall_1: 0.9508\n",
      "Epoch 20/50\n",
      "437/437 [==============================] - 330s 756ms/step - loss: 0.4834 - accuracy: 0.8457 - precision_1: 0.3474 - recall_1: 0.9762 - val_loss: 0.6512 - val_accuracy: 0.7997 - val_precision_1: 0.3129 - val_recall_1: 0.9599\n",
      "Epoch 21/50\n",
      "437/437 [==============================] - 331s 758ms/step - loss: 0.4477 - accuracy: 0.8623 - precision_1: 0.3532 - recall_1: 0.9787 - val_loss: 0.7453 - val_accuracy: 0.7750 - val_precision_1: 0.3035 - val_recall_1: 0.9548\n",
      "Epoch 22/50\n",
      "437/437 [==============================] - 334s 764ms/step - loss: 0.4196 - accuracy: 0.8677 - precision_1: 0.3614 - recall_1: 0.9816 - val_loss: 0.6105 - val_accuracy: 0.8014 - val_precision_1: 0.3151 - val_recall_1: 0.9622\n",
      "Epoch 23/50\n",
      "437/437 [==============================] - 332s 760ms/step - loss: 0.4229 - accuracy: 0.8681 - precision_1: 0.3653 - recall_1: 0.9818 - val_loss: 0.7353 - val_accuracy: 0.7728 - val_precision_1: 0.3068 - val_recall_1: 0.9525\n",
      "Epoch 24/50\n",
      "437/437 [==============================] - 327s 749ms/step - loss: 0.4270 - accuracy: 0.8604 - precision_1: 0.3718 - recall_1: 0.9803 - val_loss: 0.6058 - val_accuracy: 0.8060 - val_precision_1: 0.3207 - val_recall_1: 0.9662\n",
      "Epoch 25/50\n",
      "437/437 [==============================] - 330s 755ms/step - loss: 0.4074 - accuracy: 0.8730 - precision_1: 0.3807 - recall_1: 0.9792 - val_loss: 0.5493 - val_accuracy: 0.8180 - val_precision_1: 0.3416 - val_recall_1: 0.9754\n",
      "Epoch 26/50\n",
      "437/437 [==============================] - 333s 763ms/step - loss: 0.3939 - accuracy: 0.8786 - precision_1: 0.3835 - recall_1: 0.9833 - val_loss: 0.5305 - val_accuracy: 0.8266 - val_precision_1: 0.3404 - val_recall_1: 0.9662\n",
      "Epoch 27/50\n",
      "437/437 [==============================] - 330s 756ms/step - loss: 0.3801 - accuracy: 0.8793 - precision_1: 0.3928 - recall_1: 0.9802 - val_loss: 0.7277 - val_accuracy: 0.8014 - val_precision_1: 0.3188 - val_recall_1: 0.9491\n",
      "Epoch 28/50\n",
      "437/437 [==============================] - 326s 746ms/step - loss: 0.3585 - accuracy: 0.8894 - precision_1: 0.3971 - recall_1: 0.9839 - val_loss: 0.5416 - val_accuracy: 0.8271 - val_precision_1: 0.3444 - val_recall_1: 0.9697\n",
      "Epoch 29/50\n",
      "437/437 [==============================] - 326s 747ms/step - loss: 0.3452 - accuracy: 0.8977 - precision_1: 0.4067 - recall_1: 0.9816 - val_loss: 0.4976 - val_accuracy: 0.8403 - val_precision_1: 0.3546 - val_recall_1: 0.9720\n",
      "Epoch 30/50\n",
      "437/437 [==============================] - 326s 746ms/step - loss: 0.3522 - accuracy: 0.8988 - precision_1: 0.4107 - recall_1: 0.9780 - val_loss: 0.6051 - val_accuracy: 0.8168 - val_precision_1: 0.3542 - val_recall_1: 0.9685\n",
      "Epoch 31/50\n",
      "437/437 [==============================] - 326s 746ms/step - loss: 0.3414 - accuracy: 0.8996 - precision_1: 0.4139 - recall_1: 0.9824 - val_loss: 0.4529 - val_accuracy: 0.8632 - val_precision_1: 0.3602 - val_recall_1: 0.9725\n",
      "Epoch 32/50\n",
      "437/437 [==============================] - 330s 756ms/step - loss: 0.3264 - accuracy: 0.8958 - precision_1: 0.4269 - recall_1: 0.9802 - val_loss: 0.4267 - val_accuracy: 0.8620 - val_precision_1: 0.3773 - val_recall_1: 0.9754\n",
      "Epoch 33/50\n",
      "437/437 [==============================] - 351s 804ms/step - loss: 0.3108 - accuracy: 0.9062 - precision_1: 0.4291 - recall_1: 0.9834 - val_loss: 0.5419 - val_accuracy: 0.8351 - val_precision_1: 0.3593 - val_recall_1: 0.9645\n",
      "Epoch 34/50\n",
      "437/437 [==============================] - 351s 804ms/step - loss: 0.3083 - accuracy: 0.9027 - precision_1: 0.4291 - recall_1: 0.9820 - val_loss: 0.7416 - val_accuracy: 0.7905 - val_precision_1: 0.3639 - val_recall_1: 0.9582\n",
      "Epoch 35/50\n",
      "437/437 [==============================] - 351s 803ms/step - loss: 0.2896 - accuracy: 0.9089 - precision_1: 0.4377 - recall_1: 0.9865 - val_loss: 0.5703 - val_accuracy: 0.8334 - val_precision_1: 0.3609 - val_recall_1: 0.9605\n"
     ]
    },
    {
     "name": "stdout",
     "output_type": "stream",
     "text": [
      "Epoch 36/50\n",
      "437/437 [==============================] - 352s 807ms/step - loss: 0.2947 - accuracy: 0.9046 - precision_1: 0.4398 - recall_1: 0.9831 - val_loss: 0.5413 - val_accuracy: 0.8369 - val_precision_1: 0.3788 - val_recall_1: 0.9674\n",
      "Epoch 37/50\n",
      "437/437 [==============================] - 350s 802ms/step - loss: 0.3017 - accuracy: 0.9053 - precision_1: 0.4484 - recall_1: 0.9803 - val_loss: 0.4329 - val_accuracy: 0.8632 - val_precision_1: 0.3910 - val_recall_1: 0.9697\n",
      "Epoch 38/50\n",
      "437/437 [==============================] - 327s 749ms/step - loss: 0.2826 - accuracy: 0.9186 - precision_1: 0.4564 - recall_1: 0.9813 - val_loss: 0.5461 - val_accuracy: 0.8317 - val_precision_1: 0.3772 - val_recall_1: 0.9634\n",
      "Epoch 39/50\n",
      "437/437 [==============================] - 325s 743ms/step - loss: 0.2912 - accuracy: 0.9092 - precision_1: 0.4587 - recall_1: 0.9838 - val_loss: 0.6746 - val_accuracy: 0.8231 - val_precision_1: 0.3585 - val_recall_1: 0.9496\n",
      "Epoch 40/50\n",
      "437/437 [==============================] - 325s 744ms/step - loss: 0.2684 - accuracy: 0.9181 - precision_1: 0.4648 - recall_1: 0.9859 - val_loss: 0.4299 - val_accuracy: 0.8746 - val_precision_1: 0.3785 - val_recall_1: 0.9668\n",
      "Epoch 41/50\n",
      "437/437 [==============================] - 325s 744ms/step - loss: 0.2590 - accuracy: 0.9211 - precision_1: 0.4635 - recall_1: 0.9848 - val_loss: 0.4193 - val_accuracy: 0.8746 - val_precision_1: 0.3812 - val_recall_1: 0.9702\n",
      "Epoch 42/50\n",
      "437/437 [==============================] - 325s 745ms/step - loss: 0.2793 - accuracy: 0.9098 - precision_1: 0.4793 - recall_1: 0.9825 - val_loss: 0.3463 - val_accuracy: 0.8941 - val_precision_1: 0.4013 - val_recall_1: 0.9760\n",
      "Epoch 43/50\n",
      "437/437 [==============================] - 325s 745ms/step - loss: 0.2702 - accuracy: 0.9106 - precision_1: 0.4719 - recall_1: 0.9828 - val_loss: 0.4724 - val_accuracy: 0.8586 - val_precision_1: 0.3894 - val_recall_1: 0.9691\n",
      "Epoch 44/50\n",
      "437/437 [==============================] - 325s 744ms/step - loss: 0.2412 - accuracy: 0.9266 - precision_1: 0.4787 - recall_1: 0.9851 - val_loss: 0.4032 - val_accuracy: 0.8764 - val_precision_1: 0.3993 - val_recall_1: 0.9731\n",
      "Epoch 45/50\n",
      "437/437 [==============================] - 326s 746ms/step - loss: 0.2516 - accuracy: 0.9225 - precision_1: 0.4854 - recall_1: 0.9858 - val_loss: 0.4538 - val_accuracy: 0.8638 - val_precision_1: 0.3852 - val_recall_1: 0.9651\n",
      "Epoch 46/50\n",
      "437/437 [==============================] - 326s 746ms/step - loss: 0.2345 - accuracy: 0.9326 - precision_1: 0.4933 - recall_1: 0.9882 - val_loss: 0.4508 - val_accuracy: 0.8569 - val_precision_1: 0.4205 - val_recall_1: 0.9708\n",
      "Epoch 47/50\n",
      "437/437 [==============================] - 334s 764ms/step - loss: 0.2397 - accuracy: 0.9307 - precision_1: 0.4960 - recall_1: 0.9842 - val_loss: 0.4155 - val_accuracy: 0.8712 - val_precision_1: 0.3916 - val_recall_1: 0.9679\n",
      "Epoch 48/50\n",
      "437/437 [==============================] - 334s 764ms/step - loss: 0.2247 - accuracy: 0.9333 - precision_1: 0.5071 - recall_1: 0.9853 - val_loss: 0.3807 - val_accuracy: 0.8769 - val_precision_1: 0.4091 - val_recall_1: 0.9748\n",
      "Epoch 49/50\n",
      "437/437 [==============================] - 331s 758ms/step - loss: 0.2174 - accuracy: 0.9332 - precision_1: 0.5006 - recall_1: 0.9874 - val_loss: 0.3411 - val_accuracy: 0.8941 - val_precision_1: 0.4235 - val_recall_1: 0.9748\n",
      "Epoch 50/50\n",
      "437/437 [==============================] - 330s 756ms/step - loss: 0.2092 - accuracy: 0.9370 - precision_1: 0.5121 - recall_1: 0.9886 - val_loss: 0.3518 - val_accuracy: 0.8895 - val_precision_1: 0.4256 - val_recall_1: 0.9765\n",
      "Training completed in time:  4:36:00.211757\n"
     ]
    }
   ],
   "source": [
    "#from keras.callbacks import ModelCheckpoint \n",
    "from datetime import datetime \n",
    "\n",
    "num_epochs = 50\n",
    "num_batch_size = 16\n",
    "\n",
    "#checkpointer = ModelCheckpoint(filepath='saved_models/weights.best.basic_cnn.hdf5', \n",
    "#                               verbose=1, save_best_only=True)\n",
    "start = datetime.now()\n",
    "\n",
    "history = model.fit(x_train, y_train, batch_size=num_batch_size, epochs=num_epochs, validation_data=(x_test, y_test), verbose=1)\n",
    "\n",
    "\n",
    "duration = datetime.now() - start\n",
    "print(\"Training completed in time: \", duration)"
   ]
  },
  {
   "cell_type": "markdown",
   "id": "amateur-speech",
   "metadata": {},
   "source": [
    "## Evaluate the model"
   ]
  },
  {
   "cell_type": "code",
   "execution_count": 11,
   "id": "bridal-pollution",
   "metadata": {},
   "outputs": [
    {
     "name": "stdout",
     "output_type": "stream",
     "text": [
      "Evaluate on test data\n",
      "110/110 [==============================] - 18s 166ms/step - loss: 0.3518 - accuracy: 0.8895 - precision_1: 0.4256 - recall_1: 0.9765\n",
      "test loss:  0.3518184423446655 test acc:  0.8895248770713806\n",
      "test precision:  0.42564868927001953 test recall:  0.9765312075614929\n",
      "test F1 score  0.5928757493515326\n"
     ]
    }
   ],
   "source": [
    "# Evaluate the model on the test data using `evaluate`\n",
    "print(\"Evaluate on test data\")\n",
    "results = model.evaluate(x_test, y_test, batch_size=num_batch_size)\n",
    "print(\"test loss: \", results[0], \"test acc: \", results[1])\n",
    "print(\"test precision: \", results[2], \"test recall: \", results[3])\n",
    "print(\"test F1 score \", 2*results[2]*results[3]/(results[2]+results[3]))"
   ]
  },
  {
   "cell_type": "code",
   "execution_count": null,
   "id": "controversial-joseph",
   "metadata": {},
   "outputs": [],
   "source": []
  },
  {
   "cell_type": "code",
   "execution_count": 24,
   "id": "transparent-tennis",
   "metadata": {
    "scrolled": true
   },
   "outputs": [
    {
     "name": "stdout",
     "output_type": "stream",
     "text": [
      "437/437 [==============================] - 20s 46ms/step\n"
     ]
    },
    {
     "ename": "NameError",
     "evalue": "name 'classnames' is not defined",
     "output_type": "error",
     "traceback": [
      "\u001b[1;31m---------------------------------------------------------------------------\u001b[0m",
      "\u001b[1;31mNameError\u001b[0m                                 Traceback (most recent call last)",
      "\u001b[1;32m<ipython-input-24-b431a09d2d8c>\u001b[0m in \u001b[0;36m<module>\u001b[1;34m\u001b[0m\n\u001b[0;32m     12\u001b[0m \u001b[1;31m#print(Ytest)\u001b[0m\u001b[1;33m\u001b[0m\u001b[1;33m\u001b[0m\u001b[1;33m\u001b[0m\u001b[0m\n\u001b[0;32m     13\u001b[0m \u001b[1;33m\u001b[0m\u001b[0m\n\u001b[1;32m---> 14\u001b[1;33m \u001b[0mprint\u001b[0m\u001b[1;33m(\u001b[0m\u001b[0mclassification_report\u001b[0m\u001b[1;33m(\u001b[0m\u001b[0mYtest\u001b[0m\u001b[1;33m,\u001b[0m \u001b[0mpreds\u001b[0m\u001b[1;33m,\u001b[0m \u001b[0mlabels\u001b[0m\u001b[1;33m=\u001b[0m\u001b[1;32mNone\u001b[0m\u001b[1;33m,\u001b[0m \u001b[0mtarget_names\u001b[0m\u001b[1;33m=\u001b[0m\u001b[0mclassnames\u001b[0m\u001b[1;33m,\u001b[0m \u001b[0mdigits\u001b[0m\u001b[1;33m=\u001b[0m\u001b[1;36m3\u001b[0m\u001b[1;33m)\u001b[0m\u001b[1;33m)\u001b[0m\u001b[1;33m\u001b[0m\u001b[1;33m\u001b[0m\u001b[0m\n\u001b[0m",
      "\u001b[1;31mNameError\u001b[0m: name 'classnames' is not defined"
     ]
    }
   ],
   "source": [
    "import sklearn.metrics \n",
    "from sklearn.metrics import classification_report, confusion_matrix\n",
    "\n",
    "val_steps=437\n",
    "\n",
    "preds = model.predict(x_test,verbose=1,steps=val_steps)\n",
    "\n",
    "Ypred = np.argmax(preds, axis=1)\n",
    "Ytest = y_test\n",
    "\n",
    "print(classification_report(Ytest, Ypred, labels=None, target_names=classnames, digits=3))"
   ]
  },
  {
   "cell_type": "markdown",
   "id": "gorgeous-infection",
   "metadata": {},
   "source": [
    "## Plot results"
   ]
  },
  {
   "cell_type": "code",
   "execution_count": 9,
   "id": "floral-photographer",
   "metadata": {},
   "outputs": [
    {
     "data": {
      "image/png": "[encoded data removed]",
      "text/plain": [
       "<Figure size 432x288 with 1 Axes>"
      ]
     },
     "metadata": {
      "needs_background": "light"
     },
     "output_type": "display_data"
    },
    {
     "data": {
      "image/png": "[encoded data removed]",
      "text/plain": [
       "<Figure size 432x288 with 1 Axes>"
      ]
     },
     "metadata": {
      "needs_background": "light"
     },
     "output_type": "display_data"
    }
   ],
   "source": [
    "import matplotlib.pyplot as plt\n",
    "\n",
    "# summarize history for accuracy\n",
    "plt.plot(history.history['accuracy'])\n",
    "plt.plot(history.history['val_accuracy'])\n",
    "plt.title('model accuracy')\n",
    "plt.ylabel('accuracy')\n",
    "plt.xlabel('epoch')\n",
    "plt.legend(['train', 'test'], loc='upper left')\n",
    "plt.show()\n",
    "# summarize history for loss\n",
    "plt.plot(history.history['loss'])\n",
    "plt.plot(history.history['val_loss'])\n",
    "plt.title('model loss')\n",
    "plt.ylabel('loss')\n",
    "plt.xlabel('epoch')\n",
    "plt.legend(['train', 'test'], loc='upper left')\n",
    "plt.show()"
   ]
  },
  {
   "cell_type": "code",
   "execution_count": null,
   "id": "sunrise-screening",
   "metadata": {},
   "outputs": [],
   "source": []
  }
 ],
 "metadata": {
  "kernelspec": {
   "display_name": "Python 3",
   "language": "python",
   "name": "python3"
  },
  "language_info": {
   "codemirror_mode": {
    "name": "ipython",
    "version": 3
   },
   "file_extension": ".py",
   "mimetype": "text/x-python",
   "name": "python",
   "nbconvert_exporter": "python",
   "pygments_lexer": "ipython3",
   "version": "3.8.5"
  }
 },
 "nbformat": 4,
 "nbformat_minor": 5
}
