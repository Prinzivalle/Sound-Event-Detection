{
 "cells": [
  {
   "cell_type": "markdown",
   "id": "challenging-orientation",
   "metadata": {},
   "source": [
    "# add title"
   ]
  },
  {
   "cell_type": "markdown",
   "id": "hungarian-message",
   "metadata": {},
   "source": [
    "## Import libraries"
   ]
  },
  {
   "cell_type": "code",
   "execution_count": 1,
   "id": "flexible-honey",
   "metadata": {},
   "outputs": [
    {
     "name": "stdout",
     "output_type": "stream",
     "text": [
      "Tensorflow version 2.4.1\n",
      "Keras version 2.4.3\n"
     ]
    }
   ],
   "source": [
    "import numpy as np\n",
    "import tensorflow as tf\n",
    "import keras\n",
    "from keras.preprocessing.image import ImageDataGenerator\n",
    "\n",
    "print(\"Tensorflow version %s\" %tf.__version__)\n",
    "print(\"Keras version %s\" %keras.__version__)"
   ]
  },
  {
   "cell_type": "markdown",
   "id": "initial-minnesota",
   "metadata": {},
   "source": [
    "## Load data"
   ]
  },
  {
   "cell_type": "code",
   "execution_count": null,
   "id": "sixth-respondent",
   "metadata": {},
   "outputs": [],
   "source": [
    "datadir = '/dataset/'\n",
    "trainingset = datadir+'/train/'\n",
    "testset = datadir + '/test/'\n",
    "\n",
    "batch_size = 16\n",
    "train_datagen = ImageDataGenerator()\n",
    "\n",
    "train_generator = train_datagen.flow_from_directory(\n",
    "    directory=trainingset,\n",
    "    target_size=(118, 224), #TODO\n",
    "    color_mode=\"rgb\",\n",
    "    batch_size=batch_size,\n",
    "    class_mode=\"categorical\",\n",
    "    shuffle=True)\n",
    "\n",
    "test_datagen = ImageDataGenerator(\n",
    "    rescale = 1. / 255)\n",
    "\n",
    "test_generator = test_datagen.flow_from_directory(\n",
    "    directory=testset,\n",
    "    target_size=(118, 224),\n",
    "    color_mode=\"rgb\",\n",
    "    batch_size=batch_size,\n",
    "    class_mode=\"categorical\",\n",
    "    shuffle=False\n",
    ")\n",
    "\n",
    "num_samples = train_generator.n\n",
    "num_classes = train_generator.num_classes\n",
    "input_shape = train_generator.image_shape\n",
    "\n",
    "classnames = [k for k,v in train_generator.class_indices.items()]\n",
    "\n",
    "print(\"Image input %s\" %str(input_shape))\n",
    "print(\"Classes: %r\" %classnames)\n",
    "\n",
    "print('Loaded %d training samples from %d classes.' %(num_samples,num_classes))\n",
    "print('Loaded %d test samples from %d classes.' %(test_generator.n,test_generator.num_classes))"
   ]
  },
  {
   "cell_type": "markdown",
   "id": "rising-water",
   "metadata": {},
   "source": [
    "## Model"
   ]
  },
  {
   "cell_type": "code",
   "execution_count": 9,
   "id": "infrared-mounting",
   "metadata": {
    "scrolled": false
   },
   "outputs": [
    {
     "name": "stdout",
     "output_type": "stream",
     "text": [
      "Model: \"sequential_7\"\n",
      "_________________________________________________________________\n",
      "Layer (type)                 Output Shape              Param #   \n",
      "=================================================================\n",
      "zero_padding2d_22 (ZeroPaddi (None, 260, 260, 1)       0         \n",
      "_________________________________________________________________\n",
      "separable_conv2d (SeparableC (None, 256, 256, 256)     537       \n",
      "_________________________________________________________________\n",
      "activation_20 (Activation)   (None, 256, 256, 256)     0         \n",
      "_________________________________________________________________\n",
      "batch_normalization_20 (Batc (None, 256, 256, 256)     1024      \n",
      "_________________________________________________________________\n",
      "max_pooling2d_15 (MaxPooling (None, 256, 51, 256)      0         \n",
      "_________________________________________________________________\n",
      "dropout_15 (Dropout)         (None, 256, 51, 256)      0         \n",
      "_________________________________________________________________\n",
      "zero_padding2d_23 (ZeroPaddi (None, 260, 55, 256)      0         \n",
      "_________________________________________________________________\n",
      "separable_conv2d_1 (Separabl (None, 256, 51, 256)      72192     \n",
      "_________________________________________________________________\n",
      "activation_21 (Activation)   (None, 256, 51, 256)      0         \n",
      "_________________________________________________________________\n",
      "batch_normalization_21 (Batc (None, 256, 51, 256)      1024      \n",
      "_________________________________________________________________\n",
      "max_pooling2d_16 (MaxPooling (None, 256, 12, 256)      0         \n",
      "_________________________________________________________________\n",
      "dropout_16 (Dropout)         (None, 256, 12, 256)      0         \n",
      "_________________________________________________________________\n",
      "zero_padding2d_24 (ZeroPaddi (None, 260, 16, 256)      0         \n",
      "_________________________________________________________________\n",
      "separable_conv2d_2 (Separabl (None, 256, 12, 256)      72192     \n",
      "_________________________________________________________________\n",
      "activation_22 (Activation)   (None, 256, 12, 256)      0         \n",
      "_________________________________________________________________\n",
      "batch_normalization_22 (Batc (None, 256, 12, 256)      1024      \n",
      "_________________________________________________________________\n",
      "max_pooling2d_17 (MaxPooling (None, 256, 6, 256)       0         \n",
      "_________________________________________________________________\n",
      "dropout_17 (Dropout)         (None, 256, 6, 256)       0         \n",
      "_________________________________________________________________\n",
      "zero_padding2d_25 (ZeroPaddi (None, 256, 46, 256)      0         \n",
      "_________________________________________________________________\n",
      "conv2d_5 (Conv2D)            (None, 254, 26, 256)      590080    \n",
      "_________________________________________________________________\n",
      "batch_normalization_23 (Batc (None, 254, 26, 256)      1024      \n",
      "_________________________________________________________________\n",
      "activation_23 (Activation)   (None, 254, 26, 256)      0         \n",
      "_________________________________________________________________\n",
      "dense_5 (Dense)              (None, 254, 26, 16)       4112      \n",
      "=================================================================\n",
      "Total params: 743,209\n",
      "Trainable params: 741,161\n",
      "Non-trainable params: 2,048\n",
      "_________________________________________________________________\n"
     ]
    }
   ],
   "source": [
    "from keras.models import Sequential\n",
    "from keras.layers import SeparableConv2D, ZeroPadding2D, Activation, Dropout, Dense, \\\n",
    "                            Conv2D, MaxPooling2D\n",
    "from keras.layers.normalization import BatchNormalization\n",
    "from keras import Input, optimizers\n",
    "\n",
    "def Net(input_shape, num_classes, dilated_kernel, dilation, dilated_padding):\n",
    "\n",
    "    model = Sequential()\n",
    "    \n",
    "    # input layer\n",
    "    model.add(Input(shape=(256,256,1)))#TODO ADD REAL SIZE\n",
    "    \n",
    "    # DWS-CNN layer 1\n",
    "    model.add(ZeroPadding2D(padding=(2)))\n",
    "    # use valid padding since padding is introduced before since it has a special form\n",
    "    model.add(SeparableConv2D(256,kernel_size=(5,5), strides=(1,1), padding='valid'))\n",
    "    model.add(Activation('relu'))\n",
    "    # Batch Normalisation before passing it to the next layer\n",
    "    model.add(BatchNormalization())\n",
    "    # Pooling\n",
    "    model.add(MaxPooling2D(pool_size=(1,5), strides=(1,5), padding='valid'))\n",
    "    # Dropout\n",
    "    model.add(Dropout(0.25))\n",
    "    \n",
    "    # DWS-CNN layer 2\n",
    "    model.add(ZeroPadding2D(padding=(2, 2)))\n",
    "    # use valid padding since padding is introduced before since it has a special form\n",
    "    model.add(SeparableConv2D(256,kernel_size=(5,5), strides=(1,1), padding='valid'))\n",
    "    model.add(Activation('relu'))\n",
    "    # Batch Normalisation before passing it to the next layer\n",
    "    model.add(BatchNormalization())\n",
    "    # Pooling\n",
    "    model.add(MaxPooling2D(pool_size=(1,4), strides=(1,4), padding='valid'))\n",
    "    # Dropout\n",
    "    model.add(Dropout(0.25))\n",
    "    \n",
    "    # DWS-CNN layer 3\n",
    "    model.add(ZeroPadding2D(padding=(2, 2)))\n",
    "    # use valid padding since padding is introduced before since it has a special form\n",
    "    model.add(SeparableConv2D(256,kernel_size=(5,5), strides=(1,1), padding='valid'))\n",
    "    model.add(Activation('relu'))\n",
    "    # Batch Normalisation before passing it to the next layer\n",
    "    model.add(BatchNormalization())\n",
    "    # Pooling\n",
    "    model.add(MaxPooling2D(pool_size=(1,2), strides=(1,2), padding='valid'))\n",
    "    # Dropout\n",
    "    model.add(Dropout(0.25))\n",
    "    \n",
    "    # DIL-CNN \n",
    "    model.add(ZeroPadding2D(padding=(0, dilated_padding*dilation)))\n",
    "    model.add(Conv2D(256, kernel_size=dilated_kernel, dilation_rate=(1,dilation)))\n",
    "    model.add(BatchNormalization())\n",
    "    model.add(Activation('relu'))\n",
    "    \n",
    "    # classifier layer\n",
    "    model.add(Dense(num_classes))\n",
    "    \n",
    "    # model compilation for training\n",
    "    adam = optimizers.Adam()\n",
    "    model.compile(loss='categorical_crossentropy', optimizer=adam, metrics=['accuracy', 'precision', 'recall'])\n",
    "    \n",
    "    return model\n",
    "\n",
    "\n",
    "# create the model\n",
    "input_shape = (16, 16, 16, 1)\n",
    "num_classes = 16\n",
    "dilated_kernel = (3,3)\n",
    "dilation = (10)\n",
    "dilated_padding = 2\n",
    "model = Net(input_shape,num_classes,dilated_kernel,dilation,dilated_padding)\n",
    "model.summary()"
   ]
  },
  {
   "cell_type": "markdown",
   "id": "balanced-worth",
   "metadata": {},
   "source": [
    "## Train the model"
   ]
  },
  {
   "cell_type": "code",
   "execution_count": null,
   "id": "asian-costs",
   "metadata": {},
   "outputs": [],
   "source": [
    "steps_per_epoch=train_generator.n//train_generator.batch_size\n",
    "val_steps=test_generator.n//test_generator.batch_size+1\n",
    "epochs = 1\n",
    "try:\n",
    "    history = model.fit(train_generator, epochs=epochs, verbose=1,\\\n",
    "                    steps_per_epoch=steps_per_epoch,\\\n",
    "                    validation_data=test_generator,\\\n",
    "                    validation_steps=val_steps)\n",
    "except KeyboardInterrupt:\n",
    "    pass"
   ]
  },
  {
   "cell_type": "code",
   "execution_count": null,
   "id": "bridal-pollution",
   "metadata": {},
   "outputs": [],
   "source": []
  },
  {
   "cell_type": "code",
   "execution_count": null,
   "id": "hairy-foster",
   "metadata": {},
   "outputs": [],
   "source": []
  },
  {
   "cell_type": "code",
   "execution_count": null,
   "id": "floral-photographer",
   "metadata": {},
   "outputs": [],
   "source": []
  }
 ],
 "metadata": {
  "kernelspec": {
   "display_name": "Python 3",
   "language": "python",
   "name": "python3"
  },
  "language_info": {
   "codemirror_mode": {
    "name": "ipython",
    "version": 3
   },
   "file_extension": ".py",
   "mimetype": "text/x-python",
   "name": "python",
   "nbconvert_exporter": "python",
   "pygments_lexer": "ipython3",
   "version": "3.8.5"
  }
 },
 "nbformat": 4,
 "nbformat_minor": 5
}
