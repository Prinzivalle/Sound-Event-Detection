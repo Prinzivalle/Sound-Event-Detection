{
 "cells": [
  {
   "cell_type": "markdown",
   "id": "bottom-origin",
   "metadata": {},
   "source": [
    "# Add title"
   ]
  },
  {
   "cell_type": "markdown",
   "id": "stable-literature",
   "metadata": {},
   "source": [
    "## Import libraries"
   ]
  },
  {
   "cell_type": "code",
   "execution_count": 1,
   "id": "female-coffee",
   "metadata": {},
   "outputs": [
    {
     "name": "stdout",
     "output_type": "stream",
     "text": [
      "<module 'plaidml.keras.backend' from 'E:\\\\anaconda3\\\\envs\\\\plaidML\\\\lib\\\\site-packages\\\\plaidml\\\\keras\\\\backend.py'>\n",
      "Keras version 2.2.4\n"
     ]
    }
   ],
   "source": [
    "import numpy as np\n",
    "import plaidml.keras\n",
    "import os\n",
    "plaidml.keras.install_backend()\n",
    "os.environ[\"KERAS_BACKEND\"] = \"plaidml.keras.backend\"\n",
    "\n",
    "from keras import backend as K\n",
    "print(K)\n",
    "\n",
    "import keras\n",
    "from keras.preprocessing.image import ImageDataGenerator\n",
    "\n",
    "print(\"Keras version %s\" %keras.__version__)"
   ]
  },
  {
   "cell_type": "markdown",
   "id": "fallen-procurement",
   "metadata": {},
   "source": [
    "## Load data and get mel spectrogram from audio"
   ]
  },
  {
   "cell_type": "code",
   "execution_count": 2,
   "id": "directed-utility",
   "metadata": {},
   "outputs": [
    {
     "name": "stderr",
     "output_type": "stream",
     "text": [
      "E:\\anaconda3\\envs\\plaidML\\lib\\site-packages\\librosa\\core\\spectrum.py:222: UserWarning: n_fft=2048 is too small for input signal of length=1323\n",
      "  warnings.warn(\n",
      "E:\\anaconda3\\envs\\plaidML\\lib\\site-packages\\librosa\\core\\spectrum.py:222: UserWarning: n_fft=2048 is too small for input signal of length=1103\n",
      "  warnings.warn(\n",
      "E:\\anaconda3\\envs\\plaidML\\lib\\site-packages\\librosa\\core\\spectrum.py:222: UserWarning: n_fft=2048 is too small for input signal of length=1523\n",
      "  warnings.warn(\n"
     ]
    },
    {
     "name": "stdout",
     "output_type": "stream",
     "text": [
      "Finished feature extraction from  8732  files\n"
     ]
    }
   ],
   "source": [
    "# Load various imports \n",
    "import pandas as pd\n",
    "import os\n",
    "import librosa\n",
    "\n",
    "max_pad_len = 174\n",
    "\n",
    "def extract_features(file_name):\n",
    "   \n",
    "    try:\n",
    "        audio, sample_rate = librosa.load(file_name, res_type='kaiser_fast') \n",
    "        mfccs = librosa.feature.mfcc(y=audio, sr=sample_rate, n_mfcc=40)\n",
    "        pad_width = max_pad_len - mfccs.shape[1]\n",
    "        mfccs = np.pad(mfccs, pad_width=((0, 0), (0, pad_width)), mode='constant')\n",
    "        \n",
    "    except Exception as e:\n",
    "        print(\"Error encountered while parsing file: \", file_name)\n",
    "        return None \n",
    "     \n",
    "    return mfccs\n",
    "    \n",
    "# Set the path to the full UrbanSound dataset \n",
    "fulldatasetpath = '/Xception/UrbanSound8K/audio/'\n",
    "\n",
    "metadata = pd.read_csv('UrbanSound8K/metadata/UrbanSound8K.csv')\n",
    "\n",
    "features = []\n",
    "\n",
    "# Iterate through each sound file and extract the features \n",
    "for index, row in metadata.iterrows():\n",
    "    \n",
    "    file_name = os.path.join(os.path.abspath(fulldatasetpath),'fold'+str(row[\"fold\"]),str(row[\"slice_file_name\"]))\n",
    "    \n",
    "    class_label = row[\"class\"]\n",
    "    data = extract_features(file_name)\n",
    "    \n",
    "    features.append([data, class_label])\n",
    "\n",
    "# Convert into a Panda dataframe \n",
    "featuresdf = pd.DataFrame(features, columns=['feature','class_label'])\n",
    "\n",
    "print('Finished feature extraction from ', len(featuresdf), ' files')"
   ]
  },
  {
   "cell_type": "markdown",
   "id": "blond-directory",
   "metadata": {},
   "source": [
    "## Preprocess data"
   ]
  },
  {
   "cell_type": "code",
   "execution_count": 4,
   "id": "illegal-saudi",
   "metadata": {},
   "outputs": [],
   "source": [
    "from sklearn.preprocessing import LabelEncoder\n",
    "from keras.utils import to_categorical\n",
    "\n",
    "# Convert features and corresponding classification labels into numpy arrays\n",
    "X = np.array(featuresdf.feature.tolist())\n",
    "y = np.array(featuresdf.class_label.tolist())\n",
    "\n",
    "# Encode the classification labels\n",
    "le = LabelEncoder()\n",
    "yy = to_categorical(le.fit_transform(y)) \n",
    "\n",
    "# split the dataset \n",
    "from sklearn.model_selection import train_test_split \n",
    "\n",
    "x_train, x_test, y_train, y_test = train_test_split(X, yy, test_size=0.2, random_state = 42)"
   ]
  },
  {
   "cell_type": "markdown",
   "id": "genuine-blowing",
   "metadata": {},
   "source": [
    "## Model definition"
   ]
  },
  {
   "cell_type": "code",
   "execution_count": 5,
   "id": "aboriginal-yellow",
   "metadata": {},
   "outputs": [
    {
     "name": "stderr",
     "output_type": "stream",
     "text": [
      "INFO:plaidml:Opening device \"opencl_amd_gfx1010.0\"\n"
     ]
    },
    {
     "name": "stdout",
     "output_type": "stream",
     "text": [
      "_________________________________________________________________\n",
      "Layer (type)                 Output Shape              Param #   \n",
      "=================================================================\n",
      "input_1 (InputLayer)         (None, 40, 174, 1)        0         \n",
      "_________________________________________________________________\n",
      "zero_padding2d_1 (ZeroPaddin (None, 44, 178, 1)        0         \n",
      "_________________________________________________________________\n",
      "separable_conv2d_1 (Separabl (None, 40, 174, 256)      537       \n",
      "_________________________________________________________________\n",
      "activation_1 (Activation)    (None, 40, 174, 256)      0         \n",
      "_________________________________________________________________\n",
      "batch_normalization_1 (Batch (None, 40, 174, 256)      1024      \n",
      "_________________________________________________________________\n",
      "max_pooling2d_1 (MaxPooling2 (None, 40, 34, 256)       0         \n",
      "_________________________________________________________________\n",
      "dropout_1 (Dropout)          (None, 40, 34, 256)       0         \n",
      "_________________________________________________________________\n",
      "zero_padding2d_2 (ZeroPaddin (None, 44, 38, 256)       0         \n",
      "_________________________________________________________________\n",
      "separable_conv2d_2 (Separabl (None, 40, 34, 256)       72192     \n",
      "_________________________________________________________________\n",
      "activation_2 (Activation)    (None, 40, 34, 256)       0         \n",
      "_________________________________________________________________\n",
      "batch_normalization_2 (Batch (None, 40, 34, 256)       1024      \n",
      "_________________________________________________________________\n",
      "max_pooling2d_2 (MaxPooling2 (None, 40, 8, 256)        0         \n",
      "_________________________________________________________________\n",
      "dropout_2 (Dropout)          (None, 40, 8, 256)        0         \n",
      "_________________________________________________________________\n",
      "zero_padding2d_3 (ZeroPaddin (None, 44, 12, 256)       0         \n",
      "_________________________________________________________________\n",
      "separable_conv2d_3 (Separabl (None, 40, 8, 256)        72192     \n",
      "_________________________________________________________________\n",
      "activation_3 (Activation)    (None, 40, 8, 256)        0         \n",
      "_________________________________________________________________\n",
      "batch_normalization_3 (Batch (None, 40, 8, 256)        1024      \n",
      "_________________________________________________________________\n",
      "max_pooling2d_3 (MaxPooling2 (None, 40, 4, 256)        0         \n",
      "_________________________________________________________________\n",
      "dropout_3 (Dropout)          (None, 40, 4, 256)        0         \n",
      "_________________________________________________________________\n",
      "zero_padding2d_4 (ZeroPaddin (None, 40, 44, 256)       0         \n",
      "_________________________________________________________________\n",
      "conv2d_1 (Conv2D)            (None, 38, 24, 256)       590080    \n",
      "_________________________________________________________________\n",
      "batch_normalization_4 (Batch (None, 38, 24, 256)       1024      \n",
      "_________________________________________________________________\n",
      "activation_4 (Activation)    (None, 38, 24, 256)       0         \n",
      "_________________________________________________________________\n",
      "avg_pool (GlobalAveragePooli (None, 256)               0         \n",
      "_________________________________________________________________\n",
      "dense_1 (Dense)              (None, 10)                2570      \n",
      "=================================================================\n",
      "Total params: 741,667\n",
      "Trainable params: 739,619\n",
      "Non-trainable params: 2,048\n",
      "_________________________________________________________________\n"
     ]
    }
   ],
   "source": [
    "from keras.models import Model\n",
    "from keras.layers import SeparableConv2D, ZeroPadding2D, Activation, Dropout, Dense, \\\n",
    "                            Conv2D, MaxPooling2D, GlobalAveragePooling2D\n",
    "from keras.layers.normalization import BatchNormalization\n",
    "from keras import Input, optimizers\n",
    "\n",
    "num_rows = 40\n",
    "num_columns = 174\n",
    "num_channels = 1\n",
    "\n",
    "x_train = x_train.reshape(x_train.shape[0], num_rows, num_columns, num_channels)\n",
    "x_test = x_test.reshape(x_test.shape[0], num_rows, num_columns, num_channels)\n",
    "\n",
    "num_labels = yy.shape[1]\n",
    "\n",
    "def Net(input_shape, num_classes, dilated_kernel, dilation, dilated_padding):\n",
    "    \n",
    "    # input layer\n",
    "    inputs = Input(shape=(num_rows, num_columns, num_channels))\n",
    "    \n",
    "    # DWS-CNN layer 1\n",
    "    x = ZeroPadding2D(padding=(2))(inputs)\n",
    "    # use valid padding since padding is introduced before since it has a special form\n",
    "    x = SeparableConv2D(256,kernel_size=(5,5), strides=(1,1), padding='valid')(x)\n",
    "    x = Activation('relu')(x)\n",
    "    # Batch Normalisation before passing it to the next layer\n",
    "    x = BatchNormalization()(x)\n",
    "    # Pooling\n",
    "    x = MaxPooling2D(pool_size=(1,5), strides=(1,5), padding='valid')(x)\n",
    "    # Dropout\n",
    "    x = Dropout(0.25)(x)\n",
    "    \n",
    "    # DWS-CNN layer 2\n",
    "    x = ZeroPadding2D(padding=(2))(x)\n",
    "    # use valid padding since padding is introduced before since it has a special form\n",
    "    x = SeparableConv2D(256,kernel_size=(5,5), strides=(1,1), padding='valid')(x)\n",
    "    x = Activation('relu')(x)\n",
    "    # Batch Normalisation before passing it to the next layer\n",
    "    x = BatchNormalization()(x)\n",
    "    # Pooling\n",
    "    x = MaxPooling2D(pool_size=(1,4), strides=(1,4), padding='valid')(x)\n",
    "    # Dropout\n",
    "    x = Dropout(0.25)(x)\n",
    "    \n",
    "    # DWS-CNN layer 3\n",
    "    x = ZeroPadding2D(padding=(2))(x)\n",
    "    # use valid padding since padding is introduced before since it has a special form\n",
    "    x = SeparableConv2D(256,kernel_size=(5,5), strides=(1,1), padding='valid')(x)\n",
    "    x = Activation('relu')(x)\n",
    "    # Batch Normalisation before passing it to the next layer\n",
    "    x = BatchNormalization()(x)\n",
    "    # Pooling\n",
    "    x = MaxPooling2D(pool_size=(1,2), strides=(1,2), padding='valid')(x)\n",
    "    # Dropout\n",
    "    x = Dropout(0.25)(x)\n",
    "    \n",
    "    # DIL-CNN \n",
    "    x = ZeroPadding2D(padding=(0, dilated_padding*dilation))(x)\n",
    "    x = Conv2D(256, kernel_size=dilated_kernel, dilation_rate=(1,dilation))(x)\n",
    "    x = BatchNormalization()(x)\n",
    "    x = Activation('relu')(x)\n",
    "    \n",
    "    # classifier layer\n",
    "    x = GlobalAveragePooling2D(name='avg_pool')(x)\n",
    "    outputs = Dense(num_labels,activation='sigmoid')(x)\n",
    "    \n",
    "    # model compilation for training\n",
    "    adam = optimizers.Adam(lr=0.0001)\n",
    "    model = Model(inputs, outputs)                            \n",
    "    model.compile(loss='categorical_crossentropy', optimizer=adam, metrics=['accuracy'])\n",
    "    \n",
    "    return model\n",
    "\n",
    "\n",
    "# create the model\n",
    "input_shape = (256, 256, 1)\n",
    "num_classes = 10\n",
    "dilated_kernel = (3,3)\n",
    "dilation = (10)\n",
    "dilated_padding = 2\n",
    "model = Net(input_shape,num_classes,dilated_kernel,dilation,dilated_padding)\n",
    "model.summary()"
   ]
  },
  {
   "cell_type": "markdown",
   "id": "powered-precipitation",
   "metadata": {},
   "source": [
    "## Train the model"
   ]
  },
  {
   "cell_type": "code",
   "execution_count": 6,
   "id": "hydraulic-valley",
   "metadata": {
    "scrolled": true
   },
   "outputs": [
    {
     "name": "stdout",
     "output_type": "stream",
     "text": [
      "Train on 5937 samples, validate on 1048 samples\n",
      "Epoch 1/50\n",
      "5937/5937 [==============================] - 139s 23ms/step - loss: 1.7905 - acc: 0.3780 - val_loss: 2.2814 - val_acc: 0.1250\n",
      "Epoch 2/50\n",
      "5937/5937 [==============================] - 32s 5ms/step - loss: 1.3931 - acc: 0.5307 - val_loss: 1.4479 - val_acc: 0.4933\n",
      "Epoch 3/50\n",
      "5937/5937 [==============================] - 32s 5ms/step - loss: 1.2036 - acc: 0.5924 - val_loss: 1.2980 - val_acc: 0.5296\n",
      "Epoch 4/50\n",
      "5937/5937 [==============================] - 32s 5ms/step - loss: 1.0870 - acc: 0.6358 - val_loss: 1.2052 - val_acc: 0.5229\n",
      "Epoch 5/50\n",
      "5937/5937 [==============================] - 33s 5ms/step - loss: 1.0083 - acc: 0.6712 - val_loss: 1.2770 - val_acc: 0.5468\n",
      "Epoch 6/50\n",
      "5937/5937 [==============================] - 32s 5ms/step - loss: 0.9497 - acc: 0.6820 - val_loss: 1.1621 - val_acc: 0.5697\n",
      "Epoch 7/50\n",
      "5937/5937 [==============================] - 32s 5ms/step - loss: 0.8904 - acc: 0.7034 - val_loss: 1.1333 - val_acc: 0.6040\n",
      "Epoch 8/50\n",
      "5937/5937 [==============================] - 32s 5ms/step - loss: 0.8475 - acc: 0.7238 - val_loss: 1.0356 - val_acc: 0.6298\n",
      "Epoch 9/50\n",
      "5937/5937 [==============================] - 32s 5ms/step - loss: 0.7953 - acc: 0.7396 - val_loss: 0.9807 - val_acc: 0.6622\n",
      "Epoch 10/50\n",
      "5937/5937 [==============================] - 32s 5ms/step - loss: 0.7539 - acc: 0.7548 - val_loss: 1.0545 - val_acc: 0.6775\n",
      "Epoch 11/50\n",
      "5937/5937 [==============================] - 32s 5ms/step - loss: 0.7192 - acc: 0.7677 - val_loss: 1.0665 - val_acc: 0.6288\n",
      "Epoch 12/50\n",
      "5937/5937 [==============================] - 32s 5ms/step - loss: 0.6998 - acc: 0.7846 - val_loss: 0.9292 - val_acc: 0.6651\n",
      "Epoch 13/50\n",
      "5937/5937 [==============================] - 32s 5ms/step - loss: 0.6616 - acc: 0.7947 - val_loss: 1.0478 - val_acc: 0.6937\n",
      "Epoch 14/50\n",
      "5937/5937 [==============================] - 32s 5ms/step - loss: 0.6405 - acc: 0.7960 - val_loss: 1.0297 - val_acc: 0.6632\n",
      "Epoch 15/50\n",
      "5937/5937 [==============================] - 32s 5ms/step - loss: 0.6190 - acc: 0.8082 - val_loss: 0.9571 - val_acc: 0.7090\n",
      "Epoch 16/50\n",
      "5937/5937 [==============================] - 32s 5ms/step - loss: 0.5907 - acc: 0.8140 - val_loss: 0.7275 - val_acc: 0.7662\n",
      "Epoch 17/50\n",
      "5937/5937 [==============================] - 32s 5ms/step - loss: 0.5671 - acc: 0.8250 - val_loss: 0.7464 - val_acc: 0.7586\n",
      "Epoch 18/50\n",
      "5937/5937 [==============================] - 32s 5ms/step - loss: 0.5436 - acc: 0.8327 - val_loss: 1.0579 - val_acc: 0.6813\n",
      "Epoch 19/50\n",
      "5937/5937 [==============================] - 32s 5ms/step - loss: 0.5260 - acc: 0.8364 - val_loss: 0.9360 - val_acc: 0.7071\n",
      "Epoch 20/50\n",
      "5937/5937 [==============================] - 32s 5ms/step - loss: 0.5144 - acc: 0.8368 - val_loss: 0.7383 - val_acc: 0.7719\n",
      "Epoch 21/50\n",
      "5937/5937 [==============================] - 32s 5ms/step - loss: 0.4925 - acc: 0.8509 - val_loss: 0.8926 - val_acc: 0.7557\n",
      "Epoch 22/50\n",
      "5937/5937 [==============================] - 32s 5ms/step - loss: 0.4823 - acc: 0.8551 - val_loss: 0.8352 - val_acc: 0.7557\n",
      "Epoch 23/50\n",
      "5937/5937 [==============================] - 32s 5ms/step - loss: 0.4726 - acc: 0.8499 - val_loss: 0.7393 - val_acc: 0.7672\n",
      "Epoch 24/50\n",
      "5937/5937 [==============================] - 32s 5ms/step - loss: 0.4619 - acc: 0.8553 - val_loss: 0.7518 - val_acc: 0.7777\n",
      "Epoch 25/50\n",
      "5937/5937 [==============================] - 32s 5ms/step - loss: 0.4417 - acc: 0.8627 - val_loss: 0.7145 - val_acc: 0.7681\n",
      "Epoch 26/50\n",
      "5937/5937 [==============================] - 32s 5ms/step - loss: 0.4269 - acc: 0.8683 - val_loss: 0.7165 - val_acc: 0.7824\n",
      "Epoch 27/50\n",
      "5937/5937 [==============================] - 32s 5ms/step - loss: 0.4219 - acc: 0.8690 - val_loss: 0.8497 - val_acc: 0.7710\n",
      "Epoch 28/50\n",
      "5937/5937 [==============================] - 32s 5ms/step - loss: 0.4127 - acc: 0.8749 - val_loss: 0.8324 - val_acc: 0.7490\n",
      "Epoch 29/50\n",
      "5937/5937 [==============================] - 32s 5ms/step - loss: 0.3984 - acc: 0.8750 - val_loss: 0.6080 - val_acc: 0.8187\n",
      "Epoch 30/50\n",
      "5937/5937 [==============================] - 32s 5ms/step - loss: 0.3801 - acc: 0.8845 - val_loss: 0.6666 - val_acc: 0.7872\n",
      "Epoch 31/50\n",
      "5937/5937 [==============================] - 32s 5ms/step - loss: 0.3853 - acc: 0.8792 - val_loss: 0.5335 - val_acc: 0.8216\n",
      "Epoch 32/50\n",
      "5937/5937 [==============================] - 32s 5ms/step - loss: 0.3731 - acc: 0.8868 - val_loss: 0.6023 - val_acc: 0.8120\n",
      "Epoch 33/50\n",
      "5937/5937 [==============================] - 32s 5ms/step - loss: 0.3628 - acc: 0.8883 - val_loss: 0.5252 - val_acc: 0.8368\n",
      "Epoch 34/50\n",
      "5937/5937 [==============================] - 32s 5ms/step - loss: 0.3525 - acc: 0.8892 - val_loss: 0.7177 - val_acc: 0.7758\n",
      "Epoch 35/50\n",
      "5937/5937 [==============================] - 32s 5ms/step - loss: 0.3491 - acc: 0.8957 - val_loss: 0.6509 - val_acc: 0.7977\n",
      "Epoch 36/50\n",
      "5937/5937 [==============================] - 32s 5ms/step - loss: 0.3407 - acc: 0.8937 - val_loss: 0.6660 - val_acc: 0.7882\n",
      "Epoch 37/50\n",
      "5937/5937 [==============================] - 32s 5ms/step - loss: 0.3384 - acc: 0.8941 - val_loss: 0.5759 - val_acc: 0.8302\n",
      "Epoch 38/50\n",
      "5937/5937 [==============================] - 32s 5ms/step - loss: 0.3206 - acc: 0.9050 - val_loss: 0.6786 - val_acc: 0.7891\n",
      "Epoch 39/50\n",
      "5937/5937 [==============================] - 32s 5ms/step - loss: 0.3257 - acc: 0.8951 - val_loss: 0.5659 - val_acc: 0.8225\n",
      "Epoch 40/50\n",
      "5937/5937 [==============================] - 32s 5ms/step - loss: 0.3053 - acc: 0.9094 - val_loss: 0.4934 - val_acc: 0.8416\n",
      "Epoch 41/50\n",
      "5937/5937 [==============================] - 32s 5ms/step - loss: 0.3062 - acc: 0.9057 - val_loss: 0.6334 - val_acc: 0.8044\n",
      "Epoch 42/50\n",
      "5937/5937 [==============================] - 32s 5ms/step - loss: 0.3097 - acc: 0.9045 - val_loss: 0.5056 - val_acc: 0.8321\n",
      "Epoch 43/50\n",
      "5937/5937 [==============================] - 32s 5ms/step - loss: 0.2905 - acc: 0.9161 - val_loss: 0.6678 - val_acc: 0.8120\n",
      "Epoch 44/50\n",
      "5937/5937 [==============================] - 32s 5ms/step - loss: 0.2948 - acc: 0.9126 - val_loss: 0.4798 - val_acc: 0.8454\n",
      "Epoch 45/50\n",
      "5937/5937 [==============================] - 32s 5ms/step - loss: 0.2872 - acc: 0.9092 - val_loss: 0.6511 - val_acc: 0.7853\n",
      "Epoch 46/50\n",
      "5937/5937 [==============================] - 32s 5ms/step - loss: 0.2748 - acc: 0.9171 - val_loss: 0.5090 - val_acc: 0.8416\n",
      "Epoch 47/50\n",
      "5937/5937 [==============================] - 32s 5ms/step - loss: 0.2766 - acc: 0.9082 - val_loss: 0.5747 - val_acc: 0.8101\n",
      "Epoch 48/50\n",
      "5937/5937 [==============================] - 32s 5ms/step - loss: 0.2710 - acc: 0.9138 - val_loss: 0.5421 - val_acc: 0.8416\n",
      "Epoch 49/50\n",
      "5937/5937 [==============================] - 32s 5ms/step - loss: 0.2530 - acc: 0.9210 - val_loss: 0.5882 - val_acc: 0.8321\n",
      "Epoch 50/50\n",
      "5937/5937 [==============================] - 32s 5ms/step - loss: 0.2516 - acc: 0.9259 - val_loss: 0.4208 - val_acc: 0.8721\n",
      "Training completed in time:  0:28:41.846767\n"
     ]
    }
   ],
   "source": [
    "#from keras.callbacks import ModelCheckpoint \n",
    "from datetime import datetime \n",
    "\n",
    "num_epochs = 50\n",
    "num_batch_size = 16\n",
    "\n",
    "#checkpointer = ModelCheckpoint(filepath='saved_models/weights.best.basic_cnn.hdf5', \n",
    "#                               verbose=1, save_best_only=True)\n",
    "start = datetime.now()\n",
    "\n",
    "#history = model.fit(x_train, y_train, batch_size=num_batch_size, epochs=num_epochs, validation_data=(x_test, y_test), verbose=1)\n",
    "history = model.fit(x_train, y_train, batch_size=num_batch_size, epochs=num_epochs, validation_split=0.15, verbose=1)\n",
    "\n",
    "duration = datetime.now() - start\n",
    "print(\"Training completed in time: \", duration)"
   ]
  },
  {
   "cell_type": "code",
   "execution_count": null,
   "id": "extensive-coffee",
   "metadata": {},
   "outputs": [],
   "source": []
  },
  {
   "cell_type": "code",
   "execution_count": null,
   "id": "variable-middle",
   "metadata": {},
   "outputs": [],
   "source": []
  },
  {
   "cell_type": "code",
   "execution_count": 7,
   "id": "shaped-induction",
   "metadata": {},
   "outputs": [
    {
     "name": "stdout",
     "output_type": "stream",
     "text": [
      "Evaluate on test data\n",
      "1747/1747 [==============================] - 13s 8ms/step\n",
      "test loss, test acc: [0.39252389369731844, 0.8700629650829994]\n"
     ]
    }
   ],
   "source": [
    "# Evaluate the model on the test data using `evaluate`\n",
    "print(\"Evaluate on test data\")\n",
    "results = model.evaluate(x_test, y_test, batch_size=num_batch_size)\n",
    "print(\"test loss, test acc:\", results)"
   ]
  },
  {
   "cell_type": "markdown",
   "id": "chief-table",
   "metadata": {},
   "source": [
    "## Plot Results"
   ]
  },
  {
   "cell_type": "code",
   "execution_count": 12,
   "id": "unexpected-paintball",
   "metadata": {},
   "outputs": [
    {
     "data": {
      "image/png": "[encoded data removed]",
      "text/plain": [
       "<Figure size 432x288 with 1 Axes>"
      ]
     },
     "metadata": {
      "needs_background": "light"
     },
     "output_type": "display_data"
    },
    {
     "data": {
      "image/png": "[encoded data removed]",
      "text/plain": [
       "<Figure size 432x288 with 1 Axes>"
      ]
     },
     "metadata": {
      "needs_background": "light"
     },
     "output_type": "display_data"
    }
   ],
   "source": [
    "import matplotlib.pyplot as plt\n",
    "\n",
    "# summarize history for accuracy\n",
    "plt.plot(history.history['acc'])\n",
    "plt.plot(history.history['val_acc'])\n",
    "plt.title('model accuracy')\n",
    "plt.ylabel('accuracy')\n",
    "plt.xlabel('epoch')\n",
    "plt.legend(['train', 'test'], loc='upper left')\n",
    "plt.show()\n",
    "# summarize history for loss\n",
    "plt.plot(history.history['loss'])\n",
    "plt.plot(history.history['val_loss'])\n",
    "plt.title('model loss')\n",
    "plt.ylabel('loss')\n",
    "plt.xlabel('epoch')\n",
    "plt.legend(['train', 'test'], loc='upper left')\n",
    "plt.show()"
   ]
  },
  {
   "cell_type": "code",
   "execution_count": null,
   "id": "analyzed-conclusion",
   "metadata": {},
   "outputs": [],
   "source": []
  },
  {
   "cell_type": "code",
   "execution_count": null,
   "id": "numerous-earthquake",
   "metadata": {},
   "outputs": [],
   "source": []
  },
  {
   "cell_type": "code",
   "execution_count": null,
   "id": "electrical-correction",
   "metadata": {},
   "outputs": [],
   "source": []
  }
 ],
 "metadata": {
  "kernelspec": {
   "display_name": "Python 3",
   "language": "python",
   "name": "python3"
  },
  "language_info": {
   "codemirror_mode": {
    "name": "ipython",
    "version": 3
   },
   "file_extension": ".py",
   "mimetype": "text/x-python",
   "name": "python",
   "nbconvert_exporter": "python",
   "pygments_lexer": "ipython3",
   "version": "3.8.5"
  }
 },
 "nbformat": 4,
 "nbformat_minor": 5
}
