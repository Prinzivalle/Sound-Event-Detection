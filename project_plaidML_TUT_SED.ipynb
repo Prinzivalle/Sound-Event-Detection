{
 "cells": [
  {
   "cell_type": "markdown",
   "id": "bottom-origin",
   "metadata": {},
   "source": [
    "# Add title"
   ]
  },
  {
   "cell_type": "markdown",
   "id": "stable-literature",
   "metadata": {},
   "source": [
    "## Import libraries"
   ]
  },
  {
   "cell_type": "code",
   "execution_count": 3,
   "id": "female-coffee",
   "metadata": {},
   "outputs": [
    {
     "name": "stdout",
     "output_type": "stream",
     "text": [
      "<module 'plaidml.keras.backend' from 'E:\\\\anaconda3\\\\envs\\\\plaidML\\\\lib\\\\site-packages\\\\plaidml\\\\keras\\\\backend.py'>\n",
      "Keras version 2.2.4\n"
     ]
    }
   ],
   "source": [
    "import numpy as np\n",
    "import plaidml.keras\n",
    "import os\n",
    "plaidml.keras.install_backend()\n",
    "os.environ[\"KERAS_BACKEND\"] = \"plaidml.keras.backend\"\n",
    "\n",
    "from keras import backend as K\n",
    "print(K)\n",
    "\n",
    "import keras\n",
    "from keras.preprocessing.image import ImageDataGenerator\n",
    "\n",
    "print(\"Keras version %s\" %keras.__version__)"
   ]
  },
  {
   "cell_type": "markdown",
   "id": "fallen-procurement",
   "metadata": {},
   "source": [
    "## Load data from pickle file"
   ]
  },
  {
   "cell_type": "code",
   "execution_count": 15,
   "id": "directed-utility",
   "metadata": {
    "collapsed": true
   },
   "outputs": [
    {
     "name": "stdout",
     "output_type": "stream",
     "text": [
      "Showing the pickled data:\n",
      "The data  0  is :  stat\n",
      "The data  1  is :  feat\n",
      "{'stat': [{'std': array([6.48318544, 6.87151156, 6.86719852, 6.84275711, 6.83761415,\n",
      "       6.87223237, 6.89335253, 6.92458411, 6.93459117, 6.91495178,\n",
      "       6.90410583, 6.88555692, 6.87259983, 6.85547978, 6.85697284,\n",
      "       6.86119989, 6.83716133, 6.83862895, 6.80448932, 6.77448622,\n",
      "       6.74729871, 6.72425443, 6.66255718, 6.61520045, 6.59656039,\n",
      "       6.57226555, 6.56157618, 6.55718484, 6.53088663, 6.51751872,\n",
      "       6.50158522, 6.4990145 , 6.4573621 , 6.44153455, 6.37599137,\n",
      "       6.2957752 , 6.26178836, 6.19545378, 6.10835941, 5.96484113]), 'S2': array([1391514.69663058, 1389102.44883084, 1387606.75029818,\n",
      "       1383882.19306255, 1380225.16296667, 1359373.80533713,\n",
      "       1347661.35211995, 1339987.19396292, 1342874.90314537,\n",
      "       1344129.0207919 , 1351640.94493066, 1367952.96992322,\n",
      "       1379346.9941945 , 1389842.18241575, 1396542.08414379,\n",
      "       1398687.32487677, 1414705.27556523, 1425543.10995115,\n",
      "       1444716.15339566, 1463583.64304556, 1477611.41742779,\n",
      "       1494548.0037776 , 1520010.48070361, 1547078.35677613,\n",
      "       1572578.56655308, 1595342.7711362 , 1606206.90814228,\n",
      "       1619119.18980803, 1655672.90758402, 1680833.30531422,\n",
      "       1710767.09892035, 1747893.14849021, 1794927.6381294 ,\n",
      "       1824513.74276316, 1874141.50486427, 1930771.00133777,\n",
      "       1969953.3323145 , 2047108.91526706, 2135837.81759047,\n",
      "       2301909.08269519]), 'S1': array([-105932.18601462,  -96243.17003492,  -96207.47080479,\n",
      "        -96477.61566812,  -96247.8476337 ,  -93210.43614671,\n",
      "        -91411.37540399,  -89719.06116684,  -89743.0647171 ,\n",
      "        -90433.46904256,  -91530.03003369,  -93730.11123471,\n",
      "        -95235.95870258,  -96737.34182236,  -97361.32551862,\n",
      "        -97463.01634306,  -99639.79065636, -100642.01735952,\n",
      "       -103289.82618942, -105741.99812342, -107639.84761608,\n",
      "       -109663.46758286, -113223.9153971 , -116496.18318163,\n",
      "       -118961.71141177, -121272.59533784, -122341.54286114,\n",
      "       -123436.89246522, -126750.06957603, -128891.77257436,\n",
      "       -131394.21642532, -134125.81478215, -138173.83705764,\n",
      "       -140482.9987954 , -144908.06909291, -149869.05250601,\n",
      "       -152874.42072808, -158609.69526056, -165094.46356331,\n",
      "       -176307.77741463]), 'N': 19204, 'mean': array([-5.51615216, -5.01162102, -5.00976207, -5.02382918, -5.01186459,\n",
      "       -4.85369903, -4.76001747, -4.67189446, -4.67314438, -4.70909545,\n",
      "       -4.76619611, -4.8807598 , -4.95917302, -5.03735377, -5.06984615,\n",
      "       -5.07514145, -5.18849149, -5.24067993, -5.37855791, -5.5062486 ,\n",
      "       -5.60507434, -5.71044926, -5.89585062, -6.06624574, -6.19463192,\n",
      "       -6.31496539, -6.37062814, -6.42766572, -6.60019108, -6.71171488,\n",
      "       -6.84202335, -6.98426446, -7.19505504, -7.31529883, -7.54572324,\n",
      "       -7.80405397, -7.96055096, -8.25920096, -8.59687896, -9.18078408])}], 'feat': [array([[ -5.33493333,  -3.78812021,  -3.3984948 , ..., -10.64972242,\n",
      "        -11.04050379, -11.30557306],\n",
      "       [ -4.84801163,  -3.63148861,  -4.08461435, ..., -10.59566553,\n",
      "        -10.89260704, -11.32607007],\n",
      "       [ -4.41168424,  -4.00119264,  -3.57524541, ..., -10.6515296 ,\n",
      "        -10.9198731 , -11.41092192],\n",
      "       ...,\n",
      "       [-34.78430338, -36.04365339, -36.04365339, ..., -36.04365339,\n",
      "        -36.04365339, -36.04365339],\n",
      "       [-34.78430338, -36.04365339, -36.04365339, ..., -36.04365339,\n",
      "        -36.04365339, -36.04365339],\n",
      "       [-34.78430338, -36.04365339, -36.04365339, ..., -36.04365339,\n",
      "        -36.04365339, -36.04365339]])]}\n"
     ]
    }
   ],
   "source": [
    "import pickle\n",
    "\n",
    "#import os\n",
    "#print(os.listdir('E:\\\\Xception\\\\TUT-SED-synthetic-2016\\\\features\\\\'))\n",
    "\n",
    "# open a file, where you stored the pickled data\n",
    "file = open('E:\\\\Xception\\\\TUT-SED-synthetic-2016\\\\features\\\\TUT-SED-synthetic-2016-mix-0.cpickle', 'rb')\n",
    "\n",
    "# dump information to that file\n",
    "data = pickle.load(file, encoding='latin1')\n",
    "\n",
    "# close the file\n",
    "file.close()\n",
    "\n",
    "print('Showing the pickled data:')\n",
    "\n",
    "cnt = 0\n",
    "for item in data:\n",
    "    print('The data ', cnt, ' is : ', item)\n",
    "    cnt += 1\n",
    "\n",
    "print(data)"
   ]
  },
  {
   "cell_type": "code",
   "execution_count": 2,
   "id": "romance-registration",
   "metadata": {
    "scrolled": false
   },
   "outputs": [],
   "source": [
    "import pickle\n",
    "import pandas as pd\n",
    "\n",
    "directory = 'E:\\\\Xception\\\\TUT-SED-synthetic-2016\\\\features\\\\'\n",
    "list_dt = []\n",
    "dictionary = {}\n",
    "\n",
    "for i in range(100):\n",
    "    file_name = directory+'TUT-SED-synthetic-2016-mix-'+str(i)+'.cpickle'\n",
    "    #print(file_name)\n",
    "    \n",
    "    # open a file, where you stored the pickled data\n",
    "    file = open(file_name, 'rb')\n",
    "\n",
    "    # dump information to that file\n",
    "    #data = pickle.load(file, encoding='latin1')\n",
    "    #unpickled_df.append(pd.read_pickle(file))\n",
    "    list_dt.append(pickle.load(file, encoding='latin1'))\n",
    "    \n",
    "    # close the file\n",
    "    file.close()\n",
    "    \n",
    "featuresdf = pd.DataFrame(list_dt)"
   ]
  },
  {
   "cell_type": "code",
   "execution_count": null,
   "id": "annoying-heater",
   "metadata": {},
   "outputs": [],
   "source": []
  },
  {
   "cell_type": "code",
   "execution_count": 18,
   "id": "endangered-latest",
   "metadata": {
    "collapsed": true
   },
   "outputs": [
    {
     "name": "stdout",
     "output_type": "stream",
     "text": [
      "processing element  0\n",
      "processing element  10\n",
      "processing element  20\n",
      "processing element  30\n",
      "processing element  40\n",
      "processing element  50\n",
      "processing element  60\n",
      "processing element  70\n",
      "processing element  80\n",
      "processing element  90\n",
      "Finished feature extraction from  100  files\n"
     ]
    }
   ],
   "source": [
    "# Load various imports \n",
    "import pandas as pd\n",
    "import os\n",
    "import librosa\n",
    "\n",
    "directory = 'E:\\\\Xception\\\\TUT-SED-synthetic-2016\\\\audio\\\\'\n",
    "\n",
    "max_pad_len = 174\n",
    "\n",
    "def extract_features(file_name):\n",
    "   \n",
    "    #try:\n",
    "    audio, sample_rate = librosa.load(file_name, res_type='kaiser_fast') \n",
    "    #mfccs = librosa.feature.mfcc(y=audio, sr=sample_rate, n_mfcc=40, n_fft=440, hop_length=73, n_mels=40)\n",
    "    mfccs = librosa.feature.mfcc(y=audio, sr=sample_rate, n_fft=1024, hop_length=882, n_mels=40)\n",
    "        #pad_width = max_pad_len - mfccs.shape[1]\n",
    "        #mfccs = np.pad(mfccs, pad_width=((0, 0), (0, pad_width)), mode='constant')\n",
    "        \n",
    "    #except Exception as e:\n",
    "    #    print(\"Error encountered while parsing file: \", file_name)\n",
    "    #    return None \n",
    "     \n",
    "    return mfccs\n",
    "    \n",
    "# Set the path to the full UrbanSound dataset \n",
    "#fulldatasetpath = '/Xception/UrbanSound8K/audio/'\n",
    "\n",
    "#metadata = pd.read_csv('UrbanSound8K/metadata/UrbanSound8K.csv')\n",
    "\n",
    "features = []\n",
    "\n",
    "# Iterate through each sound file and extract the features \n",
    "for i in range(100):\n",
    "    \n",
    "    if i%10==0:\n",
    "        print(\"processing element \",i)\n",
    "    \n",
    "    file_name = directory+'TUT-SED-synthetic-2016-mix-'+str(i)+'.wav'\n",
    "    \n",
    "    #class_label = row[\"class\"]\n",
    "    data = extract_features(file_name)\n",
    "    \n",
    "    features.append([data])\n",
    "\n",
    "# Convert into a Panda dataframe \n",
    "featuresdf = pd.DataFrame(features, columns=['feature'])#,'class_label'])\n",
    "\n",
    "print('Finished feature extraction from ', len(featuresdf), ' files')"
   ]
  },
  {
   "cell_type": "code",
   "execution_count": 17,
   "id": "genuine-habitat",
   "metadata": {
    "collapsed": true
   },
   "outputs": [
    {
     "data": {
      "text/plain": [
       "(40, 116008)"
      ]
     },
     "execution_count": 17,
     "metadata": {},
     "output_type": "execute_result"
    }
   ],
   "source": [
    "featuresdf['feature'][0].shape"
   ]
  },
  {
   "cell_type": "markdown",
   "id": "figured-picking",
   "metadata": {},
   "source": [
    "## Load meta file (onset, offset, labels)"
   ]
  },
  {
   "cell_type": "code",
   "execution_count": 17,
   "id": "proof-quilt",
   "metadata": {
    "collapsed": true
   },
   "outputs": [
    {
     "data": {
      "text/html": [
       "<div>\n",
       "<style scoped>\n",
       "    .dataframe tbody tr th:only-of-type {\n",
       "        vertical-align: middle;\n",
       "    }\n",
       "\n",
       "    .dataframe tbody tr th {\n",
       "        vertical-align: top;\n",
       "    }\n",
       "\n",
       "    .dataframe thead th {\n",
       "        text-align: right;\n",
       "    }\n",
       "</style>\n",
       "<table border=\"1\" class=\"dataframe\">\n",
       "  <thead>\n",
       "    <tr style=\"text-align: right;\">\n",
       "      <th></th>\n",
       "      <th>file</th>\n",
       "      <th>onset</th>\n",
       "      <th>offset</th>\n",
       "      <th>label</th>\n",
       "    </tr>\n",
       "  </thead>\n",
       "  <tbody>\n",
       "    <tr>\n",
       "      <th>0</th>\n",
       "      <td>audio/TUT-SED-synthetic-2016-mix-0.wav</td>\n",
       "      <td>2.82</td>\n",
       "      <td>2.90</td>\n",
       "      <td>horsewalk</td>\n",
       "    </tr>\n",
       "    <tr>\n",
       "      <th>1</th>\n",
       "      <td>audio/TUT-SED-synthetic-2016-mix-0.wav</td>\n",
       "      <td>3.08</td>\n",
       "      <td>3.16</td>\n",
       "      <td>horsewalk</td>\n",
       "    </tr>\n",
       "    <tr>\n",
       "      <th>2</th>\n",
       "      <td>audio/TUT-SED-synthetic-2016-mix-0.wav</td>\n",
       "      <td>3.32</td>\n",
       "      <td>3.44</td>\n",
       "      <td>horsewalk</td>\n",
       "    </tr>\n",
       "    <tr>\n",
       "      <th>3</th>\n",
       "      <td>audio/TUT-SED-synthetic-2016-mix-0.wav</td>\n",
       "      <td>3.62</td>\n",
       "      <td>3.72</td>\n",
       "      <td>horsewalk</td>\n",
       "    </tr>\n",
       "    <tr>\n",
       "      <th>4</th>\n",
       "      <td>audio/TUT-SED-synthetic-2016-mix-0.wav</td>\n",
       "      <td>3.82</td>\n",
       "      <td>3.96</td>\n",
       "      <td>horsewalk</td>\n",
       "    </tr>\n",
       "    <tr>\n",
       "      <th>...</th>\n",
       "      <td>...</td>\n",
       "      <td>...</td>\n",
       "      <td>...</td>\n",
       "      <td>...</td>\n",
       "    </tr>\n",
       "    <tr>\n",
       "      <th>36321</th>\n",
       "      <td>audio/TUT-SED-synthetic-2016-mix-9.wav</td>\n",
       "      <td>311.38</td>\n",
       "      <td>311.52</td>\n",
       "      <td>bird_singing</td>\n",
       "    </tr>\n",
       "    <tr>\n",
       "      <th>36322</th>\n",
       "      <td>audio/TUT-SED-synthetic-2016-mix-9.wav</td>\n",
       "      <td>334.86</td>\n",
       "      <td>335.00</td>\n",
       "      <td>bird_singing</td>\n",
       "    </tr>\n",
       "    <tr>\n",
       "      <th>36323</th>\n",
       "      <td>audio/TUT-SED-synthetic-2016-mix-9.wav</td>\n",
       "      <td>335.22</td>\n",
       "      <td>335.74</td>\n",
       "      <td>bird_singing</td>\n",
       "    </tr>\n",
       "    <tr>\n",
       "      <th>36324</th>\n",
       "      <td>audio/TUT-SED-synthetic-2016-mix-9.wav</td>\n",
       "      <td>335.82</td>\n",
       "      <td>336.28</td>\n",
       "      <td>bird_singing</td>\n",
       "    </tr>\n",
       "    <tr>\n",
       "      <th>36325</th>\n",
       "      <td>audio/TUT-SED-synthetic-2016-mix-9.wav</td>\n",
       "      <td>336.34</td>\n",
       "      <td>338.52</td>\n",
       "      <td>bird_singing</td>\n",
       "    </tr>\n",
       "  </tbody>\n",
       "</table>\n",
       "<p>36326 rows × 4 columns</p>\n",
       "</div>"
      ],
      "text/plain": [
       "                                         file   onset  offset         label\n",
       "0      audio/TUT-SED-synthetic-2016-mix-0.wav    2.82    2.90     horsewalk\n",
       "1      audio/TUT-SED-synthetic-2016-mix-0.wav    3.08    3.16     horsewalk\n",
       "2      audio/TUT-SED-synthetic-2016-mix-0.wav    3.32    3.44     horsewalk\n",
       "3      audio/TUT-SED-synthetic-2016-mix-0.wav    3.62    3.72     horsewalk\n",
       "4      audio/TUT-SED-synthetic-2016-mix-0.wav    3.82    3.96     horsewalk\n",
       "...                                       ...     ...     ...           ...\n",
       "36321  audio/TUT-SED-synthetic-2016-mix-9.wav  311.38  311.52  bird_singing\n",
       "36322  audio/TUT-SED-synthetic-2016-mix-9.wav  334.86  335.00  bird_singing\n",
       "36323  audio/TUT-SED-synthetic-2016-mix-9.wav  335.22  335.74  bird_singing\n",
       "36324  audio/TUT-SED-synthetic-2016-mix-9.wav  335.82  336.28  bird_singing\n",
       "36325  audio/TUT-SED-synthetic-2016-mix-9.wav  336.34  338.52  bird_singing\n",
       "\n",
       "[36326 rows x 4 columns]"
      ]
     },
     "execution_count": 17,
     "metadata": {},
     "output_type": "execute_result"
    }
   ],
   "source": [
    "import pandas as pd\n",
    "df = pd.read_csv('E:\\\\Xception\\\\TUT-SED-synthetic-2016\\\\meta.txt', delimiter = \"\\t\", header=None)\n",
    "#df.drop(columns=[1, 5])\n",
    "df.columns = [\"file\", \"drop1\", \"onset\", \"offset\", \"label\", \"drop2\"]\n",
    "df = df.drop(columns=[\"drop1\", \"drop2\"])\n",
    "df"
   ]
  },
  {
   "cell_type": "markdown",
   "id": "accessible-cloud",
   "metadata": {},
   "source": [
    "## Load data, split sounds and extract features"
   ]
  },
  {
   "cell_type": "code",
   "execution_count": 18,
   "id": "lightweight-democrat",
   "metadata": {
    "collapsed": true
   },
   "outputs": [
    {
     "name": "stdout",
     "output_type": "stream",
     "text": [
      "processing element  0\n",
      "E:\\Xception\\TUT-SED-synthetic-2016\\audio\\TUT-SED-synthetic-2016-mix-0.wav\n",
      "E:\\Xception\\TUT-SED-synthetic-2016\\audio\\TUT-SED-synthetic-2016-mix-1.wav\n",
      "E:\\Xception\\TUT-SED-synthetic-2016\\audio\\TUT-SED-synthetic-2016-mix-2.wav\n",
      "E:\\Xception\\TUT-SED-synthetic-2016\\audio\\TUT-SED-synthetic-2016-mix-3.wav\n",
      "E:\\Xception\\TUT-SED-synthetic-2016\\audio\\TUT-SED-synthetic-2016-mix-4.wav\n",
      "E:\\Xception\\TUT-SED-synthetic-2016\\audio\\TUT-SED-synthetic-2016-mix-5.wav\n",
      "E:\\Xception\\TUT-SED-synthetic-2016\\audio\\TUT-SED-synthetic-2016-mix-6.wav\n",
      "E:\\Xception\\TUT-SED-synthetic-2016\\audio\\TUT-SED-synthetic-2016-mix-7.wav\n",
      "E:\\Xception\\TUT-SED-synthetic-2016\\audio\\TUT-SED-synthetic-2016-mix-8.wav\n",
      "E:\\Xception\\TUT-SED-synthetic-2016\\audio\\TUT-SED-synthetic-2016-mix-9.wav\n",
      "processing element  10\n",
      "E:\\Xception\\TUT-SED-synthetic-2016\\audio\\TUT-SED-synthetic-2016-mix-10.wav\n",
      "E:\\Xception\\TUT-SED-synthetic-2016\\audio\\TUT-SED-synthetic-2016-mix-11.wav\n",
      "E:\\Xception\\TUT-SED-synthetic-2016\\audio\\TUT-SED-synthetic-2016-mix-12.wav\n",
      "E:\\Xception\\TUT-SED-synthetic-2016\\audio\\TUT-SED-synthetic-2016-mix-13.wav\n",
      "E:\\Xception\\TUT-SED-synthetic-2016\\audio\\TUT-SED-synthetic-2016-mix-14.wav\n",
      "E:\\Xception\\TUT-SED-synthetic-2016\\audio\\TUT-SED-synthetic-2016-mix-15.wav\n",
      "E:\\Xception\\TUT-SED-synthetic-2016\\audio\\TUT-SED-synthetic-2016-mix-16.wav\n",
      "E:\\Xception\\TUT-SED-synthetic-2016\\audio\\TUT-SED-synthetic-2016-mix-17.wav\n",
      "E:\\Xception\\TUT-SED-synthetic-2016\\audio\\TUT-SED-synthetic-2016-mix-18.wav\n",
      "E:\\Xception\\TUT-SED-synthetic-2016\\audio\\TUT-SED-synthetic-2016-mix-19.wav\n",
      "processing element  20\n",
      "E:\\Xception\\TUT-SED-synthetic-2016\\audio\\TUT-SED-synthetic-2016-mix-20.wav\n",
      "E:\\Xception\\TUT-SED-synthetic-2016\\audio\\TUT-SED-synthetic-2016-mix-21.wav\n",
      "E:\\Xception\\TUT-SED-synthetic-2016\\audio\\TUT-SED-synthetic-2016-mix-22.wav\n",
      "E:\\Xception\\TUT-SED-synthetic-2016\\audio\\TUT-SED-synthetic-2016-mix-23.wav\n",
      "E:\\Xception\\TUT-SED-synthetic-2016\\audio\\TUT-SED-synthetic-2016-mix-24.wav\n",
      "E:\\Xception\\TUT-SED-synthetic-2016\\audio\\TUT-SED-synthetic-2016-mix-25.wav\n",
      "E:\\Xception\\TUT-SED-synthetic-2016\\audio\\TUT-SED-synthetic-2016-mix-26.wav\n",
      "E:\\Xception\\TUT-SED-synthetic-2016\\audio\\TUT-SED-synthetic-2016-mix-27.wav\n",
      "E:\\Xception\\TUT-SED-synthetic-2016\\audio\\TUT-SED-synthetic-2016-mix-28.wav\n",
      "E:\\Xception\\TUT-SED-synthetic-2016\\audio\\TUT-SED-synthetic-2016-mix-29.wav\n",
      "processing element  30\n",
      "E:\\Xception\\TUT-SED-synthetic-2016\\audio\\TUT-SED-synthetic-2016-mix-30.wav\n",
      "E:\\Xception\\TUT-SED-synthetic-2016\\audio\\TUT-SED-synthetic-2016-mix-31.wav\n",
      "E:\\Xception\\TUT-SED-synthetic-2016\\audio\\TUT-SED-synthetic-2016-mix-32.wav\n",
      "E:\\Xception\\TUT-SED-synthetic-2016\\audio\\TUT-SED-synthetic-2016-mix-33.wav\n",
      "E:\\Xception\\TUT-SED-synthetic-2016\\audio\\TUT-SED-synthetic-2016-mix-34.wav\n",
      "E:\\Xception\\TUT-SED-synthetic-2016\\audio\\TUT-SED-synthetic-2016-mix-35.wav\n",
      "E:\\Xception\\TUT-SED-synthetic-2016\\audio\\TUT-SED-synthetic-2016-mix-36.wav\n",
      "E:\\Xception\\TUT-SED-synthetic-2016\\audio\\TUT-SED-synthetic-2016-mix-37.wav\n",
      "E:\\Xception\\TUT-SED-synthetic-2016\\audio\\TUT-SED-synthetic-2016-mix-38.wav\n",
      "E:\\Xception\\TUT-SED-synthetic-2016\\audio\\TUT-SED-synthetic-2016-mix-39.wav\n",
      "processing element  40\n",
      "E:\\Xception\\TUT-SED-synthetic-2016\\audio\\TUT-SED-synthetic-2016-mix-40.wav\n",
      "E:\\Xception\\TUT-SED-synthetic-2016\\audio\\TUT-SED-synthetic-2016-mix-41.wav\n",
      "E:\\Xception\\TUT-SED-synthetic-2016\\audio\\TUT-SED-synthetic-2016-mix-42.wav\n",
      "E:\\Xception\\TUT-SED-synthetic-2016\\audio\\TUT-SED-synthetic-2016-mix-43.wav\n",
      "E:\\Xception\\TUT-SED-synthetic-2016\\audio\\TUT-SED-synthetic-2016-mix-44.wav\n",
      "E:\\Xception\\TUT-SED-synthetic-2016\\audio\\TUT-SED-synthetic-2016-mix-45.wav\n",
      "E:\\Xception\\TUT-SED-synthetic-2016\\audio\\TUT-SED-synthetic-2016-mix-46.wav\n",
      "E:\\Xception\\TUT-SED-synthetic-2016\\audio\\TUT-SED-synthetic-2016-mix-47.wav\n",
      "E:\\Xception\\TUT-SED-synthetic-2016\\audio\\TUT-SED-synthetic-2016-mix-48.wav\n",
      "E:\\Xception\\TUT-SED-synthetic-2016\\audio\\TUT-SED-synthetic-2016-mix-49.wav\n",
      "processing element  50\n",
      "E:\\Xception\\TUT-SED-synthetic-2016\\audio\\TUT-SED-synthetic-2016-mix-50.wav\n",
      "E:\\Xception\\TUT-SED-synthetic-2016\\audio\\TUT-SED-synthetic-2016-mix-51.wav\n",
      "E:\\Xception\\TUT-SED-synthetic-2016\\audio\\TUT-SED-synthetic-2016-mix-52.wav\n",
      "E:\\Xception\\TUT-SED-synthetic-2016\\audio\\TUT-SED-synthetic-2016-mix-53.wav\n",
      "E:\\Xception\\TUT-SED-synthetic-2016\\audio\\TUT-SED-synthetic-2016-mix-54.wav\n",
      "E:\\Xception\\TUT-SED-synthetic-2016\\audio\\TUT-SED-synthetic-2016-mix-55.wav\n",
      "E:\\Xception\\TUT-SED-synthetic-2016\\audio\\TUT-SED-synthetic-2016-mix-56.wav\n",
      "E:\\Xception\\TUT-SED-synthetic-2016\\audio\\TUT-SED-synthetic-2016-mix-57.wav\n",
      "E:\\Xception\\TUT-SED-synthetic-2016\\audio\\TUT-SED-synthetic-2016-mix-58.wav\n",
      "E:\\Xception\\TUT-SED-synthetic-2016\\audio\\TUT-SED-synthetic-2016-mix-59.wav\n",
      "processing element  60\n",
      "E:\\Xception\\TUT-SED-synthetic-2016\\audio\\TUT-SED-synthetic-2016-mix-60.wav\n",
      "E:\\Xception\\TUT-SED-synthetic-2016\\audio\\TUT-SED-synthetic-2016-mix-61.wav\n",
      "E:\\Xception\\TUT-SED-synthetic-2016\\audio\\TUT-SED-synthetic-2016-mix-62.wav\n",
      "E:\\Xception\\TUT-SED-synthetic-2016\\audio\\TUT-SED-synthetic-2016-mix-63.wav\n",
      "E:\\Xception\\TUT-SED-synthetic-2016\\audio\\TUT-SED-synthetic-2016-mix-64.wav\n",
      "E:\\Xception\\TUT-SED-synthetic-2016\\audio\\TUT-SED-synthetic-2016-mix-65.wav\n",
      "E:\\Xception\\TUT-SED-synthetic-2016\\audio\\TUT-SED-synthetic-2016-mix-66.wav\n",
      "E:\\Xception\\TUT-SED-synthetic-2016\\audio\\TUT-SED-synthetic-2016-mix-67.wav\n",
      "E:\\Xception\\TUT-SED-synthetic-2016\\audio\\TUT-SED-synthetic-2016-mix-68.wav\n",
      "E:\\Xception\\TUT-SED-synthetic-2016\\audio\\TUT-SED-synthetic-2016-mix-69.wav\n",
      "processing element  70\n",
      "E:\\Xception\\TUT-SED-synthetic-2016\\audio\\TUT-SED-synthetic-2016-mix-70.wav\n",
      "E:\\Xception\\TUT-SED-synthetic-2016\\audio\\TUT-SED-synthetic-2016-mix-71.wav\n",
      "E:\\Xception\\TUT-SED-synthetic-2016\\audio\\TUT-SED-synthetic-2016-mix-72.wav\n",
      "E:\\Xception\\TUT-SED-synthetic-2016\\audio\\TUT-SED-synthetic-2016-mix-73.wav\n",
      "E:\\Xception\\TUT-SED-synthetic-2016\\audio\\TUT-SED-synthetic-2016-mix-74.wav\n",
      "E:\\Xception\\TUT-SED-synthetic-2016\\audio\\TUT-SED-synthetic-2016-mix-75.wav\n",
      "E:\\Xception\\TUT-SED-synthetic-2016\\audio\\TUT-SED-synthetic-2016-mix-76.wav\n",
      "E:\\Xception\\TUT-SED-synthetic-2016\\audio\\TUT-SED-synthetic-2016-mix-77.wav\n",
      "E:\\Xception\\TUT-SED-synthetic-2016\\audio\\TUT-SED-synthetic-2016-mix-78.wav\n",
      "E:\\Xception\\TUT-SED-synthetic-2016\\audio\\TUT-SED-synthetic-2016-mix-79.wav\n",
      "processing element  80\n",
      "E:\\Xception\\TUT-SED-synthetic-2016\\audio\\TUT-SED-synthetic-2016-mix-80.wav\n",
      "E:\\Xception\\TUT-SED-synthetic-2016\\audio\\TUT-SED-synthetic-2016-mix-81.wav\n",
      "E:\\Xception\\TUT-SED-synthetic-2016\\audio\\TUT-SED-synthetic-2016-mix-82.wav\n",
      "E:\\Xception\\TUT-SED-synthetic-2016\\audio\\TUT-SED-synthetic-2016-mix-83.wav\n",
      "E:\\Xception\\TUT-SED-synthetic-2016\\audio\\TUT-SED-synthetic-2016-mix-84.wav\n",
      "E:\\Xception\\TUT-SED-synthetic-2016\\audio\\TUT-SED-synthetic-2016-mix-85.wav\n",
      "E:\\Xception\\TUT-SED-synthetic-2016\\audio\\TUT-SED-synthetic-2016-mix-86.wav\n",
      "E:\\Xception\\TUT-SED-synthetic-2016\\audio\\TUT-SED-synthetic-2016-mix-87.wav\n",
      "E:\\Xception\\TUT-SED-synthetic-2016\\audio\\TUT-SED-synthetic-2016-mix-88.wav\n",
      "E:\\Xception\\TUT-SED-synthetic-2016\\audio\\TUT-SED-synthetic-2016-mix-89.wav\n",
      "processing element  90\n",
      "E:\\Xception\\TUT-SED-synthetic-2016\\audio\\TUT-SED-synthetic-2016-mix-90.wav\n",
      "E:\\Xception\\TUT-SED-synthetic-2016\\audio\\TUT-SED-synthetic-2016-mix-91.wav\n",
      "E:\\Xception\\TUT-SED-synthetic-2016\\audio\\TUT-SED-synthetic-2016-mix-92.wav\n",
      "E:\\Xception\\TUT-SED-synthetic-2016\\audio\\TUT-SED-synthetic-2016-mix-93.wav\n",
      "E:\\Xception\\TUT-SED-synthetic-2016\\audio\\TUT-SED-synthetic-2016-mix-94.wav\n",
      "E:\\Xception\\TUT-SED-synthetic-2016\\audio\\TUT-SED-synthetic-2016-mix-95.wav\n",
      "E:\\Xception\\TUT-SED-synthetic-2016\\audio\\TUT-SED-synthetic-2016-mix-96.wav\n",
      "E:\\Xception\\TUT-SED-synthetic-2016\\audio\\TUT-SED-synthetic-2016-mix-97.wav\n",
      "E:\\Xception\\TUT-SED-synthetic-2016\\audio\\TUT-SED-synthetic-2016-mix-98.wav\n",
      "E:\\Xception\\TUT-SED-synthetic-2016\\audio\\TUT-SED-synthetic-2016-mix-99.wav\n",
      "4223\n",
      "Finished feature extraction from  36326  files\n"
     ]
    }
   ],
   "source": [
    "# Load various imports \n",
    "import pandas as pd\n",
    "import librosa\n",
    "\n",
    "directory = 'E:\\\\Xception\\\\TUT-SED-synthetic-2016\\\\audio\\\\'\n",
    "\n",
    "max_pad_len = 0    \n",
    "\n",
    "features = []\n",
    "\n",
    "# Iterate through each sound file and extract the features \n",
    "for i in range(100):\n",
    "    \n",
    "    if i%10==0:\n",
    "        print(\"processing element \",i)\n",
    "    \n",
    "    file_name = directory+'TUT-SED-synthetic-2016-mix-'+str(i)+'.wav'\n",
    "    \n",
    "    print(file_name)\n",
    "    \n",
    "    # extract metadata of single audio file\n",
    "    audio, sr = librosa.load(file_name, res_type='kaiser_fast')\n",
    "    query_name = file_name[len('E:\\\\Xception\\\\TUT-SED-synthetic-2016\\\\audio\\\\'):]\n",
    "    query_name = 'audio/' + query_name\n",
    "    subdf = df.query('file==@query_name')\n",
    "        \n",
    "    # split subsounds and extract features of each subfile\n",
    "    for index, row in subdf.iterrows():\n",
    "        mfccs = librosa.feature.mfcc(y=audio[int(sr*row['onset']):int(sr*row['offset'])], sr=sr, n_mfcc=40, n_fft=440, hop_length=73)\n",
    "        \n",
    "        #compute maximum pad length needed\n",
    "        num_frames = mfccs.shape[1]\n",
    "        # Update frames maximum\n",
    "        if (num_frames > max_pad_len):\n",
    "            max_pad_len = num_frames\n",
    "        \n",
    "        # add extracted features to list\n",
    "        features.append([mfccs, row['label']])\n",
    "\n",
    "# pad data since they have different length\n",
    "for i in range(len(features)):\n",
    "    \n",
    "    pad_width = max_pad_len - features[i][0].shape[1]\n",
    "    features[i][0] = np.pad(features[i][0], pad_width=((0, 0), (0, pad_width)), mode='constant')\n",
    "    \n",
    "# Convert into a Panda dataframe \n",
    "featuresdf = pd.DataFrame(features, columns=['feature','class_label'])\n",
    "\n",
    "print('Finished feature extraction from ', len(featuresdf), ' files')"
   ]
  },
  {
   "cell_type": "markdown",
   "id": "equal-incidence",
   "metadata": {},
   "source": [
    "## Save processed data to pickle file"
   ]
  },
  {
   "cell_type": "code",
   "execution_count": 19,
   "id": "therapeutic-nevada",
   "metadata": {
    "scrolled": true
   },
   "outputs": [],
   "source": [
    "featuresdf.to_pickle('E:\\\\Xception\\\\TUT-SED-synthetic-2016\\\\processed_data_frame.pkl')\n",
    "# delete data structure to save ram space (reload dataframe with next block)\n",
    "reset_selective -f features"
   ]
  },
  {
   "cell_type": "markdown",
   "id": "falling-behavior",
   "metadata": {},
   "source": [
    "## Load processed data to pikle file"
   ]
  },
  {
   "cell_type": "code",
   "execution_count": 1,
   "id": "provincial-clock",
   "metadata": {},
   "outputs": [],
   "source": [
    "import pandas as pd\n",
    "featuresdf = pd.read_pickle('E:\\\\Xception\\\\TUT-SED-synthetic-2016\\\\processed_data_frame.pkl')"
   ]
  },
  {
   "cell_type": "markdown",
   "id": "generous-radar",
   "metadata": {},
   "source": [
    "## Preprocess data"
   ]
  },
  {
   "cell_type": "code",
   "execution_count": 4,
   "id": "native-minneapolis",
   "metadata": {},
   "outputs": [],
   "source": [
    "from sklearn.preprocessing import LabelEncoder\n",
    "from keras.utils import to_categorical\n",
    "\n",
    "# Convert features and corresponding classification labels into numpy arrays\n",
    "X = np.array(featuresdf.feature.tolist())\n",
    "y = np.array(featuresdf.class_label.tolist())\n",
    "\n",
    "# Encode the classification labels\n",
    "le = LabelEncoder()\n",
    "yy = to_categorical(le.fit_transform(y)) \n",
    "\n",
    "# delete dataframe to save memory\n",
    "reset_selective -f featuresdf\n",
    "\n",
    "# split the dataset \n",
    "from sklearn.model_selection import train_test_split \n",
    "\n",
    "x_train, x_test, y_train, y_test = train_test_split(X, yy, test_size=0.2, random_state = 42)\n",
    "\n",
    "# delete X to save memory\n",
    "reset_selective -f X"
   ]
  },
  {
   "cell_type": "markdown",
   "id": "genuine-blowing",
   "metadata": {},
   "source": [
    "## Model definition"
   ]
  },
  {
   "cell_type": "code",
   "execution_count": 9,
   "id": "aboriginal-yellow",
   "metadata": {
    "collapsed": true
   },
   "outputs": [
    {
     "name": "stderr",
     "output_type": "stream",
     "text": [
      "INFO:plaidml:Opening device \"opencl_amd_gfx1010.0\"\n"
     ]
    },
    {
     "name": "stdout",
     "output_type": "stream",
     "text": [
      "_________________________________________________________________\n",
      "Layer (type)                 Output Shape              Param #   \n",
      "=================================================================\n",
      "input_1 (InputLayer)         (None, 40, 4223, 1)       0         \n",
      "_________________________________________________________________\n",
      "zero_padding2d_1 (ZeroPaddin (None, 44, 4227, 1)       0         \n",
      "_________________________________________________________________\n",
      "separable_conv2d_1 (Separabl (None, 40, 4223, 256)     537       \n",
      "_________________________________________________________________\n",
      "activation_1 (Activation)    (None, 40, 4223, 256)     0         \n",
      "_________________________________________________________________\n",
      "batch_normalization_1 (Batch (None, 40, 4223, 256)     1024      \n",
      "_________________________________________________________________\n",
      "max_pooling2d_1 (MaxPooling2 (None, 40, 844, 256)      0         \n",
      "_________________________________________________________________\n",
      "dropout_1 (Dropout)          (None, 40, 844, 256)      0         \n",
      "_________________________________________________________________\n",
      "zero_padding2d_2 (ZeroPaddin (None, 44, 848, 256)      0         \n",
      "_________________________________________________________________\n",
      "separable_conv2d_2 (Separabl (None, 40, 844, 256)      72192     \n",
      "_________________________________________________________________\n",
      "activation_2 (Activation)    (None, 40, 844, 256)      0         \n",
      "_________________________________________________________________\n",
      "batch_normalization_2 (Batch (None, 40, 844, 256)      1024      \n",
      "_________________________________________________________________\n",
      "max_pooling2d_2 (MaxPooling2 (None, 40, 211, 256)      0         \n",
      "_________________________________________________________________\n",
      "dropout_2 (Dropout)          (None, 40, 211, 256)      0         \n",
      "_________________________________________________________________\n",
      "zero_padding2d_3 (ZeroPaddin (None, 44, 215, 256)      0         \n",
      "_________________________________________________________________\n",
      "separable_conv2d_3 (Separabl (None, 40, 211, 256)      72192     \n",
      "_________________________________________________________________\n",
      "activation_3 (Activation)    (None, 40, 211, 256)      0         \n",
      "_________________________________________________________________\n",
      "batch_normalization_3 (Batch (None, 40, 211, 256)      1024      \n",
      "_________________________________________________________________\n",
      "max_pooling2d_3 (MaxPooling2 (None, 40, 105, 256)      0         \n",
      "_________________________________________________________________\n",
      "dropout_3 (Dropout)          (None, 40, 105, 256)      0         \n",
      "_________________________________________________________________\n",
      "zero_padding2d_4 (ZeroPaddin (None, 40, 145, 256)      0         \n",
      "_________________________________________________________________\n",
      "conv2d_1 (Conv2D)            (None, 38, 125, 256)      590080    \n",
      "_________________________________________________________________\n",
      "batch_normalization_4 (Batch (None, 38, 125, 256)      1024      \n",
      "_________________________________________________________________\n",
      "activation_4 (Activation)    (None, 38, 125, 256)      0         \n",
      "_________________________________________________________________\n",
      "avg_pool (GlobalAveragePooli (None, 256)               0         \n",
      "_________________________________________________________________\n",
      "dense_1 (Dense)              (None, 16)                4112      \n",
      "=================================================================\n",
      "Total params: 743,209\n",
      "Trainable params: 741,161\n",
      "Non-trainable params: 2,048\n",
      "_________________________________________________________________\n"
     ]
    }
   ],
   "source": [
    "from keras.models import Model\n",
    "from keras.layers import SeparableConv2D, ZeroPadding2D, Activation, Dropout, Dense, \\\n",
    "                            Conv2D, MaxPooling2D, GlobalAveragePooling2D\n",
    "from keras.layers.normalization import BatchNormalization\n",
    "from keras import Input, optimizers\n",
    "\n",
    "num_rows = 40\n",
    "num_columns = 4223\n",
    "num_channels = 1\n",
    "\n",
    "x_train = x_train.reshape(x_train.shape[0], num_rows, num_columns, num_channels)\n",
    "x_test = x_test.reshape(x_test.shape[0], num_rows, num_columns, num_channels)\n",
    "\n",
    "num_labels = yy.shape[1]\n",
    "\n",
    "def Net(input_shape, num_classes, dilated_kernel, dilation, dilated_padding):\n",
    "    \n",
    "    # input layer\n",
    "    inputs = Input(shape=(num_rows, num_columns, num_channels))\n",
    "    \n",
    "    # DWS-CNN layer 1\n",
    "    x = ZeroPadding2D(padding=(2))(inputs)\n",
    "    # use valid padding since padding is introduced before since it has a special form\n",
    "    x = SeparableConv2D(256,kernel_size=(5,5), strides=(1,1), padding='valid')(x)\n",
    "    x = Activation('relu')(x)\n",
    "    # Batch Normalisation before passing it to the next layer\n",
    "    x = BatchNormalization()(x)\n",
    "    # Pooling\n",
    "    x = MaxPooling2D(pool_size=(1,5), strides=(1,5), padding='valid')(x)\n",
    "    # Dropout\n",
    "    x = Dropout(0.25)(x)\n",
    "    \n",
    "    # DWS-CNN layer 2\n",
    "    x = ZeroPadding2D(padding=(2))(x)\n",
    "    # use valid padding since padding is introduced before since it has a special form\n",
    "    x = SeparableConv2D(256,kernel_size=(5,5), strides=(1,1), padding='valid')(x)\n",
    "    x = Activation('relu')(x)\n",
    "    # Batch Normalisation before passing it to the next layer\n",
    "    x = BatchNormalization()(x)\n",
    "    # Pooling\n",
    "    x = MaxPooling2D(pool_size=(1,4), strides=(1,4), padding='valid')(x)\n",
    "    # Dropout\n",
    "    x = Dropout(0.25)(x)\n",
    "    \n",
    "    # DWS-CNN layer 3\n",
    "    x = ZeroPadding2D(padding=(2))(x)\n",
    "    # use valid padding since padding is introduced before since it has a special form\n",
    "    x = SeparableConv2D(256,kernel_size=(5,5), strides=(1,1), padding='valid')(x)\n",
    "    x = Activation('relu')(x)\n",
    "    # Batch Normalisation before passing it to the next layer\n",
    "    x = BatchNormalization()(x)\n",
    "    # Pooling\n",
    "    x = MaxPooling2D(pool_size=(1,2), strides=(1,2), padding='valid')(x)\n",
    "    # Dropout\n",
    "    x = Dropout(0.25)(x)\n",
    "    \n",
    "    # DIL-CNN \n",
    "    x = ZeroPadding2D(padding=(0, dilated_padding*dilation))(x)\n",
    "    x = Conv2D(256, kernel_size=dilated_kernel, dilation_rate=(1,dilation))(x)\n",
    "    x = BatchNormalization()(x)\n",
    "    x = Activation('relu')(x)\n",
    "    \n",
    "    # classifier layer\n",
    "    x = GlobalAveragePooling2D(name='avg_pool')(x)\n",
    "    outputs = Dense(num_labels,activation='sigmoid')(x)\n",
    "    \n",
    "    # model compilation for training\n",
    "    adam = optimizers.Adam(lr=0.0001)\n",
    "    model = Model(inputs, outputs)                            \n",
    "    model.compile(loss='categorical_crossentropy', optimizer=adam, metrics=['accuracy'])\n",
    "    \n",
    "    return model\n",
    "\n",
    "\n",
    "# create the model\n",
    "input_shape = (256, 256, 1)\n",
    "num_classes = 10\n",
    "dilated_kernel = (3,3)\n",
    "dilation = (10)\n",
    "dilated_padding = 2\n",
    "model = Net(input_shape,num_classes,dilated_kernel,dilation,dilated_padding)\n",
    "model.summary()"
   ]
  },
  {
   "cell_type": "markdown",
   "id": "powered-precipitation",
   "metadata": {},
   "source": [
    "## Train the model (to be checked)"
   ]
  },
  {
   "cell_type": "code",
   "execution_count": 14,
   "id": "hydraulic-valley",
   "metadata": {
    "scrolled": false
   },
   "outputs": [
    {
     "name": "stdout",
     "output_type": "stream",
     "text": [
      "Train on 24410 samples, validate on 4650 samples\n",
      "Epoch 1/10\n",
      "24410/24410 [==============================] - 2815s 115ms/step - loss: 1.8790 - acc: 0.3358 - val_loss: 1.9532 - val_acc: 0.3673\n",
      "Epoch 2/10\n",
      "24410/24410 [==============================] - 2847s 117ms/step - loss: 1.6331 - acc: 0.4486 - val_loss: 1.6903 - val_acc: 0.4376\n",
      "Epoch 3/10\n",
      "24410/24410 [==============================] - 2894s 119ms/step - loss: 1.4879 - acc: 0.5037 - val_loss: 1.5306 - val_acc: 0.4426\n",
      "Epoch 4/10\n",
      "24410/24410 [==============================] - 2801s 115ms/step - loss: 1.3838 - acc: 0.5412 - val_loss: 1.4736 - val_acc: 0.4826\n",
      "Epoch 5/10\n",
      "24410/24410 [==============================] - 2760s 113ms/step - loss: 1.3039 - acc: 0.5737 - val_loss: 1.3457 - val_acc: 0.5871\n",
      "Epoch 6/10\n",
      "24410/24410 [==============================] - 2790s 114ms/step - loss: 1.2433 - acc: 0.5945 - val_loss: 1.3327 - val_acc: 0.5796\n",
      "Epoch 7/10\n",
      "24410/24410 [==============================] - 2756s 113ms/step - loss: 1.1830 - acc: 0.6179 - val_loss: 1.3421 - val_acc: 0.5553\n",
      "Epoch 8/10\n",
      "24410/24410 [==============================] - 2828s 116ms/step - loss: 1.1358 - acc: 0.6341 - val_loss: 1.2686 - val_acc: 0.6080\n",
      "Epoch 9/10\n",
      "24410/24410 [==============================] - 2869s 118ms/step - loss: 1.0958 - acc: 0.6480 - val_loss: 1.2115 - val_acc: 0.6284\n",
      "Epoch 10/10\n",
      "24410/24410 [==============================] - 2829s 116ms/step - loss: 1.0605 - acc: 0.6615 - val_loss: 1.3105 - val_acc: 0.5667\n",
      "Training completed in time:  7:49:53.028634\n"
     ]
    }
   ],
   "source": [
    "#from keras.callbacks import ModelCheckpoint \n",
    "from datetime import datetime \n",
    "\n",
    "num_epochs = 10\n",
    "# low batch size due to memory maximum dimension, modify if using smaller dataset\n",
    "num_batch_size = 3\n",
    "\n",
    "#checkpointer = ModelCheckpoint(filepath='saved_models/weights.best.basic_cnn.hdf5', \n",
    "#                               verbose=1, save_best_only=True)\n",
    "start = datetime.now()\n",
    "\n",
    "#history = model.fit(x_train, y_train, batch_size=num_batch_size, epochs=num_epochs, validation_data=(x_test, y_test), verbose=1)\n",
    "history = model.fit(x_train, y_train, batch_size=num_batch_size, epochs=num_epochs, validation_split=0.16, verbose=1)\n",
    "\n",
    "duration = datetime.now() - start\n",
    "print(\"Training completed in time: \", duration)"
   ]
  },
  {
   "cell_type": "markdown",
   "id": "celtic-corporation",
   "metadata": {},
   "source": [
    "## Evaluate model"
   ]
  },
  {
   "cell_type": "code",
   "execution_count": 15,
   "id": "shaped-induction",
   "metadata": {},
   "outputs": [
    {
     "name": "stdout",
     "output_type": "stream",
     "text": [
      "Evaluate on test data\n",
      "7266/7266 [==============================] - 144s 20ms/step\n",
      "test loss, test acc: [1.3543415148923224, 0.5606936530250838]\n"
     ]
    }
   ],
   "source": [
    "# Evaluate the model on the test data using `evaluate`\n",
    "print(\"Evaluate on test data\")\n",
    "results = model.evaluate(x_test, y_test, batch_size=num_batch_size)\n",
    "print(\"test loss, test acc:\", results)"
   ]
  },
  {
   "cell_type": "markdown",
   "id": "elegant-thirty",
   "metadata": {},
   "source": [
    "## Save model"
   ]
  },
  {
   "cell_type": "code",
   "execution_count": 19,
   "id": "governmental-argentina",
   "metadata": {},
   "outputs": [],
   "source": [
    "filename = 'E:\\\\Xception\\\\TUT-SED-synthetic-2016\\\\model1.h5'\n",
    "model.save(filename)"
   ]
  },
  {
   "cell_type": "markdown",
   "id": "systematic-worry",
   "metadata": {},
   "source": [
    "## Plot Results"
   ]
  },
  {
   "cell_type": "code",
   "execution_count": 16,
   "id": "unexpected-paintball",
   "metadata": {},
   "outputs": [
    {
     "data": {
      "image/png": "[encoded data removed]",
      "text/plain": [
       "<Figure size 432x288 with 1 Axes>"
      ]
     },
     "metadata": {
      "needs_background": "light"
     },
     "output_type": "display_data"
    },
    {
     "data": {
      "image/png": "[encoded data removed]",
      "text/plain": [
       "<Figure size 432x288 with 1 Axes>"
      ]
     },
     "metadata": {
      "needs_background": "light"
     },
     "output_type": "display_data"
    }
   ],
   "source": [
    "import matplotlib.pyplot as plt\n",
    "\n",
    "# summarize history for accuracy\n",
    "plt.plot(history.history['acc'])\n",
    "plt.plot(history.history['val_acc'])\n",
    "plt.title('model accuracy')\n",
    "plt.ylabel('accuracy')\n",
    "plt.xlabel('epoch')\n",
    "plt.legend(['train', 'test'], loc='upper left')\n",
    "plt.show()\n",
    "# summarize history for loss\n",
    "plt.plot(history.history['loss'])\n",
    "plt.plot(history.history['val_loss'])\n",
    "plt.title('model loss')\n",
    "plt.ylabel('loss')\n",
    "plt.xlabel('epoch')\n",
    "plt.legend(['train', 'test'], loc='upper left')\n",
    "plt.show()"
   ]
  },
  {
   "cell_type": "markdown",
   "id": "unnecessary-notion",
   "metadata": {},
   "source": [
    "## Compute other metrics (to be checked)"
   ]
  },
  {
   "cell_type": "code",
   "execution_count": 18,
   "id": "numerous-earthquake",
   "metadata": {},
   "outputs": [
    {
     "name": "stdout",
     "output_type": "stream",
     "text": [
      "7266/7266 [==============================] - 122s 17ms/step\n"
     ]
    },
    {
     "ename": "ValueError",
     "evalue": "Classification metrics can't handle a mix of multilabel-indicator and multiclass targets",
     "output_type": "error",
     "traceback": [
      "\u001b[1;31m---------------------------------------------------------------------------\u001b[0m",
      "\u001b[1;31mValueError\u001b[0m                                Traceback (most recent call last)",
      "\u001b[1;32m<ipython-input-18-8f84a1688563>\u001b[0m in \u001b[0;36m<module>\u001b[1;34m\u001b[0m\n\u001b[0;32m      4\u001b[0m \u001b[0my_pred_bool\u001b[0m \u001b[1;33m=\u001b[0m \u001b[0mnp\u001b[0m\u001b[1;33m.\u001b[0m\u001b[0margmax\u001b[0m\u001b[1;33m(\u001b[0m\u001b[0my_pred\u001b[0m\u001b[1;33m,\u001b[0m \u001b[0maxis\u001b[0m\u001b[1;33m=\u001b[0m\u001b[1;36m1\u001b[0m\u001b[1;33m)\u001b[0m\u001b[1;33m\u001b[0m\u001b[1;33m\u001b[0m\u001b[0m\n\u001b[0;32m      5\u001b[0m \u001b[1;33m\u001b[0m\u001b[0m\n\u001b[1;32m----> 6\u001b[1;33m \u001b[0mprint\u001b[0m\u001b[1;33m(\u001b[0m\u001b[0mclassification_report\u001b[0m\u001b[1;33m(\u001b[0m\u001b[0my_test\u001b[0m\u001b[1;33m,\u001b[0m \u001b[0my_pred_bool\u001b[0m\u001b[1;33m)\u001b[0m\u001b[1;33m)\u001b[0m\u001b[1;33m\u001b[0m\u001b[1;33m\u001b[0m\u001b[0m\n\u001b[0m",
      "\u001b[1;32mE:\\anaconda3\\envs\\plaidML\\lib\\site-packages\\sklearn\\utils\\validation.py\u001b[0m in \u001b[0;36minner_f\u001b[1;34m(*args, **kwargs)\u001b[0m\n\u001b[0;32m     70\u001b[0m                           FutureWarning)\n\u001b[0;32m     71\u001b[0m         \u001b[0mkwargs\u001b[0m\u001b[1;33m.\u001b[0m\u001b[0mupdate\u001b[0m\u001b[1;33m(\u001b[0m\u001b[1;33m{\u001b[0m\u001b[0mk\u001b[0m\u001b[1;33m:\u001b[0m \u001b[0marg\u001b[0m \u001b[1;32mfor\u001b[0m \u001b[0mk\u001b[0m\u001b[1;33m,\u001b[0m \u001b[0marg\u001b[0m \u001b[1;32min\u001b[0m \u001b[0mzip\u001b[0m\u001b[1;33m(\u001b[0m\u001b[0msig\u001b[0m\u001b[1;33m.\u001b[0m\u001b[0mparameters\u001b[0m\u001b[1;33m,\u001b[0m \u001b[0margs\u001b[0m\u001b[1;33m)\u001b[0m\u001b[1;33m}\u001b[0m\u001b[1;33m)\u001b[0m\u001b[1;33m\u001b[0m\u001b[1;33m\u001b[0m\u001b[0m\n\u001b[1;32m---> 72\u001b[1;33m         \u001b[1;32mreturn\u001b[0m \u001b[0mf\u001b[0m\u001b[1;33m(\u001b[0m\u001b[1;33m**\u001b[0m\u001b[0mkwargs\u001b[0m\u001b[1;33m)\u001b[0m\u001b[1;33m\u001b[0m\u001b[1;33m\u001b[0m\u001b[0m\n\u001b[0m\u001b[0;32m     73\u001b[0m     \u001b[1;32mreturn\u001b[0m \u001b[0minner_f\u001b[0m\u001b[1;33m\u001b[0m\u001b[1;33m\u001b[0m\u001b[0m\n\u001b[0;32m     74\u001b[0m \u001b[1;33m\u001b[0m\u001b[0m\n",
      "\u001b[1;32mE:\\anaconda3\\envs\\plaidML\\lib\\site-packages\\sklearn\\metrics\\_classification.py\u001b[0m in \u001b[0;36mclassification_report\u001b[1;34m(y_true, y_pred, labels, target_names, sample_weight, digits, output_dict, zero_division)\u001b[0m\n\u001b[0;32m   1927\u001b[0m     \"\"\"\n\u001b[0;32m   1928\u001b[0m \u001b[1;33m\u001b[0m\u001b[0m\n\u001b[1;32m-> 1929\u001b[1;33m     \u001b[0my_type\u001b[0m\u001b[1;33m,\u001b[0m \u001b[0my_true\u001b[0m\u001b[1;33m,\u001b[0m \u001b[0my_pred\u001b[0m \u001b[1;33m=\u001b[0m \u001b[0m_check_targets\u001b[0m\u001b[1;33m(\u001b[0m\u001b[0my_true\u001b[0m\u001b[1;33m,\u001b[0m \u001b[0my_pred\u001b[0m\u001b[1;33m)\u001b[0m\u001b[1;33m\u001b[0m\u001b[1;33m\u001b[0m\u001b[0m\n\u001b[0m\u001b[0;32m   1930\u001b[0m \u001b[1;33m\u001b[0m\u001b[0m\n\u001b[0;32m   1931\u001b[0m     \u001b[0mlabels_given\u001b[0m \u001b[1;33m=\u001b[0m \u001b[1;32mTrue\u001b[0m\u001b[1;33m\u001b[0m\u001b[1;33m\u001b[0m\u001b[0m\n",
      "\u001b[1;32mE:\\anaconda3\\envs\\plaidML\\lib\\site-packages\\sklearn\\metrics\\_classification.py\u001b[0m in \u001b[0;36m_check_targets\u001b[1;34m(y_true, y_pred)\u001b[0m\n\u001b[0;32m     88\u001b[0m \u001b[1;33m\u001b[0m\u001b[0m\n\u001b[0;32m     89\u001b[0m     \u001b[1;32mif\u001b[0m \u001b[0mlen\u001b[0m\u001b[1;33m(\u001b[0m\u001b[0my_type\u001b[0m\u001b[1;33m)\u001b[0m \u001b[1;33m>\u001b[0m \u001b[1;36m1\u001b[0m\u001b[1;33m:\u001b[0m\u001b[1;33m\u001b[0m\u001b[1;33m\u001b[0m\u001b[0m\n\u001b[1;32m---> 90\u001b[1;33m         raise ValueError(\"Classification metrics can't handle a mix of {0} \"\n\u001b[0m\u001b[0;32m     91\u001b[0m                          \"and {1} targets\".format(type_true, type_pred))\n\u001b[0;32m     92\u001b[0m \u001b[1;33m\u001b[0m\u001b[0m\n",
      "\u001b[1;31mValueError\u001b[0m: Classification metrics can't handle a mix of multilabel-indicator and multiclass targets"
     ]
    }
   ],
   "source": [
    "from sklearn.metrics import classification_report\n",
    "\n",
    "y_pred = model.predict(x_test, batch_size=2, verbose=1)\n",
    "y_pred_bool = np.argmax(y_pred, axis=1)\n",
    "\n",
    "print(classification_report(y_test, y_pred_bool))"
   ]
  },
  {
   "cell_type": "code",
   "execution_count": null,
   "id": "electrical-correction",
   "metadata": {},
   "outputs": [],
   "source": []
  }
 ],
 "metadata": {
  "kernelspec": {
   "display_name": "Python 3",
   "language": "python",
   "name": "python3"
  },
  "language_info": {
   "codemirror_mode": {
    "name": "ipython",
    "version": 3
   },
   "file_extension": ".py",
   "mimetype": "text/x-python",
   "name": "python",
   "nbconvert_exporter": "python",
   "pygments_lexer": "ipython3",
   "version": "3.8.5"
  }
 },
 "nbformat": 4,
 "nbformat_minor": 5
}
