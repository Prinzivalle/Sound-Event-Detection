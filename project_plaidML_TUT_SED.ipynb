{
 "cells": [
  {
   "cell_type": "markdown",
   "id": "bottom-origin",
   "metadata": {},
   "source": [
    "# Sound Event Detection with Depthwise Separable and Dilated Convolutions"
   ]
  },
  {
   "cell_type": "markdown",
   "id": "stable-literature",
   "metadata": {},
   "source": [
    "## 1 Import major libraries"
   ]
  },
  {
   "cell_type": "code",
   "execution_count": 1,
   "id": "female-coffee",
   "metadata": {
    "scrolled": true
   },
   "outputs": [
    {
     "name": "stdout",
     "output_type": "stream",
     "text": [
      "<module 'plaidml.keras.backend' from 'E:\\\\anaconda3\\\\envs\\\\plaidML\\\\lib\\\\site-packages\\\\plaidml\\\\keras\\\\backend.py'>\n",
      "Keras version 2.2.4\n"
     ]
    }
   ],
   "source": [
    "import numpy as np\n",
    "import plaidml.keras\n",
    "import os\n",
    "plaidml.keras.install_backend()\n",
    "os.environ[\"KERAS_BACKEND\"] = \"plaidml.keras.backend\"\n",
    "\n",
    "from keras import backend as K\n",
    "print(K)\n",
    "\n",
    "import keras\n",
    "from keras.preprocessing.image import ImageDataGenerator\n",
    "\n",
    "print(\"Keras version %s\" %keras.__version__)"
   ]
  },
  {
   "cell_type": "markdown",
   "id": "working-diabetes",
   "metadata": {},
   "source": [
    "## 2 Load meta file (onset, offset, labels)"
   ]
  },
  {
   "cell_type": "code",
   "execution_count": 26,
   "id": "heard-knife",
   "metadata": {},
   "outputs": [],
   "source": [
    "import pandas as pd\n",
    "meta = pd.read_csv('E:\\\\Xception\\\\TUT-SED-synthetic-2016\\\\meta.txt', delimiter = \"\\t\", header=None)\n",
    "meta.columns = [\"file\", \"drop1\", \"onset\", \"offset\", \"label\", \"drop2\"]\n",
    "# delete not useful columns\n",
    "meta = meta.drop(columns=[\"drop1\", \"drop2\"])"
   ]
  },
  {
   "cell_type": "markdown",
   "id": "tight-cabin",
   "metadata": {},
   "source": [
    "## 3 Data analysis"
   ]
  },
  {
   "cell_type": "markdown",
   "id": "global-mixture",
   "metadata": {},
   "source": [
    "### Labels distribution in dataset"
   ]
  },
  {
   "cell_type": "code",
   "execution_count": 27,
   "id": "demanding-genre",
   "metadata": {},
   "outputs": [
    {
     "data": {
      "text/plain": [
       "footsteps            8302\n",
       "horsewalk            6603\n",
       "bird_singing         6079\n",
       "baby_crying          3342\n",
       "dog_barking          3145\n",
       "gun_shot             1581\n",
       "crowd_applause       1400\n",
       "cat_meowing           885\n",
       "motorcycle            824\n",
       "thunder               774\n",
       "glass_smash           693\n",
       "crowd_cheering        613\n",
       "alarms_and_sirens     571\n",
       "mixer                 547\n",
       "rain                  511\n",
       "bus                   456\n",
       "Name: label, dtype: int64"
      ]
     },
     "execution_count": 27,
     "metadata": {},
     "output_type": "execute_result"
    }
   ],
   "source": [
    "# Class distribution\n",
    "meta['label'].value_counts()"
   ]
  },
  {
   "cell_type": "markdown",
   "id": "minor-landing",
   "metadata": {},
   "source": [
    "### Audio properties "
   ]
  },
  {
   "cell_type": "code",
   "execution_count": 28,
   "id": "explicit-framing",
   "metadata": {},
   "outputs": [],
   "source": [
    "import struct\n",
    "import re\n",
    "\n",
    "directory = 'E:\\\\Xception\\\\TUT-SED-synthetic-2016\\\\audio\\\\'\n",
    "\n",
    "# support to read file header and return audio properties\n",
    "def read_header(filename):\n",
    "    wave = open(filename,\"rb\")\n",
    "    riff = wave.read(12)\n",
    "    fmat = wave.read(36)\n",
    "    num_channels_string = fmat[10:12]\n",
    "    num_channels = struct.unpack('<H', num_channels_string)[0]\n",
    "    sample_rate_string = fmat[12:16]\n",
    "    sample_rate = struct.unpack(\"<I\",sample_rate_string)[0]\n",
    "    bit_depth_string = fmat[22:24]\n",
    "    bit_depth = struct.unpack(\"<H\",bit_depth_string)[0]\n",
    "    return (num_channels, sample_rate, bit_depth)\n",
    "\n",
    "# Read every file header to collect audio properties\n",
    "audiodata = []\n",
    "for index, row in meta.iterrows():\n",
    "    cat = str(row[\"label\"])\n",
    "    name = str(row[\"file\"])\n",
    "    i = name[:-4]\n",
    "    i = i[33:]\n",
    "    file_name = directory+'TUT-SED-synthetic-2016-mix-'+str(i)+'.wav'\n",
    "    audio_props = read_header(file_name)\n",
    "    duration = row['offset'] - row['onset']\n",
    "    audiodata.append((name, cat, duration) + audio_props)\n",
    "\n",
    "# Convert into a Pandas dataframe\n",
    "audiodatadf = pd.DataFrame(audiodata, columns=['file', 'class', 'duration', 'channels','sample_rate','bit_depth'])"
   ]
  },
  {
   "cell_type": "markdown",
   "id": "sonic-array",
   "metadata": {},
   "source": [
    "### Audio duration visualization"
   ]
  },
  {
   "cell_type": "code",
   "execution_count": 29,
   "id": "velvet-woman",
   "metadata": {},
   "outputs": [
    {
     "data": {
      "image/png": "[encoded data removed]",
      "text/plain": [
       "<Figure size 432x288 with 1 Axes>"
      ]
     },
     "metadata": {
      "needs_background": "light"
     },
     "output_type": "display_data"
    }
   ],
   "source": [
    "import matplotlib.pyplot as plt\n",
    "\n",
    "plt.hist(audiodatadf['duration'], rwidth=0.9, color='#86bf91')\n",
    "\n",
    "plt.xlabel('Duration')\n",
    "plt.ylabel('Population')\n",
    "plt.title('Histogram of audio lengths')\n",
    "plt.grid(False)\n",
    "plt.show()"
   ]
  },
  {
   "cell_type": "markdown",
   "id": "smooth-electricity",
   "metadata": {},
   "source": [
    "### Audio channels"
   ]
  },
  {
   "cell_type": "code",
   "execution_count": 30,
   "id": "alone-german",
   "metadata": {},
   "outputs": [
    {
     "name": "stdout",
     "output_type": "stream",
     "text": [
      "Audio channels:\n",
      "\n",
      "1    1.0\n",
      "Name: channels, dtype: float64\n"
     ]
    }
   ],
   "source": [
    "print(\"Audio channels:\\n\")\n",
    "print(audiodatadf.channels.value_counts(normalize=True))"
   ]
  },
  {
   "cell_type": "markdown",
   "id": "fiscal-tyler",
   "metadata": {},
   "source": [
    "### Bit depth"
   ]
  },
  {
   "cell_type": "code",
   "execution_count": 31,
   "id": "portable-broadcast",
   "metadata": {},
   "outputs": [
    {
     "name": "stdout",
     "output_type": "stream",
     "text": [
      "Bit depths:\n",
      "\n",
      "32    1.0\n",
      "Name: bit_depth, dtype: float64\n"
     ]
    }
   ],
   "source": [
    "print(\"Bit depths:\\n\")\n",
    "print(audiodatadf.bit_depth.value_counts(normalize=True))"
   ]
  },
  {
   "cell_type": "markdown",
   "id": "mental-personal",
   "metadata": {},
   "source": [
    "### Sample rate"
   ]
  },
  {
   "cell_type": "code",
   "execution_count": 32,
   "id": "entitled-milton",
   "metadata": {},
   "outputs": [
    {
     "name": "stdout",
     "output_type": "stream",
     "text": [
      "Sample rates:\n",
      "\n",
      "44100    1.0\n",
      "Name: sample_rate, dtype: float64\n"
     ]
    }
   ],
   "source": [
    "print(\"Sample rates:\\n\")\n",
    "print(audiodatadf.sample_rate.value_counts(normalize=True))"
   ]
  },
  {
   "cell_type": "markdown",
   "id": "according-scenario",
   "metadata": {},
   "source": [
    "## 4 Data Preprocessing"
   ]
  },
  {
   "cell_type": "code",
   "execution_count": 3,
   "id": "verbal-understanding",
   "metadata": {
    "scrolled": true
   },
   "outputs": [
    {
     "name": "stdout",
     "output_type": "stream",
     "text": [
      "processing element  0\n",
      "processing element  10\n",
      "processing element  20\n",
      "processing element  30\n",
      "processing element  40\n",
      "processing element  50\n",
      "processing element  60\n",
      "processing element  70\n",
      "processing element  80\n",
      "processing element  90\n",
      "Extracted a total of 3376 features vectors\n"
     ]
    }
   ],
   "source": [
    "# Load various imports \n",
    "import pandas as pd\n",
    "#import librosa.display\n",
    "import librosa\n",
    "\n",
    "directory = 'E:\\\\Xception\\\\TUT-SED-synthetic-2016\\\\audio\\\\'\n",
    "\n",
    "features = []\n",
    "num_frames = []\n",
    "\n",
    "#length of splitted subvectors\n",
    "length = 1024\n",
    "\n",
    "# Iterate through each sound file and extract the features \n",
    "for i in range(100):\n",
    "    \n",
    "    if i%10==0:\n",
    "        print(\"processing element \",i)\n",
    "    \n",
    "    file_name = directory+'TUT-SED-synthetic-2016-mix-'+str(i)+'.wav'\n",
    "        \n",
    "    # load single audio file\n",
    "    audio, sr = librosa.load(file_name, res_type='kaiser_fast')\n",
    "    \n",
    "    # extract mfcc features with 20ms frame and 50% overlap at 22050 Hz\n",
    "    mfccs = librosa.feature.mfcc(y=audio, sr=sr, n_mfcc=40, n_fft=440, hop_length=220, n_mels=40)\n",
    "    \n",
    "    # save audio number of frames for labelling process\n",
    "    num_frames.append(mfccs.shape[1])\n",
    "    \n",
    "    # create subvectors of length and pad the last to length\n",
    "    for j in range(int(mfccs.shape[1]/length)+1):\n",
    "        \n",
    "        # subdivide in 1024 elements vectors\n",
    "        feat = mfccs[:,j*length:(j+1)*length]\n",
    "        \n",
    "        # last vector need padding\n",
    "        if feat.shape[1] != length:\n",
    "            feat = np.pad(feat, pad_width=((0, 0), (0, length-feat.shape[1])), mode='constant')\n",
    "        \n",
    "        feat = feat.transpose()\n",
    "        \n",
    "        # add new splitted vectors to features list\n",
    "        features.append(feat)\n",
    "\n",
    "print('Extracted a total of', len(features), 'features vectors')"
   ]
  },
  {
   "cell_type": "markdown",
   "id": "dramatic-calcium",
   "metadata": {},
   "source": [
    "## 5 Data labelling"
   ]
  },
  {
   "cell_type": "code",
   "execution_count": 4,
   "id": "original-looking",
   "metadata": {},
   "outputs": [
    {
     "name": "stdout",
     "output_type": "stream",
     "text": [
      "processing element  0\n",
      "processing element  10\n",
      "processing element  20\n",
      "processing element  30\n",
      "processing element  40\n",
      "processing element  50\n",
      "processing element  60\n",
      "processing element  70\n",
      "processing element  80\n",
      "processing element  90\n"
     ]
    }
   ],
   "source": [
    "#labelling matrix creation, this is done due to poliphony of data\n",
    "\n",
    "import numpy as np\n",
    "\n",
    "num_classes = meta['label'].nunique()\n",
    "labels = []\n",
    "\n",
    "#length of splitted subvectors\n",
    "length = 1024\n",
    "\n",
    "# to transform literal label to a numerical value\n",
    "label_switch = {\"alarms_and_sirens\" : 0,\n",
    "                \"baby_crying\" : 1,\n",
    "                \"bird_singing\" : 2,\n",
    "                \"bus\" : 3,\n",
    "                \"cat_meowing\" : 4,\n",
    "                \"crowd_applause\" : 5,\n",
    "                \"crowd_cheering\" : 6,\n",
    "                \"dog_barking\" : 7,\n",
    "                \"footsteps\" : 8,\n",
    "                \"glass_smash\" : 9,\n",
    "                \"gun_shot\" : 10,\n",
    "                \"horsewalk\" : 11,\n",
    "                \"mixer\" : 12,\n",
    "                \"motorcycle\" : 13,\n",
    "                \"rain\" : 14,\n",
    "                \"thunder\" : 15,        \n",
    "}\n",
    "\n",
    "# iterate over each file and create labels based on meta file\n",
    "for i in range(100):\n",
    "    \n",
    "    if i%10==0:\n",
    "        print(\"processing element \",i)\n",
    "        \n",
    "    file_name = directory+'TUT-SED-synthetic-2016-mix-'+str(i)+'.wav'\n",
    "\n",
    "    # initialize matrices with zeros\n",
    "    single_labels = np.zeros((num_classes, num_frames[i]), dtype=int)\n",
    "\n",
    "    # extract metadata of single audio file\n",
    "    query_name = file_name[len('E:\\\\Xception\\\\TUT-SED-synthetic-2016\\\\audio\\\\'):]\n",
    "    query_name = 'audio/' + query_name\n",
    "    subdf = meta.query('file==@query_name')\n",
    "    \n",
    "    # populate matrix based on meta file\n",
    "    # more efficient to do it starting from metafile instead of iterating on the matrix since \n",
    "    # features are less than the matrix and there are more zeros than ones at the end of \n",
    "    # the process\n",
    "    onset = np.array(subdf.loc[:, 'onset'])\n",
    "    offset = np.array(subdf.loc[:, 'offset'])\n",
    "    labeldf = np.array(subdf.loc[:, 'label'])\n",
    "    \n",
    "    for j in range(onset.shape[0]):\n",
    "        # metadata values are in seconds so transform in 10ms intervals\n",
    "        start = int(onset[j]*100)\n",
    "        end = int(offset[j]*100)\n",
    "        # label based on start and end of the single audio\n",
    "        for k in range(end-start):\n",
    "            single_labels[label_switch[labeldf[j]]][k+start] = 1\n",
    "           \n",
    "    # create subvectors of length and pad the last to length\n",
    "    for j in range(int(single_labels.shape[1]/length)+1):\n",
    "        \n",
    "        # subdivide in 1024 elements vectors\n",
    "        lab = single_labels[:,j*length:(j+1)*length]\n",
    "        \n",
    "        # last vector need padding\n",
    "        if lab.shape[1] != length:\n",
    "            lab = np.pad(lab, pad_width=((0, 0), (0, length-lab.shape[1])), mode='constant')\n",
    "        \n",
    "        lab = lab.transpose()\n",
    "        \n",
    "        # add new splitted vectors to labels list\n",
    "        labels.append(lab)\n"
   ]
  },
  {
   "cell_type": "markdown",
   "id": "regulated-chrome",
   "metadata": {},
   "source": [
    "## 6 Preprocessed data manipulation"
   ]
  },
  {
   "cell_type": "markdown",
   "id": "pointed-trick",
   "metadata": {},
   "source": [
    "### Create dataframe to manipulate features and labels"
   ]
  },
  {
   "cell_type": "code",
   "execution_count": 5,
   "id": "collective-cargo",
   "metadata": {},
   "outputs": [
    {
     "name": "stdout",
     "output_type": "stream",
     "text": [
      "Total dataset contains 3376  files\n"
     ]
    }
   ],
   "source": [
    "# create empty data frame in pandas\n",
    "dataframe = pd.DataFrame()\n",
    "\n",
    "# add features\n",
    "dataframe['feature']  = features\n",
    "\n",
    "# add labels\n",
    "dataframe['class_label']  = labels\n",
    "\n",
    "print('Total dataset contains', len(dataframe), ' files')"
   ]
  },
  {
   "cell_type": "markdown",
   "id": "recreational-escape",
   "metadata": {},
   "source": [
    "### Save processed data to pickle file"
   ]
  },
  {
   "cell_type": "code",
   "execution_count": 13,
   "id": "expensive-aside",
   "metadata": {},
   "outputs": [],
   "source": [
    "dataframe.to_pickle('E:\\\\Xception\\\\TUT-SED-synthetic-2016\\\\processed_data_frame_new.pkl')"
   ]
  },
  {
   "cell_type": "markdown",
   "id": "virtual-constitution",
   "metadata": {},
   "source": [
    "### Delete unused variable to save RAM"
   ]
  },
  {
   "cell_type": "code",
   "execution_count": null,
   "id": "honest-saver",
   "metadata": {},
   "outputs": [],
   "source": [
    "reset_selective -f features\n",
    "reset_selective -f labels"
   ]
  },
  {
   "cell_type": "markdown",
   "id": "shared-nelson",
   "metadata": {},
   "source": [
    "### Load processed data from pickle file"
   ]
  },
  {
   "cell_type": "code",
   "execution_count": 2,
   "id": "northern-horse",
   "metadata": {},
   "outputs": [
    {
     "name": "stdout",
     "output_type": "stream",
     "text": [
      "imported 3376 elements\n"
     ]
    }
   ],
   "source": [
    "import pandas as pd\n",
    "dataframe = pd.read_pickle('E:\\\\Xception\\\\TUT-SED-synthetic-2016\\\\processed_data_frame_new.pkl')\n",
    "print(\"imported\", dataframe.shape[0],\"elements\")"
   ]
  },
  {
   "cell_type": "markdown",
   "id": "equipped-midnight",
   "metadata": {},
   "source": [
    "### Process data to input the network "
   ]
  },
  {
   "cell_type": "code",
   "execution_count": 3,
   "id": "internal-support",
   "metadata": {},
   "outputs": [],
   "source": [
    "# Convert features and corresponding classification labels into numpy arrays\n",
    "X = np.array(dataframe.feature.tolist())\n",
    "y = np.array(dataframe.class_label.tolist())\n",
    "\n",
    "# no need to encode labels since they are already in form of one hot encode\n",
    "\n",
    "# split the dataset \n",
    "from sklearn.model_selection import train_test_split \n",
    "\n",
    "x_train, x_test, y_train, y_test = train_test_split(X, y, test_size=0.2, random_state = 42)\n",
    "\n",
    "# delete X to save memory\n",
    "#reset_selective -f X"
   ]
  },
  {
   "cell_type": "markdown",
   "id": "coated-paste",
   "metadata": {},
   "source": [
    "### Delete dataframe to save RAM"
   ]
  },
  {
   "cell_type": "code",
   "execution_count": 4,
   "id": "structured-story",
   "metadata": {},
   "outputs": [],
   "source": [
    "reset_selective -f dataframe"
   ]
  },
  {
   "cell_type": "markdown",
   "id": "accurate-seating",
   "metadata": {},
   "source": [
    "## 7 Models definitions"
   ]
  },
  {
   "cell_type": "markdown",
   "id": "accurate-average",
   "metadata": {},
   "source": [
    "### Baseline Model"
   ]
  },
  {
   "cell_type": "code",
   "execution_count": 5,
   "id": "intended-provision",
   "metadata": {
    "scrolled": false
   },
   "outputs": [
    {
     "name": "stderr",
     "output_type": "stream",
     "text": [
      "INFO:plaidml:Opening device \"opencl_amd_gfx1010.0\"\n"
     ]
    },
    {
     "name": "stdout",
     "output_type": "stream",
     "text": [
      "_________________________________________________________________\n",
      "Layer (type)                 Output Shape              Param #   \n",
      "=================================================================\n",
      "input_1 (InputLayer)         (None, 1024, 40, 1)       0         \n",
      "_________________________________________________________________\n",
      "conv2d_1 (Conv2D)            (None, 1024, 40, 256)     6656      \n",
      "_________________________________________________________________\n",
      "activation_1 (Activation)    (None, 1024, 40, 256)     0         \n",
      "_________________________________________________________________\n",
      "batch_normalization_1 (Batch (None, 1024, 40, 256)     1024      \n",
      "_________________________________________________________________\n",
      "max_pooling2d_1 (MaxPooling2 (None, 1024, 8, 256)      0         \n",
      "_________________________________________________________________\n",
      "dropout_1 (Dropout)          (None, 1024, 8, 256)      0         \n",
      "_________________________________________________________________\n",
      "conv2d_2 (Conv2D)            (None, 1024, 8, 256)      1638656   \n",
      "_________________________________________________________________\n",
      "activation_2 (Activation)    (None, 1024, 8, 256)      0         \n",
      "_________________________________________________________________\n",
      "batch_normalization_2 (Batch (None, 1024, 8, 256)      1024      \n",
      "_________________________________________________________________\n",
      "max_pooling2d_2 (MaxPooling2 (None, 1024, 2, 256)      0         \n",
      "_________________________________________________________________\n",
      "dropout_2 (Dropout)          (None, 1024, 2, 256)      0         \n",
      "_________________________________________________________________\n",
      "conv2d_3 (Conv2D)            (None, 1024, 2, 256)      1638656   \n",
      "_________________________________________________________________\n",
      "activation_3 (Activation)    (None, 1024, 2, 256)      0         \n",
      "_________________________________________________________________\n",
      "batch_normalization_3 (Batch (None, 1024, 2, 256)      1024      \n",
      "_________________________________________________________________\n",
      "max_pooling2d_3 (MaxPooling2 (None, 1024, 1, 256)      0         \n",
      "_________________________________________________________________\n",
      "dropout_3 (Dropout)          (None, 1024, 1, 256)      0         \n",
      "_________________________________________________________________\n",
      "reshape_1 (Reshape)          (None, 1024, 256)         0         \n",
      "_________________________________________________________________\n",
      "gru_1 (GRU)                  (None, 1024, 256)         393984    \n",
      "_________________________________________________________________\n",
      "dense_1 (Dense)              (None, 1024, 16)          4112      \n",
      "=================================================================\n",
      "Total params: 3,685,136\n",
      "Trainable params: 3,683,600\n",
      "Non-trainable params: 1,536\n",
      "_________________________________________________________________\n"
     ]
    }
   ],
   "source": [
    "from keras.models import Model\n",
    "from keras.layers import SeparableConv2D, ZeroPadding2D, Activation, Dropout, Dense, \\\n",
    "                            Conv2D, MaxPooling2D, Reshape, GRU\n",
    "from keras.layers.normalization import BatchNormalization\n",
    "from keras import Input, optimizers\n",
    "\n",
    "num_rows = X.shape[1]\n",
    "num_columns = X.shape[2]\n",
    "num_channels = 1\n",
    "\n",
    "x_train = x_train.reshape(x_train.shape[0], num_rows, num_columns, num_channels)\n",
    "x_test = x_test.reshape(x_test.shape[0], num_rows, num_columns, num_channels)\n",
    "\n",
    "num_labels = y.shape[2]\n",
    "\n",
    "def Net():\n",
    "    \n",
    "    # input layer\n",
    "    inputs = Input(shape=(num_rows, num_columns, num_channels))\n",
    "    \n",
    "    # DWS-CNN layer 1\n",
    "    x = Conv2D(256,kernel_size=(5,5), strides=(1,1), padding='same')(inputs)\n",
    "    x = Activation('relu')(x)\n",
    "    # Batch Normalisation before passing it to the next layer\n",
    "    x = BatchNormalization()(x)\n",
    "    # Pooling\n",
    "    x = MaxPooling2D(pool_size=(1,5), padding='same')(x)\n",
    "    # Dropout\n",
    "    x = Dropout(0.25)(x)\n",
    "    \n",
    "    # DWS-CNN layer 2\n",
    "    x = Conv2D(256,kernel_size=(5,5), strides=(1,1), padding='same')(x)\n",
    "    x = Activation('relu')(x)\n",
    "    # Batch Normalisation before passing it to the next layer\n",
    "    x = BatchNormalization()(x)\n",
    "    # Pooling\n",
    "    x = MaxPooling2D(pool_size=(1,4), padding='same')(x)\n",
    "    # Dropout\n",
    "    x = Dropout(0.25)(x)\n",
    "    \n",
    "    # DWS-CNN layer 3\n",
    "    x = Conv2D(256,kernel_size=(5,5), strides=(1,1), padding='same')(x)\n",
    "    x = Activation('relu')(x)\n",
    "    # Batch Normalisation before passing it to the next layer\n",
    "    x = BatchNormalization()(x)\n",
    "    # Pooling\n",
    "    x = MaxPooling2D(pool_size=(1,2), padding='same')(x)\n",
    "    # Dropout\n",
    "    x = Dropout(0.25)(x)\n",
    "    \n",
    "    # reshape data to input recurrent layer\n",
    "    x = Reshape((1024, 256))(x)\n",
    "    \n",
    "    # GRU\n",
    "    x = GRU(256, return_sequences=True)(x)\n",
    "        \n",
    "    # classifier layer\n",
    "    outputs = Dense(num_labels,activation='sigmoid')(x)\n",
    "    \n",
    "    \n",
    "    # model compilation for training\n",
    "    adam = optimizers.Adam(lr=0.0001)\n",
    "    model = Model(inputs, outputs)                            \n",
    "    model.compile(loss='binary_crossentropy', optimizer=adam, metrics=[\"binary_accuracy\"])\n",
    "    \n",
    "    return model\n",
    "\n",
    "\n",
    "# create the model\n",
    "model = Net()\n",
    "model.summary()"
   ]
  },
  {
   "cell_type": "markdown",
   "id": "under-sample",
   "metadata": {},
   "source": [
    "### Dessed model"
   ]
  },
  {
   "cell_type": "code",
   "execution_count": 7,
   "id": "waiting-wales",
   "metadata": {},
   "outputs": [
    {
     "name": "stderr",
     "output_type": "stream",
     "text": [
      "INFO:plaidml:Opening device \"opencl_amd_gfx1010.0\"\n"
     ]
    },
    {
     "name": "stdout",
     "output_type": "stream",
     "text": [
      "_________________________________________________________________\n",
      "Layer (type)                 Output Shape              Param #   \n",
      "=================================================================\n",
      "input_1 (InputLayer)         (None, 1024, 40, 1)       0         \n",
      "_________________________________________________________________\n",
      "zero_padding2d_1 (ZeroPaddin (None, 1028, 44, 1)       0         \n",
      "_________________________________________________________________\n",
      "separable_conv2d_1 (Separabl (None, 1024, 40, 256)     537       \n",
      "_________________________________________________________________\n",
      "activation_1 (Activation)    (None, 1024, 40, 256)     0         \n",
      "_________________________________________________________________\n",
      "batch_normalization_1 (Batch (None, 1024, 40, 256)     1024      \n",
      "_________________________________________________________________\n",
      "max_pooling2d_1 (MaxPooling2 (None, 1024, 8, 256)      0         \n",
      "_________________________________________________________________\n",
      "dropout_1 (Dropout)          (None, 1024, 8, 256)      0         \n",
      "_________________________________________________________________\n",
      "zero_padding2d_2 (ZeroPaddin (None, 1028, 12, 256)     0         \n",
      "_________________________________________________________________\n",
      "separable_conv2d_2 (Separabl (None, 1024, 8, 256)      72192     \n",
      "_________________________________________________________________\n",
      "activation_2 (Activation)    (None, 1024, 8, 256)      0         \n",
      "_________________________________________________________________\n",
      "batch_normalization_2 (Batch (None, 1024, 8, 256)      1024      \n",
      "_________________________________________________________________\n",
      "max_pooling2d_2 (MaxPooling2 (None, 1024, 2, 256)      0         \n",
      "_________________________________________________________________\n",
      "dropout_2 (Dropout)          (None, 1024, 2, 256)      0         \n",
      "_________________________________________________________________\n",
      "zero_padding2d_3 (ZeroPaddin (None, 1028, 6, 256)      0         \n",
      "_________________________________________________________________\n",
      "separable_conv2d_3 (Separabl (None, 1024, 2, 256)      72192     \n",
      "_________________________________________________________________\n",
      "activation_3 (Activation)    (None, 1024, 2, 256)      0         \n",
      "_________________________________________________________________\n",
      "batch_normalization_3 (Batch (None, 1024, 2, 256)      1024      \n",
      "_________________________________________________________________\n",
      "max_pooling2d_3 (MaxPooling2 (None, 1024, 1, 256)      0         \n",
      "_________________________________________________________________\n",
      "dropout_3 (Dropout)          (None, 1024, 1, 256)      0         \n",
      "_________________________________________________________________\n",
      "reshape_1 (Reshape)          (None, 1024, 256)         0         \n",
      "_________________________________________________________________\n",
      "gru_1 (GRU)                  (None, 1024, 256)         393984    \n",
      "_________________________________________________________________\n",
      "dense_1 (Dense)              (None, 1024, 16)          4112      \n",
      "=================================================================\n",
      "Total params: 546,089\n",
      "Trainable params: 544,553\n",
      "Non-trainable params: 1,536\n",
      "_________________________________________________________________\n"
     ]
    }
   ],
   "source": [
    "from keras.models import Model\n",
    "from keras.layers import SeparableConv2D, ZeroPadding2D, Activation, Dropout, Dense, \\\n",
    "                            Conv2D, MaxPooling2D, Reshape, GRU\n",
    "from keras.layers.normalization import BatchNormalization\n",
    "from keras import Input, optimizers\n",
    "\n",
    "num_rows = X.shape[1]\n",
    "num_columns = X.shape[2]\n",
    "num_channels = 1\n",
    "\n",
    "x_train = x_train.reshape(x_train.shape[0], num_rows, num_columns, num_channels)\n",
    "x_test = x_test.reshape(x_test.shape[0], num_rows, num_columns, num_channels)\n",
    "\n",
    "num_labels = y.shape[2]\n",
    "\n",
    "def Net():\n",
    "    \n",
    "    # input layer\n",
    "    inputs = Input(shape=(num_rows, num_columns, num_channels))\n",
    "    \n",
    "    # DWS-CNN layer 1\n",
    "    x = ZeroPadding2D(padding=(2))(inputs)\n",
    "    # use valid padding since padding is introduced before due to its special form (maybe it's equal to use same padding?)\n",
    "    x = SeparableConv2D(256,kernel_size=(5,5), strides=(1,1), padding='valid')(x)\n",
    "    x = Activation('relu')(x)\n",
    "    # Batch Normalisation before passing it to the next layer\n",
    "    x = BatchNormalization()(x)\n",
    "    # Pooling\n",
    "    x = MaxPooling2D(pool_size=(1,5), strides=(1,5), padding='valid')(x)\n",
    "    # Dropout\n",
    "    x = Dropout(0.25)(x)\n",
    "    \n",
    "    # DWS-CNN layer 2\n",
    "    x = ZeroPadding2D(padding=(2))(x)\n",
    "    # use valid padding since padding is introduced before due to its special form\n",
    "    x = SeparableConv2D(256,kernel_size=(5,5), strides=(1,1), padding='valid')(x)\n",
    "    x = Activation('relu')(x)\n",
    "    # Batch Normalisation before passing it to the next layer\n",
    "    x = BatchNormalization()(x)\n",
    "    # Pooling\n",
    "    x = MaxPooling2D(pool_size=(1,4), strides=(1,4), padding='valid')(x)\n",
    "    # Dropout\n",
    "    x = Dropout(0.25)(x)\n",
    "    \n",
    "    # DWS-CNN layer 3\n",
    "    x = ZeroPadding2D(padding=(2))(x)\n",
    "    # use valid padding since padding is introduced before due to its special form\n",
    "    x = SeparableConv2D(256,kernel_size=(5,5), strides=(1,1), padding='valid')(x)\n",
    "    x = Activation('relu')(x)\n",
    "    # Batch Normalisation before passing it to the next layer\n",
    "    x = BatchNormalization()(x)\n",
    "    # Pooling\n",
    "    x = MaxPooling2D(pool_size=(1,2), strides=(1,2), padding='valid')(x)\n",
    "    # Dropout\n",
    "    x = Dropout(0.25)(x)\n",
    "    \n",
    "    x = Reshape((1024, 256))(x)\n",
    "    \n",
    "    # GRU\n",
    "    x = GRU(256, return_sequences=True)(x)\n",
    "        \n",
    "    # classifier layer\n",
    "    outputs = Dense(num_labels,activation='sigmoid')(x)\n",
    "    \n",
    "    \n",
    "    # model compilation for training\n",
    "    adam = optimizers.Adam(lr=0.0001)\n",
    "    model = Model(inputs, outputs)                            \n",
    "    model.compile(loss='binary_crossentropy', optimizer=adam, metrics=[\"binary_accuracy\"])\n",
    "    \n",
    "    return model\n",
    "\n",
    "\n",
    "# create the model\n",
    "model = Net()\n",
    "model.summary()"
   ]
  },
  {
   "cell_type": "markdown",
   "id": "nominated-today",
   "metadata": {},
   "source": [
    "### Baseline dilated"
   ]
  },
  {
   "cell_type": "code",
   "execution_count": 6,
   "id": "dental-buddy",
   "metadata": {},
   "outputs": [
    {
     "name": "stdout",
     "output_type": "stream",
     "text": [
      "_________________________________________________________________\n",
      "Layer (type)                 Output Shape              Param #   \n",
      "=================================================================\n",
      "input_2 (InputLayer)         (None, 1024, 40, 1)       0         \n",
      "_________________________________________________________________\n",
      "conv2d_4 (Conv2D)            (None, 1024, 40, 256)     6656      \n",
      "_________________________________________________________________\n",
      "activation_4 (Activation)    (None, 1024, 40, 256)     0         \n",
      "_________________________________________________________________\n",
      "batch_normalization_4 (Batch (None, 1024, 40, 256)     1024      \n",
      "_________________________________________________________________\n",
      "max_pooling2d_4 (MaxPooling2 (None, 1024, 8, 256)      0         \n",
      "_________________________________________________________________\n",
      "dropout_4 (Dropout)          (None, 1024, 8, 256)      0         \n",
      "_________________________________________________________________\n",
      "conv2d_5 (Conv2D)            (None, 1024, 8, 256)      1638656   \n",
      "_________________________________________________________________\n",
      "activation_5 (Activation)    (None, 1024, 8, 256)      0         \n",
      "_________________________________________________________________\n",
      "batch_normalization_5 (Batch (None, 1024, 8, 256)      1024      \n",
      "_________________________________________________________________\n",
      "max_pooling2d_5 (MaxPooling2 (None, 1024, 2, 256)      0         \n",
      "_________________________________________________________________\n",
      "dropout_5 (Dropout)          (None, 1024, 2, 256)      0         \n",
      "_________________________________________________________________\n",
      "conv2d_6 (Conv2D)            (None, 1024, 2, 256)      1638656   \n",
      "_________________________________________________________________\n",
      "activation_6 (Activation)    (None, 1024, 2, 256)      0         \n",
      "_________________________________________________________________\n",
      "batch_normalization_6 (Batch (None, 1024, 2, 256)      1024      \n",
      "_________________________________________________________________\n",
      "max_pooling2d_6 (MaxPooling2 (None, 1024, 1, 256)      0         \n",
      "_________________________________________________________________\n",
      "dropout_6 (Dropout)          (None, 1024, 1, 256)      0         \n",
      "_________________________________________________________________\n",
      "permute_1 (Permute)          (None, 1024, 256, 1)      0         \n",
      "_________________________________________________________________\n",
      "zero_padding2d_1 (ZeroPaddin (None, 1044, 256, 1)      0         \n",
      "_________________________________________________________________\n",
      "conv2d_7 (Conv2D)            (None, 1024, 254, 256)    2560      \n",
      "_________________________________________________________________\n",
      "activation_7 (Activation)    (None, 1024, 254, 256)    0         \n",
      "_________________________________________________________________\n",
      "batch_normalization_7 (Batch (None, 1024, 254, 256)    1024      \n",
      "_________________________________________________________________\n",
      "conv2d_8 (Conv2D)            (None, 1024, 85, 256)     65792     \n",
      "_________________________________________________________________\n",
      "reshape_2 (Reshape)          (None, 1024, 21760)       0         \n",
      "_________________________________________________________________\n",
      "dense_2 (Dense)              (None, 1024, 16)          348176    \n",
      "=================================================================\n",
      "Total params: 3,704,592\n",
      "Trainable params: 3,702,544\n",
      "Non-trainable params: 2,048\n",
      "_________________________________________________________________\n"
     ]
    }
   ],
   "source": [
    "from keras.models import Model\n",
    "from keras.layers import SeparableConv2D, ZeroPadding2D, Activation, Dropout, Dense, \\\n",
    "                            Conv2D, MaxPooling2D, Reshape, Permute\n",
    "from keras.layers.normalization import BatchNormalization\n",
    "from keras import Input, optimizers\n",
    "\n",
    "num_rows = X.shape[1]\n",
    "num_columns = X.shape[2]\n",
    "num_channels = 1\n",
    "\n",
    "x_train = x_train.reshape(x_train.shape[0], num_rows, num_columns, num_channels)\n",
    "x_test = x_test.reshape(x_test.shape[0], num_rows, num_columns, num_channels)\n",
    "\n",
    "num_labels = y.shape[2]\n",
    "\n",
    "def Net(dilated_kernel, dilation, dilated_padding):\n",
    "    \n",
    "    # input layer\n",
    "    inputs = Input(shape=(num_rows, num_columns, num_channels))\n",
    "    \n",
    "    # DWS-CNN layer 1\n",
    "    x = Conv2D(256,kernel_size=(5,5), strides=(1,1), padding='same')(inputs)\n",
    "    x = Activation('relu')(x)\n",
    "    # Batch Normalisation before passing it to the next layer\n",
    "    x = BatchNormalization()(x)\n",
    "    # Pooling\n",
    "    x = MaxPooling2D(pool_size=(1,5), padding='same')(x)\n",
    "    # Dropout\n",
    "    x = Dropout(0.25)(x)\n",
    "    \n",
    "    # DWS-CNN layer 2\n",
    "    x = Conv2D(256,kernel_size=(5,5), strides=(1,1), padding='same')(x)\n",
    "    x = Activation('relu')(x)\n",
    "    # Batch Normalisation before passing it to the next layer\n",
    "    x = BatchNormalization()(x)\n",
    "    # Pooling\n",
    "    x = MaxPooling2D(pool_size=(1,4), padding='same')(x)\n",
    "    # Dropout\n",
    "    x = Dropout(0.25)(x)\n",
    "    \n",
    "    # DWS-CNN layer 3\n",
    "    x = Conv2D(256,kernel_size=(5,5), strides=(1,1), padding='same')(x)\n",
    "    x = Activation('relu')(x)\n",
    "    # Batch Normalisation before passing it to the next layer\n",
    "    x = BatchNormalization()(x)\n",
    "    # Pooling\n",
    "    x = MaxPooling2D(pool_size=(1,2), padding='same')(x)\n",
    "    # Dropout\n",
    "    x = Dropout(0.25)(x)\n",
    "    \n",
    "    # permute channels with feature \n",
    "    x = Permute((1,3,2))(x)\n",
    "    \n",
    "    # DIL-CNN \n",
    "    x = ZeroPadding2D(padding=(dilated_padding*dilation, 0))(x)\n",
    "    x = Conv2D(256, kernel_size=dilated_kernel, dilation_rate=(dilation, 1))(x)#, strides=(1,3))(x)\n",
    "    x = Activation('relu')(x)\n",
    "    x = BatchNormalization()(x)\n",
    "    x = Conv2D(256, (1,1), strides=(1,3))(x)\n",
    "    \n",
    "    # reshape to input the classifier\n",
    "    x = Reshape((1024, 256*85))(x)\n",
    "    \n",
    "    # classifier layer\n",
    "    outputs = Dense(num_labels,activation='sigmoid')(x)\n",
    "    \n",
    "    # model compilation for training\n",
    "    adam = optimizers.Adam(lr=0.0001)\n",
    "    model = Model(inputs, outputs)                            \n",
    "    model.compile(loss='binary_crossentropy', optimizer=adam, metrics=[\"binary_accuracy\"])\n",
    "    \n",
    "    return model\n",
    "\n",
    "\n",
    "# create the model\n",
    "dilated_kernel = (3,3)\n",
    "dilation = 10\n",
    "dilated_padding = 1\n",
    "model = Net(dilated_kernel,dilation,dilated_padding)\n",
    "model.summary()"
   ]
  },
  {
   "cell_type": "markdown",
   "id": "genuine-blowing",
   "metadata": {},
   "source": [
    "### New proposed model (dessed_dilated)"
   ]
  },
  {
   "cell_type": "code",
   "execution_count": 20,
   "id": "aboriginal-yellow",
   "metadata": {
    "scrolled": false
   },
   "outputs": [
    {
     "name": "stdout",
     "output_type": "stream",
     "text": [
      "_________________________________________________________________\n",
      "Layer (type)                 Output Shape              Param #   \n",
      "=================================================================\n",
      "input_4 (InputLayer)         (None, 1024, 40, 1)       0         \n",
      "_________________________________________________________________\n",
      "zero_padding2d_9 (ZeroPaddin (None, 1028, 44, 1)       0         \n",
      "_________________________________________________________________\n",
      "separable_conv2d_7 (Separabl (None, 1024, 40, 256)     537       \n",
      "_________________________________________________________________\n",
      "activation_12 (Activation)   (None, 1024, 40, 256)     0         \n",
      "_________________________________________________________________\n",
      "batch_normalization_12 (Batc (None, 1024, 40, 256)     1024      \n",
      "_________________________________________________________________\n",
      "max_pooling2d_12 (MaxPooling (None, 1024, 8, 256)      0         \n",
      "_________________________________________________________________\n",
      "dropout_10 (Dropout)         (None, 1024, 8, 256)      0         \n",
      "_________________________________________________________________\n",
      "zero_padding2d_10 (ZeroPaddi (None, 1028, 12, 256)     0         \n",
      "_________________________________________________________________\n",
      "separable_conv2d_8 (Separabl (None, 1024, 8, 256)      72192     \n",
      "_________________________________________________________________\n",
      "activation_13 (Activation)   (None, 1024, 8, 256)      0         \n",
      "_________________________________________________________________\n",
      "batch_normalization_13 (Batc (None, 1024, 8, 256)      1024      \n",
      "_________________________________________________________________\n",
      "max_pooling2d_13 (MaxPooling (None, 1024, 2, 256)      0         \n",
      "_________________________________________________________________\n",
      "dropout_11 (Dropout)         (None, 1024, 2, 256)      0         \n",
      "_________________________________________________________________\n",
      "zero_padding2d_11 (ZeroPaddi (None, 1028, 6, 256)      0         \n",
      "_________________________________________________________________\n",
      "separable_conv2d_9 (Separabl (None, 1024, 2, 256)      72192     \n",
      "_________________________________________________________________\n",
      "activation_14 (Activation)   (None, 1024, 2, 256)      0         \n",
      "_________________________________________________________________\n",
      "batch_normalization_14 (Batc (None, 1024, 2, 256)      1024      \n",
      "_________________________________________________________________\n",
      "max_pooling2d_14 (MaxPooling (None, 1024, 1, 256)      0         \n",
      "_________________________________________________________________\n",
      "dropout_12 (Dropout)         (None, 1024, 1, 256)      0         \n",
      "_________________________________________________________________\n",
      "permute_3 (Permute)          (None, 1024, 256, 1)      0         \n",
      "_________________________________________________________________\n",
      "zero_padding2d_12 (ZeroPaddi (None, 1044, 256, 1)      0         \n",
      "_________________________________________________________________\n",
      "conv2d_6 (Conv2D)            (None, 1024, 254, 256)    2560      \n",
      "_________________________________________________________________\n",
      "activation_15 (Activation)   (None, 1024, 254, 256)    0         \n",
      "_________________________________________________________________\n",
      "batch_normalization_15 (Batc (None, 1024, 254, 256)    1024      \n",
      "_________________________________________________________________\n",
      "max_pooling2d_15 (MaxPooling (None, 1024, 84, 256)     0         \n",
      "_________________________________________________________________\n",
      "reshape_4 (Reshape)          (None, 1024, 21504)       0         \n",
      "_________________________________________________________________\n",
      "dense_4 (Dense)              (None, 1024, 16)          344080    \n",
      "=================================================================\n",
      "Total params: 495,657\n",
      "Trainable params: 493,609\n",
      "Non-trainable params: 2,048\n",
      "_________________________________________________________________\n"
     ]
    }
   ],
   "source": [
    "from keras.models import Model\n",
    "from keras.layers import SeparableConv2D, ZeroPadding2D, Activation, Dropout, Dense, \\\n",
    "                            Conv2D, MaxPooling2D, Reshape, Permute\n",
    "from keras.layers.normalization import BatchNormalization\n",
    "from keras import Input, optimizers\n",
    "\n",
    "num_rows = X.shape[1]\n",
    "num_columns = X.shape[2]\n",
    "num_channels = 1\n",
    "\n",
    "x_train = x_train.reshape(x_train.shape[0], num_rows, num_columns, num_channels)\n",
    "x_test = x_test.reshape(x_test.shape[0], num_rows, num_columns, num_channels)\n",
    "\n",
    "num_labels = y.shape[2]\n",
    "\n",
    "def Net(dilated_kernel, dilation, dilated_padding):\n",
    "    \n",
    "    # input layer\n",
    "    inputs = Input(shape=(num_rows, num_columns, num_channels))\n",
    "    \n",
    "    # DWS-CNN layer 1\n",
    "    x = ZeroPadding2D(padding=(2))(inputs)\n",
    "    # use valid padding since padding is introduced before due to its special form (maybe it's equal to use same padding?)\n",
    "    x = SeparableConv2D(256,kernel_size=(5,5), strides=(1,1), padding='valid')(x)\n",
    "    x = Activation('relu')(x)\n",
    "    # Batch Normalisation before passing it to the next layer\n",
    "    x = BatchNormalization()(x)\n",
    "    # Pooling\n",
    "    x = MaxPooling2D(pool_size=(1,5), strides=(1,5), padding='valid')(x)\n",
    "    # Dropout\n",
    "    x = Dropout(0.25)(x)\n",
    "    \n",
    "    # DWS-CNN layer 2\n",
    "    x = ZeroPadding2D(padding=(2))(x)\n",
    "    # use valid padding since padding is introduced before due to its special form\n",
    "    x = SeparableConv2D(256,kernel_size=(5,5), strides=(1,1), padding='valid')(x)\n",
    "    x = Activation('relu')(x)\n",
    "    # Batch Normalisation before passing it to the next layer\n",
    "    x = BatchNormalization()(x)\n",
    "    # Pooling\n",
    "    x = MaxPooling2D(pool_size=(1,4), strides=(1,4), padding='valid')(x)\n",
    "    # Dropout\n",
    "    x = Dropout(0.25)(x)\n",
    "    \n",
    "    # DWS-CNN layer 3\n",
    "    x = ZeroPadding2D(padding=(2))(x)\n",
    "    # use valid padding since padding is introduced before due to its special form\n",
    "    x = SeparableConv2D(256,kernel_size=(5,5), strides=(1,1), padding='valid')(x)\n",
    "    x = Activation('relu')(x)\n",
    "    # Batch Normalisation before passing it to the next layer\n",
    "    x = BatchNormalization()(x)\n",
    "    # Pooling\n",
    "    x = MaxPooling2D(pool_size=(1,2), strides=(1,2), padding='valid')(x)\n",
    "    # Dropout\n",
    "    x = Dropout(0.25)(x)\n",
    "    \n",
    "    # permute channels with feature \n",
    "    x = Permute((1,3,2))(x)\n",
    "        \n",
    "    # DIL-CNN \n",
    "    x = ZeroPadding2D(padding=(dilated_padding*dilation, 0))(x)\n",
    "    x = Conv2D(256, kernel_size=dilated_kernel, dilation_rate=(dilation, 1))(x)#, strides=(1,3))(x)\n",
    "    x = Activation('relu')(x)\n",
    "    x = BatchNormalization()(x)\n",
    "    #initializer = keras.initializers.Ones()\n",
    "    #x = Conv2D(256, (1,1), strides=(1,3), kernel_initializer=initializer, trainable = False)(x)\n",
    "    x = MaxPooling2D(pool_size=(1,3), strides=(1,3), padding='valid')(x)\n",
    "    \n",
    "    # reshape to input the classifier\n",
    "    x = Reshape((1024, 256*84))(x)\n",
    "    \n",
    "    # classifier layer\n",
    "    outputs = Dense(num_labels,activation='sigmoid')(x)\n",
    "    \n",
    "    \n",
    "    # model compilation for training\n",
    "    adam = optimizers.Adam(lr=0.0001)\n",
    "    model = Model(inputs, outputs)                            \n",
    "    model.compile(loss='binary_crossentropy', optimizer=adam, metrics=[\"binary_accuracy\"])\n",
    "    \n",
    "    return model\n",
    "\n",
    "\n",
    "# create the model\n",
    "dilated_kernel = (3,3)\n",
    "dilation = 10\n",
    "dilated_padding = 1\n",
    "model = Net(dilated_kernel,dilation,dilated_padding)\n",
    "model.summary()"
   ]
  },
  {
   "cell_type": "markdown",
   "id": "powered-precipitation",
   "metadata": {},
   "source": [
    "## 8 Model Training"
   ]
  },
  {
   "cell_type": "code",
   "execution_count": null,
   "id": "hydraulic-valley",
   "metadata": {},
   "outputs": [
    {
     "name": "stdout",
     "output_type": "stream",
     "text": [
      "Train on 2268 samples, validate on 432 samples\n",
      "Epoch 1/250\n",
      "2268/2268 [==============================] - 243s 107ms/step - loss: 0.2576 - binary_accuracy: 0.9259 - val_loss: 0.2700 - val_binary_accuracy: 0.9212\n",
      "\n",
      "Epoch 00001: val_loss improved from inf to 0.26997, saving model to E:\\Xception\\TUT-SED-synthetic-2016\\model-0.27.h5\n",
      "Epoch 2/250\n",
      " 599/2268 [======>.......................] - ETA: 3:07 - loss: 0.2618 - binary_accuracy: 0.9250"
     ]
    }
   ],
   "source": [
    "from keras.callbacks import ModelCheckpoint, EarlyStopping\n",
    "from datetime import datetime \n",
    "\n",
    "num_epochs = 250\n",
    "# low batch size due to memory maximum dimension, modify if using smaller dataset or larger VRAM\n",
    "num_batch_size = 1\n",
    "\n",
    "callbacks = [ModelCheckpoint(filepath='E:\\\\Xception\\\\TUT-SED-synthetic-2016\\\\model-{val_loss:.2f}.h5', \n",
    "                               verbose=1, save_best_only=True, monitor=\"val_loss\"),\n",
    "                EarlyStopping(monitor='val_loss', patience=30)]\n",
    "\n",
    "start = datetime.now()\n",
    "\n",
    "history = model.fit(x_train, y_train, batch_size=num_batch_size, epochs=num_epochs, validation_split=0.16, verbose=1, callbacks=callbacks)\n",
    "\n",
    "duration = datetime.now() - start\n",
    "print(\"Training completed in time: \", duration)"
   ]
  },
  {
   "cell_type": "markdown",
   "id": "confused-absolute",
   "metadata": {},
   "source": [
    "## 9 Model save and load"
   ]
  },
  {
   "cell_type": "markdown",
   "id": "elegant-thirty",
   "metadata": {},
   "source": [
    "### Save model of last epoch"
   ]
  },
  {
   "cell_type": "code",
   "execution_count": 12,
   "id": "governmental-argentina",
   "metadata": {},
   "outputs": [],
   "source": [
    "filename = 'E:\\\\Xception\\\\TUT-SED-synthetic-2016\\\\93epochs.h5'\n",
    "model.save(filename)"
   ]
  },
  {
   "cell_type": "markdown",
   "id": "bigger-cleveland",
   "metadata": {},
   "source": [
    "### Import saved model"
   ]
  },
  {
   "cell_type": "code",
   "execution_count": null,
   "id": "friendly-texas",
   "metadata": {},
   "outputs": [],
   "source": [
    "model2 = keras.models.load_model('E:\\\\Xception\\\\TUT-SED-synthetic-2016\\\\model-0.24.h5')"
   ]
  },
  {
   "cell_type": "markdown",
   "id": "coordinate-subsection",
   "metadata": {},
   "source": [
    "## 10 Model analysis"
   ]
  },
  {
   "cell_type": "markdown",
   "id": "celtic-corporation",
   "metadata": {},
   "source": [
    "### Model evaluation"
   ]
  },
  {
   "cell_type": "code",
   "execution_count": null,
   "id": "shaped-induction",
   "metadata": {},
   "outputs": [],
   "source": [
    "# Evaluate the model on the test data using `evaluate`\n",
    "print(\"Evaluate on test data\")\n",
    "results = model.evaluate(x_test, y_test, batch_size=num_batch_size)\n",
    "print(\"test loss, test acc:\", results)"
   ]
  },
  {
   "cell_type": "markdown",
   "id": "systematic-worry",
   "metadata": {},
   "source": [
    "### Plot training graphs"
   ]
  },
  {
   "cell_type": "code",
   "execution_count": null,
   "id": "unexpected-paintball",
   "metadata": {},
   "outputs": [],
   "source": [
    "import matplotlib.pyplot as plt\n",
    "\n",
    "# summarize history for accuracy\n",
    "plt.plot(history.history['binary_accuracy'])\n",
    "plt.plot(history.history['val_binary_accuracy'])\n",
    "plt.title('model accuracy')\n",
    "plt.ylabel('accuracy')\n",
    "plt.xlabel('epoch')\n",
    "plt.legend(['train', 'test'], loc='upper left')\n",
    "plt.show()\n",
    "# summarize history for loss\n",
    "plt.plot(history.history['loss'])\n",
    "plt.plot(history.history['val_loss'])\n",
    "plt.title('model loss')\n",
    "plt.ylabel('loss')\n",
    "plt.xlabel('epoch')\n",
    "plt.legend(['train', 'test'], loc='upper left')\n",
    "plt.show()"
   ]
  },
  {
   "cell_type": "markdown",
   "id": "super-essay",
   "metadata": {},
   "source": [
    "### Evaluate precision as micro averaging"
   ]
  },
  {
   "cell_type": "code",
   "execution_count": 22,
   "id": "official-jumping",
   "metadata": {
    "scrolled": true
   },
   "outputs": [
    {
     "name": "stdout",
     "output_type": "stream",
     "text": [
      "676/676 [==============================] - 27s 39ms/step\n",
      "processing element  0\n",
      "processing element  100\n",
      "processing element  200\n",
      "processing element  300\n",
      "processing element  400\n",
      "processing element  500\n",
      "processing element  600\n",
      "recall:  0.0041410299343732975\n",
      "precision:  0.07003381234150464\n",
      "f1:  0.007819689383249727\n"
     ]
    }
   ],
   "source": [
    "TP = 0\n",
    "FP = 0\n",
    "TN = 0\n",
    "FN = 0\n",
    "\n",
    "y_pred = model.predict(x_test, batch_size=8, verbose=1)\n",
    "\n",
    "for i in range(y_test.shape[0]):\n",
    "    if i%100 == 0:\n",
    "        print(\"processing element \", i)\n",
    "    for j in range(y_test.shape[1]):\n",
    "        for k in range(y_test.shape[2]):\n",
    "            \n",
    "            test = y_test[i][j][k]\n",
    "            pred = y_pred[i][j][k]\n",
    "            \n",
    "            # binarization of predicted output\n",
    "            if(pred >= 0.5):\n",
    "                pred = 1\n",
    "            else:\n",
    "                pred = 0\n",
    "\n",
    "            if(test == 1 and pred == 1):\n",
    "                TP = TP + 1\n",
    "            elif(test == 0 and pred == 1):\n",
    "                FP = FP + 1\n",
    "            elif(test == 0 and pred == 0):\n",
    "                TN = TN + 1\n",
    "            elif(test == 1 and pred == 0):\n",
    "                FN = FN + 1\n",
    "                \n",
    "recall = TP/(TP+FN)\n",
    "\n",
    "precision = TP/(TP+FP)\n",
    "\n",
    "f1_score = 2*recall*precision/(recall+precision)\n",
    "\n",
    "print(\"recall: \", recall)\n",
    "print(\"precision: \", precision)\n",
    "print(\"f1: \", f1_score)\n"
   ]
  }
 ],
 "metadata": {
  "kernelspec": {
   "display_name": "Python 3",
   "language": "python",
   "name": "python3"
  },
  "language_info": {
   "codemirror_mode": {
    "name": "ipython",
    "version": 3
   },
   "file_extension": ".py",
   "mimetype": "text/x-python",
   "name": "python",
   "nbconvert_exporter": "python",
   "pygments_lexer": "ipython3",
   "version": "3.8.8"
  }
 },
 "nbformat": 4,
 "nbformat_minor": 5
}
